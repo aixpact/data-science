{
 "cells": [
  {
   "cell_type": "markdown",
   "metadata": {},
   "source": [
    "# Slideshow \n",
    "\n",
    "https://github.com/damianavila/RISE"
   ]
  },
  {
   "cell_type": "markdown",
   "metadata": {},
   "source": [
    "---\n",
    "### Installation\n",
    "\n",
    "---"
   ]
  },
  {
   "cell_type": "code",
   "execution_count": null,
   "metadata": {},
   "outputs": [],
   "source": [
    "Option 2 - Using pip (less recommended):"
   ]
  },
  {
   "cell_type": "code",
   "execution_count": null,
   "metadata": {},
   "outputs": [],
   "source": [
    "# !pip install RISE"
   ]
  },
  {
   "cell_type": "markdown",
   "metadata": {},
   "source": [
    "and then one more step to install the JS and CSS in the proper places:"
   ]
  },
  {
   "cell_type": "code",
   "execution_count": null,
   "metadata": {},
   "outputs": [],
   "source": [
    "# !jupyter-nbextension install rise --py --sys-prefix"
   ]
  },
  {
   "cell_type": "markdown",
   "metadata": {},
   "source": [
    "As of version 5.3.0, it is no longer required to explicitly enable the nbextension, which you would do with"
   ]
  },
  {
   "cell_type": "code",
   "execution_count": null,
   "metadata": {},
   "outputs": [],
   "source": [
    "# !jupyter-nbextension enable rise --py --sys-prefix"
   ]
  },
  {
   "cell_type": "markdown",
   "metadata": {},
   "source": [
    "---"
   ]
  },
  {
   "cell_type": "markdown",
   "metadata": {},
   "source": [
    "### Documentation\n",
    "\n",
    "http://rise.readthedocs.io/en/latest/\n",
    "\n",
    "https://www.youtube.com/watch?v=sXyFa_r1nxA&feature=youtu.be"
   ]
  },
  {
   "cell_type": "code",
   "execution_count": null,
   "metadata": {},
   "outputs": [],
   "source": [
    "from IPython.display import display, Markdown, Latex\n",
    "text = '**some markdown** `truly nice` $\\phi$ {}'.format(' what the hack')\n",
    "display(Markdown(text))"
   ]
  },
  {
   "cell_type": "code",
   "execution_count": null,
   "metadata": {},
   "outputs": [],
   "source": [
    "There is a hack to do this: If you use a PlaceProxy widget, you can replace any html id tag with a widget. So you could in your markdown cell do:\n",
    "\n",
    "## samples\n",
    "There are <span style=\"display:inline-block;\" id=\"nsamples\"></span> samples with names <span style=\"display:inline-block;\" id=\"sample_names\"></span>\n",
    "and then in your code cell, do\n",
    "\n",
    "from ipywidgets import PlaceProxy, Label\n",
    "from IPython.display import display\n",
    "\n",
    "nsamples = Label('5')\n",
    "sample_names = Label(\"'name1'\")\n",
    "display(PlaceProxy(nsamples, selector=\"#nsamples\"))\n",
    "display(PlaceProxy(sample_names, selector=\"#sample_names\"))\n",
    "Then if you set, for example, nsamples.value='10', that should update the markdown."
   ]
  }
 ],
 "metadata": {
  "language_info": {
   "name": "python",
   "pygments_lexer": "ipython3"
  }
 },
 "nbformat": 4,
 "nbformat_minor": 2
}
