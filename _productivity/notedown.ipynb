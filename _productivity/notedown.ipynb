{
 "cells": [
  {
   "cell_type": "markdown",
   "metadata": {},
   "source": [
    "# Notedown & Scriptedforms\n",
    "\n",
    "Turn your notebook in interactive markdown \n",
    "\n",
    "https://github.com/SimonBiggs/scriptedforms  \n",
    "https://github.com/aaren/notedown\n",
    "    "
   ]
  },
  {
   "cell_type": "code",
   "execution_count": null,
   "metadata": {},
   "outputs": [],
   "source": [
    "# !pip install scriptedforms\n",
    "# !pip install notedown"
   ]
  },
  {
   "cell_type": "markdown",
   "metadata": {},
   "source": [
    "### Convert a notebook into markdown  \n",
    "\n",
    "Flags:\n",
    " - stripping all output: **--strip**\n",
    " - stripping all cellmagics: **--nomagic**\n",
    " - pre-install packages: '%matplotlib inline' 'import numpy as np' **--pre**"
   ]
  },
  {
   "cell_type": "code",
   "execution_count": null,
   "metadata": {},
   "outputs": [],
   "source": [
    "!notedown notedown.ipynb --to markdown --strip --nomagic > notedown.md"
   ]
  },
  {
   "cell_type": "markdown",
   "metadata": {},
   "source": [
    "### Running markdown notebook - with scriptedforms"
   ]
  },
  {
   "cell_type": "code",
   "execution_count": null,
   "metadata": {},
   "outputs": [],
   "source": [
    "!scriptedforms notedown.md"
   ]
  },
  {
   "cell_type": "markdown",
   "metadata": {},
   "source": [
    "### Add Jupyter markdown kernel\n",
    "add to config:\n",
    "c.NotebookApp.contents_manager_class = 'notedown.NotedownContentsManager'"
   ]
  },
  {
   "cell_type": "markdown",
   "metadata": {},
   "source": [
    "## Example"
   ]
  },
  {
   "cell_type": "raw",
   "metadata": {},
   "source": [
    "#### Enter name\n",
    "\n",
    "<section-live>\n",
    "\n",
    "<variable-string>your_name</variable-string>"
   ]
  },
  {
   "cell_type": "code",
   "execution_count": null,
   "metadata": {},
   "outputs": [],
   "source": [
    "print('Hello {}!'.format(your_name))"
   ]
  },
  {
   "cell_type": "raw",
   "metadata": {},
   "source": [
    "</section-live>"
   ]
  },
  {
   "cell_type": "code",
   "execution_count": null,
   "metadata": {},
   "outputs": [],
   "source": []
  }
 ],
 "metadata": {
  "language_info": {
   "name": "python",
   "pygments_lexer": "ipython3"
  }
 },
 "nbformat": 4,
 "nbformat_minor": 2
}
