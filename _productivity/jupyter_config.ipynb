{
 "cells": [
  {
   "cell_type": "markdown",
   "metadata": {},
   "source": [
    "# Jupyter config"
   ]
  },
  {
   "cell_type": "code",
   "execution_count": null,
   "metadata": {},
   "outputs": [],
   "source": [
    "%alias"
   ]
  },
  {
   "cell_type": "markdown",
   "metadata": {},
   "source": [
    "---\n",
    "\n",
    "You are currently looking at **version 1.0** of this notebook.\n",
    "Project/objective: \n",
    "Date: 24-may-2018\n",
    "Author: Frank Ebbers\n",
    "Contributors: \n",
    "License: MIT https://opensource.org/licenses/MIT\n",
    "\n",
    "---"
   ]
  },
  {
   "cell_type": "markdown",
   "metadata": {},
   "source": [
    "Useful resources:\n",
    "\n",
    "https://www.dataquest.io/blog/jupyter-notebook-tips-tricks-shortcuts/\n",
    "\n",
    "http://blog.juliusschulz.de/blog/ultimate-ipython-notebook\n",
    "\n",
    "http://nbviewer.jupyter.org/github/jupyter/nbconvert/blob/master/docs/source/customizing.ipynb\n"
   ]
  },
  {
   "cell_type": "code",
   "execution_count": null,
   "metadata": {},
   "outputs": [],
   "source": [
    "# Running servers\n",
    "!jupyter notebook list"
   ]
  },
  {
   "cell_type": "code",
   "execution_count": null,
   "metadata": {},
   "outputs": [],
   "source": [
    "# !pip install https://github.com/ipython-contrib/jupyter_contrib_nbextensions/tarball/master\n",
    "# !pip install jupyter_nbextensions_configurator\n",
    "# !jupyter contrib nbextension install --user\n",
    "# !jupyter nbextensions_configurator enable --user"
   ]
  },
  {
   "cell_type": "markdown",
   "metadata": {},
   "source": [
    "## Change configuration settings\n",
    "**%config** only affects the current session"
   ]
  },
  {
   "cell_type": "code",
   "execution_count": null,
   "metadata": {},
   "outputs": [],
   "source": [
    "%config\n",
    "# https://ipython.org/ipython-doc/3/interactive/magics.html"
   ]
  },
  {
   "cell_type": "code",
   "execution_count": null,
   "metadata": {},
   "outputs": [],
   "source": [
    "%config StoreMagics.autorestore = True"
   ]
  },
  {
   "cell_type": "code",
   "execution_count": null,
   "metadata": {},
   "outputs": [],
   "source": [
    "# High res Retina plots\n",
    "%config InlineBackend.figure_format = 'retina'"
   ]
  },
  {
   "cell_type": "markdown",
   "metadata": {},
   "source": [
    "#### Show all Out from cell - iso only the last"
   ]
  },
  {
   "cell_type": "code",
   "execution_count": null,
   "metadata": {},
   "outputs": [],
   "source": [
    "from IPython.core.interactiveshell import InteractiveShell"
   ]
  },
  {
   "cell_type": "code",
   "execution_count": null,
   "metadata": {},
   "outputs": [],
   "source": [
    "InteractiveShell.ast_node_interactivity = \"all\""
   ]
  },
  {
   "cell_type": "code",
   "execution_count": null,
   "metadata": {},
   "outputs": [],
   "source": [
    "!open -e /Users/frank/.jupyter/jupyter_notebook_config.json"
   ]
  },
  {
   "cell_type": "markdown",
   "metadata": {},
   "source": [
    "## Start jupyter in terminal using a profile (config file)"
   ]
  },
  {
   "cell_type": "code",
   "execution_count": null,
   "metadata": {},
   "outputs": [],
   "source": [
    "# !ipython --profile=lauthom\n",
    "# !jupyter lab --profile=lauthom"
   ]
  },
  {
   "cell_type": "markdown",
   "metadata": {},
   "source": [
    "## Create config file"
   ]
  },
  {
   "cell_type": "code",
   "execution_count": null,
   "metadata": {},
   "outputs": [],
   "source": [
    "!ipython profile list"
   ]
  },
  {
   "cell_type": "code",
   "execution_count": null,
   "metadata": {},
   "outputs": [],
   "source": [
    "!ipython profile locate"
   ]
  },
  {
   "cell_type": "code",
   "execution_count": null,
   "metadata": {},
   "outputs": [],
   "source": [
    "# !ipython profile create"
   ]
  },
  {
   "cell_type": "markdown",
   "metadata": {},
   "source": [
    "[ProfileCreate] Generating default config file: '/Users/frank/.ipython/profile_default/ipython_kernel_config.py'  "
   ]
  },
  {
   "cell_type": "code",
   "execution_count": null,
   "metadata": {},
   "outputs": [],
   "source": [
    "# !ipython profile create lauthom   # create the profile <name>"
   ]
  },
  {
   "cell_type": "markdown",
   "metadata": {},
   "source": [
    "[ProfileCreate] Generating default config file: '/Users/frank/.ipython/profile_lauthom/ipython_config.py'  \n",
    "[ProfileCreate] Generating default config file: '/Users/frank/.ipython/profile_lauthom/ipython_kernel_config.py'  \n",
    "\u001b]0;IPython: _lauthom_intel_design_studio/_productivity\u0007Python 3.6.5 (default, Mar 30 2018, 06:41:53)   \n",
    "Type 'copyright', 'credits' or 'license' for more information  \n",
    "IPython 6.4.0 -- An enhanced Interactive Python. Type '?' for help.  \n",
    "  \n",
    "IPython profile: lauthom  "
   ]
  },
  {
   "cell_type": "code",
   "execution_count": null,
   "metadata": {},
   "outputs": [],
   "source": [
    "ipython_config = '/Users/frank/.ipython/profile_lauthom/ipython_config.py'\n",
    "ipython_config_kernel = '/Users/frank/.ipython/profile_lauthom/ipython_kernel_config.py'\n",
    "ipython_config_default = '~/.ipython/profile_default/ipython_config.py'\n",
    "ipython_config_default_kernel = '/Users/frank/.ipython/profile_default/ipython_kernel_config.py'"
   ]
  },
  {
   "cell_type": "markdown",
   "metadata": {},
   "source": [
    "## Write / append config file"
   ]
  },
  {
   "cell_type": "markdown",
   "metadata": {},
   "source": [
    "### Run all nodes interactively for all instances of Jupyter (Notebook and Console)\n",
    "\n",
    " - simply append config file ~/.ipython/profile_default/ipython_config.py with the lines below."
   ]
  },
  {
   "cell_type": "code",
   "execution_count": null,
   "metadata": {},
   "outputs": [],
   "source": [
    "!open -e $ipython_config"
   ]
  },
  {
   "cell_type": "code",
   "execution_count": null,
   "metadata": {},
   "outputs": [],
   "source": [
    "!open -e $ipython_config_default"
   ]
  },
  {
   "cell_type": "code",
   "execution_count": null,
   "metadata": {},
   "outputs": [],
   "source": [
    "%%writefile -a $ipython_config\n",
    "\n",
    "\n",
    "#------------------------------------------------------------------------------\n",
    "# LAUTHOM configuration\n",
    "#------------------------------------------------------------------------------\n",
    "\n",
    "# Run all nodes interactively\n",
    "c.InteractiveShell.ast_node_interactivity = \"all\""
   ]
  },
  {
   "cell_type": "code",
   "execution_count": null,
   "metadata": {},
   "outputs": [],
   "source": [
    "# c.AliasManager.user_aliases = [\n",
    "#  ('lt', 'echo Lauthom Intel Design Studio'),\n",
    "#  ('find..', 'find .. | grep %s'),\n",
    "# ]"
   ]
  },
  {
   "cell_type": "code",
   "execution_count": null,
   "metadata": {},
   "outputs": [],
   "source": [
    "!tail -11 $ipython_config"
   ]
  },
  {
   "cell_type": "markdown",
   "metadata": {},
   "source": [
    "### Edit JSON config\n",
    "\n",
    " - add keymaps"
   ]
  },
  {
   "cell_type": "raw",
   "metadata": {},
   "source": [
    "// file ~/.jupyter/nbconfig/notebook.json\n",
    "\n",
    "{\n",
    "  \"keys\": {\n",
    "    \"command\": {\n",
    "        \"bind\": {\n",
    "            \"q,q,q\":\"jupyter-notebook:restart-kernel-and-run-all-cells\"\n",
    "        }\n",
    "    }\n",
    "  },\n",
    "}"
   ]
  },
  {
   "cell_type": "code",
   "execution_count": null,
   "metadata": {},
   "outputs": [],
   "source": [
    "!open -e ~/.jupyter/nbconfig/notebook.json"
   ]
  },
  {
   "cell_type": "markdown",
   "metadata": {},
   "source": [
    "## Append password to config\n",
    "\n",
    "https://docs.python.org/3/library/hashlib.html"
   ]
  },
  {
   "cell_type": "markdown",
   "metadata": {},
   "source": [
    "### Passwords"
   ]
  },
  {
   "cell_type": "code",
   "execution_count": null,
   "metadata": {},
   "outputs": [],
   "source": [
    "from notebook.auth import passwd"
   ]
  },
  {
   "cell_type": "code",
   "execution_count": null,
   "metadata": {},
   "outputs": [],
   "source": [
    "# passwd()\n",
    "# Enter password:\n",
    "# Verify password:\n",
    "# Out[2]: 'sha1:67c9e60bb8b6:9ffede0825894254b2e042ea597d771089e11aed'"
   ]
  },
  {
   "cell_type": "markdown",
   "metadata": {},
   "source": [
    "Enter password: ··········  \n",
    "Verify password: ··········  \n",
    "Out[2]:  \n",
    "'sha1:3e3d0a319832:9592030aa20734f3916701274a1be3ee6fe42515'  "
   ]
  },
  {
   "cell_type": "markdown",
   "metadata": {},
   "source": [
    "#### in Terminal:\n",
    "jupyter notebook password  \n",
    "Enter password:  \n",
    "Verify password:  \n",
    "[NotebookPasswordApp] Wrote hashed password to /Users/frank/.jupyter/jupyter_notebook_config.json  "
   ]
  },
  {
   "cell_type": "code",
   "execution_count": null,
   "metadata": {},
   "outputs": [],
   "source": [
    "%%writefile -a $ipython_config\n",
    "\n",
    "\n",
    "# FJE add password\n",
    "c.NotebookApp.password = u\"5e40a914943c1a213095a67307a78fc02dfd5f8131df345d41a707ff\""
   ]
  },
  {
   "cell_type": "code",
   "execution_count": null,
   "metadata": {},
   "outputs": [],
   "source": [
    "!cat $ipython_config"
   ]
  },
  {
   "cell_type": "markdown",
   "metadata": {},
   "source": [
    "### Open TextEdit to edit file"
   ]
  },
  {
   "cell_type": "code",
   "execution_count": null,
   "metadata": {},
   "outputs": [],
   "source": [
    "!open -e $ipython_config"
   ]
  },
  {
   "cell_type": "code",
   "execution_count": null,
   "metadata": {},
   "outputs": [],
   "source": [
    "%%system\n",
    "source $ipython_config"
   ]
  },
  {
   "cell_type": "code",
   "execution_count": null,
   "metadata": {},
   "outputs": [],
   "source": [
    "### Extensions"
   ]
  },
  {
   "cell_type": "markdown",
   "metadata": {},
   "source": [
    "# Jupyter labextensions"
   ]
  },
  {
   "cell_type": "markdown",
   "metadata": {},
   "source": [
    "### Qgrid interactive pandas"
   ]
  },
  {
   "cell_type": "code",
   "execution_count": null,
   "metadata": {},
   "outputs": [],
   "source": [
    "# https://github.com/quantopian/qgrid\n",
    "# !jupyter labextension install qgrid"
   ]
  },
  {
   "cell_type": "markdown",
   "metadata": {},
   "source": [
    "### RISE slideshow"
   ]
  },
  {
   "cell_type": "code",
   "execution_count": null,
   "metadata": {},
   "outputs": [],
   "source": [
    "!pip install RISE"
   ]
  },
  {
   "cell_type": "code",
   "execution_count": null,
   "metadata": {},
   "outputs": [],
   "source": [
    "!jupyter-nbextension install rise --py --sys-prefix"
   ]
  },
  {
   "cell_type": "code",
   "execution_count": null,
   "metadata": {},
   "outputs": [],
   "source": [
    "!jupyter-nbextension enable rise --py --sys-prefix"
   ]
  }
 ],
 "metadata": {
  "language_info": {
   "name": "python",
   "pygments_lexer": "ipython3"
  }
 },
 "nbformat": 4,
 "nbformat_minor": 2
}
