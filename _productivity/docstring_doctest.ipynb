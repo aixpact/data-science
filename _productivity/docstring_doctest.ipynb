{
 "cells": [
  {
   "cell_type": "markdown",
   "metadata": {},
   "source": [
    "# Docstring\n",
    "\n",
    "Add docstring to your functions to document API contract/assumptions"
   ]
  },
  {
   "cell_type": "code",
   "execution_count": null,
   "metadata": {},
   "outputs": [],
   "source": [
    "%matplotlib inline\n",
    "import numpy as np\n",
    "import pandas as pd\n",
    "import os\n",
    "from subprocess import check_output"
   ]
  },
  {
   "cell_type": "code",
   "execution_count": null,
   "metadata": {},
   "outputs": [],
   "source": [
    "def assert_type(objects, types):\n",
    "    \"\"\"Check dtype\"\"\"\n",
    "    assert types is type or tuple\n",
    "    wrong = ([o for o in objects if not isinstance(o, types)])\n",
    "    if wrong:\n",
    "        raise Exception('Not the asserted type')\n",
    "assert_type?"
   ]
  },
  {
   "cell_type": "code",
   "execution_count": null,
   "metadata": {},
   "outputs": [],
   "source": [
    "def df_totype(object, types):\n",
    "    \"\"\"Convert a copy of pd.dataframe.columns to requested type.\n",
    "    Args: object, types\n",
    "    Return: None\n",
    "    >>> df_totype({'a':1}, list) = type([])\n",
    "    \"\"\"\n",
    "    assert type(object) not in (np.ndarray, list), 'Type is already ndarray or list...'\n",
    "    if types == np.ndarray:\n",
    "        return object.values.flatten()\n",
    "    elif types == list:\n",
    "        return object.values.flatten().tolist()\n",
    "    else:\n",
    "        raise Exception('Type is not supported')\n",
    "\n",
    "df_totype?"
   ]
  },
  {
   "cell_type": "markdown",
   "metadata": {},
   "source": [
    "# Doctest\n",
    "\n",
    "Enclose a test suit in your docstring: \n",
    " - documenting the expected function behaviour\n",
    " - testing the edges/corner cases by iteration\n",
    " - minimise testing noise\n",
    " - running doctests from CLI/Jupyter"
   ]
  },
  {
   "cell_type": "markdown",
   "metadata": {},
   "source": [
    "**`Test suite:`  \n",
    "`>>> function()`  \n",
    "`expected Output`  **"
   ]
  },
  {
   "cell_type": "code",
   "execution_count": null,
   "metadata": {},
   "outputs": [],
   "source": [
    "import doctest"
   ]
  },
  {
   "cell_type": "code",
   "execution_count": null,
   "metadata": {},
   "outputs": [],
   "source": [
    "def df_totype(object, types):\n",
    "    \"\"\"Convert a copy of pd.dataframe.columns to requested type.\n",
    "    \n",
    "    Test suite:\n",
    "    >>> df_totype(pd.DataFrame([['a','b']]), list)\n",
    "    ['a', 'b']\n",
    "      \n",
    "    \"\"\"\n",
    "    assert type(object) not in (np.ndarray, list), 'Type is already ndarray or list...'\n",
    "    if types == np.ndarray:\n",
    "        return object.values.flatten()\n",
    "    elif types == list:\n",
    "        return object.values.flatten().tolist()\n",
    "    else:\n",
    "        raise Exception('Type is not supported')"
   ]
  },
  {
   "cell_type": "code",
   "execution_count": null,
   "metadata": {},
   "outputs": [],
   "source": [
    "doctest.testmod()"
   ]
  },
  {
   "cell_type": "code",
   "execution_count": null,
   "metadata": {},
   "outputs": [],
   "source": [
    "df = pd.DataFrame([['a','b']])\n",
    "df_totype(df, list)"
   ]
  },
  {
   "cell_type": "code",
   "execution_count": null,
   "metadata": {},
   "outputs": [],
   "source": [
    "df_totype?"
   ]
  },
  {
   "cell_type": "code",
   "execution_count": null,
   "metadata": {},
   "outputs": [],
   "source": []
  }
 ],
 "metadata": {
  "language_info": {
   "name": "python",
   "pygments_lexer": "ipython3"
  }
 },
 "nbformat": 4,
 "nbformat_minor": 2
}
