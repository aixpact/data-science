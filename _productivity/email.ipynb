{
 "cells": [
  {
   "cell_type": "markdown",
   "metadata": {},
   "source": [
    "# Send emails"
   ]
  },
  {
   "cell_type": "code",
   "execution_count": null,
   "metadata": {},
   "outputs": [],
   "source": [
    "import smtplib\n",
    "from smtplib import SMTP_SSL\n",
    "from email.mime.text import MIMEText\n",
    "from email.header import Header"
   ]
  },
  {
   "cell_type": "code",
   "execution_count": null,
   "metadata": {},
   "outputs": [],
   "source": [
    "# create message\n",
    "def message(subject, body, from_, to):\n",
    "    msg = MIMEText(body, 'plain', 'utf-8')\n",
    "    msg['Subject'] = Header(subject, 'utf-8')\n",
    "    msg['From'] = from_\n",
    "    msg['To'] = ', '.join(to)\n",
    "    return msg"
   ]
  },
  {
   "cell_type": "code",
   "execution_count": null,
   "metadata": {},
   "outputs": [],
   "source": [
    "def send_email(subject, body, recepients, login, pwd, from_='', mail_server='mail.'):\n",
    "    msg = message(subject, body, from_, recepients)\n",
    "    s = SMTP_SSL(mail_server, 465, timeout=10)\n",
    "#     s.set_debuglevel(1)\n",
    "\n",
    "    try:\n",
    "        s.login(login, pwd)\n",
    "        s.sendmail(msg['From'], msg['To'], msg.as_string())\n",
    "    finally:\n",
    "        s.quit()"
   ]
  },
  {
   "cell_type": "code",
   "execution_count": null,
   "metadata": {},
   "outputs": [],
   "source": [
    "recepients = ['', '', '']\n",
    "body = !head ../_data/shakespeare.txt\n",
    "subject = 'test automatic emails from jupyter notebook'\n",
    "\n",
    "login = !head -1 ../_credentials/mail_xxxx_nl.txt\n",
    "pwd = !tail -1 ../_credentials/mail_xxxx_nl.txt\n",
    "send_email(subject, body[0], recepients, login[0], pwd[0])"
   ]
  },
  {
   "cell_type": "code",
   "execution_count": null,
   "metadata": {},
   "outputs": [],
   "source": []
  }
 ],
 "metadata": {
  "language_info": {
   "name": "python",
   "pygments_lexer": "ipython3"
  }
 },
 "nbformat": 4,
 "nbformat_minor": 2
}
