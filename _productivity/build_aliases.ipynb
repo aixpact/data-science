{
 "cells": [
  {
   "cell_type": "markdown",
   "metadata": {},
   "source": [
    "# %alias"
   ]
  },
  {
   "cell_type": "code",
   "execution_count": null,
   "metadata": {},
   "outputs": [],
   "source": [
    "import pandas as pd"
   ]
  },
  {
   "cell_type": "code",
   "execution_count": null,
   "metadata": {},
   "outputs": [],
   "source": [
    "file = 'alias.txt'"
   ]
  },
  {
   "cell_type": "markdown",
   "metadata": {},
   "source": [
    "## Create alias list"
   ]
  },
  {
   "cell_type": "code",
   "execution_count": null,
   "metadata": {},
   "outputs": [],
   "source": [
    "%%writefile $file\n",
    "alias,script,description\n",
    "ls,ls -a,list files\n",
    "fje,echo Frank J Ebbers,signature\n",
    "lt,echo Lauthom Intel Design Studio,signature\n",
    "mop,echo Monty Python,signature\n",
    "find,find ~ | grep -i %s,find in HOME dir\n",
    "find..,find .. | grep -i %s,find in parent dir\n",
    "find.,find . | grep -i %s,find in dir\n",
    "findx,find ~ | grep -Ei %s,find regex in HOME dir\n",
    "manual,echo ' ' && echo Manual for: $command && echo '' && man %s,get python manual of commando\n",
    "lst,ls -ltr,list files sorted by modification date\n",
    "mfw,sed -e 's/ /\\'$'\\n/g' -e $'s/\\r//g' %s | sed '/^$/d'| sort | uniq -c | sort -nr | head -15,most frequent words"
   ]
  },
  {
   "cell_type": "code",
   "execution_count": null,
   "metadata": {},
   "outputs": [],
   "source": [
    "df = pd.read_csv(file)\n",
    "df"
   ]
  },
  {
   "cell_type": "code",
   "execution_count": null,
   "metadata": {},
   "outputs": [],
   "source": [
    "zip_df = zip(df.loc[:, 'alias'], df.loc[:, 'script'])\n",
    "aliases = [(alias, script) for alias, script in zip_df]\n",
    "text = '''\n",
    "\n",
    "#-----------------------------------------------------------------------------\n",
    "# Lauthom aliases\n",
    "#-----------------------------------------------------------------------------\n",
    "\n",
    "c.AliasManager.user_aliases = {}\n",
    "\n",
    "'''.format(str(aliases))"
   ]
  },
  {
   "cell_type": "markdown",
   "metadata": {},
   "source": [
    "## Add aliases to profile"
   ]
  },
  {
   "cell_type": "code",
   "execution_count": null,
   "metadata": {},
   "outputs": [],
   "source": [
    "# !find ~ | grep ipython_config.py"
   ]
  },
  {
   "cell_type": "code",
   "execution_count": null,
   "metadata": {},
   "outputs": [],
   "source": [
    "config_file = '/Users/frank/.ipython/profile_default/ipython_config.py'"
   ]
  },
  {
   "cell_type": "code",
   "execution_count": null,
   "metadata": {},
   "outputs": [],
   "source": [
    "with open(config_file, 'a') as f:\n",
    "    f.write(text)"
   ]
  },
  {
   "cell_type": "code",
   "execution_count": null,
   "metadata": {},
   "outputs": [],
   "source": [
    "!tail $config_file"
   ]
  },
  {
   "cell_type": "code",
   "execution_count": null,
   "metadata": {},
   "outputs": [],
   "source": [
    "!open -e /Users/frank/.ipython/profile_default/ipython_config.py"
   ]
  },
  {
   "cell_type": "code",
   "execution_count": null,
   "metadata": {},
   "outputs": [],
   "source": []
  },
  {
   "cell_type": "code",
   "execution_count": null,
   "metadata": {},
   "outputs": [],
   "source": []
  },
  {
   "cell_type": "code",
   "execution_count": null,
   "metadata": {},
   "outputs": [],
   "source": []
  }
 ],
 "metadata": {
  "language_info": {
   "name": "python",
   "pygments_lexer": "ipython3"
  }
 },
 "nbformat": 4,
 "nbformat_minor": 2
}
