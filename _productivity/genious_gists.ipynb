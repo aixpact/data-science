{
 "cells": [
  {
   "cell_type": "code",
   "execution_count": null,
   "metadata": {},
   "outputs": [],
   "source": [
    "# Cute Gists"
   ]
  },
  {
   "cell_type": "code",
   "execution_count": null,
   "metadata": {},
   "outputs": [],
   "source": [
    "% matplotlib inline\n",
    "\n",
    "import numpy as np\n",
    "import pandas as pd\n",
    "import matplotlib as mpl\n",
    "import matplotlib.pyplot as plt"
   ]
  },
  {
   "cell_type": "code",
   "execution_count": null,
   "metadata": {},
   "outputs": [],
   "source": [
    "# Create grid coordinates for plotting\n",
    "Z = np.zeros((3, 5))\n",
    "\n",
    "# Alias/abstract lambda function\n",
    "npenum = lambda x: np.ndenumerate(x)\n",
    "\n",
    "# Calculate Z-values (RSS) based on grid of coefficients\n",
    "for (i, j), v in npenum(Z):\n",
    "    print(i, j, v)"
   ]
  },
  {
   "cell_type": "code",
   "execution_count": null,
   "metadata": {},
   "outputs": [],
   "source": [
    "def min_max(data):\n",
    "    from operator import itemgetter\n",
    "    from collections import namedtuple\n",
    "    \n",
    "    min_index, min_value = min(enumerate(data), key=itemgetter(1))\n",
    "    max_index, max_value = max(enumerate(data), key=itemgetter(1))\n",
    "    \n",
    "    min_max_tup = namedtuple('min_max', ['min_index', 'min_value', 'max_index', 'max_value'])\n",
    "    \n",
    "    return min_max_tup(min_index, min_value, max_index, max_value)\n",
    "\n",
    "tup = min_max([1, 2, 3, 4, 5])\n",
    "print('min[{}]: {}, max[{}]: {}'.format(tup.min_index, tup.min_value, tup.max_index, tup.max_value))"
   ]
  },
  {
   "cell_type": "code",
   "execution_count": null,
   "metadata": {},
   "outputs": [],
   "source": [
    "def xx_yy_grid(X1, X2):\n",
    "    \n",
    "    x_min, x_max = np.min(X1), np.max(X1)\n",
    "    y_min, y_max = np.min(X2), np.max(X2)\n",
    "    \n",
    "    # Create a coordinate grid - take max. feature value for range\n",
    "    xr = np.arange(int(x_min*(1-margin)), int(x_max*(1+margin)))\n",
    "    yr = np.arange(int(y_min*(1-margin)), int(y_max*(1+margin)))\n",
    "\n",
    "    xx, yy = np.meshgrid(xr, yr, indexing='xy')\n",
    "    Z = np.zeros((xr.size, yr.size))\n",
    "    \n",
    "    return xx, yy, Z"
   ]
  },
  {
   "cell_type": "code",
   "execution_count": null,
   "metadata": {},
   "outputs": [],
   "source": [
    "\n",
    "\n",
    "for (i,j), v in np.ndenumerate(Z):\n",
    "        Z[i,j] =(regr.intercept_ + xx[i,j]*regr.coef_[0] + yy[i,j]*regr.coef_[1])"
   ]
  },
  {
   "cell_type": "code",
   "execution_count": null,
   "metadata": {},
   "outputs": [],
   "source": [
    "    # Plot the decision boundary by assigning a color in the color map\n",
    "    # to each mesh point.\n",
    "    \n",
    "    mesh_step_size = .01  # step size in the mesh\n",
    "    plot_symbol_size = 50\n",
    "    \n",
    "    x_min, x_max = X_mat[:, 0].min() - 1, X_mat[:, 0].max() + 1\n",
    "    y_min, y_max = X_mat[:, 1].min() - 1, X_mat[:, 1].max() + 1\n",
    "    xx, yy = numpy.meshgrid(numpy.arange(x_min, x_max, mesh_step_size),\n",
    "                         numpy.arange(y_min, y_max, mesh_step_size))\n",
    "    Z = clf.predict(numpy.c_[xx.ravel(), yy.ravel()])\n",
    "\n",
    "    # Put the result into a color plot\n",
    "    Z = Z.reshape(xx.shape)\n",
    "    plt.figure()\n",
    "    plt.pcolormesh(xx, yy, Z, cmap=cmap_light)\n",
    "\n",
    "    # Plot training points\n",
    "    plt.scatter(X_mat[:, 0], X_mat[:, 1], s=plot_symbol_size, c=y, cmap=cmap_bold, edgecolor = 'black')\n",
    "    plt.xlim(xx.min(), xx.max())\n",
    "    plt.ylim(yy.min(), yy.max())"
   ]
  },
  {
   "cell_type": "code",
   "execution_count": null,
   "metadata": {},
   "outputs": [],
   "source": [
    "from collections import namedtuple\n",
    "\n",
    "my_namedtuple = namedtuple('field_name', ['x', 'y', 'z', 'bla', 'blub'])\n",
    "p = my_namedtuple(1, 2, 3, 4, 5)\n",
    "print(p.x, p.y, p.z)"
   ]
  },
  {
   "cell_type": "markdown",
   "metadata": {},
   "source": [
    "### "
   ]
  },
  {
   "cell_type": "code",
   "execution_count": null,
   "metadata": {},
   "outputs": [],
   "source": [
    "list(map(np.shape, (X_train, X_test, y_train, y_test)))"
   ]
  },
  {
   "cell_type": "markdown",
   "metadata": {},
   "source": [
    "### "
   ]
  },
  {
   "cell_type": "code",
   "execution_count": null,
   "metadata": {},
   "outputs": [],
   "source": [
    "%%file cmd_line_args_1_sysarg.py\n",
    "import sys\n",
    "\n",
    "def error(msg):\n",
    "    \"\"\"Prints error message, sends it to stderr, and quites the program.\"\"\"\n",
    "    sys.exit(msg)\n",
    "\n",
    "args = sys.argv[1:]     #  sys.argv[0] is the name of the python script itself\n",
    "\n",
    "try:\n",
    "    arg1 = int(args[0])\n",
    "    arg2 = args[1]\n",
    "    arg3 = args[2]\n",
    "    print(\"Everything okay!\")\n",
    "\n",
    "except ValueError:\n",
    "    error(\"First argument must be integer type!\")\n",
    "\n",
    "except IndexError:\n",
    "    error(\"Requires 3 arguments!\")"
   ]
  },
  {
   "cell_type": "code",
   "execution_count": null,
   "metadata": {},
   "outputs": [],
   "source": [
    "%run cmd_line_args_1_sysarg.py"
   ]
  },
  {
   "cell_type": "markdown",
   "metadata": {},
   "source": [
    "### "
   ]
  },
  {
   "cell_type": "code",
   "execution_count": null,
   "metadata": {},
   "outputs": [],
   "source": [
    "import time\n",
    "\n",
    "print('current time: {} - {}'.format(time.strftime(\"%d/%m/%Y\"), time.strftime(\"%H:%M:%S\")))"
   ]
  },
  {
   "cell_type": "markdown",
   "metadata": {},
   "source": [
    "### "
   ]
  },
  {
   "cell_type": "code",
   "execution_count": null,
   "metadata": {},
   "outputs": [],
   "source": [
    "def subtract(a, b):\n",
    "    \"\"\"\n",
    "    Subtracts second from first number and returns result.\n",
    "    >>> subtract(10, 5)\n",
    "    5\n",
    "    >>> subtract(11, 0.7)\n",
    "    10.3\n",
    "    \"\"\"\n",
    "    return a-b\n",
    "\n",
    "if __name__ == \"__main__\":  # is 'false' if imported\n",
    "    import doctest\n",
    "    doctest.testmod()\n",
    "    print('ok')"
   ]
  },
  {
   "cell_type": "markdown",
   "metadata": {},
   "source": [
    "### "
   ]
  },
  {
   "cell_type": "code",
   "execution_count": null,
   "metadata": {},
   "outputs": [],
   "source": [
    "import os\n",
    "import shutil\n",
    "import glob\n",
    "\n",
    "# working directory\n",
    "c_dir = os.getcwd()                 # show current working directory\n",
    "os.listdir(c_dir)                   # shows all files in the working directory\n",
    "os.chdir('~/Data')                  # change working directory\n",
    "\n",
    "\n",
    "# get all files in a directory\n",
    "glob.glob('/Users/sebastian/Desktop/*')\n",
    "\n",
    "# e.g.,  ['/Users/sebastian/Desktop/untitled folder', '/Users/sebastian/Desktop/Untitled.txt']\n",
    "\n",
    "# walk\n",
    "tree = os.walk(c_dir)      \n",
    "# moves through sub directories and creates a 'generator' object of tuples\n",
    "# ('dir', [file1, file2, ...] [subdirectory1, subdirectory2, ...]), \n",
    "#    (...), ...\n",
    "\n",
    "#check files: returns either True or False\n",
    "os.exists('../rel_path')\n",
    "os.exists('/home/abs_path')\n",
    "os.isfile('./file.txt')\n",
    "os.isdir('./subdir')\n",
    "\n",
    "\n",
    "# file permission (True or False\n",
    "os.access('./some_file', os.F_OK) # File exists? Python 2.7\n",
    "os.access('./some_file', os.R_OK) # Ok to read? Python 2.7\n",
    "os.access('./some_file', os.W_OK) # Ok to write? Python 2.7\n",
    "os.access('./some_file', os.X_OK) # Ok to execute? Python 2.7\n",
    "os.access('./some_file', os.X_OK | os.W_OK) # Ok to execute or write? Python 2.7\n",
    "\n",
    "# join (creates operating system dependent paths)\n",
    "os.path.join('a', 'b', 'c')\n",
    "# 'a/b/c' on Unix/Linux\n",
    "# 'a\\\\b\\\\c' on Windows\n",
    "os.path.normpath('a/b/c') # converts file separators\n",
    "\n",
    "\n",
    "# os.path: direcory and file names\n",
    "os.path.samefile('./some_file', '/home/some_file')  # True if those are the same\n",
    "os.path.dirname('./some_file')  # returns '.' (everythin but last component)\n",
    "os.path.basename('./some_file') # returns 'some_file' (only last component\n",
    "os.path.split('./some_file') # returns (dirname, basename) or ('.', 'some_file)\n",
    "os.path.splitext('./some_file.txt') # returns ('./some_file', '.txt')\n",
    "os.path.splitdrive('./some_file.txt') # returns ('', './some_file.txt')\n",
    "os.path.isabs('./some_file.txt') # returns False (not an absolute path)\n",
    "os.path.abspath('./some_file.txt')\n",
    "\n",
    "\n",
    "# create and delete files and directories\n",
    "os.mkdir('./test')  # create a new direcotory\n",
    "os.rmdir('./test')  # removes an empty direcotory\n",
    "os.removedirs('./test') # removes nested empty directories\n",
    "os.remove('file.txt')   # removes an individual file\n",
    "shutil.rmtree('./test') # removes directory (empty or not empty)\n",
    "\n",
    "os.rename('./dir_before', './renamed') # renames directory if destination doesn't exist\n",
    "shutil.move('./dir_before', './renamed') # renames directory always\n",
    "\n",
    "shutil.copytree('./orig', './copy') # copies a directory recursively\n",
    "shutil.copyfile('file', 'copy')     # copies a file\n",
    "\n",
    " \n",
    "# Getting files of particular type from directory\n",
    "files = [f for f in os.listdir(s_pdb_dir) if f.endswith(\".txt\")]\n",
    "  \n",
    "# Copy and move\n",
    "shutil.copyfile(\"/path/to/file\", \"/path/to/new/file\") \n",
    "shutil.copy(\"/path/to/file\", \"/path/to/directory\")\n",
    "shutil.move(\"/path/to/file\",\"/path/to/directory\")\n",
    "   \n",
    "# Check if file or directory exists\n",
    "os.path.exists(\"file or directory\")\n",
    "os.path.isfile(\"file\")\n",
    "os.path.isdir(\"directory\")\n",
    "    \n",
    "# Working directory and absolute path to files\n",
    "os.getcwd()\n",
    "os.path.abspath(\"file\")"
   ]
  },
  {
   "cell_type": "markdown",
   "metadata": {},
   "source": [
    "### Closure"
   ]
  },
  {
   "cell_type": "code",
   "execution_count": null,
   "metadata": {},
   "outputs": [],
   "source": [
    "def create_message(msg_txt):\n",
    "    def _priv_msg(message):     # private, no access from outside\n",
    "        print(\"{}: {}\".format(msg_txt, message))\n",
    "    return _priv_msg            # returns a function\n",
    "\n",
    "new_msg = create_message(\"My message\")\n",
    "# note, new_msg is a function\n",
    "\n",
    "new_msg(\"Hello, World\")"
   ]
  },
  {
   "cell_type": "markdown",
   "metadata": {},
   "source": [
    "### Snippets"
   ]
  },
  {
   "cell_type": "code",
   "execution_count": null,
   "metadata": {},
   "outputs": [],
   "source": [
    "http://nbviewer.jupyter.org/github/rasbt/python_reference/blob/master/python_patterns/patterns.ipynb#Data-and-time-basics"
   ]
  },
  {
   "cell_type": "markdown",
   "metadata": {},
   "source": [
    "### Regex"
   ]
  },
  {
   "cell_type": "code",
   "execution_count": null,
   "metadata": {},
   "outputs": [],
   "source": [
    "http://nbviewer.jupyter.org/github/rasbt/python_reference/blob/master/tutorials/useful_regex.ipynb"
   ]
  },
  {
   "cell_type": "markdown",
   "metadata": {},
   "source": [
    "### Markdown"
   ]
  },
  {
   "cell_type": "code",
   "execution_count": null,
   "metadata": {},
   "outputs": [],
   "source": [
    "https://medium.com/ibm-data-science-experience/markdown-for-jupyter-notebooks-cheatsheet-386c05aeebed"
   ]
  },
  {
   "cell_type": "markdown",
   "metadata": {},
   "source": [
    "### "
   ]
  },
  {
   "cell_type": "code",
   "execution_count": null,
   "metadata": {},
   "outputs": [],
   "source": [
    "%matplotlib inline\n",
    "\n",
    "import numpy as np\n",
    "import pandas as pd\n",
    "import matplotlib as mpl\n",
    "import matplotlib.pyplot as plt\n",
    "\n",
    "x = np.linspace(0, 20, 1000)  # 100 evenly-spaced values from 0 to 50\n",
    "y = np.sin(x)\n",
    "\n",
    "fig = plt.figure()\n",
    "\n",
    "ax1 = fig.add_subplot(1,2,1) # 1 row, 2 cols, graphic 1\n",
    "ax2 = fig.add_subplot(1,2,2) # graphic 2\n",
    "\n",
    "ax1.plot(x, y)\n",
    "\n",
    "ax2.hist(np.random.randn(1000), alpha=0.5, histtype='stepfilled')\n",
    "ax2.hist(0.75*np.random.randn(1000)+1, alpha=0.5, histtype='stepfilled')\n",
    "\n",
    "plt.show();"
   ]
  },
  {
   "cell_type": "markdown",
   "metadata": {},
   "source": [
    "### "
   ]
  },
  {
   "cell_type": "markdown",
   "metadata": {},
   "source": [
    "foo <font color='red'>bar</font> foo"
   ]
  },
  {
   "cell_type": "markdown",
   "metadata": {},
   "source": [
    "### Matplotlib"
   ]
  },
  {
   "cell_type": "code",
   "execution_count": null,
   "metadata": {},
   "outputs": [],
   "source": [
    "http://www.labri.fr/perso/nrougier/teaching/matplotlib/"
   ]
  },
  {
   "cell_type": "code",
   "execution_count": null,
   "metadata": {},
   "outputs": [],
   "source": [
    "def f(x,y): return (1-x/2+x**5+y**3)*np.exp(-x**2-y**2)\n",
    "\n",
    "n = 256\n",
    "x = np.linspace(-3,3,n)\n",
    "y = np.linspace(-3,3,n)\n",
    "X,Y = np.meshgrid(x,y)\n",
    "\n",
    "plt.contourf(X, Y, f(X,Y), 8, alpha=.75, cmap='jet')\n",
    "C = plt.contour(X, Y, f(X,Y), 8, colors='black')\n",
    "plt.show();"
   ]
  },
  {
   "cell_type": "code",
   "execution_count": null,
   "metadata": {},
   "outputs": [],
   "source": [
    "n = 20\n",
    "Z = np.random.uniform(0, 1, n)\n",
    "plt.pie(Z)\n",
    "plt.show();"
   ]
  },
  {
   "cell_type": "code",
   "execution_count": null,
   "metadata": {},
   "outputs": [],
   "source": [
    "from matplotlib import cm\n",
    "\n",
    "plt.axes([0,0,1,1])\n",
    "\n",
    "N = 20\n",
    "theta = np.arange(0.0, 2*np.pi, 2*np.pi/N)\n",
    "radii = 10*np.random.rand(N)\n",
    "width = np.pi/4*np.random.rand(N)\n",
    "bars = plt.bar(theta, radii, width=width, bottom=0.0)\n",
    "\n",
    "for r, bar in zip(radii, bars):\n",
    "    bar.set_facecolor(cm.jet(r/10.))\n",
    "    bar.set_alpha(0.5)\n",
    "\n",
    "plt.show()"
   ]
  },
  {
   "cell_type": "code",
   "execution_count": null,
   "metadata": {},
   "outputs": [],
   "source": [
    "from mpl_toolkits.mplot3d import Axes3D\n",
    "\n",
    "fig = plt.figure()\n",
    "ax = Axes3D(fig)\n",
    "X = np.arange(-4, 4, 0.25)\n",
    "Y = np.arange(-4, 4, 0.25)\n",
    "X, Y = np.meshgrid(X, Y)\n",
    "R = np.sqrt(X**2 + Y**2)\n",
    "Z = np.sin(R)\n",
    "\n",
    "ax.plot_surface(X, Y, Z, rstride=1, cstride=1, cmap='hot')\n",
    "\n",
    "plt.show();"
   ]
  },
  {
   "cell_type": "code",
   "execution_count": null,
   "metadata": {},
   "outputs": [],
   "source": [
    "eqs = []\n",
    "eqs.append((r\"$W^{3\\beta}_{\\delta_1 \\rho_1 \\sigma_2} = U^{3\\beta}_{\\delta_1 \\rho_1} + \\frac{1}{8 \\pi 2} \\int^{\\alpha_2}_{\\alpha_2} d \\alpha^\\prime_2 \\left[\\frac{ U^{2\\beta}_{\\delta_1 \\rho_1} - \\alpha^\\prime_2U^{1\\beta}_{\\rho_1 \\sigma_2} }{U^{0\\beta}_{\\rho_1 \\sigma_2}}\\right]$\"))\n",
    "eqs.append((r\"$\\frac{d\\rho}{d t} + \\rho \\vec{v}\\cdot\\nabla\\vec{v} = -\\nabla p + \\mu\\nabla^2 \\vec{v} + \\rho \\vec{g}$\"))\n",
    "eqs.append((r\"$\\int_{-\\infty}^\\infty e^{-x^2}dx=\\sqrt{\\pi}$\"))\n",
    "eqs.append((r\"$E = mc^2 = \\sqrt{{m_0}^2c^4 + p^2c^2}$\"))\n",
    "eqs.append((r\"$F_G = G\\frac{m_1m_2}{r^2}$\"))\n",
    "\n",
    "\n",
    "plt.axes([0.025,0.025,0.95,0.95])\n",
    "\n",
    "for i in range(24):\n",
    "    index = np.random.randint(0,len(eqs))\n",
    "    eq = eqs[index]\n",
    "    size = np.random.uniform(12,32)\n",
    "    x,y = np.random.uniform(0,1,2)\n",
    "    alpha = np.random.uniform(0.25,.75)\n",
    "    plt.text(x, y, eq, ha='center', va='center', color=\"#11557c\", alpha=alpha,\n",
    "             transform=plt.gca().transAxes, fontsize=size, clip_on=True)\n",
    "\n",
    "plt.xticks([]), plt.yticks([])\n",
    "# savefig('../figures/text_ex.png',dpi=48)\n",
    "plt.show();"
   ]
  },
  {
   "cell_type": "markdown",
   "metadata": {},
   "source": [
    "### Import warnings"
   ]
  },
  {
   "cell_type": "code",
   "execution_count": null,
   "metadata": {},
   "outputs": [],
   "source": [
    "import warnings\n",
    "warnings.filterwarnings(action=\"ignore\", module=\"scipy\", message=\"^internal gelsd\")"
   ]
  },
  {
   "cell_type": "code",
   "execution_count": null,
   "metadata": {},
   "outputs": [],
   "source": [
    "plt.gca().set_aspect('equal')"
   ]
  },
  {
   "cell_type": "code",
   "execution_count": null,
   "metadata": {},
   "outputs": [],
   "source": [
    "### Double loop: np.ndenumerate(Z)"
   ]
  },
  {
   "cell_type": "code",
   "execution_count": null,
   "metadata": {},
   "outputs": [],
   "source": [
    "!find /Users/frank/Documents/Python_workspace/ISLR_python/Notebooks/data/*.csv"
   ]
  },
  {
   "cell_type": "code",
   "execution_count": null,
   "metadata": {},
   "outputs": [],
   "source": [
    "import seaborn as sns\n",
    "\n",
    "# View color palette\n",
    "colors = ['#FFFF00', '#00AAFF', '#000000', '#FF00AA']\n",
    "cmap_bold = sns.color_palette(colors)\n",
    "sns.palplot(cmap_bold)\n",
    "\n",
    "# Set color palette\n",
    "sns.set_palette(\"husl\")\n",
    "sns.set_palette(cmap_bold)\n",
    "\n",
    "# Plot current color palatte\n",
    "sns.palplot(sns.color_palette())\n",
    "\n",
    "cmap_mpl_discrete = mpl.colors.ListedColormap(sns.color_palette().as_hex()) # discrete\n",
    "cmap_mpl_continuous = mpl.colors.LinearSegmentedColormap.from_list(sns.color_palette().as_hex()) # discrete continuousified"
   ]
  },
  {
   "cell_type": "code",
   "execution_count": null,
   "metadata": {},
   "outputs": [],
   "source": [
    "import matplotlib.cm as cm\n",
    "colmap = cm.jet #['#FFFF00', '#00AAFF', '#000000', '#FF00AA']\n",
    "gradient = np.linspace(0, 1, 256)\n",
    "plt.imshow(np.linspace(0, 1, 256), aspect='auto', cmap=plt.get_cmap(colmap))\n",
    "# plt.get_cmap(colmap)\n",
    "plt.show()"
   ]
  },
  {
   "cell_type": "code",
   "execution_count": null,
   "metadata": {},
   "outputs": [],
   "source": [
    "# Create gradient\n",
    "import matplotlib as mpl\n",
    "from matplotlib.colors import ListedColormap, LinearSegmentedColormap\n",
    "\n",
    "cmap_continuous = LinearSegmentedColormap.from_list(\"\", [\"red\",\"white\",\"blue\"])\n",
    "cmap_discrete = ListedColormap([\"red\",\"gray\",\"blue\"], name='from_list', N=None)\n",
    "\n",
    "data = np.arange(100, 0, -1).reshape(10, 10)\n",
    "\n",
    "fig, ax = plt.subplots()\n",
    "cax = fig.add_axes([1, 0.2, 0.5, 0.1])  # figure in figure\n",
    "\n",
    "im = ax.imshow(data, cmap=cmap_discrete)\n",
    "# fig.colorbar(im, cax=cax, orientation='horizontal')\n",
    "plt.show()"
   ]
  },
  {
   "cell_type": "code",
   "execution_count": null,
   "metadata": {},
   "outputs": [],
   "source": [
    "# Create gradient\n",
    "import matplotlib as mpl\n",
    "from matplotlib.colors import ListedColormap, LinearSegmentedColormap\n",
    "\n",
    "cmap_continuous = LinearSegmentedColormap.from_list(\"\", [\"red\",\"white\",\"blue\"])\n",
    "cmap_discrete = ListedColormap([\"red\",\"gray\",\"blue\"], name='from_list', N=None)\n",
    "\n",
    "fig = plt.figure()\n",
    "ax1 = fig.add_subplot(1,2,1) # two rows, one column, first plot\n",
    "ax1.scatter(np.arange(15), np.arange(15)+1, c=np.arange(15), cmap=cmap_discrete)\n",
    "fig.colorbar(ax=ax1)\n",
    "\n",
    "ax2 = fig.add_subplot(1,2,2) # two rows, one column, first plot\n",
    "ax2.scatter(np.arange(15), np.arange(15)+1, c=np.arange(15), cmap=cmap_continuous)\n",
    "fig.colorbar()\n",
    "plt.show();"
   ]
  },
  {
   "cell_type": "code",
   "execution_count": null,
   "metadata": {},
   "outputs": [],
   "source": [
    "def color_in_tokens(tokens, color_token_contains=\"_\"):\n",
    "  \"\"\"\n",
    "  Highlights the tokens which contain 'color_token_contains'\n",
    "\n",
    "  :param tokens: list of strings\n",
    "  :param color_token_contains: str (the string for marking a token red)\n",
    "  :return: str\n",
    "  \"\"\"\n",
    "  return \" \".join([\"\\x1b[31m%s\\x1b[0m\" % i if color_token_contains in i else i for i in tokens])\n",
    "\n",
    "print(color_in_tokens(['I', 'am' 'in_blue']))"
   ]
  },
  {
   "cell_type": "code",
   "execution_count": null,
   "metadata": {},
   "outputs": [],
   "source": [
    "from IPython.display import HTML as html_print\n",
    "\n",
    "def cstr(s, color='black'):\n",
    "    return \"<text style=color:{}>{}</text>\".format(color, s)\n",
    "\n",
    "left, word, right = 'foo' , 'abc' , 'bar'\n",
    "html_print(cstr(' '.join([left, cstr(word, color='red'), right]), color='black') )"
   ]
  },
  {
   "cell_type": "code",
   "execution_count": null,
   "metadata": {},
   "outputs": [],
   "source": [
    "import seaborn as sns\n",
    "# https://seaborn.pydata.org/tutorial/color_palettes.html\n",
    "\n",
    "colors = [\"#67E568\",\"#257F27\",\"#08420D\",\"#FFF000\",\"#FFB62B\",\"#E56124\",\"#E53E30\",\"#7F2353\",\"#F911FF\",\"#9F8CA6\"]\n",
    "\n",
    "current_palette = sns.color_palette(colors)\n",
    "sns.palplot(current_palette, 1)\n",
    "current_palette = sns.color_palette(colors, 4)\n",
    "sns.palplot(current_palette, 2)"
   ]
  },
  {
   "cell_type": "code",
   "execution_count": null,
   "metadata": {},
   "outputs": [],
   "source": [
    "flatui = [\"#9b59b6\", \"#3498db\", \"#95a5a6\", \"#e74c3c\", \"#34495e\", \"#2ecc71\"]\n",
    "sns.palplot(sns.color_palette(flatui))\n",
    "\n",
    "\n",
    "vibe = ['#98dd1e', '#f27c1a', '#e10976', '#088edf', '#8140ff']\n",
    "sns.palplot(sns.color_palette(vibe))"
   ]
  },
  {
   "cell_type": "code",
   "execution_count": null,
   "metadata": {},
   "outputs": [],
   "source": [
    "import seaborn as sns\n",
    "\n",
    "# http://www.color-hex.com/color-palettes/?page=2\n",
    "\n",
    "# View color palette\n",
    "colors = ['#FFFF00', '#00AAFF', '#000000', '#FF00AA']\n",
    "cmap_bold = sns.color_palette(colors)\n",
    "sns.palplot(cmap_bold)\n",
    "\n",
    "# Set color palette\n",
    "sns.set_palette(\"husl\")\n",
    "sns.set_palette(cmap_bold)\n",
    "\n",
    "# Plot current color palatte\n",
    "sns.palplot(sns.color_palette())"
   ]
  },
  {
   "cell_type": "code",
   "execution_count": null,
   "metadata": {},
   "outputs": [],
   "source": [
    "def plot_labelled_scatter(X, y, class_labels, ax_pad=1):\n",
    "    import matplotlib.cm as cm\n",
    "    from matplotlib.colors import ListedColormap, BoundaryNorm\n",
    "    import matplotlib.patches as mpatches\n",
    "    import seaborn as sns\n",
    "    \n",
    "    # Colors\n",
    "    colors = ['#FFFF00', '#00AAFF', '#000000', '#FF00AA']\n",
    "    col_pal = sns.color_palette(colors).as_hex()\n",
    "    cmap = ListedColormap(col_pal)\n",
    "    \n",
    "    # BoundaryNorm maps from data points(labels) to colors based on discrete intervals.\n",
    "    # Boundaries defines the edges of bins, and data falling within a bin is mapped to the color with the same index.\n",
    "    # If the number of bins doesn’t equal ncolors, the color is chosen by linear interpolation of the bin number onto color numbers.\n",
    "    # c=y, cmap=cmap, norm=bnorm => map y to color from pallete cut by bounderies\n",
    "    num_labels = len(class_labels)\n",
    "    bounderies = np.arange(num_labels+1)\n",
    "    bnorm = BoundaryNorm(boundaries=bounderies, ncolors=num_labels)\n",
    "    \n",
    "    plt.figure()\n",
    "    plt.scatter(X[:, 0], X[:, 1], s=65, c=y, cmap=cmap, norm=bnorm, \n",
    "                alpha=0.40, edgecolor='black', lw=1) # \n",
    "\n",
    "    plt.xlim(X[:, 0].min()-ax_pad, X[:, 0].max()+ax_pad)\n",
    "    plt.ylim(X[:, 1].min()-ax_pad, X[:, 1].max()+ax_pad)\n",
    "\n",
    "    # Legend\n",
    "    legend_handle = [mpatches.Patch(color=color_array[c], label=class_labels[c]) \n",
    "                     for c in range(num_labels)]   \n",
    "    plt.legend(handles=legend_handle)"
   ]
  },
  {
   "cell_type": "code",
   "execution_count": null,
   "metadata": {},
   "outputs": [],
   "source": [
    "import seaborn as sns\n",
    "\n",
    "# View color palette\n",
    "colors = ['#FFFF00', '#00AAFF', '#000000', '#FF00AA']\n",
    "cmap_bold = sns.color_palette(colors)\n",
    "sns.palplot(cmap_bold)\n",
    "\n",
    "# Set color palette\n",
    "sns.set_palette(\"husl\")\n",
    "sns.set_palette(cmap_bold)\n",
    "\n",
    "# Plot current color palatte\n",
    "sns.palplot(sns.color_palette())\n",
    "\n",
    "cmap_mpl = mpl.colors.ListedColormap(sns.color_palette().as_hex()) # discrete\n",
    "cmap_mpl = mpl.colors.LinearSegmentedColormap.from_list(sns.color_palette().as_hex()) # continuousified"
   ]
  },
  {
   "cell_type": "code",
   "execution_count": null,
   "metadata": {},
   "outputs": [],
   "source": [
    "#### Sanity check dataset format\n",
    "def format_check(X, y):\n",
    "    import numpy as np\n",
    "    assert type(X) == type(np.zeros(2))\n",
    "    assert X.shape[1] > 0\n",
    "    assert type(y) == type(np.zeros(y.shape))\n",
    "    try:\n",
    "        y.shape[1]\n",
    "        print('{} must be of shape: (n,)'.format(y.shape))  \n",
    "    except:\n",
    "        pass\n",
    "    print('X:\\t {} {}\\ny:\\t {} {}\\nclasses: {}\\n'.format(X.shape, type(X), y.shape, type(y), set(y)))  \n",
    "    "
   ]
  },
  {
   "cell_type": "code",
   "execution_count": null,
   "metadata": {},
   "outputs": [],
   "source": [
    "# http://walkerke.github.io/geog30323/slides/data-visualization/#/20"
   ]
  },
  {
   "cell_type": "code",
   "execution_count": null,
   "metadata": {},
   "outputs": [],
   "source": [
    "df = pd.read_csv('../_data/col_hex_palettes.csv')\n",
    "df.info()\n",
    "df['name'] = [x.lower() for x in df['name'].astype('str')]\n",
    "df = df.set_index('name')"
   ]
  },
  {
   "cell_type": "code",
   "execution_count": null,
   "metadata": {},
   "outputs": [],
   "source": [
    "# Remove duplicates\n",
    "df.drop_duplicates(subset=None, keep='first', inplace=True)\n",
    "df.info()\n",
    "df.to_csv('../_data/col_hex_palettes.csv')"
   ]
  },
  {
   "cell_type": "code",
   "execution_count": null,
   "metadata": {},
   "outputs": [],
   "source": [
    "df.tail()"
   ]
  },
  {
   "cell_type": "code",
   "execution_count": null,
   "metadata": {},
   "outputs": [],
   "source": [
    "import re\n",
    "\n",
    "find = input('Search: ')\n",
    "cols = df.filter(like=find.lower(), axis=0)['hexs'].unique()\n",
    "names = df.filter(like=find.lower(), axis=0).index.unique()\n",
    "\n",
    "for name, col in zip(names, cols):\n",
    "    col = re.sub('[\\[\\]\\' \\']', '', col).split(',')\n",
    "    cmap = sns.color_palette(col)\n",
    "    _ = sns.palplot(cmap)\n",
    "    _ = plt.gca().set_title(name);"
   ]
  },
  {
   "cell_type": "code",
   "execution_count": null,
   "metadata": {},
   "outputs": [],
   "source": [
    "import ipywidgets as widgets\n",
    "from IPython.display import display\n",
    "from ipywidgets import interact, interactive, fixed, interact_manual, IntSlider\n",
    "\n",
    "\n",
    "@interact(search = (df.index.sort_values()))\n",
    "def get_palette(search):\n",
    "    import re\n",
    "    try:\n",
    "        cols = df.filter(like=search.lower(), axis=0)['hexs'].unique()\n",
    "        names = df.filter(like=search.lower(), axis=0).index.unique()\n",
    "\n",
    "        for name, col in zip(names, cols):\n",
    "            col = re.sub('[\\[\\]\\' \\']', '', col).split(',')\n",
    "            cmap = sns.color_palette(col)\n",
    "            _ = sns.palplot(cmap)\n",
    "            _ = plt.gca().set_title(name);\n",
    "    except:\n",
    "        pass\n",
    "    return col\n"
   ]
  },
  {
   "cell_type": "code",
   "execution_count": null,
   "metadata": {},
   "outputs": [],
   "source": [
    "import requests, urllib\n",
    "urllib.request.urlopen('http://http://www.color-hex.com/color-palettes/')"
   ]
  },
  {
   "cell_type": "code",
   "execution_count": null,
   "metadata": {},
   "outputs": [],
   "source": [
    "import os\n",
    "os.system(\"start \\\"\\\" http://google.com\")"
   ]
  },
  {
   "cell_type": "code",
   "execution_count": null,
   "metadata": {},
   "outputs": [],
   "source": [
    "!jupyter lab --version\n",
    "!pip list | grep ipywidgets\n",
    "!pip list | grep qgrid"
   ]
  },
  {
   "cell_type": "code",
   "execution_count": null,
   "metadata": {},
   "outputs": [],
   "source": [
    "!jupyter labextension list"
   ]
  },
  {
   "cell_type": "code",
   "execution_count": null,
   "metadata": {},
   "outputs": [],
   "source": [
    "!jupyter labextension uninstall qgrid"
   ]
  },
  {
   "cell_type": "code",
   "execution_count": null,
   "metadata": {},
   "outputs": [],
   "source": []
  }
 ],
 "metadata": {
  "language_info": {
   "name": "python",
   "pygments_lexer": "ipython3"
  }
 },
 "nbformat": 4,
 "nbformat_minor": 2
}
