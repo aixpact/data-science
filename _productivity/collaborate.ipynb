{
 "cells": [
  {
   "cell_type": "markdown",
   "metadata": {},
   "source": [
    "Let others to play with your code without installing anything¶\n",
    "Services like mybinder give an access to machine with jupyter notebook with all the libraries installed, so user can play for half an hour with your code having only browser.\n",
    "\n",
    "You can setup your own system with jupyterhub, this is very handy when you organize mini-course or workshop and don't have time to care about students machines."
   ]
  }
 ],
 "metadata": {
  "language_info": {
   "name": "python",
   "pygments_lexer": "ipython3"
  }
 },
 "nbformat": 4,
 "nbformat_minor": 2
}
