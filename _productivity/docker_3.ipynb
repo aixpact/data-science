{
 "cells": [
  {
   "cell_type": "markdown",
   "metadata": {},
   "source": [
    "# Docker scipy- and minimal-notebook\n",
    "\n",
    "The minimal-notebook image has been written with data science optimization in mind\n",
    "\n",
    "https://www.dataquest.io/blog/docker-data-science/\n",
    "\n",
    "http://jupyter-docker-stacks.readthedocs.io/en/latest/using/selecting.html#jupyter-datascience-notebook\n",
    "\n",
    "https://github.com/jupyter/docker-stacks/tree/master/scipy-notebook\n",
    "\n",
    "https://towardsdatascience.com/docker-for-data-science-9c0ce73e8263\n"
   ]
  },
  {
   "cell_type": "markdown",
   "metadata": {},
   "source": [
    "### Pull image"
   ]
  },
  {
   "cell_type": "code",
   "execution_count": null,
   "metadata": {},
   "outputs": [],
   "source": [
    "# !docker run jupyter/minimal-notebook\n",
    "!docker pull jupyter/scipy-notebook\n",
    "# https://github.com/jupyter/docker-stacks/tree/master/scipy-notebook"
   ]
  },
  {
   "cell_type": "markdown",
   "metadata": {},
   "source": [
    "Using this command, we'll be pulling the latest image of the minimal-notebook from the jupyter Docker hub account. You'll know it has ran successfully if you see the following output:"
   ]
  },
  {
   "cell_type": "markdown",
   "metadata": {},
   "source": [
    "### Port container flag\n",
    "-p <host_port>:<container_port>"
   ]
  },
  {
   "cell_type": "code",
   "execution_count": null,
   "metadata": {},
   "outputs": [],
   "source": [
    "# !docker run -p 8888:8888 jupyter/minimal-notebook"
   ]
  },
  {
   "cell_type": "markdown",
   "metadata": {},
   "source": [
    "### Sharing files - mounting directory:volume"
   ]
  },
  {
   "cell_type": "code",
   "execution_count": null,
   "metadata": {},
   "outputs": [],
   "source": [
    "# !mkdir ~/docker_notebooks"
   ]
  },
  {
   "cell_type": "markdown",
   "metadata": {},
   "source": [
    "#### Mounting flag\n",
    "-v <host_directory>:<container_directory>"
   ]
  },
  {
   "cell_type": "markdown",
   "metadata": {},
   "source": [
    "### Installing packages - only for a specific Docker instance (runtime image)"
   ]
  },
  {
   "cell_type": "code",
   "execution_count": null,
   "metadata": {},
   "outputs": [],
   "source": [
    "!docker exec <container_id> pip install tensorflow"
   ]
  },
  {
   "cell_type": "markdown",
   "metadata": {},
   "source": [
    "### Build image"
   ]
  },
  {
   "cell_type": "code",
   "execution_count": null,
   "metadata": {},
   "outputs": [],
   "source": [
    "!mkdir ~/docker/docker_lauthom && cd ~/docker/docker_lauthom"
   ]
  },
  {
   "cell_type": "code",
   "execution_count": null,
   "metadata": {},
   "outputs": [],
   "source": [
    "python36 = 'https://repo.anaconda.com/archive/Anaconda3-5.1.0-Linux-x86_64.sh'"
   ]
  },
  {
   "cell_type": "code",
   "execution_count": null,
   "metadata": {},
   "outputs": [],
   "source": [
    "%%writefile ~/docker/docker_lauthom/Dockerfile\n",
    "\n",
    "# We will use Ubuntu for our image\n",
    "FROM ubuntu\n",
    "# Updating Ubuntu packages\n",
    "RUN apt-get update && yes|apt-get upgrade\n",
    "# Adding wget and bzip2\n",
    "RUN apt-get install -y wget bzip2\n",
    "# Anaconda installing\n",
    "RUN wget https://repo.continuum.io/archive/Anaconda3-5.0.1-Linux-x86_64.sh\n",
    "RUN bash Anaconda3-5.0.1-Linux-x86_64.sh -b\n",
    "RUN rm Anaconda3-5.0.1-Linux-x86_64.sh\n",
    "# Set path to conda\n",
    "ENV PATH /root/anaconda3/bin:$PATH\n",
    "# Updating Anaconda packages\n",
    "RUN conda update conda\n",
    "RUN conda update anaconda\n",
    "RUN conda update --all\n",
    "# Configuring access to Jupyter\n",
    "RUN mkdir /opt/notebooks\n",
    "RUN jupyter notebook --generate-config --allow-root\n",
    "RUN echo \"c.NotebookApp.password = u'sha1:6a3f528eec40:6e896b6e4828f525a6e20e5411cd1c8075d68619'\" >> /root/.jupyter/jupyter_notebook_config.py\n",
    "# Jupyter listens port: 8888\n",
    "EXPOSE 8888\n",
    "# Run Jupyter notebook as Docker main process\n",
    "CMD [\"jupyter\", \"notebook\", \"--allow-root\", \"--notebook-dir=/opt/notebooks\", \"--ip='*'\", \"--port=8888\", \"--no-browser\"]"
   ]
  },
  {
   "cell_type": "code",
   "execution_count": null,
   "metadata": {},
   "outputs": [],
   "source": [
    "!docker build -t docker-data-science"
   ]
  },
  {
   "cell_type": "code",
   "execution_count": null,
   "metadata": {},
   "outputs": [],
   "source": [
    "!docker run --name docker-data-science -p 8888:8888 -v \"$PWD/notebooks:/opt/notebooks\" -d docker-data-science"
   ]
  },
  {
   "cell_type": "code",
   "execution_count": null,
   "metadata": {},
   "outputs": [],
   "source": [
    "!docker rm -f docker-data-science\n",
    "# stop container"
   ]
  },
  {
   "cell_type": "markdown",
   "metadata": {},
   "source": [
    "# Make github repo\n",
    " - login @ github\n",
    " - create new repo\n",
    " - "
   ]
  },
  {
   "cell_type": "code",
   "execution_count": null,
   "metadata": {},
   "outputs": [],
   "source": [
    "git init\n",
    "echo \"notebooks\" > .gitignore\n",
    "git add .\n",
    "git commit -m \"first commit\""
   ]
  },
  {
   "cell_type": "code",
   "execution_count": null,
   "metadata": {},
   "outputs": [],
   "source": [
    "git remote add origin https://github.com/evheniy/docker-data-science.git\n",
    "git push -u origin master"
   ]
  },
  {
   "cell_type": "code",
   "execution_count": null,
   "metadata": {},
   "outputs": [],
   "source": [
    "git clone https://github.com/evheniy/docker-data-science.git"
   ]
  }
 ],
 "metadata": {
  "language_info": {
   "name": "python",
   "pygments_lexer": "ipython3"
  }
 },
 "nbformat": 4,
 "nbformat_minor": 2
}
