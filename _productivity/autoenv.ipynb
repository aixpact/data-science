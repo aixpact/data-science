{
 "cells": [
  {
   "cell_type": "markdown",
   "metadata": {},
   "source": [
    "# Autoenv\n",
    "\n",
    "https://realpython.com/flask-by-example-part-1-project-setup/"
   ]
  },
  {
   "cell_type": "markdown",
   "metadata": {},
   "source": [
    "### Config Settings\n",
    "\n",
    "Set up different config environments for our app. Often there are things that are going to be different between your local, staging, and production setups. You’ll want to connect to different databases, have different AWS keys, etc. Let’s set up a config file to deal with the different environments.\n",
    "\n",
    "Add a config.py file to your project root: config.py\n",
    "\n",
    "We’ll have a base config class that the other config classes inherit from. Then we’ll import the appropriate config class as needed."
   ]
  },
  {
   "cell_type": "code",
   "execution_count": null,
   "metadata": {},
   "outputs": [],
   "source": [
    "%%writefile config.py\n",
    "import os\n",
    "basedir = os.path.abspath(os.path.dirname(__file__))\n",
    "\n",
    "\n",
    "class Config(object):\n",
    "    DEBUG = False\n",
    "    TESTING = False\n",
    "    CSRF_ENABLED = True\n",
    "    SECRET_KEY = 'this-really-needs-to-be-changed'\n",
    "\n",
    "\n",
    "class ProductionConfig(Config):\n",
    "    DEBUG = False\n",
    "\n",
    "\n",
    "class StagingConfig(Config):\n",
    "    DEVELOPMENT = True\n",
    "    DEBUG = True\n",
    "\n",
    "\n",
    "class DevelopmentConfig(Config):\n",
    "    DEVELOPMENT = True\n",
    "    DEBUG = True\n",
    "\n",
    "\n",
    "class TestingConfig(Config):\n",
    "    TESTING = True"
   ]
  },
  {
   "cell_type": "markdown",
   "metadata": {},
   "source": [
    "### Local Settings\n",
    "To set up our application with environment variables, we’re going to use autoenv. This program allows us to set commands that will run every time we cd into our directory. In order to use it, we will need to install it globally. First, exit out of your virtual environment in the terminal, install autoenv, then and add a .env file:"
   ]
  },
  {
   "cell_type": "code",
   "execution_count": null,
   "metadata": {},
   "outputs": [],
   "source": [
    "!deactivate"
   ]
  },
  {
   "cell_type": "code",
   "execution_count": null,
   "metadata": {},
   "outputs": [],
   "source": [
    "!pip install autoenv==1.0.0"
   ]
  },
  {
   "cell_type": "code",
   "execution_count": null,
   "metadata": {},
   "outputs": [],
   "source": [
    "%%filewrite .env\n",
    "source env/bin/activate\n",
    "export APP_SETTINGS=\"config.DevelopmentConfig\""
   ]
  },
  {
   "cell_type": "markdown",
   "metadata": {},
   "source": [
    "### Refresh .bashrc\n",
    "Run the following to update then refresh your .bashrc"
   ]
  },
  {
   "cell_type": "code",
   "execution_count": null,
   "metadata": {},
   "outputs": [],
   "source": [
    "!echo \"source `which activate.sh`\" >> ~/.bashrc\n",
    "!source ~/.bashrc"
   ]
  },
  {
   "cell_type": "markdown",
   "metadata": {},
   "source": [
    "### Virtual environment will automatically be started\n",
    "Now, if you move up a directory and then cd back into it, the virtual environment will automatically be started and the APP_SETTINGS variable is declared."
   ]
  },
  {
   "cell_type": "code",
   "execution_count": null,
   "metadata": {},
   "outputs": [],
   "source": [
    "print(os.environ['APP_SETTINGS'])"
   ]
  }
 ],
 "metadata": {
  "language_info": {
   "name": "python",
   "pygments_lexer": "ipython3"
  }
 },
 "nbformat": 4,
 "nbformat_minor": 2
}
