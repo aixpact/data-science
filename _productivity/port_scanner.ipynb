{
 "cells": [
  {
   "cell_type": "code",
   "execution_count": null,
   "metadata": {},
   "outputs": [],
   "source": [
    "# !brew install nmap\n",
    "# !pip install python-nmap\n",
    "# !easy_install python-nmap\n",
    "\n",
    "# make directory writable for linking; share/man/de/man1\n",
    "# install again through brewer\n",
    "\n",
    "# https://xael.org/pages/python-nmap-en.html\n",
    "\n",
    "# Error: The `brew link` step did not complete successfully\n",
    "# The formula built, but is not symlinked into /usr/local\n",
    "# Could not symlink share/man/de/man1/nmap.1\n",
    "# /usr/local/share/man/de/man1 is not writable."
   ]
  },
  {
   "cell_type": "code",
   "execution_count": null,
   "metadata": {},
   "outputs": [],
   "source": [
    "nmap.__file__"
   ]
  },
  {
   "cell_type": "code",
   "execution_count": null,
   "metadata": {},
   "outputs": [],
   "source": [
    "import nmap"
   ]
  },
  {
   "cell_type": "code",
   "execution_count": null,
   "metadata": {},
   "outputs": [],
   "source": [
    "nm = nmap.PortScanner()"
   ]
  },
  {
   "cell_type": "code",
   "execution_count": null,
   "metadata": {},
   "outputs": [],
   "source": [
    "nmap"
   ]
  },
  {
   "cell_type": "code",
   "execution_count": null,
   "metadata": {},
   "outputs": [],
   "source": [
    "nm.scan('127.0.0.1', '22-443')"
   ]
  },
  {
   "cell_type": "code",
   "execution_count": null,
   "metadata": {},
   "outputs": [],
   "source": [
    "!find ~ | grep bash_profile"
   ]
  },
  {
   "cell_type": "code",
   "execution_count": null,
   "metadata": {},
   "outputs": [],
   "source": [
    "!open -e /Users/frank/.bash_profile"
   ]
  },
  {
   "cell_type": "code",
   "execution_count": null,
   "metadata": {},
   "outputs": [],
   "source": [
    "nm.command_line()"
   ]
  },
  {
   "cell_type": "code",
   "execution_count": null,
   "metadata": {},
   "outputs": [],
   "source": [
    "nm.scaninfo()"
   ]
  },
  {
   "cell_type": "code",
   "execution_count": null,
   "metadata": {},
   "outputs": [],
   "source": [
    "nm.all_hosts()"
   ]
  },
  {
   "cell_type": "code",
   "execution_count": null,
   "metadata": {},
   "outputs": [],
   "source": [
    "nm['127.0.0.1'].hostname()"
   ]
  },
  {
   "cell_type": "code",
   "execution_count": null,
   "metadata": {},
   "outputs": [],
   "source": [
    "nm['127.0.0.1'].state()"
   ]
  },
  {
   "cell_type": "code",
   "execution_count": null,
   "metadata": {},
   "outputs": [],
   "source": [
    "nm['127.0.0.1'].all_protocols()"
   ]
  },
  {
   "cell_type": "code",
   "execution_count": null,
   "metadata": {},
   "outputs": [],
   "source": [
    "nm['127.0.0.1']['tcp'].keys()"
   ]
  },
  {
   "cell_type": "code",
   "execution_count": null,
   "metadata": {},
   "outputs": [],
   "source": [
    "for item in nm['127.0.0.1']['tcp'].items():\n",
    "    print(item)"
   ]
  },
  {
   "cell_type": "code",
   "execution_count": null,
   "metadata": {},
   "outputs": [],
   "source": [
    "nm['127.0.0.1'].has_tcp(88)"
   ]
  },
  {
   "cell_type": "code",
   "execution_count": null,
   "metadata": {},
   "outputs": [],
   "source": [
    "nm['127.0.0.1'].tcp(88)"
   ]
  },
  {
   "cell_type": "code",
   "execution_count": null,
   "metadata": {},
   "outputs": [],
   "source": [
    "nm['127.0.0.1']['tcp'][88]"
   ]
  },
  {
   "cell_type": "code",
   "execution_count": null,
   "metadata": {},
   "outputs": [],
   "source": [
    "nm['127.0.0.1']['tcp'][88]['state']"
   ]
  },
  {
   "cell_type": "code",
   "execution_count": null,
   "metadata": {},
   "outputs": [],
   "source": [
    "nm['127.0.0.1'].has_tcp(23)"
   ]
  },
  {
   "cell_type": "code",
   "execution_count": null,
   "metadata": {},
   "outputs": [],
   "source": [
    "for host in nm.all_hosts():\n",
    "    print('----------------------------------------------------')\n",
    "    print('Host : %s (%s)' % (host, nm[host].hostname()))\n",
    "    print('State : %s' % nm[host].state())\n",
    "    for proto in nm[host].all_protocols():\n",
    "        print('----------')\n",
    "        print('Protocol : %s' % proto)\n",
    "\n",
    "        lport = nm[host][proto].keys()\n",
    "#         sort(lport)\n",
    "        for port in lport:\n",
    "            print ('port : %s\\tstate : %s' % (port, nm[host][proto][port]['state']))"
   ]
  },
  {
   "cell_type": "code",
   "execution_count": null,
   "metadata": {},
   "outputs": [],
   "source": [
    "## Socket\n",
    "\n",
    "- making network connections to IP, port"
   ]
  },
  {
   "cell_type": "code",
   "execution_count": null,
   "metadata": {},
   "outputs": [],
   "source": [
    "!nslookup mach_name"
   ]
  },
  {
   "cell_type": "code",
   "execution_count": null,
   "metadata": {},
   "outputs": [],
   "source": [
    "!ifconfig -a"
   ]
  },
  {
   "cell_type": "code",
   "execution_count": null,
   "metadata": {},
   "outputs": [],
   "source": [
    "import socket"
   ]
  },
  {
   "cell_type": "code",
   "execution_count": null,
   "metadata": {},
   "outputs": [],
   "source": [
    "socket.setdefaulttimeout(2)"
   ]
  },
  {
   "cell_type": "code",
   "execution_count": null,
   "metadata": {},
   "outputs": [],
   "source": [
    "s = socket.socket()"
   ]
  },
  {
   "cell_type": "code",
   "execution_count": null,
   "metadata": {},
   "outputs": [],
   "source": [
    "s.connect(('192.168.192.1', 21))"
   ]
  },
  {
   "cell_type": "code",
   "execution_count": null,
   "metadata": {},
   "outputs": [],
   "source": [
    "target = 'google.com'\n",
    "ip = socket.gethostbyname(target)\n",
    "ip"
   ]
  },
  {
   "cell_type": "code",
   "execution_count": null,
   "metadata": {},
   "outputs": [],
   "source": [
    "import socket\n",
    " \n",
    "target = 'google.com'\n",
    "TCP_IP = socket.gethostbyname(target)\n",
    "TCP_PORT = 25\n",
    "BUFFER_SIZE = 20  # Normally 1024, but we want fast response\n",
    " \n",
    "s = socket.socket(socket.AF_INET, socket.SOCK_STREAM)\n",
    "s.bind((TCP_IP, TCP_PORT))\n",
    "s.listen(1)\n",
    " \n",
    "conn, addr = s.accept()\n",
    "print ('Connection address:', addr)\n",
    "\n",
    "while 1:\n",
    "    data = conn.recv(BUFFER_SIZE)\n",
    "    if not data: break\n",
    "    print (\"received data:\", data)\n",
    "    conn.send(data)  # echo\n",
    "conn.close()"
   ]
  },
  {
   "cell_type": "code",
   "execution_count": null,
   "metadata": {},
   "outputs": [],
   "source": [
    "s.recv(1024) # read the next 1024 bytes"
   ]
  },
  {
   "cell_type": "code",
   "execution_count": null,
   "metadata": {},
   "outputs": [],
   "source": [
    "### Portscanner"
   ]
  },
  {
   "cell_type": "code",
   "execution_count": null,
   "metadata": {},
   "outputs": [],
   "source": [
    "import threading\n",
    "import socket\n",
    "\n",
    "target = 'google.com'\n",
    "#ip = socket.gethostbyname(target)\n",
    "\n",
    "def portscan(port):\n",
    "    s = socket.socket(socket.AF_INET, socket.SOCK_STREAM)\n",
    "    s.settimeout(0.5)# \n",
    "    try:\n",
    "        con = s.connect((target, port))\n",
    "        print('Port :', port, \"is open\")\n",
    "        while 1:\n",
    "            data = con.recv(1024)\n",
    "            print(data)\n",
    "#             if not data: break\n",
    "            print (\"received data:\", data)\n",
    "            con.send(data)  # echo\n",
    "\n",
    "        con.close()\n",
    "    except: \n",
    "        pass\n",
    "    \n",
    "r = 1 \n",
    "for x in range(100): \n",
    "    t = threading.Thread(target=portscan, kwargs={'port':x}) \n",
    "    r += 1\n",
    "    t.start() "
   ]
  },
  {
   "cell_type": "code",
   "execution_count": null,
   "metadata": {},
   "outputs": [],
   "source": [
    "## Password"
   ]
  },
  {
   "cell_type": "code",
   "execution_count": null,
   "metadata": {},
   "outputs": [],
   "source": [
    "import crypt"
   ]
  },
  {
   "cell_type": "code",
   "execution_count": null,
   "metadata": {},
   "outputs": [],
   "source": [
    "crypt.crypt('egg', 'HX')"
   ]
  },
  {
   "cell_type": "code",
   "execution_count": null,
   "metadata": {},
   "outputs": [],
   "source": [
    "from scapy.all import *\n",
    "conf.verb = 0\n",
    "\n",
    "p = IP(dst=\"github.com\")/TCP()\n",
    "r = sr1(p)\n",
    "print(r.summary())"
   ]
  },
  {
   "cell_type": "code",
   "execution_count": null,
   "metadata": {},
   "outputs": [],
   "source": [
    "icmp=IP(src='192.168.192.53', dst='192.168.192.7')/ICMP()/\"hello\" #[which works fine]\n",
    "send(icmp) #[which raises error]"
   ]
  },
  {
   "cell_type": "code",
   "execution_count": null,
   "metadata": {},
   "outputs": [],
   "source": [
    "!scapy -V"
   ]
  },
  {
   "cell_type": "code",
   "execution_count": null,
   "metadata": {},
   "outputs": [],
   "source": [
    "# https://unix.stackexchange.com/questions/48671/how-to-put-mac-os-x-wireless-adapter-in-monitor-mode"
   ]
  },
  {
   "cell_type": "code",
   "execution_count": null,
   "metadata": {},
   "outputs": [],
   "source": [
    "import sys\n",
    "from scapy.all import sr1, IP, ICMP\n",
    "ICMP()\n",
    "\n",
    "# p = sr1(IP(dst=sys.argv[1])/ICMP())\n",
    "# if p:\n",
    "#     p.show()"
   ]
  },
  {
   "cell_type": "code",
   "execution_count": null,
   "metadata": {},
   "outputs": [],
   "source": [
    "sniff()"
   ]
  },
  {
   "cell_type": "code",
   "execution_count": null,
   "metadata": {},
   "outputs": [],
   "source": []
  }
 ],
 "metadata": {
  "language_info": {
   "name": "python",
   "pygments_lexer": "ipython3"
  }
 },
 "nbformat": 4,
 "nbformat_minor": 2
}
