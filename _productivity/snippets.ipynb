{
 "cells": [
  {
   "cell_type": "code",
   "execution_count": null,
   "metadata": {},
   "outputs": [],
   "source": [
    "# Cute Gists"
   ]
  },
  {
   "cell_type": "code",
   "execution_count": null,
   "metadata": {},
   "outputs": [],
   "source": [
    "# Create grid coordinates for plotting\n",
    "Z = np.ones((3, 5))\n",
    "\n",
    "# Alias/abstract lambda function\n",
    "npenum = lambda x: np.ndenumerate(x)\n",
    "\n",
    "# Calculate Z-values (RSS) based on grid of coefficients\n",
    "for (i, j), v in npenum(Z):\n",
    "    print(i, j, v)"
   ]
  },
  {
   "cell_type": "code",
   "execution_count": null,
   "metadata": {},
   "outputs": [],
   "source": [
    "from collections import namedtuple\n",
    "\n",
    "my_namedtuple = namedtuple('field_name', ['x', 'y', 'z', 'bla', 'blub'])\n",
    "p = my_namedtuple(1, 2, 3, 4, 5)\n",
    "print(p.x, p.y, p.z)"
   ]
  },
  {
   "cell_type": "markdown",
   "metadata": {},
   "source": [
    "### "
   ]
  },
  {
   "cell_type": "code",
   "execution_count": null,
   "metadata": {},
   "outputs": [],
   "source": [
    "def min_max(data):\n",
    "    from operator import itemgetter\n",
    "    from collections import namedtuple\n",
    "    \n",
    "    min_index, min_value = min(enumerate(data), key=itemgetter(1))\n",
    "    max_index, max_value = max(enumerate(data), key=itemgetter(1))\n",
    "    \n",
    "    min_max_tup = namedtuple('min_max', ['min_index', 'min_value', 'max_index', 'max_value'])\n",
    "    \n",
    "    return min_max_tup(min_index, min_value, max_index, max_value)\n",
    "\n",
    "tup = min_max([1, 2, 3, 4, 5])\n",
    "print('min[{}]: {}, max[{}]: {}'.format(tup.min_index, tup.min_value, tup.max_index, tup.max_value))"
   ]
  },
  {
   "cell_type": "markdown",
   "metadata": {},
   "source": [
    "### "
   ]
  },
  {
   "cell_type": "code",
   "execution_count": null,
   "metadata": {},
   "outputs": [],
   "source": [
    "%%file cmd_line_args_1_sysarg.py\n",
    "import sys\n",
    "\n",
    "def error(msg):\n",
    "    \"\"\"Prints error message, sends it to stderr, and quites the program.\"\"\"\n",
    "    sys.exit(msg)\n",
    "\n",
    "args = sys.argv[1:]     #  sys.argv[0] is the name of the python script itself\n",
    "\n",
    "try:\n",
    "    arg1 = int(args[0])\n",
    "    arg2 = args[1]\n",
    "    arg3 = args[2]\n",
    "    print(\"Everything okay!\")\n",
    "\n",
    "except ValueError:\n",
    "    error(\"First argument must be integer type!\")\n",
    "\n",
    "except IndexError:\n",
    "    error(\"Requires 3 arguments!\")"
   ]
  },
  {
   "cell_type": "code",
   "execution_count": null,
   "metadata": {},
   "outputs": [],
   "source": [
    "%run cmd_line_args_1_sysarg.py"
   ]
  },
  {
   "cell_type": "markdown",
   "metadata": {},
   "source": [
    "### "
   ]
  },
  {
   "cell_type": "code",
   "execution_count": null,
   "metadata": {},
   "outputs": [],
   "source": [
    "import time\n",
    "\n",
    "print('current time: {} - {}'.format(time.strftime(\"%d/%m/%Y\"), time.strftime(\"%H:%M:%S\")))"
   ]
  },
  {
   "cell_type": "markdown",
   "metadata": {},
   "source": [
    "### "
   ]
  },
  {
   "cell_type": "code",
   "execution_count": null,
   "metadata": {},
   "outputs": [],
   "source": [
    "def subtract(a, b):\n",
    "    \"\"\"\n",
    "    Subtracts second from first number and returns result.\n",
    "    >>> subtract(10, 5)\n",
    "    5\n",
    "    >>> subtract(11, 0.7)\n",
    "    10.3\n",
    "    \"\"\"\n",
    "    return a-b\n",
    "\n",
    "if __name__ == \"__main__\":  # is 'false' if imported\n",
    "    import doctest\n",
    "    doctest.testmod()\n",
    "    print('ok')"
   ]
  },
  {
   "cell_type": "markdown",
   "metadata": {},
   "source": [
    "### "
   ]
  },
  {
   "cell_type": "code",
   "execution_count": null,
   "metadata": {},
   "outputs": [],
   "source": [
    "import os\n",
    "import shutil\n",
    "import glob\n",
    "\n",
    "# working directory\n",
    "c_dir = os.getcwd()                 # show current working directory\n",
    "os.listdir(c_dir)                   # shows all files in the working directory\n",
    "os.chdir('~/Data')                  # change working directory\n",
    "\n",
    "\n",
    "# get all files in a directory\n",
    "glob.glob('/Users/sebastian/Desktop/*')\n",
    "\n",
    "# e.g.,  ['/Users/sebastian/Desktop/untitled folder', '/Users/sebastian/Desktop/Untitled.txt']\n",
    "\n",
    "# walk\n",
    "tree = os.walk(c_dir)      \n",
    "# moves through sub directories and creates a 'generator' object of tuples\n",
    "# ('dir', [file1, file2, ...] [subdirectory1, subdirectory2, ...]), \n",
    "#    (...), ...\n",
    "\n",
    "#check files: returns either True or False\n",
    "os.exists('../rel_path')\n",
    "os.exists('/home/abs_path')\n",
    "os.isfile('./file.txt')\n",
    "os.isdir('./subdir')\n",
    "\n",
    "\n",
    "# file permission (True or False\n",
    "os.access('./some_file', os.F_OK) # File exists? Python 2.7\n",
    "os.access('./some_file', os.R_OK) # Ok to read? Python 2.7\n",
    "os.access('./some_file', os.W_OK) # Ok to write? Python 2.7\n",
    "os.access('./some_file', os.X_OK) # Ok to execute? Python 2.7\n",
    "os.access('./some_file', os.X_OK | os.W_OK) # Ok to execute or write? Python 2.7\n",
    "\n",
    "# join (creates operating system dependent paths)\n",
    "os.path.join('a', 'b', 'c')\n",
    "# 'a/b/c' on Unix/Linux\n",
    "# 'a\\\\b\\\\c' on Windows\n",
    "os.path.normpath('a/b/c') # converts file separators\n",
    "\n",
    "\n",
    "# os.path: direcory and file names\n",
    "os.path.samefile('./some_file', '/home/some_file')  # True if those are the same\n",
    "os.path.dirname('./some_file')  # returns '.' (everythin but last component)\n",
    "os.path.basename('./some_file') # returns 'some_file' (only last component\n",
    "os.path.split('./some_file') # returns (dirname, basename) or ('.', 'some_file)\n",
    "os.path.splitext('./some_file.txt') # returns ('./some_file', '.txt')\n",
    "os.path.splitdrive('./some_file.txt') # returns ('', './some_file.txt')\n",
    "os.path.isabs('./some_file.txt') # returns False (not an absolute path)\n",
    "os.path.abspath('./some_file.txt')\n",
    "\n",
    "\n",
    "# create and delete files and directories\n",
    "os.mkdir('./test')  # create a new direcotory\n",
    "os.rmdir('./test')  # removes an empty direcotory\n",
    "os.removedirs('./test') # removes nested empty directories\n",
    "os.remove('file.txt')   # removes an individual file\n",
    "shutil.rmtree('./test') # removes directory (empty or not empty)\n",
    "\n",
    "os.rename('./dir_before', './renamed') # renames directory if destination doesn't exist\n",
    "shutil.move('./dir_before', './renamed') # renames directory always\n",
    "\n",
    "shutil.copytree('./orig', './copy') # copies a directory recursively\n",
    "shutil.copyfile('file', 'copy')     # copies a file\n",
    "\n",
    " \n",
    "# Getting files of particular type from directory\n",
    "files = [f for f in os.listdir(s_pdb_dir) if f.endswith(\".txt\")]\n",
    "  \n",
    "# Copy and move\n",
    "shutil.copyfile(\"/path/to/file\", \"/path/to/new/file\") \n",
    "shutil.copy(\"/path/to/file\", \"/path/to/directory\")\n",
    "shutil.move(\"/path/to/file\",\"/path/to/directory\")\n",
    "   \n",
    "# Check if file or directory exists\n",
    "os.path.exists(\"file or directory\")\n",
    "os.path.isfile(\"file\")\n",
    "os.path.isdir(\"directory\")\n",
    "    \n",
    "# Working directory and absolute path to files\n",
    "os.getcwd()\n",
    "os.path.abspath(\"file\")"
   ]
  },
  {
   "cell_type": "markdown",
   "metadata": {},
   "source": [
    "### Closure"
   ]
  },
  {
   "cell_type": "code",
   "execution_count": null,
   "metadata": {},
   "outputs": [],
   "source": [
    "def create_message(msg_txt):\n",
    "    def _priv_msg(message):     # private, no access from outside\n",
    "        print(\"{}: {}\".format(msg_txt, message))\n",
    "    return _priv_msg            # returns a function\n",
    "\n",
    "new_msg = create_message(\"My message\")\n",
    "# note, new_msg is a function\n",
    "\n",
    "new_msg(\"Hello, World\")"
   ]
  },
  {
   "cell_type": "markdown",
   "metadata": {},
   "source": [
    "### Snippets"
   ]
  },
  {
   "cell_type": "code",
   "execution_count": null,
   "metadata": {},
   "outputs": [],
   "source": [
    "http://nbviewer.jupyter.org/github/rasbt/python_reference/blob/master/python_patterns/patterns.ipynb#Data-and-time-basics"
   ]
  },
  {
   "cell_type": "markdown",
   "metadata": {},
   "source": [
    "### Regex"
   ]
  },
  {
   "cell_type": "code",
   "execution_count": null,
   "metadata": {},
   "outputs": [],
   "source": [
    "http://nbviewer.jupyter.org/github/rasbt/python_reference/blob/master/tutorials/useful_regex.ipynb"
   ]
  },
  {
   "cell_type": "markdown",
   "metadata": {},
   "source": [
    "### Markdown"
   ]
  },
  {
   "cell_type": "code",
   "execution_count": null,
   "metadata": {},
   "outputs": [],
   "source": [
    "https://medium.com/ibm-data-science-experience/markdown-for-jupyter-notebooks-cheatsheet-386c05aeebed"
   ]
  },
  {
   "cell_type": "markdown",
   "metadata": {},
   "source": [
    "### "
   ]
  },
  {
   "cell_type": "code",
   "execution_count": null,
   "metadata": {},
   "outputs": [],
   "source": [
    "%matplotlib inline\n",
    "\n",
    "import numpy as np\n",
    "import pandas as pd\n",
    "import matplotlib as mpl\n",
    "import matplotlib.pyplot as plt\n",
    "\n",
    "x = np.linspace(0, 20, 1000)  # 100 evenly-spaced values from 0 to 50\n",
    "y = np.sin(x)\n",
    "\n",
    "fig = plt.figure()\n",
    "\n",
    "ax1 = fig.add_subplot(1,2,1) # 1 row, 2 cols, graphic 1\n",
    "ax2 = fig.add_subplot(1,2,2) # graphic 2\n",
    "\n",
    "ax1.plot(x, y)\n",
    "\n",
    "ax2.hist(np.random.randn(1000), alpha=0.5, histtype='stepfilled')\n",
    "ax2.hist(0.75*np.random.randn(1000)+1, alpha=0.5, histtype='stepfilled')\n",
    "\n",
    "plt.show();"
   ]
  },
  {
   "cell_type": "markdown",
   "metadata": {},
   "source": [
    "### "
   ]
  },
  {
   "cell_type": "markdown",
   "metadata": {},
   "source": [
    "foo <font color='red'>bar</font> foo"
   ]
  },
  {
   "cell_type": "markdown",
   "metadata": {},
   "source": [
    "### Matplotlib"
   ]
  },
  {
   "cell_type": "code",
   "execution_count": null,
   "metadata": {},
   "outputs": [],
   "source": [
    "http://www.labri.fr/perso/nrougier/teaching/matplotlib/"
   ]
  },
  {
   "cell_type": "code",
   "execution_count": null,
   "metadata": {},
   "outputs": [],
   "source": [
    "def f(x,y): return (1-x/2+x**5+y**3)*np.exp(-x**2-y**2)\n",
    "\n",
    "n = 256\n",
    "x = np.linspace(-3,3,n)\n",
    "y = np.linspace(-3,3,n)\n",
    "X,Y = np.meshgrid(x,y)\n",
    "\n",
    "plt.contourf(X, Y, f(X,Y), 8, alpha=.75, cmap='jet')\n",
    "C = plt.contour(X, Y, f(X,Y), 8, colors='black')\n",
    "plt.show();"
   ]
  },
  {
   "cell_type": "code",
   "execution_count": null,
   "metadata": {},
   "outputs": [],
   "source": [
    "n = 20\n",
    "Z = np.random.uniform(0, 1, n)\n",
    "plt.pie(Z)\n",
    "plt.show();"
   ]
  },
  {
   "cell_type": "code",
   "execution_count": null,
   "metadata": {},
   "outputs": [],
   "source": [
    "plt.axes([0,0,1,1])\n",
    "\n",
    "N = 20\n",
    "theta = np.arange(0.0, 2*np.pi, 2*np.pi/N)\n",
    "radii = 10*np.random.rand(N)\n",
    "width = np.pi/4*np.random.rand(N)\n",
    "bars = plt.bar(theta, radii, width=width, bottom=0.0)\n",
    "\n",
    "for r, bar in zip(radii, bars):\n",
    "    bar.set_facecolor('black')\n",
    "    bar.set_alpha(0.5)\n",
    "\n",
    "plt.show()"
   ]
  },
  {
   "cell_type": "code",
   "execution_count": null,
   "metadata": {},
   "outputs": [],
   "source": [
    "from mpl_toolkits.mplot3d import Axes3D\n",
    "\n",
    "fig = plt.figure()\n",
    "ax = Axes3D(fig)\n",
    "X = np.arange(-4, 4, 0.25)\n",
    "Y = np.arange(-4, 4, 0.25)\n",
    "X, Y = np.meshgrid(X, Y)\n",
    "R = np.sqrt(X**2 + Y**2)\n",
    "Z = np.sin(R)\n",
    "\n",
    "ax.plot_surface(X, Y, Z, rstride=1, cstride=1, cmap='hot')\n",
    "\n",
    "plt.show();"
   ]
  },
  {
   "cell_type": "code",
   "execution_count": null,
   "metadata": {},
   "outputs": [],
   "source": [
    "eqs = []\n",
    "eqs.append((r\"$W^{3\\beta}_{\\delta_1 \\rho_1 \\sigma_2} = U^{3\\beta}_{\\delta_1 \\rho_1} + \\frac{1}{8 \\pi 2} \\int^{\\alpha_2}_{\\alpha_2} d \\alpha^\\prime_2 \\left[\\frac{ U^{2\\beta}_{\\delta_1 \\rho_1} - \\alpha^\\prime_2U^{1\\beta}_{\\rho_1 \\sigma_2} }{U^{0\\beta}_{\\rho_1 \\sigma_2}}\\right]$\"))\n",
    "eqs.append((r\"$\\frac{d\\rho}{d t} + \\rho \\vec{v}\\cdot\\nabla\\vec{v} = -\\nabla p + \\mu\\nabla^2 \\vec{v} + \\rho \\vec{g}$\"))\n",
    "eqs.append((r\"$\\int_{-\\infty}^\\infty e^{-x^2}dx=\\sqrt{\\pi}$\"))\n",
    "eqs.append((r\"$E = mc^2 = \\sqrt{{m_0}^2c^4 + p^2c^2}$\"))\n",
    "eqs.append((r\"$F_G = G\\frac{m_1m_2}{r^2}$\"))\n",
    "\n",
    "\n",
    "plt.axes([0.025,0.025,0.95,0.95])\n",
    "\n",
    "for i in range(24):\n",
    "    index = np.random.randint(0,len(eqs))\n",
    "    eq = eqs[index]\n",
    "    size = np.random.uniform(12,32)\n",
    "    x,y = np.random.uniform(0,1,2)\n",
    "    alpha = np.random.uniform(0.25,.75)\n",
    "    plt.text(x, y, eq, ha='center', va='center', color=\"#11557c\", alpha=alpha,\n",
    "             transform=plt.gca().transAxes, fontsize=size, clip_on=True)\n",
    "\n",
    "plt.xticks([]), plt.yticks([])\n",
    "# savefig('../figures/text_ex.png',dpi=48)\n",
    "plt.show();"
   ]
  },
  {
   "cell_type": "markdown",
   "metadata": {},
   "source": [
    "### Import warnings"
   ]
  },
  {
   "cell_type": "code",
   "execution_count": null,
   "metadata": {},
   "outputs": [],
   "source": [
    "import warnings\n",
    "warnings.filterwarnings(action=\"ignore\", module=\"scipy\", message=\"^internal gelsd\")"
   ]
  },
  {
   "cell_type": "code",
   "execution_count": null,
   "metadata": {},
   "outputs": [],
   "source": []
  },
  {
   "cell_type": "code",
   "execution_count": null,
   "metadata": {},
   "outputs": [],
   "source": [
    "### Double loop: np.ndenumerate(Z)"
   ]
  },
  {
   "cell_type": "code",
   "execution_count": null,
   "metadata": {},
   "outputs": [],
   "source": []
  },
  {
   "cell_type": "code",
   "execution_count": null,
   "metadata": {},
   "outputs": [],
   "source": []
  }
 ],
 "metadata": {
  "language_info": {
   "name": "python",
   "pygments_lexer": "ipython3"
  }
 },
 "nbformat": 4,
 "nbformat_minor": 2
}
