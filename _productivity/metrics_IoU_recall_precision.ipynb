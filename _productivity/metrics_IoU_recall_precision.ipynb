{
 "cells": [
  {
   "cell_type": "markdown",
   "metadata": {},
   "source": [
    "# Metrics"
   ]
  },
  {
   "cell_type": "code",
   "execution_count": null,
   "metadata": {},
   "outputs": [],
   "source": [
    "% matplotlib inline\n",
    "\n",
    "import numpy as np\n",
    "import pandas as pd\n",
    "import scipy as sp\n",
    "import matplotlib as mpl\n",
    "import matplotlib.pyplot as plt\n",
    "import cv2\n",
    "\n",
    "from mymods.lauthom import *\n",
    "\n",
    "import sys\n",
    "sys.path.append('./pycode')\n",
    "\n",
    "\n"
   ]
  },
  {
   "cell_type": "markdown",
   "metadata": {},
   "source": [
    "### Clipping min/max"
   ]
  },
  {
   "cell_type": "code",
   "execution_count": null,
   "metadata": {},
   "outputs": [],
   "source": [
    "\n",
    "img = np.array([0,1,2,3,4,5,6,7,8,9,20])\n",
    "\n",
    "norm = (img - img.mean()) / img.std()\n",
    "norm\n",
    "wt = 2\n",
    "img = np.clip(img, -wt*img.std(), wt*img.std())\n",
    "(img - img.mean()) / img.std()"
   ]
  },
  {
   "cell_type": "markdown",
   "metadata": {},
   "source": [
    "### Metrics"
   ]
  },
  {
   "cell_type": "code",
   "execution_count": null,
   "metadata": {},
   "outputs": [],
   "source": [
    "true = (np.random.normal(-1, 1, 100) > 0)//1\n",
    "pred = (np.random.normal(-1, 1, 100) > 0)//1\n",
    "H, _, _ = np.histogram2d(true, pred, bins=(2,2))\n",
    "H, true, pred\n",
    "\n",
    "np.sum(true), np.sum(pred)\n",
    "TN, FN, FP, TP = np.split(H.ravel(), 4)\n",
    "TN, FN, FP, TP\n",
    "\n",
    "# IuO\n",
    "TP / max(1e-9, (FN + FP + TP))\n",
    "\n",
    "\n",
    "# precision\n",
    "TP / np.sum(pred)\n",
    "\n",
    "# recall\n",
    "TP / np.sum(true)\n",
    "\n",
    "# TP\n",
    "# F"
   ]
  },
  {
   "cell_type": "code",
   "execution_count": null,
   "metadata": {},
   "outputs": [],
   "source": [
    "def IoU(true, pred):\n",
    "    \"\"\"IoU\"\"\"\n",
    "    H, _, _ = np.histogram2d(true, pred, bins=(2,2))\n",
    "    TN, FN, FP, TP = np.split(H.ravel(), 4)\n",
    "    if TP==0:\n",
    "        return 0\n",
    "    return TP / max(1e-9, (FN + FP + TP))"
   ]
  },
  {
   "cell_type": "code",
   "execution_count": null,
   "metadata": {},
   "outputs": [],
   "source": [
    "%%timeit\n",
    "IoU(true, pred)"
   ]
  },
  {
   "cell_type": "code",
   "execution_count": null,
   "metadata": {},
   "outputs": [],
   "source": [
    "def IoU2(true, pred):\n",
    "    \"\"\"IoU\"\"\"\n",
    "    H, _, _ = np.histogram2d(true, pred, bins=(2,2))\n",
    "    if H[1,1]==0:\n",
    "        return 0\n",
    "    return H[1,1] / (H[1,0] + H[0,1] + H[1,1])"
   ]
  },
  {
   "cell_type": "code",
   "execution_count": null,
   "metadata": {},
   "outputs": [],
   "source": [
    "%%timeit\n",
    "IoU2(true, pred)"
   ]
  },
  {
   "cell_type": "code",
   "execution_count": null,
   "metadata": {},
   "outputs": [],
   "source": [
    "%%timeit\n",
    "_iou(true, pred) # 25x faster"
   ]
  },
  {
   "cell_type": "code",
   "execution_count": null,
   "metadata": {},
   "outputs": [],
   "source": [
    "# truth = np.array([[1,1,1,1,0],[0,0,0,0,1],[0,0,0,0,1]])\n",
    "# pred = np.array([[1,1,1,0,0],[1,1,0,0,1],[0,0,0,0,1]])\n",
    "H, xedges, yedges = np.histogram2d(truth.ravel(), pred.ravel(), bins=(2,2))\n",
    "H"
   ]
  },
  {
   "cell_type": "code",
   "execution_count": null,
   "metadata": {},
   "outputs": [],
   "source": [
    "TN, FN, FP, TP = np.split(H.ravel(), 4)\n",
    "TP / max(1e-9, (FN + FP + TP))\n",
    "TN, FN, FP, TP"
   ]
  },
  {
   "cell_type": "code",
   "execution_count": null,
   "metadata": {},
   "outputs": [],
   "source": [
    "def iou(true, pred):\n",
    "    \"\"\"\"\"\"\n",
    "    CM, _, _ = np.histogram2d(true.ravel(), pred.ravel(), bins=(2,2))\n",
    "    TN, FN, FP, TP = np.split(CM.ravel(), 4)\n",
    "    return float(TP / max(1e-9, (FN + FP + TP)))"
   ]
  },
  {
   "cell_type": "code",
   "execution_count": null,
   "metadata": {},
   "outputs": [],
   "source": [
    "iou(truth, pred) == 5/8"
   ]
  },
  {
   "cell_type": "code",
   "execution_count": null,
   "metadata": {},
   "outputs": [],
   "source": [
    "intersection = np.sum(truth * pred)\n",
    "intersection\n",
    "\n",
    "union = np.sum((truth + pred) > 0)\n",
    "union"
   ]
  },
  {
   "cell_type": "code",
   "execution_count": null,
   "metadata": {},
   "outputs": [],
   "source": [
    "def bool_indices(mask):\n",
    "    \"\"\"Convert True/False list to list of True indices\"\"\"\n",
    "    import pandas as pd\n",
    "    df = pd.DataFrame(np.arange(len(mask)))\n",
    "    return [i for i in df.index[mask]]\n",
    "\n",
    "[bool_indices([True, False, True, False, True])]\n",
    "\n",
    "# [99, 101, 43, 51][bool_indices([True, False, True, False, True])]"
   ]
  },
  {
   "cell_type": "code",
   "execution_count": null,
   "metadata": {},
   "outputs": [],
   "source": [
    "bool_indices([True, False, True, False, True]).squeeze()"
   ]
  },
  {
   "cell_type": "code",
   "execution_count": null,
   "metadata": {},
   "outputs": [],
   "source": [
    "[0, 1, 2]"
   ]
  },
  {
   "cell_type": "code",
   "execution_count": null,
   "metadata": {},
   "outputs": [],
   "source": [
    "def bool_indices2(mask, series):\n",
    "    \"\"\"Convert True/False list to list of True indices\"\"\"\n",
    "    from itertools import compress\n",
    "    return series[list(compress(list(range(len(mask))), mask))]\n"
   ]
  },
  {
   "cell_type": "code",
   "execution_count": null,
   "metadata": {},
   "outputs": [],
   "source": [
    "m = [True, False, True, False, True]\n",
    "bool_indices2(m, [99, 101, 43, 51])"
   ]
  },
  {
   "cell_type": "code",
   "execution_count": null,
   "metadata": {},
   "outputs": [],
   "source": [
    "m = [True, False, True, False, True]\n",
    "[i for i, x in enumerate(range(len(m))) if x]"
   ]
  },
  {
   "cell_type": "code",
   "execution_count": null,
   "metadata": {},
   "outputs": [],
   "source": [
    "l = [99, 101, 43, 51, 0, 1]\n",
    "m = [True, False, True, False, True]\n",
    "\n",
    "def bool_indices(mask, obj=None):\n",
    "    \"\"\"Convert True/False list to list of True indices\"\"\"\n",
    "    if obj is None:\n",
    "        return np.arange(len(m))[m].tolist()\n",
    "    try:\n",
    "        return np.array(obj)[m].tolist()\n",
    "    except:\n",
    "        print('Object to index length does not match the mask')\n",
    "\n",
    "bool_indices(m)"
   ]
  },
  {
   "cell_type": "code",
   "execution_count": null,
   "metadata": {},
   "outputs": [],
   "source": [
    "np.sum([0, 2, 4])"
   ]
  },
  {
   "cell_type": "code",
   "execution_count": null,
   "metadata": {},
   "outputs": [],
   "source": [
    "import cv2\n",
    "cv2.resize(np.zeros(2000), (100,100), interpolation=cv2.INTER_CUBIC)"
   ]
  },
  {
   "cell_type": "code",
   "execution_count": null,
   "metadata": {},
   "outputs": [],
   "source": [
    "cv2.resize(np.zeros(10), (101, 101))"
   ]
  },
  {
   "cell_type": "code",
   "execution_count": null,
   "metadata": {},
   "outputs": [],
   "source": [
    "def _iou_metric(labels, y_pred, print_table=False):\n",
    "    \"\"\"\"\"\"\n",
    "\n",
    "    # Confusion matrix\n",
    "    intersection, _, _ = np.histogram2d(labels.flatten(), y_pred.flatten(), bins=(2, 2)) #[0] - confusion matrix\n",
    "\n",
    "    # Compute areas (needed for finding the union between all objects)\n",
    "    area_true, _ = np.histogram(labels, bins=2) # ones\n",
    "    area_pred, _ = np.histogram(y_pred, bins=2) # ones\n",
    "    area_true = np.expand_dims(area_true, -1)   # column vector [ones, zeros].T\n",
    "    area_pred = np.expand_dims(area_pred, 0)    # row vector [zeros, ones]\n",
    "    # row vector + column vector = broadcasted matrix\n",
    "\n",
    "    # Compute union = CM - CM = CM\n",
    "    union = area_true + area_pred - intersection\n",
    "\n",
    "    # Exclude background(TN) from the analysis - inter section is CM \n",
    "    intersection = intersection[1:, 1:]         # get true positives from intersection CM\n",
    "    union = union[1:, 1:]                       # get true positives from union CM\n",
    "    union[union == 0] = 1e-9                    # do not devide by zero\n",
    "\n",
    "    # Compute the intersection over union (float)\n",
    "    iou = intersection / union\n",
    "\n",
    "    # Precision helper function\n",
    "    def precision_at(threshold, iou):\n",
    "        mask = iou > threshold\n",
    "        # Image is\n",
    "        true_pos = np.sum(mask, axis=1) == 1   # Correct objects\n",
    "        false_pos = np.sum(mask, axis=0) == 0  # Missed objects\n",
    "        false_neg = np.sum(mask, axis=1) == 0  # Extra objects\n",
    "        return np.sum(true_pos) / (np.sum(true_pos) + np.sum(false_pos) + np.sum(false_neg) + 1e-9)\n",
    "\n",
    "    # Loop over IoU thresholds\n",
    "    miou = np.mean([precision_at(t, iou) for t in np.arange(0.5, 1.0, 0.05)])\n",
    "    return miou"
   ]
  },
  {
   "cell_type": "code",
   "execution_count": null,
   "metadata": {},
   "outputs": [],
   "source": [
    "y_true = np.zeros(128*128).reshape(128, 128)\n",
    "y_true[:, 0] = 1\n",
    "y_true = np.stack((y_true, y_true))\n",
    "print(y_true, np.sum(y_true))\n",
    "\n",
    "area_true = np.histogram(y_pred, bins=2)[0]\n",
    "area_true = np.expand_dims(area_pred, -1)\n",
    "area_true"
   ]
  },
  {
   "cell_type": "code",
   "execution_count": null,
   "metadata": {},
   "outputs": [],
   "source": [
    "y_pred = np.ones(128*128).reshape(128, 128)\n",
    "y_pred[0, :] = 0\n",
    "y_pred = np.stack((y_pred, y_pred))\n",
    "print(y_pred, np.sum(y_pred))\n",
    "\n",
    "area_pred = np.histogram(y_pred, bins=2)[0]\n",
    "area_pred = np.expand_dims(area_pred, 0)\n",
    "area_pred"
   ]
  },
  {
   "cell_type": "code",
   "execution_count": null,
   "metadata": {},
   "outputs": [],
   "source": [
    "CM_area = (area_true + area_pred).astype(int)[0]\n",
    "CM_area"
   ]
  },
  {
   "cell_type": "code",
   "execution_count": null,
   "metadata": {},
   "outputs": [],
   "source": [
    "CM_intersection, _, _ = np.histogram2d(y_true.flatten(), y_pred.flatten(), bins=(2, 2))\n",
    "CM_intersection = CM_intersection.astype(int)\n",
    "CM_intersection"
   ]
  },
  {
   "cell_type": "code",
   "execution_count": null,
   "metadata": {},
   "outputs": [],
   "source": [
    "CM_intersection[1:, 1:]"
   ]
  },
  {
   "cell_type": "code",
   "execution_count": null,
   "metadata": {},
   "outputs": [],
   "source": [
    "CM_union = CM_area - CM_intersection\n",
    "CM_union = CM_union.astype(int)\n",
    "CM_union"
   ]
  },
  {
   "cell_type": "code",
   "execution_count": null,
   "metadata": {},
   "outputs": [],
   "source": [
    "CM_union[1:, 1:]"
   ]
  },
  {
   "cell_type": "code",
   "execution_count": null,
   "metadata": {},
   "outputs": [],
   "source": [
    "CM_union[union==0] = 1e-9  "
   ]
  },
  {
   "cell_type": "code",
   "execution_count": null,
   "metadata": {},
   "outputs": [],
   "source": [
    "IOU = CM_intersection[1:, 1:] / CM_union[1:, 1:]\n",
    "IOU"
   ]
  },
  {
   "cell_type": "code",
   "execution_count": null,
   "metadata": {},
   "outputs": [],
   "source": [
    "def precision_at(threshold, iou):\n",
    "    mask = iou > threshold\n",
    "    # Image is\n",
    "    true_pos = np.sum(mask, axis=1) == 1   # Correct objects\n",
    "    false_pos = np.sum(mask, axis=0) == 0  # Missed objects\n",
    "    false_neg = np.sum(mask, axis=1) == 0  # Extra objects\n",
    "    return np.sum(true_pos) / (np.sum(true_pos) + np.sum(false_pos) + np.sum(false_neg) + 1e-9)"
   ]
  },
  {
   "cell_type": "code",
   "execution_count": null,
   "metadata": {},
   "outputs": [],
   "source": [
    "precision_at(.0005, IOU)"
   ]
  },
  {
   "cell_type": "code",
   "execution_count": null,
   "metadata": {},
   "outputs": [],
   "source": [
    "m = IOU <.0005; m\n",
    "np.sum(m, axis=1) == 1\n",
    "np.sum(m, axis=0) == 0\n",
    "np.sum(m, axis=1) == 0"
   ]
  },
  {
   "cell_type": "code",
   "execution_count": null,
   "metadata": {},
   "outputs": [],
   "source": [
    "np.sum(y_pred * y_true)"
   ]
  },
  {
   "cell_type": "code",
   "execution_count": null,
   "metadata": {},
   "outputs": [],
   "source": [
    "np.sum((y_pred + y_true) > 0)"
   ]
  },
  {
   "cell_type": "code",
   "execution_count": null,
   "metadata": {},
   "outputs": [],
   "source": [
    "def iou(y_true, y_pred):\n",
    "    \"\"\"\"\"\"\n",
    "    CM, _, _ = np.histogram2d(y_true.ravel(), y_pred.ravel(), bins=(2,2))\n",
    "    TN, FN, FP, TP = np.split(CM.ravel(), 4)\n",
    "    return float(TP / max(1e-9, (FN + FP + TP)))"
   ]
  },
  {
   "cell_type": "code",
   "execution_count": null,
   "metadata": {},
   "outputs": [],
   "source": [
    "iou(y_true, y_pred)"
   ]
  },
  {
   "cell_type": "code",
   "execution_count": null,
   "metadata": {},
   "outputs": [],
   "source": [
    "np.sum(y_pred * y_true) / np.sum((y_pred + y_true) > 0)"
   ]
  },
  {
   "cell_type": "code",
   "execution_count": null,
   "metadata": {},
   "outputs": [],
   "source": [
    "TN, FN"
   ]
  },
  {
   "cell_type": "code",
   "execution_count": null,
   "metadata": {},
   "outputs": [],
   "source": [
    "def iou_metric(y_true_in, y_pred_in, print_table=False):\n",
    "    labels = y_true_in\n",
    "    y_pred = y_pred_in\n",
    "    \n",
    "    true_objects = 2\n",
    "    pred_objects = 2\n",
    "\n",
    "    intersection = np.histogram2d(labels.flatten(), y_pred.flatten(), bins=(true_objects, pred_objects))[0]\n",
    "\n",
    "    # Compute areas (needed for finding the union between all objects)\n",
    "    area_true = np.histogram(labels, bins = true_objects)[0]\n",
    "    area_pred = np.histogram(y_pred, bins = pred_objects)[0]\n",
    "    area_true = np.expand_dims(area_true, -1)\n",
    "    area_pred = np.expand_dims(area_pred, 0)\n",
    "\n",
    "    # Compute union\n",
    "    union = area_true + area_pred - intersection\n",
    "\n",
    "    # Exclude background from the analysis\n",
    "    intersection = intersection[1:,1:]\n",
    "    union = union[1:,1:]\n",
    "    union[union == 0] = 1e-9\n",
    "\n",
    "    # Compute the intersection over union\n",
    "    iou = intersection / union\n",
    "\n",
    "    # Precision helper function\n",
    "    def precision_at(threshold, iou):\n",
    "        matches = iou > threshold\n",
    "        true_positives = np.sum(matches, axis=1) == 1   # Correct objects\n",
    "        false_positives = np.sum(matches, axis=0) == 0  # Missed objects\n",
    "        false_negatives = np.sum(matches, axis=1) == 0  # Extra objects\n",
    "        tp, fp, fn = np.sum(true_positives), np.sum(false_positives), np.sum(false_negatives)\n",
    "        return tp, fp, fn\n",
    "\n",
    "    # Loop over IoU thresholds\n",
    "    prec = []\n",
    "    if print_table:\n",
    "        print(\"Thresh\\tTP\\tFP\\tFN\\tPrec.\")\n",
    "    for t in np.arange(0.5, 1.0, 0.05):\n",
    "        tp, fp, fn = precision_at(t, iou)\n",
    "        if (tp + fp + fn) > 0:\n",
    "            p = tp / (tp + fp + fn)\n",
    "        else:\n",
    "            p = 0\n",
    "        if print_table:\n",
    "            print(\"{:1.3f}\\t{}\\t{}\\t{}\\t{:1.3f}\".format(t, tp, fp, fn, p))\n",
    "        prec.append(p)\n",
    "    \n",
    "    if print_table:\n",
    "        print(\"AP\\t-\\t-\\t-\\t{:1.3f}\".format(np.mean(prec)))\n",
    "    return np.mean(prec)"
   ]
  },
  {
   "cell_type": "code",
   "execution_count": null,
   "metadata": {},
   "outputs": [],
   "source": [
    "iou_metric(y_true, y_true[0,0]==1, True)"
   ]
  },
  {
   "cell_type": "code",
   "execution_count": null,
   "metadata": {},
   "outputs": [],
   "source": [
    "\n"
   ]
  },
  {
   "cell_type": "code",
   "execution_count": null,
   "metadata": {},
   "outputs": [],
   "source": []
  },
  {
   "cell_type": "code",
   "execution_count": null,
   "metadata": {},
   "outputs": [],
   "source": []
  }
 ],
 "metadata": {
  "language_info": {
   "name": "python",
   "pygments_lexer": "ipython3"
  }
 },
 "nbformat": 4,
 "nbformat_minor": 2
}
