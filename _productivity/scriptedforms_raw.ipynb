{
 "cells": [
  {
   "cell_type": "markdown",
   "metadata": {},
   "source": [
    "# Scriptedforms \n",
    "\n",
    "https://github.com/SimonBiggs/scriptedforms"
   ]
  },
  {
   "cell_type": "markdown",
   "metadata": {},
   "source": [
    "## Create Notebook\n",
    "\n",
    "Combine:\n",
    " - markdown cells\n",
    " - raw cells for html code\n",
    " - code cells for python  \n",
    "NOTE: do remove all Output - do not run cells"
   ]
  },
  {
   "cell_type": "raw",
   "metadata": {},
   "source": [
    "### Enter name \n",
    "\n",
    "<section-live>\n",
    "\n",
    "<variable-string>your_name</variable-string>"
   ]
  },
  {
   "cell_type": "code",
   "execution_count": null,
   "metadata": {},
   "outputs": [],
   "source": [
    "print('Hello {}!'.format(your_name))"
   ]
  },
  {
   "cell_type": "raw",
   "metadata": {},
   "source": [
    "</section-live>"
   ]
  },
  {
   "cell_type": "markdown",
   "metadata": {},
   "source": [
    "#### Now export as .md \n",
    "\n",
    "File/Export Notebok As../Markdown"
   ]
  },
  {
   "cell_type": "markdown",
   "metadata": {},
   "source": [
    "## Run Mardown file in browser"
   ]
  },
  {
   "cell_type": "code",
   "execution_count": null,
   "metadata": {},
   "outputs": [],
   "source": [
    "!scriptedforms ~/Downloads/scriptedforms_raw.md"
   ]
  },
  {
   "cell_type": "markdown",
   "metadata": {},
   "source": [
    "✌️Lauthom Intel Design Studio"
   ]
  }
 ],
 "metadata": {
  "language_info": {
   "name": "python",
   "pygments_lexer": "ipython3"
  }
 },
 "nbformat": 4,
 "nbformat_minor": 2
}
