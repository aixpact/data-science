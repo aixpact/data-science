{
 "cells": [
  {
   "cell_type": "markdown",
   "metadata": {},
   "source": [
    "## Utils"
   ]
  },
  {
   "cell_type": "markdown",
   "metadata": {},
   "source": [
    "---\n",
    "\n",
    "You are currently looking at **version 1.0** of this notebook.  \n",
    "Project/objective:  \n",
    "Date: 24-may-2018  \n",
    "Author: Frank Ebbers  \n",
    "Contributors:   \n",
    "License: MIT https://opensource.org/licenses/MIT  \n",
    "\n",
    "---"
   ]
  },
  {
   "cell_type": "markdown",
   "metadata": {},
   "source": [
    "## Changelog\n",
    "\n",
    "- "
   ]
  },
  {
   "cell_type": "markdown",
   "metadata": {},
   "source": [
    "Useful resources:\n",
    "\n",
    "https://www.dataquest.io/blog/jupyter-notebook-tips-tricks-shortcuts/\n",
    "\n",
    "http://blog.juliusschulz.de/blog/ultimate-ipython-notebook\n",
    "\n",
    "http://nbviewer.jupyter.org/github/jupyter/nbconvert/blob/master/docs/source/customizing.ipynb\n"
   ]
  },
  {
   "cell_type": "code",
   "execution_count": null,
   "metadata": {},
   "outputs": [],
   "source": [
    "# %pylab inline         # imports numpy, pandas, scipy, matplotlib inline\n",
    "# %matplotlib inline    # shows plots in notebook\n",
    "# %matplotlib notebook  # same, interactive but slower"
   ]
  },
  {
   "cell_type": "markdown",
   "metadata": {},
   "source": [
    "### Markdown on Output"
   ]
  },
  {
   "cell_type": "code",
   "execution_count": null,
   "metadata": {},
   "outputs": [],
   "source": [
    "from IPython.display import display, Markdown, Latex\n",
    "text = '**some markdown** `truly nice` $\\phi$ {}'.format(' what the hack')\n",
    "display(Markdown(text))"
   ]
  },
  {
   "cell_type": "code",
   "execution_count": null,
   "metadata": {},
   "outputs": [],
   "source": [
    "def printmd(text):\n",
    "    \"\"\"Prints out as markdown\n",
    "    Example:\n",
    "    text = '**some markdown** `truly nice` $\\phi$ {}'.format(' what the hack')\n",
    "    \"\"\"\n",
    "    from IPython.display import display, Markdown, Latex\n",
    "    return display(Markdown(text))\n",
    "printmd(text)"
   ]
  },
  {
   "cell_type": "code",
   "execution_count": null,
   "metadata": {},
   "outputs": [],
   "source": [
    "def printmd(text):\n",
    "    \"\"\"Prints out as markdown\n",
    "    Examples:\n",
    "    md_text = '** green::some markdown ** `truly nice` $\\phi$ {}'.format(' red::hack')\n",
    "    colored_text = 'red::green'\n",
    "    \"\"\"\n",
    "    import re\n",
    "    from IPython.display import display, Markdown, Latex\n",
    "\n",
    "    try:\n",
    "        for col_item in re.findall(r\"(\\w+::\\S+)\", text):\n",
    "            col, item = col_item.split('::')\n",
    "            text = re.sub(col_item, '<span style=\"color:{}\">{}</span>'.format(col, item), text)\n",
    "    except: pass\n",
    "    return display(Markdown(text))\n",
    "\n",
    "md_text = '** green::some markdown ** `truly nice` $\\phi$ {}'.format(' red::hack')\n",
    "printmd(md_text)\n",
    "printmd('** {}::{} **'.format('green', 'bold_green_text'))\n",
    "printmd('<green::red> more text')\n",
    "printmd('red::red, black:orange::orange : blue: :green::c')\n"
   ]
  },
  {
   "cell_type": "code",
   "execution_count": null,
   "metadata": {},
   "outputs": [],
   "source": [
    "# in flask env\n",
    "!touch requirements.txt && pip freeze > requirements.txt"
   ]
  },
  {
   "cell_type": "code",
   "execution_count": null,
   "metadata": {},
   "outputs": [],
   "source": [
    "# Running servers\n",
    "!jupyter notebook list"
   ]
  },
  {
   "cell_type": "code",
   "execution_count": null,
   "metadata": {},
   "outputs": [],
   "source": [
    "# Automatically reload modules - for working with own modules\n",
    "# https://ipython.org/ipython-doc/3/config/extensions/autoreload.html\n",
    "%load_ext autoreload\n",
    "%autoreload 2"
   ]
  },
  {
   "cell_type": "code",
   "execution_count": null,
   "metadata": {},
   "outputs": [],
   "source": [
    "!pwd"
   ]
  },
  {
   "cell_type": "code",
   "execution_count": null,
   "metadata": {},
   "outputs": [],
   "source": [
    "# Ipython.__file__"
   ]
  },
  {
   "cell_type": "code",
   "execution_count": null,
   "metadata": {},
   "outputs": [],
   "source": [
    "%psearch?"
   ]
  },
  {
   "cell_type": "code",
   "execution_count": null,
   "metadata": {},
   "outputs": [],
   "source": [
    "%config\n",
    "# https://ipython.org/ipython-doc/3/interactive/magics.html"
   ]
  },
  {
   "cell_type": "markdown",
   "metadata": {},
   "source": [
    "### Load aliases \n",
    "from my_lib/aliases.py"
   ]
  },
  {
   "cell_type": "code",
   "execution_count": null,
   "metadata": {},
   "outputs": [],
   "source": [
    "%alias aliases \\%load my_lib/aliases.py"
   ]
  },
  {
   "cell_type": "code",
   "execution_count": null,
   "metadata": {},
   "outputs": [],
   "source": [
    "%aliases"
   ]
  },
  {
   "cell_type": "code",
   "execution_count": null,
   "metadata": {},
   "outputs": [],
   "source": [
    "# %load my_lib/aliases.py\n",
    "# Generic aliases\n",
    "%alias show echo\n",
    "%alias mop echo Monty Python\n",
    "%alias tree pwd && tree . %s\n",
    "%alias find find ~ | grep -i %s\n",
    "%alias find.. find .. | grep -i %s\n",
    "%alias find. find . | grep -i %s\n",
    "%alias findx find ~ | grep -Ei %s\n",
    "%alias read cat %s\n",
    "%alias aug ls -al | grep Aug | grep -v 2018\n",
    "\n",
    "# !brew install cowsay\n",
    "%alias say cowsay\n",
    "%alias_magic t timeit\n",
    "\n",
    "# Create directory with packages for importing\n",
    "%alias make_lib mkdir my_lib && touch my_lib/__init__.py  \n",
    "%alias add_lib cp %s my_lib/my_module.py\n",
    "%alias to_lib mkdir my_lib && touch my_lib/__init__.py && cp %s my_lib/my_module.py"
   ]
  },
  {
   "cell_type": "markdown",
   "metadata": {},
   "source": [
    "---\n",
    "## Setup notebook\n",
    "---"
   ]
  },
  {
   "cell_type": "markdown",
   "metadata": {},
   "source": [
    "### Import the generic libraries used in this notebook"
   ]
  },
  {
   "cell_type": "code",
   "execution_count": null,
   "metadata": {},
   "outputs": [],
   "source": [
    "import numpy as np\n",
    "import pandas as pd\n",
    "\n",
    "%matplotlib inline\n",
    "# import matplotlib\n",
    "import matplotlib.pyplot as plt\n",
    "\n",
    "from collections import OrderedDict, Counter\n",
    "import string\n",
    "import re\n",
    "import datetime\n",
    "import requests\n",
    "import json\n",
    "import pprint"
   ]
  },
  {
   "cell_type": "markdown",
   "metadata": {},
   "source": [
    "### Import interactive widgets library"
   ]
  },
  {
   "cell_type": "code",
   "execution_count": null,
   "metadata": {},
   "outputs": [],
   "source": [
    "from ipywidgets import interact, fixed\n",
    "from IPython.html import widgets\n",
    "from IPython.display import HTML, IFrame"
   ]
  },
  {
   "cell_type": "markdown",
   "metadata": {},
   "source": [
    "### Toggle code dispay"
   ]
  },
  {
   "cell_type": "code",
   "execution_count": null,
   "metadata": {},
   "outputs": [],
   "source": [
    "HTML('''<script>\n",
    "code_show=true; \n",
    "function code_toggle() {\n",
    " if (code_show){\n",
    " $('div.input').hide();\n",
    " } else {\n",
    " $('div.input').show();\n",
    " }\n",
    " code_show = !code_show\n",
    "} \n",
    "$( document ).ready(code_toggle);\n",
    "</script>\n",
    "<form action=\"javascript:code_toggle()\"><input type=\"submit\" value=\"Show/hide code\"></form>''')"
   ]
  },
  {
   "cell_type": "markdown",
   "metadata": {},
   "source": [
    "### Manage warnings"
   ]
  },
  {
   "cell_type": "code",
   "execution_count": null,
   "metadata": {},
   "outputs": [],
   "source": [
    "import warnings\n",
    "warnings.filterwarnings(\"ignore\")\n",
    "# warnings.filterwarnings(\"once\") # always will print every occurance"
   ]
  },
  {
   "cell_type": "markdown",
   "metadata": {},
   "source": [
    "### Set defaults and constants"
   ]
  },
  {
   "cell_type": "code",
   "execution_count": null,
   "metadata": {},
   "outputs": [],
   "source": [
    "# seed the random number generator so we all get the same results\n",
    "rand_seed = 2018\n",
    "np.random.seed(rand_seed)\n",
    "epsy = 1e-10"
   ]
  },
  {
   "cell_type": "code",
   "execution_count": null,
   "metadata": {},
   "outputs": [],
   "source": [
    "matplotlib.rc('xtick', labelsize=14) \n",
    "matplotlib.rc('ytick', labelsize=14)"
   ]
  },
  {
   "cell_type": "markdown",
   "metadata": {},
   "source": [
    "### Check current working directory and file structure"
   ]
  },
  {
   "cell_type": "code",
   "execution_count": null,
   "metadata": {},
   "outputs": [],
   "source": [
    "%%!\n",
    "# directories with token\n",
    "ls -FGlAhp | grep 'ml'"
   ]
  },
  {
   "cell_type": "code",
   "execution_count": null,
   "metadata": {},
   "outputs": [],
   "source": [
    "today = datetime.now().strftime(r'%Y-%m-%d')\n",
    "dirname = os.path.join('../_data/news-{}'.format(today, '_name'))\n",
    "os.makedirs(dirname, exist_ok=True)"
   ]
  },
  {
   "cell_type": "code",
   "execution_count": null,
   "metadata": {},
   "outputs": [],
   "source": [
    "def sys_info():\n",
    "    !echo \"You are logged on:$NC \"; scutil --get ComputerName\n",
    "    !echo \"The current datetime is:$NC \" ; date\n",
    "    !echo  \"\\nMachine stats:$NC \" ; uptime; macstats\n",
    "    !echo  \"\\nDisk usage:$NC \"; df -l\n",
    "    !echo \"\\nPublic facing IP address:$NC \"; myip\n",
    "    !echo"
   ]
  },
  {
   "cell_type": "code",
   "execution_count": null,
   "metadata": {},
   "outputs": [],
   "source": [
    "sys_info()"
   ]
  },
  {
   "cell_type": "code",
   "execution_count": null,
   "metadata": {},
   "outputs": [],
   "source": [
    "# !brew install cowsay\n",
    "!cowsay 'Hello Awesome Notebook'"
   ]
  },
  {
   "cell_type": "code",
   "execution_count": null,
   "metadata": {},
   "outputs": [],
   "source": [
    "# !brew install tree\n",
    "!tree . | head -10"
   ]
  },
  {
   "cell_type": "code",
   "execution_count": null,
   "metadata": {},
   "outputs": [],
   "source": [
    "!find .. | grep -i edit"
   ]
  },
  {
   "cell_type": "code",
   "execution_count": null,
   "metadata": {},
   "outputs": [],
   "source": [
    "!pwd\n",
    "!ls data | head -5"
   ]
  },
  {
   "cell_type": "code",
   "execution_count": null,
   "metadata": {},
   "outputs": [],
   "source": [
    "# Find file\n",
    "def get_file_path(filename, first=5):\n",
    "    !pwd\n",
    "    !find . | grep '$filename' | head -'$first'\n",
    "    return None"
   ]
  },
  {
   "cell_type": "code",
   "execution_count": null,
   "metadata": {},
   "outputs": [],
   "source": [
    "filename = 'full_set.txt'\n",
    "get_file_path(filename, 10)"
   ]
  },
  {
   "cell_type": "markdown",
   "metadata": {},
   "source": [
    "### Run helper notebooks"
   ]
  },
  {
   "cell_type": "code",
   "execution_count": null,
   "metadata": {},
   "outputs": [],
   "source": [
    "%run 'organ_helper.py'"
   ]
  },
  {
   "cell_type": "markdown",
   "metadata": {},
   "source": [
    "---\n",
    "## Utils\n",
    "---"
   ]
  },
  {
   "cell_type": "code",
   "execution_count": null,
   "metadata": {},
   "outputs": [],
   "source": [
    "# Mute terminal Output / Out[]:\n",
    "\n",
    "_ = 3\n",
    "3;"
   ]
  },
  {
   "cell_type": "markdown",
   "metadata": {},
   "source": [
    "### Debug, test, "
   ]
  },
  {
   "cell_type": "code",
   "execution_count": null,
   "metadata": {},
   "outputs": [],
   "source": [
    "%timeit"
   ]
  },
  {
   "cell_type": "markdown",
   "metadata": {},
   "source": [
    "### Save as Excel spreadsheet"
   ]
  },
  {
   "cell_type": "code",
   "execution_count": null,
   "metadata": {},
   "outputs": [],
   "source": [
    "writer = pd.ExcelWriter('data/excel_test.xlsx')\n",
    "df = pd.DataFrame(np.ones(10).reshape(-1, 5))\n",
    "\n",
    "# index startrow/startcol N means value is inserted at N+1\n",
    "df.to_excel(writer, 'sheet_name', startrow=5, startcol=5, header=False, index=False)\n",
    "writer.save()"
   ]
  },
  {
   "cell_type": "markdown",
   "metadata": {},
   "source": [
    "### Print output at same position"
   ]
  },
  {
   "cell_type": "code",
   "execution_count": null,
   "metadata": {},
   "outputs": [],
   "source": [
    "print('\\b\\b\\b{}'.format(i), sep='', end='', flush=True)\n",
    "# or\n",
    "print('{}{}'.format('\\b'*len(str(len(text))), len(text)), end='')"
   ]
  },
  {
   "cell_type": "markdown",
   "metadata": {},
   "source": [
    "### Download files from list"
   ]
  },
  {
   "cell_type": "code",
   "execution_count": null,
   "metadata": {},
   "outputs": [],
   "source": [
    "!cat url-list.txt | xargs wget –c"
   ]
  },
  {
   "cell_type": "markdown",
   "metadata": {},
   "source": [
    "### Show all Out from cell - iso only the last"
   ]
  },
  {
   "cell_type": "code",
   "execution_count": null,
   "metadata": {},
   "outputs": [],
   "source": [
    "from IPython.core.interactiveshell import InteractiveShell\n",
    "\n",
    "InteractiveShell.ast_node_interactivity = \"all\""
   ]
  },
  {
   "cell_type": "code",
   "execution_count": null,
   "metadata": {},
   "outputs": [],
   "source": [
    "# !find ~ | grep .ipython/profile_default"
   ]
  },
  {
   "cell_type": "markdown",
   "metadata": {},
   "source": [
    "#### Run all nodes interactively for all instances of Jupyter (Notebook and Console)\n",
    "\n",
    " - simply create a file ~/.ipython/profile_default/ipython_config.py with the lines below."
   ]
  },
  {
   "cell_type": "code",
   "execution_count": null,
   "metadata": {},
   "outputs": [],
   "source": [
    "%%writefile ~/.ipython/profile_default/ipython_config.py\n",
    "get_config()\n",
    "\n",
    "# Run all nodes interactively\n",
    "c.InteractiveShell.ast_node_interactivity = \"all\""
   ]
  },
  {
   "cell_type": "code",
   "execution_count": null,
   "metadata": {},
   "outputs": [],
   "source": [
    "!cat ~/.ipython/profile_default/ipython_config.py"
   ]
  },
  {
   "cell_type": "markdown",
   "metadata": {},
   "source": [
    "### Open TextEdit to edit file"
   ]
  },
  {
   "cell_type": "code",
   "execution_count": null,
   "metadata": {},
   "outputs": [],
   "source": [
    "!open -e $ipython_config"
   ]
  },
  {
   "cell_type": "markdown",
   "metadata": {},
   "source": [
    "### RISE slideshow"
   ]
  },
  {
   "cell_type": "code",
   "execution_count": null,
   "metadata": {},
   "outputs": [],
   "source": [
    "!pip install RISE"
   ]
  },
  {
   "cell_type": "code",
   "execution_count": null,
   "metadata": {},
   "outputs": [],
   "source": [
    "!jupyter-nbextension install rise --py --sys-prefix"
   ]
  },
  {
   "cell_type": "code",
   "execution_count": null,
   "metadata": {},
   "outputs": [],
   "source": [
    "!jupyter-nbextension enable rise --py --sys-prefix"
   ]
  },
  {
   "cell_type": "code",
   "execution_count": null,
   "metadata": {},
   "outputs": [],
   "source": [
    "# matplotlib legend without repeat"
   ]
  },
  {
   "cell_type": "code",
   "execution_count": null,
   "metadata": {},
   "outputs": [],
   "source": [
    "# Legend without repeat\n",
    "handles, labels = plt.gca().get_legend_handles_labels()\n",
    "by_label = OrderedDict(zip(labels, handles))\n",
    "plt.legend(by_label.values(), by_label.keys())"
   ]
  },
  {
   "cell_type": "code",
   "execution_count": null,
   "metadata": {},
   "outputs": [],
   "source": [
    "plt.rcParams.find_all"
   ]
  },
  {
   "cell_type": "code",
   "execution_count": null,
   "metadata": {},
   "outputs": [],
   "source": [
    "%%writefile ../../_data/standard_import.txt\n",
    "\n",
    "%matplotlib inline\n",
    "plt.style.use('seaborn-white')\n",
    "\n",
    "import numpy as np\n",
    "import pandas as pd\n",
    "import matplotlib as mpl\n",
    "import matplotlib.pyplot as plt\n",
    "import seaborn as sns"
   ]
  },
  {
   "cell_type": "code",
   "execution_count": null,
   "metadata": {},
   "outputs": [],
   "source": [
    "# %load ../_data/standard_import.txt\n",
    "\n",
    "%matplotlib inline\n",
    "plt.style.use('seaborn-white')\n",
    "\n",
    "import numpy as np\n",
    "import pandas as pd\n",
    "import matplotlib as mpl\n",
    "import matplotlib.pyplot as plt\n",
    "import seaborn as sns"
   ]
  },
  {
   "cell_type": "code",
   "execution_count": null,
   "metadata": {},
   "outputs": [],
   "source": [
    "\n",
    "# https://pandas.pydata.org/pandas-docs/stable/generated/pandas.set_option.html\n",
    "# pd.set_option('display.notebook_repr_html', False)"
   ]
  },
  {
   "cell_type": "markdown",
   "metadata": {},
   "source": [
    "\n",
    "<font  style=\"color:blue\"> **Code**</font>\n",
    "```python\n",
    "# test function \n",
    "testy_L2 = NN_L2(trainx, trainy, testx)\n",
    "print( type( testy_L2) )\n",
    "print( len(testy_L2) )\n",
    "print( testy_L2[40:50] )\n",
    "```\n",
    "\n",
    "<font  style=\"color:magenta\"> **Output**</font>\n",
    "```\n",
    "<class 'numpy.ndarray'>\n",
    "62\n",
    "[ 2.  2.  1.  0.  0.  2.  0.  0.  0.  0.]\n",
    "```\n"
   ]
  },
  {
   "cell_type": "code",
   "execution_count": null,
   "metadata": {},
   "outputs": [],
   "source": [
    "train_digits, train_counts = np.unique(train_labels, return_counts=True)\n",
    "print(\"Training set distribution:\")\n",
    "print(dict(zip(train_digits, train_counts)))"
   ]
  },
  {
   "cell_type": "code",
   "execution_count": null,
   "metadata": {},
   "outputs": [],
   "source": [
    "def tree_plot(clf, features, labels=None):\n",
    "    \"\"\"Plot decision tree in Notebook\"\"\"\n",
    "    from sklearn import tree\n",
    "    import graphviz\n",
    "    from pydotplus import graph_from_dot_data\n",
    "\n",
    "    dot_data = tree.export_graphviz(clf, out_file=None, feature_names=features, class_names=labels,\n",
    "                             filled=True, rounded=True, special_characters=True, impurity=True, proportion=False)\n",
    "    return Image(graph_from_dot_data(dot_data).create_png())"
   ]
  },
  {
   "cell_type": "code",
   "execution_count": null,
   "metadata": {},
   "outputs": [],
   "source": [
    "# nxn similarity matrix\n",
    "x = np.arange(-5, 5.1, 0.1)\n",
    "y = np.arange(-4, 4.1, 0.1)\n",
    "\n",
    "K = np.zeros((x.shape[0], y.shape[0]))        \n",
    "for (i,j), _ in np.ndenumerate(K):\n",
    "    K[i,j] = (x[i] - y[j])\n",
    "K"
   ]
  },
  {
   "cell_type": "code",
   "execution_count": null,
   "metadata": {},
   "outputs": [],
   "source": [
    "\n",
    "import numpy as np\n",
    "import matplotlib.pyplot as plt\n",
    "\n",
    "# Create all possible pairs (x, y)\n",
    "x = np.arange(-1, 1.1, 0.1)\n",
    "y = np.arange(-2, 2.1, 0.1)\n",
    "xx, yy = np.meshgrid(x, y, sparse=False)\n",
    "xx[:3, :3]\n",
    "yy[:3, :3]\n",
    "[(x.round(1), y.round(1)) for x, y in zip(xx.ravel(), yy.ravel())][:25]\n",
    "\n",
    "z = np.sin(xx**2 + yy**2) / (xx**2 + yy**2)\n",
    "\n",
    "print(x.shape, y.shape, xx.shape, yy.shape, z.shape)\n",
    "h = plt.contourf(x, y, z)"
   ]
  },
  {
   "cell_type": "code",
   "execution_count": null,
   "metadata": {},
   "outputs": [],
   "source": [
    "def xy_grid(x, y, ax_pad=0, density=0.1):\n",
    "    \"\"\"returns grid of (xx, yy) pairs, w.r.t. density and padding\"\"\"\n",
    "    xmin, xmax = min(x)-ax_pad, max(x)+ax_pad\n",
    "    ymin, ymax = min(y)-ax_pad, max(y)+ax_pad\n",
    "    xx, yy = np.meshgrid(np.arange(xmin, xmax+density, density), np.arange(ymin, ymax+density, density))\n",
    "    return np.c_[xx.ravel(), yy.ravel()]\n",
    "\n",
    "x = np.arange(-1, 1.1)\n",
    "y = np.arange(-2, 2.1)\n",
    "xy_grid(x, y, ax_pad=0, density=0.05)"
   ]
  },
  {
   "cell_type": "code",
   "execution_count": null,
   "metadata": {},
   "outputs": [],
   "source": [
    "def xy_grid(x, y, ax_pad=0, density=0.1):\n",
    "    \"\"\"returns grid of (xx, yy) pairs, w.r.t. density and padding\"\"\"\n",
    "    xmin, xmax = min(x)-ax_pad, max(x)+ax_pad\n",
    "    ymin, ymax = min(y)-ax_pad, max(y)+ax_pad\n",
    "    xx, yy = np.meshgrid(np.arange(xmin, xmax+density, density), np.arange(ymin, ymax+density, density))\n",
    "    return {'array': np.c_[xx.ravel(), yy.ravel()], \n",
    "            'xx': xx, 'yy': yy,\n",
    "            'xmin': xmin, 'xmax': xmax, \n",
    "            'ymin': ymin, 'ymax': ymax}"
   ]
  },
  {
   "cell_type": "code",
   "execution_count": null,
   "metadata": {},
   "outputs": [],
   "source": [
    "def confusion_df(y_true, y_pred):\n",
    "    cm = confusion_matrix(y_true, y_pred)\n",
    "    cm_df = pd.DataFrame(cm.T, index=svc.classes_, columns=svc.classes_)\n",
    "    cm_df.index.name = 'Predicted'\n",
    "    cm_df.columns.name = 'True'\n",
    "    return cm_df"
   ]
  },
  {
   "cell_type": "code",
   "execution_count": null,
   "metadata": {},
   "outputs": [],
   "source": []
  },
  {
   "cell_type": "code",
   "execution_count": null,
   "metadata": {},
   "outputs": [],
   "source": [
    "# Making the Confusion Matrix\n",
    "from sklearn.metrics import confusion_matrix\n",
    "\n",
    "cm = confusion_matrix(y_test, y_pred)\n",
    "cm\n",
    "# Accuracy\n",
    "np.sum(np.eye(2) * cm) / np.sum(cm)"
   ]
  },
  {
   "cell_type": "code",
   "execution_count": null,
   "metadata": {},
   "outputs": [],
   "source": [
    "# confusion matrix/pivot table\n",
    "def pivot(df, ftr1, ftr2):\n",
    "    return df.groupby([ftr1,ftr2]).size().unstack(ftr2).T"
   ]
  },
  {
   "cell_type": "code",
   "execution_count": null,
   "metadata": {},
   "outputs": [],
   "source": [
    "def pivot(y, y_pred):\n",
    "    df = pd.DataFrame({'True label': y, 'Predicted label': y_pred})\n",
    "    return df.groupby(['True label', 'Predicted label']).size().unstack('Predicted label').T"
   ]
  },
  {
   "cell_type": "code",
   "execution_count": null,
   "metadata": {},
   "outputs": [],
   "source": [
    "def pivot(y, y_pred, labels=['Negative', 'Positive']):\n",
    "    dict_labels = {k:v for k, v in zip(np.unique(y), labels)}\n",
    "    df = pd.DataFrame({y.name: y, y_pred.name: y_pred})\n",
    "    df.replace(to_replace=dict_labels, inplace=True)\n",
    "    return df.groupby([y.name, y_pred.name]).size().unstack(y_pred.name).T"
   ]
  },
  {
   "cell_type": "code",
   "execution_count": null,
   "metadata": {},
   "outputs": [],
   "source": [
    "def pivot(y, y_pred, labels=['Negative', 'Positive']):\n",
    "    dict_labels = {k:v for k, v in zip(np.unique(y), labels)}\n",
    "    try:\n",
    "        y_name, y_pred_name = y.name, y_pred.name\n",
    "    except:\n",
    "        y_name, y_pred_name = 'True label', 'Predicted label'\n",
    "    df = pd.DataFrame({y_name: y, y_pred_name: y_pred})  \n",
    "    df.replace(to_replace=dict_labels, inplace=True)\n",
    "    return df.groupby([y_name, y_pred_name]).size().unstack(y_pred_name)"
   ]
  },
  {
   "cell_type": "code",
   "execution_count": null,
   "metadata": {},
   "outputs": [],
   "source": [
    "# Workaround to fix bug in statsmodels .summary()\n",
    "# https://github.com/statsmodels/statsmodels/issues/3931\n",
    "from scipy import stats\n",
    "stats.chisqprob = lambda chisq, df: stats.chi2.sf(chisq, df)"
   ]
  },
  {
   "cell_type": "markdown",
   "metadata": {},
   "source": [
    "## Bug fixes - statsmodels not compatible with current stable version of scipy/pandas"
   ]
  },
  {
   "cell_type": "code",
   "execution_count": null,
   "metadata": {},
   "outputs": [],
   "source": [
    "# Statsmodels bug fix:\n",
    "from pandas.core import datetools\n",
    "\n",
    "import statsmodels.api as sm\n",
    "import statsmodels.formula.api as smf\n",
    "\n",
    "# Workaround to fix bug in statsmodels .summary() - missing stats.chisqprob function\n",
    "# https://github.com/statsmodels/statsmodels/issues/3931\n",
    "from scipy import stats\n",
    "stats.chisqprob = lambda chisq, df: stats.chi2.sf(chisq, df)"
   ]
  },
  {
   "cell_type": "code",
   "execution_count": null,
   "metadata": {},
   "outputs": [],
   "source": [
    "# parse datetime \n",
    "df = pd.read_csv('../../_data/Smarket.csv', usecols=range(1, 10), index_col=0, parse_dates=True) \n",
    "# select columns\n",
    "pd.read_csv('../../_data/Advertising.csv', usecols=[1,2,3,4])\n",
    "pd.read_csv('../../_data/Credit.csv', usecols=list(range(1,12)))\n",
    "pd.read_csv('../../_data/Auto.csv', na_values='?').dropna()"
   ]
  },
  {
   "cell_type": "code",
   "execution_count": null,
   "metadata": {},
   "outputs": [],
   "source": [
    "# Probability counter with threshold\n",
    "thres = 0.9\n",
    "band = [0.4, 0.6]\n",
    "\n",
    "pred_p = clf.predict_proba(X_test)\n",
    "np.unique(pred_p[:, 1]>thres, return_counts=True)\n",
    "np.unique(band[0] > pred_p[:, 1] > band[-1], return_counts=True)"
   ]
  },
  {
   "cell_type": "code",
   "execution_count": null,
   "metadata": {},
   "outputs": [],
   "source": [
    "margin = 0.03\n",
    "np.unique(pred_p[:, 1] < 0.5+margin, return_counts=True), 'smaller than .5+margin'\n",
    "np.unique(0.5-margin < pred_p[:, 1], return_counts=True), 'bigger than .5-margin'\n",
    "'Predictions between margin({}) [false true] : {}'.format(margin, \n",
    "np.unique(pred_p[:, 1] < 0.5+margin, return_counts=True)[1] + np.unique(0.5-margin < pred_p[:, 1], return_counts=True)[1])"
   ]
  },
  {
   "cell_type": "code",
   "execution_count": null,
   "metadata": {},
   "outputs": [],
   "source": [
    "np.set_printoptions(suppress=True, precision=3, threshold=10)\n",
    "# np.set_printoptions()  # formatter gets reset"
   ]
  },
  {
   "cell_type": "code",
   "execution_count": null,
   "metadata": {},
   "outputs": [],
   "source": [
    "# Output numpy as laTex\n",
    "import IPython\n",
    "ip = IPython.core.getipython.get_ipython()\n",
    "from IPython.display import display, Math, Latex\n",
    "import sympy as sp\n",
    "from IPython.display import Latex, display, display_latex\n",
    "from sympy.interactive import printing\n",
    "printing.init_printing(use_latex='png')\n",
    "\n",
    "from sympy import Matrix as spx\n",
    "sp.init_printing(use_unicode=True)\n",
    "# sp.init_printing(use_latex='png')\n",
    "ip.display_formatter.formatters['text/latex'].enabled = True\n",
    "\n",
    "spx([[1, -1], [3, 4], [0, 2]])"
   ]
  },
  {
   "cell_type": "code",
   "execution_count": null,
   "metadata": {},
   "outputs": [],
   "source": [
    "# http://docs.sympy.org/0.7.2/tutorial.html#printing-tutorial\n",
    "from sympy.printing import print_latex as plx\n",
    "from sympy.printing import print_mathml as plm\n",
    "\n",
    "from sympy.printing import latex as slx\n",
    "from sympy.printing import mathml as slm\n",
    "\n",
    "ip.display_formatter.formatters['text/latex'].enabled = True\n",
    "\n",
    "plx([[1, -1], [3, 4], [0, 2]])\n",
    "ltx = slx([[1, -1],\n",
    "           [3, 4], \n",
    "           [0, 2]])\n",
    "display(Latex('${}$'.format(ltx)))\n",
    "\n",
    "display(Latex(slx([[1, -1], [3, 4], [0, 2]])))\n"
   ]
  },
  {
   "cell_type": "code",
   "execution_count": null,
   "metadata": {},
   "outputs": [],
   "source": [
    "import IPython\n",
    "ip = IPython.core.getipython.get_ipython()\n",
    "\n",
    "# Sympy are setting:\n",
    "ip.display_formatter.formatters['text/latex'].enabled = False\n",
    "# to disable all latex output. You can revert this with \n",
    "ip.display_formatter.formatters['text/latex'].enabled = True"
   ]
  },
  {
   "cell_type": "code",
   "execution_count": null,
   "metadata": {},
   "outputs": [],
   "source": [
    "from IPython.display import Latex, display, display_latex\n",
    "from sympy.interactive import printing\n",
    "printing.init_printing(use_latex='png')\n",
    "display(Latex('$\\\\alpha^2 + \\\\eta$'))\n",
    "\n",
    "display(Latex(slx([[1, -1], [3, 4], [0, 2]])))"
   ]
  },
  {
   "cell_type": "code",
   "execution_count": null,
   "metadata": {},
   "outputs": [],
   "source": [
    "# set precision\n",
    "pd.set_option('float_format', '{:.2f}'.format)"
   ]
  },
  {
   "cell_type": "code",
   "execution_count": null,
   "metadata": {},
   "outputs": [],
   "source": [
    "# qgrid.version_info\n",
    "!jupyter notebook --version\n",
    "!jupyter lab --version\n",
    "!pip list | grep widgets\n",
    "!pip list | grep jupyter\n",
    "!pip list | grep qgrid"
   ]
  },
  {
   "cell_type": "code",
   "execution_count": null,
   "metadata": {},
   "outputs": [],
   "source": [
    "N = 5\n",
    "Z = np.zeros(N*N).reshape(-1, N)\n",
    "Z = [distance(MNIST.data[i], MNIST.data[j]) for (i,j), v in np.ndenumerate(np.zeros(N*N).reshape(-1, N))]\n",
    "Z = np.array(Z).reshape(-1, N)\n",
    "Z"
   ]
  },
  {
   "cell_type": "code",
   "execution_count": null,
   "metadata": {},
   "outputs": [],
   "source": [
    "N = 5\n",
    "Z = np.zeros(N*N).reshape(-1, N)\n",
    "for (i,j), v in np.ndenumerate(Z):\n",
    "    Z[i,j] = distance(MNIST.data[i], MNIST.data[j])\n",
    "Z"
   ]
  },
  {
   "cell_type": "code",
   "execution_count": null,
   "metadata": {},
   "outputs": [],
   "source": [
    "def pairwise_map(data, fn, N=0):\n",
    "    if N == 0: N = len(data)\n",
    "    Z = np.zeros(N*N).reshape(-1, N)\n",
    "    for (i,j), v in np.ndenumerate(Z):\n",
    "        Z[i,j] = fn(data[i], data[j])\n",
    "    return Z"
   ]
  },
  {
   "cell_type": "code",
   "execution_count": null,
   "metadata": {},
   "outputs": [],
   "source": [
    "import numpy as np\n",
    "# Peak to peak - (max - min)\n",
    "b1 = np.array([2,1,1])\n",
    "b2 = np.array([1,3,4])\n",
    "b3 = np.array([1,4,9])\n",
    "\n",
    "B = np.stack((b1, b2, b3), axis=0)\n",
    "np.ptp(B, axis=0)\n",
    "np.ptp(B, axis=1)"
   ]
  },
  {
   "cell_type": "code",
   "execution_count": null,
   "metadata": {},
   "outputs": [],
   "source": [
    "# Piecewise binning and clipping\n",
    "x = np.arange(50)\n",
    "x\n",
    "y = 20\n",
    "np.piecewise(x, [x>0 , x>10, x>20], [0, 10, y])\n",
    "np.piecewise(x, [x<10, ((10<=x) & (x<40)), x>=40], [-1, lambda x: x, 1])"
   ]
  },
  {
   "cell_type": "code",
   "execution_count": null,
   "metadata": {},
   "outputs": [],
   "source": [
    "def cut_outliers(pd_series, z_value=1.96):\n",
    "    X = pd_series\n",
    "    lb = np.mean(X) - z_value * np.std(X)\n",
    "    ub = np.mean(X) + z_value * np.std(X)\n",
    "    return np.piecewise(X, [X < lb, ((lb <= X) & (X < ub)), X >= ub], [lb, lambda X: X, ub])"
   ]
  },
  {
   "cell_type": "code",
   "execution_count": null,
   "metadata": {},
   "outputs": [],
   "source": [
    "def cut_min_max(pd_series, mini, maxi):\n",
    "    X = pd_series\n",
    "    lb = mini\n",
    "    ub = maxi\n",
    "    return np.piecewise(X, [X < lb, ((lb <= X) & (X < ub)), X >= ub], [lb, lambda X: X, ub])"
   ]
  },
  {
   "cell_type": "markdown",
   "metadata": {},
   "source": [
    "#### DataFrame to dictionary - key is index\n",
    "\n",
    "Drops NaN's from index!"
   ]
  },
  {
   "cell_type": "code",
   "execution_count": null,
   "metadata": {},
   "outputs": [],
   "source": [
    "cities = pd.read_excel('../_data/global-city-population-estimates.xlsx', 'CITIES-OVER-300K')\n",
    "cities.sample(5)\n",
    "cities_dict = cities[['Urban Agglomeration', '2015']].set_index('Urban Agglomeration').to_dict()['2015']\n",
    "cities_dict"
   ]
  },
  {
   "cell_type": "code",
   "execution_count": null,
   "metadata": {},
   "outputs": [],
   "source": [
    "df.to_dict\n",
    "df.to_dict('index')\n",
    "df.to_dict('index').items()\n",
    "airport_dict = airports[['lon', 'lat']].to_dict('index') "
   ]
  },
  {
   "cell_type": "code",
   "execution_count": null,
   "metadata": {},
   "outputs": [],
   "source": [
    "https://www.census.gov/popclock/world/nl"
   ]
  },
  {
   "cell_type": "markdown",
   "metadata": {},
   "source": [
    "Next we can use a lambda to pull out the outcome from the attributes dictionary."
   ]
  },
  {
   "cell_type": "code",
   "execution_count": null,
   "metadata": {},
   "outputs": [],
   "source": [
    "df['outcome'] = df['outcome'].map(lambda x: x['outcome'])\n",
    "df.head()"
   ]
  },
  {
   "cell_type": "code",
   "execution_count": null,
   "metadata": {},
   "outputs": [],
   "source": [
    "def extract_dict_value(x, ftr):\n",
    "    try: return x[ftr]\n",
    "    except: return 0\n",
    "\n",
    "df['score'] = df['score_weight'].map(lambda x: extract_dict_value(x, 'score'))"
   ]
  },
  {
   "cell_type": "code",
   "execution_count": null,
   "metadata": {},
   "outputs": [],
   "source": [
    "# [:] copies the slice"
   ]
  },
  {
   "cell_type": "code",
   "execution_count": null,
   "metadata": {},
   "outputs": [],
   "source": [
    "X_train.select_dtypes('float')"
   ]
  },
  {
   "cell_type": "markdown",
   "metadata": {},
   "source": [
    "### open notebook link\n",
    "[Open Notebook](./nlp_part2_sentiment_topic_similarity_classification_.ipynb)"
   ]
  },
  {
   "cell_type": "code",
   "execution_count": null,
   "metadata": {},
   "outputs": [],
   "source": []
  },
  {
   "cell_type": "code",
   "execution_count": null,
   "metadata": {},
   "outputs": [],
   "source": [
    "file = '../_credentials/twitter_credentials.txt'\n",
    "pickle_file = '../_credentials/twitter_credentials.pkl'"
   ]
  },
  {
   "cell_type": "code",
   "execution_count": null,
   "metadata": {},
   "outputs": [],
   "source": [
    "%%writefile {file}\n",
    "p6mTTVJjjBi0G59xIbpkooJXH\n",
    "Y44ZH5ME8SndWYSCk7WpegQKwyPecnmLOUX2UAIFEGaC3TZayR\n",
    "27198609-TDq5p3hTA8VTNJtwUASxUT21nnTs6jOxYlDONgkeQ\n",
    "1wDvWkmZnoxeQnzaylH00FIhgNBhlX4DOy5vWLBUIow53"
   ]
  },
  {
   "cell_type": "code",
   "execution_count": null,
   "metadata": {},
   "outputs": [],
   "source": [
    "def recursive_keys(json, i=2):\n",
    "    \"\"\"Recursively get keys and list items\"\"\"\n",
    "    if type(json) == dict:\n",
    "        for key, value in json.items():\n",
    "#                 print('-'*i, key)\n",
    "                if type(json[key]) == str: \n",
    "                    print('--', key)\n",
    "                    continue\n",
    "                elif type(json[key]) == list: \n",
    "                    print('list', key)\n",
    "                    recursive_keys(json[key]) # [0]\n",
    "                elif type(json[key]) == dict: \n",
    "                    print('dict', key)\n",
    "                    recursive_keys(json[key])\n",
    "\n",
    "    elif type(json) == list:\n",
    "        for i, item in enumerate(json):\n",
    "            print(i, end=' ')\n",
    "            recursive_keys(json[i])"
   ]
  },
  {
   "cell_type": "code",
   "execution_count": null,
   "metadata": {},
   "outputs": [],
   "source": []
  },
  {
   "cell_type": "code",
   "execution_count": null,
   "metadata": {},
   "outputs": [],
   "source": [
    "def xml2dict(xml):\n",
    "    \"\"\"Convert XML to dictionary format.\"\"\"\n",
    "    import plistlib\n",
    "    return plistlib.loads(str.encode(xml), fmt=plistlib.FMT_XML)"
   ]
  },
  {
   "cell_type": "code",
   "execution_count": null,
   "metadata": {},
   "outputs": [],
   "source": [
    "def wifi_positioning(saved_map=False):\n",
    "    \"\"\"Return current location based on nearby wifi-hotspots.\"\"\"\n",
    "    \n",
    "    payload = wifi_hotspots()\n",
    "    \n",
    "    if payload is None:\n",
    "        print('WIFI positioning failed, returning IP location from provider')\n",
    "        _, lat, lon, radius = ip_location()\n",
    "        latlon = '{}, {}'.format(lat, lon)\n",
    "    else:\n",
    "        api_url_locate = 'https://pos.cit.api.here.com/positioning/v1/locate'\n",
    "        json_result = geo_location(api_url_locate, payload)\n",
    "        lat, lon = json_result['location']['lat'], json_result['location']['lng']\n",
    "        latlon = '{}, {}'.format(lat, lon)\n",
    "        radius = json_result['location']['accuracy']\n",
    "\n",
    "    # Print address and lat, lon, radius and open/show location on map\n",
    "#     print('\\ngeoPy Nominatim location: ', geolocator.reverse(latlon))\n",
    "#     rev_geocoder(lat, lon, radius)\n",
    "#     here_maps = 'https://wego.here.com/directions/mix/{},{}/?map={},{},15'.format(lat, lon, lat, lon)\n",
    "#     google_maps = 'https://www.google.com/maps/search/{},{}/@{},{},17z'.format(lat, lon, lat, lon)\n",
    "#     !open -a Safari $here_maps; open -a Safari $google_maps\n",
    "#     if saved_map: mia_saved_map(lon, lat, radius)\n",
    "        \n",
    "    return lat, lon"
   ]
  },
  {
   "cell_type": "code",
   "execution_count": null,
   "metadata": {},
   "outputs": [],
   "source": [
    "import quilt\n",
    "# https://quiltdata.com\n",
    "quilt.install(\"ResidentMario/geoplot_data\")"
   ]
  },
  {
   "cell_type": "markdown",
   "metadata": {},
   "source": [
    "IndexError: only integers, slices (`:`), ellipsis (`...`), numpy.newaxis (`None`) and integer or boolean arrays are valid indices"
   ]
  }
 ],
 "metadata": {
  "language_info": {
   "name": "python",
   "pygments_lexer": "ipython3"
  }
 },
 "nbformat": 4,
 "nbformat_minor": 2
}
