{
 "cells": [
  {
   "cell_type": "markdown",
   "metadata": {},
   "source": [
    "# Virtualenvwrapper\n",
    "\n"
   ]
  },
  {
   "cell_type": "markdown",
   "metadata": {},
   "source": [
    "While virtual environments certainly solve some big problems with package management, they’re not perfect. After creating a few environments, you’ll start to see that they create some problems of their own, most of which revolve around managing the environments themselves. To help with this, the virtualenvwrapper tool was created, which is just some wrapper scripts around the main virtualenv tool.\n",
    "\n",
    "A few of the more useful features of virtualenvwrapper are that it:\n",
    "\n",
    " - Organizes all of your virtual environments in one location\n",
    " - Provides methods to help you easily create, delete, and copy environments\n",
    " - Provides a single command to switch between environments\n",
    "\n",
    "You’ll also have the shell commands available to you to help you manage the environments. Here are just a few available:\n",
    "\n",
    " - workon\n",
    " - deactivate\n",
    " - mkvirtualenv\n",
    " - cdvirtualenv\n",
    " - rmvirtualenv\n",
    "\n",
    "https://realpython.com/python-virtual-environments-a-primer/"
   ]
  },
  {
   "cell_type": "markdown",
   "metadata": {},
   "source": [
    "###### Terminal commands:\n",
    "$ :run in terminal  \n",
    "! :run in notebook or in terminal"
   ]
  },
  {
   "cell_type": "markdown",
   "metadata": {},
   "source": [
    "## Install virtualenvwrapper\n",
    "\n",
    "Before installing make sure you exit any virtual environment. Check your terminal promt."
   ]
  },
  {
   "cell_type": "raw",
   "metadata": {},
   "source": [
    "$ deactivate"
   ]
  },
  {
   "cell_type": "code",
   "execution_count": null,
   "metadata": {},
   "outputs": [],
   "source": [
    "# !pip3 install virtualenvwrapper --user\n",
    "# !easy_install virtualwrapper --user"
   ]
  },
  {
   "cell_type": "markdown",
   "metadata": {},
   "source": [
    "When having problems (after brew upgrade /python upgrade):  \n",
    "`/usr/local/opt/python/bin/python3.7: Error while finding module specification for 'virtualenvwrapper.hook_loader' (ModuleNotFoundError: No module named 'virtualenvwrapper')`\n",
    "\n",
    "1. pip uninstall virtualenvwrapper\n",
    "\n",
    "2. Rename below .egg file:\n",
    "/usr/local/lib/python3.6/site-packages/virtualenvwrapper-4.8.2-py3.6.egg.fje_old\n",
    "\n",
    "3. pip3 install virtualenvwrapper --user"
   ]
  },
  {
   "cell_type": "markdown",
   "metadata": {},
   "source": [
    "### Update your ~/.bash_profile, ~/.bashrc or ~/.profile file"
   ]
  },
  {
   "cell_type": "markdown",
   "metadata": {},
   "source": [
    "#### Check paths "
   ]
  },
  {
   "cell_type": "code",
   "execution_count": null,
   "metadata": {},
   "outputs": [],
   "source": [
    "!which virtualenvwrapper.sh\n",
    "!which python3\n",
    "!which virtualenv"
   ]
  },
  {
   "cell_type": "code",
   "execution_count": null,
   "metadata": {},
   "outputs": [],
   "source": [
    "%%writefile -a ~/.bash_profile\n",
    "\n",
    "# added by FJE for virtualenvwrapper | https://virtualenvwrapper.readthedocs.io/en/latest/install.html#shell-startup-file\n",
    "export WORKON_HOME=$HOME/.virtualenvs                          # path of virtual environments\n",
    "export PROJECT_HOME=$HOME/cognitive_computing                  # path of python projects \n",
    "export VIRTUALENVWRAPPER_PYTHON=/usr/local/bin/python3         # path of python ${which python3}\n",
    "export VIRTUALENVWRAPPER_VIRTUALENV=/usr/local/bin/virtualenv  # path of virtualenv - same install date as python3\n",
    "source /usr/local/bin/virtualenvwrapper.sh"
   ]
  },
  {
   "cell_type": "markdown",
   "metadata": {},
   "source": [
    "#### Source - activate updated profile"
   ]
  },
  {
   "cell_type": "code",
   "execution_count": null,
   "metadata": {},
   "outputs": [],
   "source": [
    "!source ~/.bash_profile"
   ]
  },
  {
   "cell_type": "markdown",
   "metadata": {},
   "source": [
    "#### Sanity check"
   ]
  },
  {
   "cell_type": "code",
   "execution_count": null,
   "metadata": {},
   "outputs": [],
   "source": [
    "!open -e ~/.bash_profile"
   ]
  },
  {
   "cell_type": "markdown",
   "metadata": {},
   "source": [
    "### Virtualenvwrapper commands"
   ]
  },
  {
   "cell_type": "markdown",
   "metadata": {},
   "source": [
    "#### Create virtual environment"
   ]
  },
  {
   "cell_type": "raw",
   "metadata": {},
   "source": [
    "$ mkvirtualenv flask_kernel"
   ]
  },
  {
   "cell_type": "markdown",
   "metadata": {},
   "source": [
    "#### Exit virtual environment"
   ]
  },
  {
   "cell_type": "markdown",
   "metadata": {},
   "source": [
    "$ deactivate"
   ]
  },
  {
   "cell_type": "markdown",
   "metadata": {},
   "source": [
    "#### Activate kernel"
   ]
  },
  {
   "cell_type": "raw",
   "metadata": {},
   "source": [
    "$ workon flask_kernel"
   ]
  },
  {
   "cell_type": "markdown",
   "metadata": {},
   "source": [
    "***"
   ]
  },
  {
   "cell_type": "markdown",
   "metadata": {},
   "source": [
    "## Install kernel within virtual environment\n",
    "\n",
    "https://help.pythonanywhere.com/pages/IPythonNotebookVirtualenvs/"
   ]
  },
  {
   "cell_type": "raw",
   "metadata": {},
   "source": [
    "(env_name)$ pip install tornado\n",
    "(env_name)$ pip install ipykernel"
   ]
  },
  {
   "cell_type": "markdown",
   "metadata": {},
   "source": [
    "### Pip install recursively (-r) all packages from file"
   ]
  },
  {
   "cell_type": "raw",
   "metadata": {},
   "source": [
    "(env_name)$ pip install -r requirements.txt"
   ]
  },
  {
   "cell_type": "markdown",
   "metadata": {},
   "source": [
    "### Pip install and run jupyter lab within environment\n",
    "\n",
    "https://media.readthedocs.org/pdf/jlab/rtd-fix/jlab.pdf"
   ]
  },
  {
   "cell_type": "raw",
   "metadata": {},
   "source": [
    "(env_name)$ pip install jupyterlab\n",
    "(env_name)$ jupyter lab"
   ]
  },
  {
   "cell_type": "raw",
   "metadata": {},
   "source": [
    "(env_name)$ pip install numpy scipy pandas matplotlib"
   ]
  },
  {
   "cell_type": "markdown",
   "metadata": {},
   "source": [
    "### Check/create requirements.txt"
   ]
  },
  {
   "cell_type": "code",
   "execution_count": null,
   "metadata": {},
   "outputs": [],
   "source": [
    "!pip freeze #| grep -i lab"
   ]
  },
  {
   "cell_type": "code",
   "execution_count": null,
   "metadata": {},
   "outputs": [],
   "source": [
    "# !pip freeze > requirements.txt"
   ]
  },
  {
   "cell_type": "code",
   "execution_count": null,
   "metadata": {},
   "outputs": [],
   "source": [
    "# !pip freeze"
   ]
  },
  {
   "cell_type": "markdown",
   "metadata": {},
   "source": [
    "### Get sytem info on Jupyter and IPython"
   ]
  },
  {
   "cell_type": "code",
   "execution_count": null,
   "metadata": {},
   "outputs": [],
   "source": [
    "# !jupyter --help"
   ]
  },
  {
   "cell_type": "code",
   "execution_count": null,
   "metadata": {},
   "outputs": [],
   "source": [
    "!jupyter --paths"
   ]
  },
  {
   "cell_type": "markdown",
   "metadata": {},
   "source": [
    "### Customize notebook theme/style - index.css"
   ]
  },
  {
   "cell_type": "code",
   "execution_count": null,
   "metadata": {},
   "outputs": [],
   "source": [
    "!find /Users/frank/.virtualenvs/flask_kernel/share | grep index.css"
   ]
  },
  {
   "cell_type": "code",
   "execution_count": null,
   "metadata": {},
   "outputs": [],
   "source": [
    "%%writefile -a /Users/frank/.virtualenvs/flask_kernel/share/jupyter/lab/themes/@jupyterlab/theme-light-extension/index.css\n",
    "\n",
    "\n",
    "/*----------------------------------------------------------------------------|\n",
    "| F.J. Ebbers - Lauthom Cogitive Computing\n",
    "| Additional css styling\n",
    "|----------------------------------------------------------------------------*/\n",
    "\n",
    "/*------------------------------- overrule ------------------------------------*/\n",
    "\n",
    ":root {\n",
    "  --jp-layout-color0: #faf0e6; /* FJE white background */\n",
    "  --jp-layout-color1: #faf0e4; /* FJE white menu */\n",
    "  --jp-layout-color2: #faf0e2; /* FJE var(--md-grey-200); */\n",
    "  --jp-cell-editor-background: var(--jp-layout-color1); /* FJE var(--md-grey-100);*/\n",
    "  --jp-input-background:var(--jp-layout-color1); /* FJE var(--md-grey-100);*/\n",
    "}\n",
    "    \n",
    "/*------------------------------- additional ------------------------------------*/\n",
    "\n",
    "h1, h2, h3, h4, h5, h6 {\n",
    "    font-family: 'PT Mono';\n",
    "    font-weight: bold !important;\n",
    "    color: #4d779d; /* #4d779d; #54606b */\n",
    "}\n",
    "\n",
    "body {\n",
    "    font-family: 'Helvetica' 'Helvetica Neue', 'Monaco',;\n",
    "    font-weight: 350;\n",
    "    font-size: 10pt !important;\n",
    "    letter-spacing: 0.02em;\n",
    "    /*background-color:  #dfdfdf !important;*/\n",
    "    border: 0px solid #E1E1E1 !important;\n",
    "    border-radius: 0px !important;\n",
    "} \n",
    "\n",
    "h1, h2, h3, h4, h5, h6 {\n",
    "    font-family: 'PT Mono';\n",
    "    font-weight: bold !important;\n",
    "    color: #4d779d; /* #4d779d; #54606b */\n",
    "}\n",
    "\n",
    ".CodeMirror pre {\n",
    "    font-family: 'SF Mono'\n",
    "    font-size: 10pt;\n",
    "    /*background-color: #dfdfdf !important; */\n",
    "    /*padding: 0.5em 0 0 0.5em;*/\n",
    "    /*line-height: 90%;*/\n",
    "}\n",
    "\n",
    "/*------------------------------- pandas ------------------------------------*/\n",
    "\n",
    "th, td, tr {padding: 100px;}\n",
    "th:hover {background-color: #4d779d}\n",
    "td:hover {background-color: #44ce56}\n",
    "     \n",
    "/*------------------------------- css classes -------------------------------*/\n",
    "          \n",
    ".title {\n",
    "    font-family: 'Fredericka the Great';\n",
    "    font-weight: bold !important;\n",
    "    font-size: 24pt !important;\n",
    "    color: #54606b;\n",
    "}\n",
    "\n",
    ".fun {\n",
    "    font-family: 'Barrio';\n",
    "    font-size: 2em !important;\n",
    "    color: #4d779d;\n",
    "}\n",
    "\n",
    ".warn, h5 {    \n",
    "    font-family: \"Source Code Pro\";\n",
    "    background-color: #cfd9dd;\n",
    "    border-color: #dFb5b4;\n",
    "    border-left: 5px solid #4d779d;\n",
    "    width: 100%;    padding: 0.5em;\n",
    "    color: red;\n",
    "    }\n",
    "          \n",
    ".note, h6 {    \n",
    "    font-family: \"Source Code Pro\";\n",
    "    background-color: #cfd9dd;\n",
    "    border-color: #dFb5b4;\n",
    "    border-left: 5px solid #4d779d;\n",
    "    width: 100%;\n",
    "    padding: 0.5em;\n",
    "    color: green;\n",
    "    }\n",
    "\n",
    ".cite {    \n",
    "    font-family: \"American Typewriter\", italic;\n",
    "    font-size: 9pt;\n",
    "    width: 100%;\n",
    "    padding: 0.5em;\n",
    "    color: #4d779d;\n",
    "    }\n",
    "\n",
    "/*----------------------- end of css custom ----------------------*/\n",
    "\n"
   ]
  },
  {
   "cell_type": "markdown",
   "metadata": {},
   "source": [
    "#### Sanity check"
   ]
  },
  {
   "cell_type": "code",
   "execution_count": null,
   "metadata": {},
   "outputs": [],
   "source": [
    "!open -e /Users/frank/.virtualenvs/flask_kernel/share/jupyter/lab/themes/@jupyterlab/theme-light-extension/index.css"
   ]
  },
  {
   "cell_type": "markdown",
   "metadata": {},
   "source": [
    "#### Reload or restart Jupyter lab in browser et violá"
   ]
  },
  {
   "cell_type": "code",
   "execution_count": null,
   "metadata": {},
   "outputs": [],
   "source": []
  }
 ],
 "metadata": {
  "language_info": {
   "name": "python",
   "pygments_lexer": "ipython3"
  }
 },
 "nbformat": 4,
 "nbformat_minor": 2
}
