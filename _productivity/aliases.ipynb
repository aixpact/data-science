{
 "cells": [
  {
   "cell_type": "code",
   "execution_count": null,
   "metadata": {},
   "outputs": [],
   "source": [
    "%alias show echo\n",
    "%alias mop echo Monty Python\n",
    "%alias tree pwd && tree . %s\n",
    "%alias find find ~ | grep -i %s\n",
    "%alias find.. find .. | grep -i %s\n",
    "%alias find. find . | grep -i %s\n",
    "%alias findx find ~ | grep -Ei %s\n",
    "%alias read cat %s\n",
    "%alias aug ls -al | grep Aug | grep -v 2018\n",
    "\n",
    "# !brew install cowsay\n",
    "%alias say cowsay\n",
    "%alias_magic t timeit"
   ]
  },
  {
   "cell_type": "code",
   "execution_count": null,
   "metadata": {},
   "outputs": [],
   "source": [
    "%alias make_lib mkdir my_lib && touch my_lib/__init__.py  \n",
    "%alias add_lib cp %s my_lib/my_module.py\n",
    "%alias to_lib mkdir my_lib && touch my_lib/__init__.py && cp %s my_lib/my_module.py"
   ]
  },
  {
   "cell_type": "code",
   "execution_count": null,
   "metadata": {},
   "outputs": [],
   "source": [
    "%alias"
   ]
  },
  {
   "cell_type": "code",
   "execution_count": null,
   "metadata": {},
   "outputs": [],
   "source": []
  }
 ],
 "metadata": {
  "language_info": {
   "name": "python",
   "pygments_lexer": "ipython3"
  }
 },
 "nbformat": 4,
 "nbformat_minor": 2
}
