{
 "cells": [
  {
   "cell_type": "markdown",
   "metadata": {},
   "source": [
    "# UNIX Bash for Data Science\n",
    "some sources on frequent UNIX commands:\n",
    "* http://faculty.tru.ca/nmora/Frequently%20used%20UNIX%20commands.pdf\n",
    "* https://www.tjhsst.edu/~dhyatt/superap/unixcmd.html"
   ]
  },
  {
   "cell_type": "markdown",
   "metadata": {},
   "source": [
    "## UNIX Manual"
   ]
  },
  {
   "cell_type": "code",
   "execution_count": null,
   "metadata": {},
   "outputs": [],
   "source": [
    "command = input('Which UNIX command manual do you want?: ')\n",
    "!echo ' ' && echo Manual for: $command && echo '' && man $command | head -20"
   ]
  },
  {
   "cell_type": "markdown",
   "metadata": {},
   "source": [
    "### Basic file and directory commands"
   ]
  },
  {
   "cell_type": "markdown",
   "metadata": {},
   "source": [
    "mkdir: make directory  \n",
    "rmdir: remove directory  \n",
    "cd: change directory  \n",
    "cp: copy file  \n",
    "mv: mofe file  \n",
    "rm: remove file  \n",
    "cmp: compare 2 files\n",
    "more: output per window\n",
    "chmod: change file permissions  \n"
   ]
  },
  {
   "cell_type": "markdown",
   "metadata": {},
   "source": [
    "#### Symbols"
   ]
  },
  {
   "cell_type": "markdown",
   "metadata": {},
   "source": [
    "**.**  - working directory   \n",
    "**..** - parent directory to working directory  \n",
    "**~**  - home directory  \n",
    "**/**  - root directory  \n",
    "*****  - string of characters wildcard  \n",
    "**?**  - one character wildcard  "
   ]
  },
  {
   "cell_type": "markdown",
   "metadata": {},
   "source": [
    "#### Directing and piping commands"
   ]
  },
  {
   "cell_type": "markdown",
   "metadata": {},
   "source": [
    "command > file         - redirects the output of 'command' to 'file' instead of to standard output (screen)  \n",
    "command >> file        - appends the output of 'command' to 'file' instead of to standard output (screen)  \n",
    "command < file         - takes input for 'command' from file  \n",
    "command1 | command2    - pipe standard output of command1 to standard input of command2  "
   ]
  },
  {
   "cell_type": "markdown",
   "metadata": {},
   "source": [
    "### User and system info"
   ]
  },
  {
   "cell_type": "code",
   "execution_count": null,
   "metadata": {},
   "outputs": [],
   "source": [
    "date = !date\n",
    "os_ = !uname -n\n",
    "os_version = !uname -r\n",
    "user = !whoami\n",
    "host = !hostname -fs\n",
    "network_ip = !ifconfig | grep \"inet \" | cut -f2 -d' '\n",
    "local_ip = !ipconfig getifaddr en0\n",
    "host_ip = !curl http://icanhazip.com\n",
    "python_version = !python --version\n",
    "python_path = !which -a python"
   ]
  },
  {
   "cell_type": "code",
   "execution_count": null,
   "metadata": {},
   "outputs": [],
   "source": [
    "# !ifconfig | grep -Eo 'inet (addr:)?([0-9]*\\.){3}[0-9]*' | grep -Eo '([0-9]*\\.){3}[0-9]*' | grep -v '127.0.0.1'\n",
    "# !ifconfig | sed -En 's/127.0.0.1//;s/.*inet (addr:)?(([0-9]*\\.){3}[0-9]*).*/\\2/p'\n",
    "# !uname -a && echo $NET_IP\n",
    "# !ip -o route get to 8.8.8.8 | sed -n 's/.*src \\([0-9.]\\+\\).*/\\1/p'\n",
    "# !curl http://ifconfig.me/ip\n",
    "# !wget http://ipecho.net/plain -O - -q\n",
    "!ifconfig | grep \"inet \" | cut -f2 -d' '\n",
    "# !curl http://icanhazip.com\n",
    "!ipconfig getifaddr en0"
   ]
  },
  {
   "cell_type": "code",
   "execution_count": null,
   "metadata": {},
   "outputs": [],
   "source": [
    "print('''\n",
    "System info:\n",
    "-----------------------------------------------------------------\n",
    "date: {}\n",
    "os: {} ({})\n",
    "user: {}\n",
    "host: {} {}\n",
    "host_ip: {}\n",
    "python: {} \n",
    "path: {}\n",
    "'''.format(date[0], os_[0], os_version[0], user[0], host[0], network_ip, host_ip[-1], python_version[0], python_path))"
   ]
  },
  {
   "cell_type": "markdown",
   "metadata": {},
   "source": [
    "### Getting around the filesystem"
   ]
  },
  {
   "cell_type": "markdown",
   "metadata": {},
   "source": [
    "File permissions in numeric format and their meaning :\n",
    "0 – no permissions  \n",
    "1 – execute only  \n",
    "2 – write only  \n",
    "3 – write and execute  \n",
    "4 – read only  \n",
    "5 – read and execute  \n",
    "6 – read and write  \n",
    "7 – read, write and execute  \n",
    "e.g.: chmod 400 filename ~ read-only "
   ]
  },
  {
   "cell_type": "code",
   "execution_count": null,
   "metadata": {},
   "outputs": [],
   "source": [
    "!pwd"
   ]
  },
  {
   "cell_type": "code",
   "execution_count": null,
   "metadata": {},
   "outputs": [],
   "source": [
    "!ls"
   ]
  },
  {
   "cell_type": "code",
   "execution_count": null,
   "metadata": {},
   "outputs": [],
   "source": [
    "!ls -ltr # sorted by modification date"
   ]
  },
  {
   "cell_type": "code",
   "execution_count": null,
   "metadata": {},
   "outputs": [],
   "source": [
    "!ls .."
   ]
  },
  {
   "cell_type": "code",
   "execution_count": null,
   "metadata": {},
   "outputs": [],
   "source": [
    "!ls -FGlAhp | grep ''"
   ]
  },
  {
   "cell_type": "code",
   "execution_count": null,
   "metadata": {},
   "outputs": [],
   "source": [
    "!file utils_.ipynb"
   ]
  },
  {
   "cell_type": "code",
   "execution_count": null,
   "metadata": {},
   "outputs": [],
   "source": [
    "!find ."
   ]
  },
  {
   "cell_type": "markdown",
   "metadata": {},
   "source": [
    "### Processes"
   ]
  },
  {
   "cell_type": "code",
   "execution_count": null,
   "metadata": {},
   "outputs": [],
   "source": [
    "!ps -ax | head"
   ]
  },
  {
   "cell_type": "code",
   "execution_count": null,
   "metadata": {},
   "outputs": [],
   "source": [
    "!ps -ef | head"
   ]
  },
  {
   "cell_type": "code",
   "execution_count": null,
   "metadata": {},
   "outputs": [],
   "source": [
    "!ps -ef | grep -i python | grep -v grep # flag -v: exclude grep"
   ]
  },
  {
   "cell_type": "code",
   "execution_count": null,
   "metadata": {},
   "outputs": [],
   "source": [
    "!lsof -i:8888 | grep -i python"
   ]
  },
  {
   "cell_type": "code",
   "execution_count": null,
   "metadata": {},
   "outputs": [],
   "source": [
    "!who # logged on"
   ]
  },
  {
   "cell_type": "code",
   "execution_count": null,
   "metadata": {},
   "outputs": [],
   "source": [
    "!finger"
   ]
  },
  {
   "cell_type": "code",
   "execution_count": null,
   "metadata": {},
   "outputs": [],
   "source": [
    "!ping 127.0.0.1 -c 5"
   ]
  },
  {
   "cell_type": "code",
   "execution_count": null,
   "metadata": {},
   "outputs": [],
   "source": [
    "!ping -c 5 lauthom.nl"
   ]
  },
  {
   "cell_type": "markdown",
   "metadata": {},
   "source": [
    "### Print to terminal"
   ]
  },
  {
   "cell_type": "code",
   "execution_count": null,
   "metadata": {},
   "outputs": [],
   "source": [
    "filename = '../_data/shakespeare.txt'\n",
    "!echo $filename"
   ]
  },
  {
   "cell_type": "code",
   "execution_count": null,
   "metadata": {},
   "outputs": [],
   "source": [
    "!head -n 5 $filename && tail $filename"
   ]
  },
  {
   "cell_type": "code",
   "execution_count": null,
   "metadata": {},
   "outputs": [],
   "source": [
    "!cat $filename | head"
   ]
  },
  {
   "cell_type": "code",
   "execution_count": null,
   "metadata": {},
   "outputs": [],
   "source": [
    "!cat $filename | more # output per window"
   ]
  },
  {
   "cell_type": "code",
   "execution_count": null,
   "metadata": {},
   "outputs": [],
   "source": [
    "!less $filename  # output per window\n",
    "# CTRL+F – forward one window\n",
    "# CTRL+B – backward one window"
   ]
  },
  {
   "cell_type": "markdown",
   "metadata": {},
   "source": [
    "### Create new file"
   ]
  },
  {
   "cell_type": "code",
   "execution_count": null,
   "metadata": {},
   "outputs": [],
   "source": [
    "!echo this is a file made in terminal > ../_data/new_file2.txt \n",
    "!echo appended text on next line >> ../_data/new_file2.txt \n",
    "!cat ../_data/new_file2.txt"
   ]
  },
  {
   "cell_type": "code",
   "execution_count": null,
   "metadata": {},
   "outputs": [],
   "source": [
    "!touch ../_data/new_file.txt \n",
    "date  = !echo date\n",
    "!echo this is a file made by touch at && echo $(date) > ../_data/new_file.txt \n",
    "!cat ../_data/new_file.txt"
   ]
  },
  {
   "cell_type": "code",
   "execution_count": null,
   "metadata": {},
   "outputs": [],
   "source": [
    "%%writefile new_file.txt"
   ]
  },
  {
   "cell_type": "code",
   "execution_count": null,
   "metadata": {},
   "outputs": [],
   "source": [
    "%%writefile -a append_file.txt"
   ]
  },
  {
   "cell_type": "markdown",
   "metadata": {},
   "source": [
    "### Sort"
   ]
  },
  {
   "cell_type": "code",
   "execution_count": null,
   "metadata": {},
   "outputs": [],
   "source": [
    "!head $filename | sort | head"
   ]
  },
  {
   "cell_type": "code",
   "execution_count": null,
   "metadata": {},
   "outputs": [],
   "source": [
    "# !head -n 5 $filename | sort  # by the first letter in each line\n",
    "!head $filename | sort -t' ' -k2  # by -k: 2nd column, delimitter -t: ' '"
   ]
  },
  {
   "cell_type": "markdown",
   "metadata": {},
   "source": [
    "### Wordcount (wc)\n",
    "-l: lines  \n",
    "-c: characters"
   ]
  },
  {
   "cell_type": "code",
   "execution_count": null,
   "metadata": {},
   "outputs": [],
   "source": [
    "!wc $filename && echo chars: && wc -c $filename && echo lines: && wc -l $filename"
   ]
  },
  {
   "cell_type": "code",
   "execution_count": null,
   "metadata": {},
   "outputs": [],
   "source": [
    "!sort $filename | uniq -u | wc -l"
   ]
  },
  {
   "cell_type": "markdown",
   "metadata": {},
   "source": [
    "### Split to words  \n",
    "MacOS version, need to use: `\\'$', $'`  \n",
    "\n",
    " - Convert DOS file to Unix (\\r\\n in the end of each line): $sed 's/.$//' filename\n",
    " - replace spaces by returns: 's/ /\\'$'\\n/g'  \n",
    " - replace carriage return by nothing: $'s/\\r//g'  "
   ]
  },
  {
   "cell_type": "code",
   "execution_count": null,
   "metadata": {},
   "outputs": [],
   "source": [
    "!sed 's/.$//' $filename > ../_data/shakespeare_unix.txt\n",
    "!head ../_data/shakespeare_unix.txt\n",
    "!head ../_data/shakespeare.txt"
   ]
  },
  {
   "cell_type": "markdown",
   "metadata": {},
   "source": [
    "### Reverse lines of content"
   ]
  },
  {
   "cell_type": "code",
   "execution_count": null,
   "metadata": {},
   "outputs": [],
   "source": [
    "!sed -n '1!G;h;$p' ../_data/shakespeare_unix.txt | head"
   ]
  },
  {
   "cell_type": "code",
   "execution_count": null,
   "metadata": {},
   "outputs": [],
   "source": [
    "!sed -e 's/ /\\'$'\\n/g' -e $'s/\\r//g' < $filename | head  "
   ]
  },
  {
   "cell_type": "markdown",
   "metadata": {},
   "source": [
    "### Most frequent words\n",
    "- remove empty lines: sed `'/^$/d'`, **`^: start of line, $: end of line, d: delete`**\n",
    "- sort words: sort\n",
    "- count consecutive words: uniq -c\n",
    "- sort numerically and reverse order: sort -nr"
   ]
  },
  {
   "cell_type": "code",
   "execution_count": null,
   "metadata": {},
   "outputs": [],
   "source": [
    "!sed -e 's/ /\\'$'\\n/g' -e $'s/\\r//g' $filename  | sed '/^$/d'| sort | uniq -c | sort -nr | head -15"
   ]
  },
  {
   "cell_type": "code",
   "execution_count": null,
   "metadata": {},
   "outputs": [],
   "source": [
    "!sed -e 's/ /\\'$'\\n/g' -e $'s/\\r//g' $filename  | sed '/^$/d'| sort | uniq -c | sort -nr > ../_data/count_vs_words"
   ]
  },
  {
   "cell_type": "code",
   "execution_count": null,
   "metadata": {},
   "outputs": [],
   "source": [
    "!head ../_data/count_vs_words"
   ]
  },
  {
   "cell_type": "markdown",
   "metadata": {},
   "source": [
    "### xargs"
   ]
  },
  {
   "cell_type": "code",
   "execution_count": null,
   "metadata": {},
   "outputs": [],
   "source": [
    "!head ../_data/count_vs_words | xargs echo"
   ]
  },
  {
   "cell_type": "markdown",
   "metadata": {},
   "source": [
    "### grep\n",
    "- **g**lobal **r**egular **e**xpression **p**rint"
   ]
  },
  {
   "cell_type": "code",
   "execution_count": null,
   "metadata": {},
   "outputs": [],
   "source": [
    "!grep -i 'CDROMS' ../_data/shakespeare.txt"
   ]
  },
  {
   "cell_type": "code",
   "execution_count": null,
   "metadata": {},
   "outputs": [],
   "source": [
    "!grep -A 10 -i 'CDROMS' ../_data/shakespeare.txt"
   ]
  },
  {
   "cell_type": "code",
   "execution_count": null,
   "metadata": {},
   "outputs": [],
   "source": [
    "# Recursive search\n",
    "!grep -r 'shakespeare' *"
   ]
  },
  {
   "cell_type": "code",
   "execution_count": null,
   "metadata": {},
   "outputs": [],
   "source": [
    "!grep 'Liberty' $filename             # add -i to make case insensitive\n",
    "!grep -i 'liberty' $filename | wc -l  # location of first word"
   ]
  },
  {
   "cell_type": "markdown",
   "metadata": {},
   "source": [
    "### sed\n",
    " - **s**tream **ed**itor  \n",
    " - like grep + replacement\n",
    " - **`s/from/to/g`**, **s**: substitute, **g**: general (all)"
   ]
  },
  {
   "cell_type": "code",
   "execution_count": null,
   "metadata": {},
   "outputs": [],
   "source": [
    "!sed -e 's/parchment/manuscript/g' $filename > ../_data/temp_shakespeare.txt"
   ]
  },
  {
   "cell_type": "code",
   "execution_count": null,
   "metadata": {},
   "outputs": [],
   "source": [
    "!grep -i 'manuscript' ../_data/temp_shakespeare.txt\n",
    "!grep -i 'parchment' ../_data/shakespeare.txt"
   ]
  },
  {
   "cell_type": "markdown",
   "metadata": {},
   "source": [
    "### find "
   ]
  },
  {
   "cell_type": "code",
   "execution_count": null,
   "metadata": {},
   "outputs": [],
   "source": [
    "!find .. | grep -i shakespeare"
   ]
  },
  {
   "cell_type": "markdown",
   "metadata": {},
   "source": [
    "### TODO"
   ]
  },
  {
   "cell_type": "code",
   "execution_count": null,
   "metadata": {},
   "outputs": [],
   "source": [
    "# default aliases\n",
    "#%unalias <alias>\n",
    "%alias"
   ]
  },
  {
   "cell_type": "markdown",
   "metadata": {},
   "source": [
    "### Make executable bash script file"
   ]
  },
  {
   "cell_type": "code",
   "execution_count": null,
   "metadata": {},
   "outputs": [],
   "source": [
    "%%!\n",
    "# Rune once\n",
    "echo \"#!/bin/bash\" > ~/.bash_aliases\n",
    "echo alias mop='\"Monty Python Shell\"' >> ~/.bash_aliases\n",
    "# chmod +x ~/aliases.command  # make executable\n",
    "source ~/.bash_aliases    # udate executable\n",
    "# export BASH_ENV='\"~/.aliases\"'\n",
    "# source ~/aliases.command    # udate executable\n",
    "source ~/.profile\n",
    "source ~/.bash_profile"
   ]
  },
  {
   "cell_type": "code",
   "execution_count": null,
   "metadata": {},
   "outputs": [],
   "source": [
    "%%!\n",
    "# Rune once\n",
    "echo \"#!/bin/bash\" > ~/aliases.command\n",
    "echo alias mop='\"Monty Python Shell\"' >> ~/aliases.command\n",
    "chmod +x ~/aliases.command  # make executable\n",
    "source ~/aliases.command    # udate executable\n",
    "export BASH_ENV='\"~/.aliases\"'\n",
    "source ~/aliases.command    # udate executable\n",
    "source ~/.profile\n",
    "source ~/.bash_profile"
   ]
  },
  {
   "cell_type": "code",
   "execution_count": null,
   "metadata": {},
   "outputs": [],
   "source": [
    "# !find ~ | grep .bash_"
   ]
  },
  {
   "cell_type": "markdown",
   "metadata": {},
   "source": [
    "#### All UNIX commands can be used in combination with python. Moreover they can be shorthanded with aliases."
   ]
  }
 ],
 "metadata": {
  "language_info": {
   "name": "python",
   "pygments_lexer": "ipython3"
  }
 },
 "nbformat": 4,
 "nbformat_minor": 2
}
