{
 "cells": [
  {
   "cell_type": "code",
   "execution_count": null,
   "metadata": {},
   "outputs": [],
   "source": [
    "# %load ../standard_import.txt\n",
    "import IPython as ipy\n",
    "import pandas as pd\n",
    "import numpy as np\n",
    "import matplotlib as mpl\n",
    "import seaborn as sns\n",
    "import sklearn as skl\n",
    "import statsmodels as sm\n",
    "import scipy as sp\n",
    "import pydot as pdt\n",
    "import patsy as pat"
   ]
  },
  {
   "cell_type": "code",
   "execution_count": null,
   "metadata": {},
   "outputs": [],
   "source": [
    "print('IPython {}'.format(ipy.__version__))\n",
    "print('pandas {}'.format(pd.__version__))\n",
    "print('numpy {}'.format(np.__version__))\n",
    "print('scikit-learn {}'.format(skl.__version__))\n",
    "print('statsmodels {}'.format(sm.__version__))\n",
    "print('patsy {} (For regression splines)'.format(pat.__version__))\n",
    "print('matplotlib {}'.format(mpl.__version__))\n",
    "print('seaborn {}'.format(sns.__version__))\n",
    "print('scipy {}'.format(sp.__version__))\n",
    "print('pydot {} (For visualizing tree based models)'.format(pdt.__version__))"
   ]
  },
  {
   "cell_type": "markdown",
   "metadata": {},
   "source": [
    "For pydot I used the following fork to have python-3 support: https://github.com/nlhepler/pydot"
   ]
  }
 ],
 "metadata": {
  "language_info": {
   "name": "python",
   "pygments_lexer": "ipython3"
  }
 },
 "nbformat": 4,
 "nbformat_minor": 0
}
