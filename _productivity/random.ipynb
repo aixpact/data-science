{
 "cells": [
  {
   "cell_type": "code",
   "execution_count": null,
   "metadata": {},
   "outputs": [],
   "source": [
    "import random"
   ]
  },
  {
   "cell_type": "code",
   "execution_count": null,
   "metadata": {},
   "outputs": [],
   "source": [
    "random.choice(range(4))\n",
    "sum(random.choice(range(10)) for i in range(10))\n",
    "sum(random.sample(range(10), 10))\n",
    "np.random.randint(1,5, (2,3))\n",
    "np.random.randint(1,7, (5, 10))\n",
    "np.sum(np.random.randint(1,7, (100, 10)), axis=0)\n",
    "random.choice([3])"
   ]
  }
 ],
 "metadata": {
  "language_info": {
   "name": "python",
   "pygments_lexer": "ipython3"
  }
 },
 "nbformat": 4,
 "nbformat_minor": 2
}
