{
 "cells": [
  {
   "cell_type": "code",
   "execution_count": null,
   "metadata": {},
   "outputs": [],
   "source": [
    "%matplotlib inline\n",
    "import numpy as np\n",
    "import pandas as pd\n",
    "import os\n",
    "from subprocess import check_output"
   ]
  },
  {
   "cell_type": "code",
   "execution_count": null,
   "metadata": {},
   "outputs": [],
   "source": []
  },
  {
   "cell_type": "code",
   "execution_count": null,
   "metadata": {},
   "outputs": [],
   "source": [
    "# !jupyter labextension install jupyterlab_bokeh"
   ]
  },
  {
   "cell_type": "code",
   "execution_count": null,
   "metadata": {},
   "outputs": [],
   "source": [
    "# from bokeh.plotting import figure, output_file, output_notebook, show\n",
    "\n",
    "from bokeh.io import push_notebook, output_notebook, show\n",
    "from bokeh.layouts import row\n",
    "from bokeh.plotting import figure\n",
    "output_notebook()\n",
    "\n",
    "# To view the above examples in a notebook,\n",
    "# you would only change output_file() to a call to output_notebook() instead."
   ]
  },
  {
   "cell_type": "code",
   "execution_count": null,
   "metadata": {},
   "outputs": [],
   "source": [
    "!find .. | grep Churn_Modelling.csv"
   ]
  },
  {
   "cell_type": "code",
   "execution_count": null,
   "metadata": {},
   "outputs": [],
   "source": [
    "df = pd.read_csv('../_data/Churn_Modelling.csv')\n",
    "df.head(5)\n",
    "df.info()"
   ]
  },
  {
   "cell_type": "code",
   "execution_count": null,
   "metadata": {},
   "outputs": [],
   "source": [
    "# Helper function to check for right type\n",
    "def assert_type(objects, types):\n",
    "    \"\"\"Check dtype\"\"\"\n",
    "    assert types is type or tuple\n",
    "    wrong = ([o for o in objects if not isinstance(o, types)])\n",
    "    if wrong:\n",
    "        raise Exception('Not the asserted type')\n",
    "\n",
    "def df_totype(object, types):\n",
    "    \"\"\"Convert a copy of pd.dataframe.columns to requested type.\"\"\"\n",
    "    assert type(object) not in (np.ndarray, list), 'Type is already ndarray or list...'\n",
    "    if types == np.ndarray:\n",
    "        return object.values.flatten()\n",
    "    elif types == list:\n",
    "        return object.values.flatten().tolist()\n",
    "    else:\n",
    "        raise Exception('Type is not supported')\n",
    "\n",
    "df_totype?"
   ]
  },
  {
   "cell_type": "code",
   "execution_count": null,
   "metadata": {},
   "outputs": [],
   "source": [
    "# prepare some data\n",
    "x = df.filter(regex='^Ag', axis=1).head(50)\n",
    "y = df.filter(like='Cred', axis=1).head(50)\n",
    "label = df.filter(like='Ex', axis=1).head(50)\n",
    "radii = df.filter(like='Est', axis=1).head(50)\n",
    "radii /= np.mean(radii) \n",
    "assert_type([x, y, radii], pd.DataFrame)\n",
    "\n",
    "# colors = [\"#{:.0f}{:.0f}{:.0f}\".format(int(r), int(g), 150) for r, g in zip(50+2*x%100, 30+2*y%100)]\n",
    "\n",
    "\n",
    "xlabel , ylabel = x.columns[0], y.columns[0]\n",
    "\n",
    "# Bokeh need [list or 1D array] for each axis-parameter\n",
    "x = df_totype(x, list)\n",
    "y = df_totype(y, list)\n",
    "label = df_totype(label, list)\n",
    "radii = df_totype(radii, list)\n",
    "assert_type([x, y, label, radii], (list, np.ndarray))\n",
    "\n",
    "colors = [['blue', 'red'][x] for x in label]\n",
    "\n",
    "TOOLS = \"\"\"hover,crosshair,pan,wheel_zoom,zoom_in,zoom_out,box_zoom,undo,redo,reset,\n",
    "      tap,save,box_select,poly_select,lasso_select,\"\"\"\n",
    "\n",
    "# output to static HTML file opening in browser tab (title is tab title)\n",
    "# output_file(\"bokeh_output_temp.html\", title=\"Bokeh plot\")\n",
    "\n",
    "# create a new plot with a title and axis labels\n",
    "p = figure(title=\"Churn\", \n",
    "           tools=TOOLS,\n",
    "           x_axis_label=xlabel, \n",
    "           y_axis_label=ylabel)\n",
    "\n",
    "# add a line renderer with legend and line thickness\n",
    "# p.vbar(y, x, legend=\"Temp1\", line_width=2, top=100)\n",
    "p.circle(x, y, radius=radii, fill_color=colors, fill_alpha=0.5, line_color='white')\n",
    "# p.line(x, y, legend=\"Temp2\", line_width=3)\n",
    "# p.line(x, y, color='aqua')\n",
    "\n",
    "# show the results\n",
    "show(p);"
   ]
  },
  {
   "cell_type": "code",
   "execution_count": null,
   "metadata": {},
   "outputs": [],
   "source": [
    "['blue', 'red'][1, 0, 1]"
   ]
  },
  {
   "cell_type": "code",
   "execution_count": null,
   "metadata": {},
   "outputs": [],
   "source": [
    "# prepare some data\n",
    "x = df.filter(regex='^Ten', axis=1).head(50)\n",
    "y = df.filter(like='Cred', axis=1).head(50)\n",
    "radii = df.filter(like='Bal', axis=1).head(50)\n",
    "radii /= np.mean(radii) * 5\n",
    "assert_type([x, y, radii], pd.DataFrame)\n",
    "\n",
    "# colors = [\"#{:.0f}{:.0f}{:.0f}\".format(int(r), int(g), 150) for r, g in zip(50+2*x%100, 30+2*y%100)]\n",
    "\n",
    "\n",
    "xlabel , ylabel = x.columns[0], y.columns[0]\n",
    "\n",
    "# Bokeh need [list or 1D array] for each axis-parameter\n",
    "x = df_totype(x, list)\n",
    "y = df_totype(y, list)\n",
    "radii = df_totype(radii, list)\n",
    "assert_type([x, y, radii], (list, np.ndarray))\n",
    "\n",
    "\n",
    "\n",
    "TOOLS = \"\"\"hover,crosshair,pan,wheel_zoom,zoom_in,zoom_out,box_zoom,undo,redo,reset,\n",
    "      tap,save,box_select,poly_select,lasso_select,\"\"\"\n",
    "\n",
    "# output to static HTML file opening in browser tab (title is tab title)\n",
    "# output_file(\"bokeh_output_temp.html\", title=\"Bokeh plot\")\n",
    "\n",
    "# create a new plot with a title and axis labels\n",
    "p = figure(title=\"Title here\", \n",
    "           tools=TOOLS,\n",
    "           x_axis_label=xlabel, \n",
    "           y_axis_label=ylabel)\n",
    "\n",
    "# add a line renderer with legend and line thickness\n",
    "# p.vbar(y, x, legend=\"Temp1\", line_width=2, top=100)\n",
    "p.circle(x, y, radius=radii, fill_color='blue', fill_alpha=0.5, line_color='blue')\n",
    "# p.line(x, y, legend=\"Temp2\", line_width=3)\n",
    "# p.line(x, y, color='aqua')\n",
    "\n",
    "# show the results\n",
    "show(p);"
   ]
  },
  {
   "cell_type": "code",
   "execution_count": null,
   "metadata": {},
   "outputs": [],
   "source": [
    "p = figure(\n",
    "    title='log axis example',\n",
    "    tools='pan,box_zoom,reset,save',\n",
    "    x_axis_label=xlabel,\n",
    "    y_axis_label=ylabel)\n",
    "    #y_range=[0, 100], \n",
    "    #y_axis_type='log',)\n",
    "\n",
    "# add some renderers\n",
    "p.line(x, y, legend=\"y=y\", line_width=3)\n",
    "p.circle(x, y, legend=\"y=y\", fill_color=\"white\", line_color=\"red\", size=6)\n",
    "\n",
    "# p.line(x, x, legend=\"y=x\")\n",
    "# p.circle(x, x, legend=\"y=x\", fill_color=\"white\", size=8)\n",
    "#\n",
    "# p.line(y, y, legend=\"x=y\", line_color=\"red\")\n",
    "# p.line(y, x+y, legend=\"x=y\", line_color=\"orange\", line_dash=\"4 4\")\n",
    "\n",
    "# show the results\n",
    "show(p);"
   ]
  },
  {
   "cell_type": "code",
   "execution_count": null,
   "metadata": {},
   "outputs": [],
   "source": [
    "N = 4000\n",
    "x = np.random.random(size=N) * 100\n",
    "y = np.random.random(size=N) * 100\n",
    "radii = np.random.random(size=N) * 1.5"
   ]
  },
  {
   "cell_type": "code",
   "execution_count": null,
   "metadata": {},
   "outputs": [],
   "source": [
    "colors = [\"#{:.0f}{:.0f}{:.0f}\".format(int(r), int(g), 150) for r, g in zip(50+2*x%100, 30+2*y%100)]\n",
    "TOOLS = \"\"\"hover,crosshair,pan,wheel_zoom,zoom_in,zoom_out,box_zoom,undo,redo,reset,\n",
    "      tap,save,box_select,poly_select,lasso_select,\"\"\"\n",
    "\n",
    "p = figure(tools=TOOLS)\n",
    "\n",
    "p.scatter(x, y, \n",
    "          radius=radii,\n",
    "          fill_color=colors, \n",
    "          fill_alpha=0.6,\n",
    "          line_color=None)\n",
    "\n",
    "# If to save as html and open in browser:\n",
    "# output_file(\"color_scatter.html\", title=\"color_scatter.py example\")\n",
    "\n",
    "show(p);"
   ]
  },
  {
   "cell_type": "code",
   "execution_count": null,
   "metadata": {},
   "outputs": [],
   "source": []
  }
 ],
 "metadata": {
  "language_info": {
   "name": "python",
   "pygments_lexer": "ipython3"
  }
 },
 "nbformat": 4,
 "nbformat_minor": 2
}
