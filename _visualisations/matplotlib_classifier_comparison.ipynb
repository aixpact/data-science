{
 "cells": [
  {
   "cell_type": "markdown",
   "metadata": {},
   "source": [
    "\n",
    "# Classifier comparison\n",
    "\n",
    "\n",
    "A comparison of a several classifiers in scikit-learn on synthetic datasets.\n",
    "The point of this example is to illustrate the nature of decision boundaries\n",
    "of different classifiers.\n",
    "This should be taken with a grain of salt, as the intuition conveyed by\n",
    "these examples does not necessarily carry over to real datasets.\n",
    "\n",
    "Particularly in high-dimensional spaces, data can more easily be separated\n",
    "linearly and the simplicity of classifiers such as naive Bayes and linear SVMs\n",
    "might lead to better generalization than is achieved by other classifiers.\n",
    "\n",
    "The plots show training points in solid colors and testing points\n",
    "semi-transparent. The lower right shows the classification accuracy on the test\n",
    "set.\n",
    "\n"
   ]
  },
  {
   "cell_type": "code",
   "execution_count": null,
   "metadata": {},
   "outputs": [],
   "source": [
    "%matplotlib inline"
   ]
  },
  {
   "cell_type": "code",
   "execution_count": null,
   "metadata": {},
   "outputs": [],
   "source": [
    "import warnings"
   ]
  },
  {
   "cell_type": "code",
   "execution_count": null,
   "metadata": {},
   "outputs": [],
   "source": [
    "import numpy as np\n",
    "import matplotlib.pyplot as plt\n",
    "from matplotlib.colors import ListedColormap\n",
    "\n",
    "from sklearn.datasets import make_moons, make_circles, make_classification\n",
    "\n",
    "from sklearn.model_selection import train_test_split\n",
    "from sklearn.preprocessing import StandardScaler\n",
    "from sklearn.neural_network import MLPClassifier\n",
    "from sklearn.neighbors import KNeighborsClassifier\n",
    "from sklearn.svm import SVC\n",
    "from sklearn.gaussian_process import GaussianProcessClassifier\n",
    "from sklearn.gaussian_process.kernels import RBF\n",
    "from sklearn.tree import DecisionTreeClassifier\n",
    "from sklearn.ensemble import RandomForestClassifier, AdaBoostClassifier\n",
    "from sklearn.naive_bayes import GaussianNB\n",
    "from sklearn.discriminant_analysis import QuadraticDiscriminantAnalysis"
   ]
  },
  {
   "cell_type": "markdown",
   "metadata": {},
   "source": [
    "### Classifiers"
   ]
  },
  {
   "cell_type": "code",
   "execution_count": null,
   "metadata": {},
   "outputs": [],
   "source": [
    "names = [\"Nearest Neighbors\", \"Linear SVM\", \"RBF SVM\", \"Gaussian Process\",\n",
    "         \"Decision Tree\", \"Random Forest\", \"Neural Net\", \"AdaBoost\",\n",
    "         \"Naive Bayes\", \"QDA\"]"
   ]
  },
  {
   "cell_type": "code",
   "execution_count": null,
   "metadata": {},
   "outputs": [],
   "source": [
    "classifiers = [\n",
    "    KNeighborsClassifier(3),\n",
    "    SVC(kernel=\"linear\", C=0.025),\n",
    "    SVC(gamma=2, C=1),\n",
    "    GaussianProcessClassifier(1.0 * RBF(1.0)),\n",
    "    DecisionTreeClassifier(max_depth=5),\n",
    "    RandomForestClassifier(max_depth=5, n_estimators=10, max_features=1),\n",
    "    MLPClassifier(alpha=1),\n",
    "    AdaBoostClassifier(),\n",
    "    GaussianNB(),\n",
    "    QuadraticDiscriminantAnalysis()]"
   ]
  },
  {
   "cell_type": "code",
   "execution_count": null,
   "metadata": {},
   "outputs": [],
   "source": [
    "{k:v for k,v in zip(names, classifiers)}"
   ]
  },
  {
   "cell_type": "markdown",
   "metadata": {},
   "source": [
    "### Create linear dataset with noise\n",
    "\n",
    "1. create linear separable data set\n",
    "2. add random noise to X"
   ]
  },
  {
   "cell_type": "code",
   "execution_count": null,
   "metadata": {},
   "outputs": [],
   "source": [
    "X, y = make_classification(n_features=2, n_redundant=0, n_informative=2,\n",
    "                           random_state=1, n_clusters_per_class=1)\n",
    "\n",
    "rng = np.random.RandomState(2)\n",
    "X += 2 * rng.uniform(size=X.shape)\n",
    "linearly_separable = (X, y)\n",
    "linearly_separable;"
   ]
  },
  {
   "cell_type": "markdown",
   "metadata": {},
   "source": [
    "### Datasets: \n",
    "\n",
    "1. moons\n",
    "2. circles\n",
    "3. linear"
   ]
  },
  {
   "cell_type": "code",
   "execution_count": null,
   "metadata": {},
   "outputs": [],
   "source": [
    "datasets = [make_moons(noise=0.3, random_state=0),\n",
    "            make_circles(noise=0.2, factor=0.5, random_state=1),\n",
    "            linearly_separable]"
   ]
  },
  {
   "cell_type": "markdown",
   "metadata": {},
   "source": [
    "### Create mesh"
   ]
  },
  {
   "cell_type": "code",
   "execution_count": null,
   "metadata": {},
   "outputs": [],
   "source": [
    "def mesh(X, step=.02, margin=.5):\n",
    "    \"\"\"Create grid coordinate ranges for x and y; from min-ε upto max+ε, with step\"\"\"\n",
    "    # 2 feature axis\n",
    "    x = X[:, 0]\n",
    "    y = X[:, 1]\n",
    "\n",
    "    x_min, x_max = np.min(x)-margin, np.max(x)+margin\n",
    "    y_min, y_max = np.min(y)-margin, np.max(y)+margin\n",
    "    xx, yy = np.meshgrid(np.arange(x_min, x_max, step), np.arange(y_min, y_max, step))\n",
    "    xy_series = np.c_[xx.ravel(), yy.ravel()]\n",
    "    mesh_dict = {'xx':xx, 'yy':yy, 'xy_series':xy_series, 'xx_min':np.min(xx), 'xx_max':np.max(xx), 'yy_min':np.min(yy), 'yy_max':np.max(yy)}\n",
    "    return mesh_dict"
   ]
  },
  {
   "cell_type": "markdown",
   "metadata": {},
   "source": [
    "### Test mesh"
   ]
  },
  {
   "cell_type": "code",
   "execution_count": null,
   "metadata": {},
   "outputs": [],
   "source": [
    "mesh_ = mesh(X)"
   ]
  },
  {
   "cell_type": "code",
   "execution_count": null,
   "metadata": {},
   "outputs": [],
   "source": [
    "np.testing.assert_almost_equal(mesh_['xx'].min(), mesh_['xx_min'], 5)\n",
    "np.testing.assert_almost_equal(mesh_['yy'].min(), mesh_['yy_min'], 5)\n",
    "np.testing.assert_almost_equal(mesh_['xx'].max(), mesh_['xx_max'], 5)\n",
    "np.testing.assert_almost_equal(mesh_['yy'].max(), mesh_['yy_max'], 5)"
   ]
  },
  {
   "cell_type": "markdown",
   "metadata": {},
   "source": [
    "### "
   ]
  },
  {
   "cell_type": "code",
   "execution_count": null,
   "metadata": {},
   "outputs": [],
   "source": [
    "def plot_dataset(X_train, X_test, y_train, y_test, ax):\n",
    "    \n",
    "    # Plot training points\n",
    "    ax.scatter(X_train[:, 0], X_train[:, 1], c=y_train, cmap=cm_bright, edgecolors='k')\n",
    "    \n",
    "    # Plot testing points\n",
    "    ax.scatter(X_test[:, 0], X_test[:, 1], c=y_test, cmap=cm_bright, alpha=0.6, edgecolors='k')\n",
    "    \n",
    "    ax.set_xlim(xx_min, xx_max)\n",
    "    ax.set_ylim(yy_min, yy_max)\n",
    "    ax.set_xticks(())\n",
    "    ax.set_yticks(())\n",
    "    plt.tight_layout()\n",
    "                \n",
    "    return None"
   ]
  },
  {
   "cell_type": "markdown",
   "metadata": {},
   "source": [
    "### "
   ]
  },
  {
   "cell_type": "markdown",
   "metadata": {},
   "source": [
    "### Setup axes and color scheme"
   ]
  },
  {
   "cell_type": "code",
   "execution_count": null,
   "metadata": {},
   "outputs": [],
   "source": [
    "figure = plt.figure(figsize=(27, 9))\n",
    "ax_0, ax_1 = len(datasets), len(classifiers) + 1\n",
    "\n",
    "# Figure axes position (start @ 1)\n",
    "ax_i = 1\n",
    "\n",
    "# Map color to prediction/probability score\n",
    "cm = plt.cm.RdBu\n",
    "\n",
    "# Map color to labels\n",
    "cm_bright = ListedColormap(['#FF0000', '#0000FF'])"
   ]
  },
  {
   "cell_type": "markdown",
   "metadata": {},
   "source": [
    "### Run classifiers and plot results"
   ]
  },
  {
   "cell_type": "code",
   "execution_count": null,
   "metadata": {},
   "outputs": [],
   "source": [
    "figure = plt.figure(figsize=(27, 9))\n",
    "ax_0, ax_1 = len(datasets), len(classifiers) + 1\n",
    "ax_i = 1\n",
    "\n",
    "with warnings.catch_warnings():\n",
    "    # Ignores ConvergenceWarning for some classifiers which need more iterations to converge\n",
    "    warnings.simplefilter(\"ignore\")\n",
    "\n",
    "    # iterate over datasets\n",
    "    for ds_cnt, ds in enumerate(datasets):\n",
    "\n",
    "        # preprocess dataset, split into training and test part\n",
    "        X, y = ds\n",
    "        X = StandardScaler().fit_transform(X)\n",
    "        X_train, X_test, y_train, y_test = train_test_split(X, y, test_size=.4, random_state=42)\n",
    "\n",
    "        # Get mesh vars for each dataset\n",
    "        mesh_ = mesh(X) # mesh(X_train, X_test, y_train, y_test)\n",
    "        xx, yy = mesh_['xx'], mesh_['yy']\n",
    "        xx_min, xx_max, yy_min, yy_max = mesh_['xx_min'], mesh_['xx_max'], mesh_['yy_min'], mesh_['yy_max']\n",
    "        xy_series = mesh_['xy_series']\n",
    "\n",
    "        # Setup axes; range and remove ticks\n",
    "        ax = plt.subplot(ax_0, ax_1, ax_i)\n",
    "        ax.set_xlim(xx_min, xx_max)\n",
    "        ax.set_ylim(yy_min, yy_max)\n",
    "        ax.set_xticks(())\n",
    "        ax.set_yticks(())\n",
    "\n",
    "        if ds_cnt == 0:\n",
    "            ax.set_title(\"Input data\")\n",
    "\n",
    "        # Plot the training points and testing points\n",
    "        ax.scatter(X_train[:, 0], X_train[:, 1], c=y_train, cmap=cm_bright, edgecolors='k')\n",
    "        ax.scatter(X_test[:, 0], X_test[:, 1], c=y_test, cmap=cm_bright, alpha=0.6, edgecolors='k')\n",
    "\n",
    "        ax_i += 1\n",
    "\n",
    "        # iterate over classifiers within the datasets\n",
    "        for name, clf in zip(names, classifiers):\n",
    "\n",
    "            clf.fit(X_train, y_train)\n",
    "            score = clf.score(X_test, y_test)\n",
    "\n",
    "            # Get prediction value or probability score for each point in the grid\n",
    "            if hasattr(clf, \"decision_function\"):\n",
    "                Z = clf.decision_function(xy_series)\n",
    "            else:\n",
    "                Z = clf.predict_proba(xy_series)[:, 1]\n",
    "\n",
    "            # Setup axes\n",
    "            ax = plt.subplot(ax_0, ax_1, ax_i)\n",
    "            ax.set_xlim(xx_min, xx_max)\n",
    "            ax.set_ylim(yy_min, yy_max)\n",
    "            ax.set_xticks(())\n",
    "            ax.set_yticks(())\n",
    "\n",
    "            # Plot the decision boundaries by assigning a color to each point in the grid(xx, yy)\n",
    "            Z = Z.reshape(xx.shape)\n",
    "            ax.contourf(xx, yy, Z, cmap=cm, alpha=.8)\n",
    "\n",
    "            # Plot also the training points and testing points\n",
    "            ax.scatter(X_train[:, 0], X_train[:, 1], c=y_train, cmap=cm_bright, edgecolors='k')\n",
    "            ax.scatter(X_test[:, 0], X_test[:, 1], c=y_test, cmap=cm_bright, edgecolors='k', alpha=0.6)\n",
    "\n",
    "            if ds_cnt == 0:\n",
    "                ax.set_title(name)\n",
    "\n",
    "            # Add score to plot\n",
    "            ax.text(xx_max - .3, yy_min + .3, ('{:.2f}'.format(score)).lstrip('0'), size=18, weight= 'bold', horizontalalignment='right')\n",
    "\n",
    "            print('.', end='')\n",
    "            ax_i += 1\n",
    "        \n",
    "plt.tight_layout()\n",
    "plt.show();\n"
   ]
  },
  {
   "cell_type": "code",
   "execution_count": null,
   "metadata": {},
   "outputs": [],
   "source": []
  },
  {
   "cell_type": "code",
   "execution_count": null,
   "metadata": {},
   "outputs": [],
   "source": []
  }
 ],
 "metadata": {
  "language_info": {
   "name": "python",
   "pygments_lexer": "ipython3"
  }
 },
 "nbformat": 4,
 "nbformat_minor": 2
}
