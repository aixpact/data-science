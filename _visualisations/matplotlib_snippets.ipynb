{
 "cells": [
  {
   "cell_type": "markdown",
   "metadata": {},
   "source": [
    "# Matplotlib snippets"
   ]
  },
  {
   "cell_type": "code",
   "execution_count": null,
   "metadata": {},
   "outputs": [],
   "source": [
    "def load_2D_dataset():\n",
    "    from imageio import imread\n",
    "    plt.rcParams['figure.figsize'] = (10.0, 5.0)\n",
    "    \n",
    "    # Data\n",
    "    data = scipy.io.loadmat('./datasets/data.mat')\n",
    "    train_X = data['X'].T\n",
    "    train_Y = data['y'].T\n",
    "    test_X = data['Xval'].T\n",
    "    test_Y = data['yval'].T\n",
    "\n",
    "    # Add background - zorder=0\n",
    "    background = './images/field_kiank.png'\n",
    "    img = imread(background)\n",
    "    plt.imshow(img, zorder=0, extent=[-1., 1., -1, 1.])\n",
    "    \n",
    "    # Scatter on top - zorder=1\n",
    "    plt.scatter(train_X[0, :], train_X[1, :], c=np.squeeze(train_Y), s=40, cmap=plt.cm.Spectral, zorder=1);\n",
    "    \n",
    "    # Stretch x-axis: 1/0.6\n",
    "    plt.gca().set_aspect(aspect=0.6)\n",
    "    \n",
    "    # Hide axis\n",
    "    plt.axis('off')\n",
    "    return train_X, train_Y, test_X, test_Y"
   ]
  },
  {
   "cell_type": "code",
   "execution_count": null,
   "metadata": {},
   "outputs": [],
   "source": [
    "!pip freeze"
   ]
  },
  {
   "cell_type": "code",
   "execution_count": null,
   "metadata": {},
   "outputs": [],
   "source": []
  }
 ],
 "metadata": {
  "language_info": {
   "name": "python",
   "pygments_lexer": "ipython3"
  }
 },
 "nbformat": 4,
 "nbformat_minor": 2
}
