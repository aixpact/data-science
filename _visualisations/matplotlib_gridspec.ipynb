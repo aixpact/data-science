{
 "cells": [
  {
   "cell_type": "code",
   "execution_count": null,
   "metadata": {},
   "outputs": [],
   "source": []
  },
  {
   "cell_type": "code",
   "execution_count": null,
   "metadata": {},
   "outputs": [],
   "source": [
    "%matplotlib inline\n",
    "import numpy as np\n",
    "import pandas as pd\n",
    "import matplotlib as mpl\n",
    "import matplotlib.pyplot as plt"
   ]
  },
  {
   "cell_type": "code",
   "execution_count": null,
   "metadata": {},
   "outputs": [],
   "source": [
    "# Make a data frame\n",
    "df=pd.DataFrame({'x': range(1,11), \n",
    "                 'y1': np.random.randn(10), \n",
    "                 'y2': np.random.randn(10)+range(1,11), \n",
    "                 'y3': np.random.randn(10)+range(11,21), \n",
    "                 'y4': np.random.randn(10)+range(6,16), \n",
    "                 'y5': np.random.randn(10)+range(4,14), \n",
    "                 'y6': np.random.randn(10)+range(2,12), \n",
    "                 'y7': np.random.randn(10)+range(5,15), \n",
    "                 'y8': np.random.randn(10)+range(4,14) })"
   ]
  },
  {
   "cell_type": "code",
   "execution_count": null,
   "metadata": {},
   "outputs": [],
   "source": [
    "def varname(var, dir=locals()):\n",
    "    return [key for key, val in dir.items() if id(val) == id(var)]"
   ]
  },
  {
   "cell_type": "code",
   "execution_count": null,
   "metadata": {},
   "outputs": [],
   "source": [
    "def add_titlebox(ax, text):\n",
    "    ax.text(.5, .5, text,\n",
    "         horizontalalignment='center',\n",
    "         verticalalignment='center',\n",
    "         transform=ax.transAxes,\n",
    "         fontsize=12.5)\n",
    "    return ax"
   ]
  },
  {
   "cell_type": "markdown",
   "metadata": {},
   "source": [
    "### plt.subplot2grid"
   ]
  },
  {
   "cell_type": "code",
   "execution_count": null,
   "metadata": {},
   "outputs": [],
   "source": [
    "plt.rcdefaults()  \n",
    "plt.xkcd()"
   ]
  },
  {
   "cell_type": "code",
   "execution_count": null,
   "metadata": {},
   "outputs": [],
   "source": [
    "gridsize = (4, 4)\n",
    "fig = plt.figure(figsize=(12, 8))\n",
    "\n",
    "\n",
    "# Define axes grid/layout\n",
    "ax0 = plt.subplot2grid(gridsize, (0, 0), colspan=1, rowspan=3)\n",
    "ax1 = plt.subplot2grid(gridsize, (0, 1), colspan=3, rowspan=1)\n",
    "ax2 = plt.subplot2grid(gridsize, (1, 1), colspan=2, rowspan=2)\n",
    "ax31 = plt.subplot2grid(gridsize, (3, 0), colspan=1, rowspan=1)\n",
    "ax32 = plt.subplot2grid(gridsize, (3, 1), colspan=2, rowspan=1) \n",
    "ax23 = plt.subplot2grid(gridsize, (1, 3), colspan=1, rowspan=3) \n",
    "labels = 'ax0, ax1, ax2, ax23, ax31, ax32'.split(',')\n",
    "\n",
    "# Add title boxes\n",
    "for label in labels:\n",
    "    add_titlebox(eval(label), label)\n",
    "\n",
    "# Tidy up\n",
    "fig.tight_layout()\n",
    "plt.show();"
   ]
  },
  {
   "cell_type": "markdown",
   "metadata": {},
   "source": [
    "### mpl.gridspec.GridSpec"
   ]
  },
  {
   "cell_type": "code",
   "execution_count": null,
   "metadata": {},
   "outputs": [],
   "source": [
    "plt.style.use(['seaborn-notebook', 'fivethirtyeight']);"
   ]
  },
  {
   "cell_type": "code",
   "execution_count": null,
   "metadata": {},
   "outputs": [],
   "source": [
    "figure = plt.figure(figsize=(10, 8))\n",
    "gs_master = mpl.gridspec.GridSpec(4, 2, height_ratios=[1, 2, 8, 2])\n",
    "\n",
    "# Layer 1 - Title\n",
    "gs_1 = mpl.gridspec.GridSpecFromSubplotSpec(1, 1, subplot_spec=gs_master[0, :])\n",
    "title_axes = figure.add_subplot(gs_1[0])\n",
    "add_titlebox(title_axes, 'title_axes')\n",
    "\n",
    "# Layer 2 - Price\n",
    "gs_2 = mpl.gridspec.GridSpecFromSubplotSpec(1, 1, subplot_spec=gs_master[1, :])\n",
    "price_axes = figure.add_subplot(gs_2[0])\n",
    "add_titlebox(price_axes, 'price_axes')\n",
    "\n",
    "# Layer 3 - Risks & Radar\n",
    "gs_31 = mpl.gridspec.GridSpecFromSubplotSpec(2, 2, height_ratios=[2, 1],\n",
    "        subplot_spec=gs_master[2, :1])\n",
    "\n",
    "risk_and_loss_axes = figure.add_subplot(gs_31[0, :])\n",
    "add_titlebox(risk_and_loss_axes, 'risk_and_loss_axes')\n",
    "\n",
    "risk_axes = figure.add_subplot(gs_31[1, :1])\n",
    "add_titlebox(risk_axes, 'risk_axes')\n",
    "\n",
    "loss_axes = figure.add_subplot(gs_31[1:, 1])\n",
    "add_titlebox(loss_axes, 'loss_axes')\n",
    "\n",
    "gs_32 = mpl.gridspec.GridSpecFromSubplotSpec(1, 1, subplot_spec=gs_master[2, 1])\n",
    "radar_axes = figure.add_subplot(gs_32[0])\n",
    "add_titlebox(radar_axes, 'radar_axes')\n",
    "\n",
    "# Layer 4 - MPG\n",
    "gs_4 = mpl.gridspec.GridSpecFromSubplotSpec(1, 1, subplot_spec=gs_master[3, :])\n",
    "mpg_axes = figure.add_subplot(gs_4[0])\n",
    "add_titlebox(mpg_axes, 'mpg_axes')\n",
    "\n",
    "# Tidy up\n",
    "gs_master.tight_layout(figure)\n",
    "plt.show();\n"
   ]
  },
  {
   "cell_type": "code",
   "execution_count": null,
   "metadata": {},
   "outputs": [],
   "source": []
  }
 ],
 "metadata": {
  "language_info": {
   "name": "python",
   "pygments_lexer": "ipython3"
  }
 },
 "nbformat": 4,
 "nbformat_minor": 2
}
