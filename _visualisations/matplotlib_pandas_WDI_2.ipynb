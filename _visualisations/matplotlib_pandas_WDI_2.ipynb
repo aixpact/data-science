{
 "cells": [
  {
   "cell_type": "markdown",
   "metadata": {},
   "source": [
    "# Visually Exploring Data\n",
    " using World Development Indicators"
   ]
  },
  {
   "cell_type": "code",
   "execution_count": null,
   "metadata": {},
   "outputs": [],
   "source": [
    "%matplotlib inline\n",
    "\n",
    "import pandas as pd\n",
    "import numpy as np\n",
    "import random\n",
    "import matplotlib.pyplot as plt\n"
   ]
  },
  {
   "cell_type": "code",
   "execution_count": null,
   "metadata": {},
   "outputs": [],
   "source": [
    "data = pd.read_csv('../_data/../_data/WDIData_processed.csv')"
   ]
  },
  {
   "cell_type": "code",
   "execution_count": null,
   "metadata": {},
   "outputs": [],
   "source": [
    "data.info()"
   ]
  },
  {
   "cell_type": "markdown",
   "metadata": {},
   "source": [
    "This is a really large dataset, at least in terms of the number of rows.  But with 6 columns, what does this hold?"
   ]
  },
  {
   "cell_type": "code",
   "execution_count": null,
   "metadata": {},
   "outputs": [],
   "source": [
    "data.head(2)"
   ]
  },
  {
   "cell_type": "markdown",
   "metadata": {},
   "source": [
    "## Filter complete features"
   ]
  },
  {
   "cell_type": "markdown",
   "metadata": {},
   "source": [
    "### Select years"
   ]
  },
  {
   "cell_type": "code",
   "execution_count": null,
   "metadata": {},
   "outputs": [],
   "source": [
    "years = [2010, 2011, 2012, 2013, 2014, 2015]\n",
    "df = data.loc[data['Year'].isin(years)]"
   ]
  },
  {
   "cell_type": "markdown",
   "metadata": {},
   "source": [
    "### Select countries and indicators that have full set of years; count==len(years)"
   ]
  },
  {
   "cell_type": "code",
   "execution_count": null,
   "metadata": {},
   "outputs": [],
   "source": [
    "df = df.groupby(['CountryName', 'IndicatorName']).count()\n",
    "df = df[df['Value']==len(years)]"
   ]
  },
  {
   "cell_type": "markdown",
   "metadata": {},
   "source": [
    "### Reset grouping and slice features; 'CountryName', 'IndicatorName'"
   ]
  },
  {
   "cell_type": "code",
   "execution_count": null,
   "metadata": {},
   "outputs": [],
   "source": [
    "df = df.reset_index()\n",
    "df = df.loc[:,['CountryName', 'IndicatorName']]"
   ]
  },
  {
   "cell_type": "markdown",
   "metadata": {},
   "source": [
    "### Sample from complete features"
   ]
  },
  {
   "cell_type": "code",
   "execution_count": null,
   "metadata": {},
   "outputs": [],
   "source": [
    "countries = df['CountryName'].sample(2).values.tolist()\n",
    "indicator = df['IndicatorName'].sample().values[0]\n",
    "countries, indicator"
   ]
  },
  {
   "cell_type": "markdown",
   "metadata": {},
   "source": [
    "## Select from data based on sampled features"
   ]
  },
  {
   "cell_type": "code",
   "execution_count": null,
   "metadata": {},
   "outputs": [],
   "source": [
    "filteredData1 = data.loc[(data['CountryName'] == countries[0]) & (data['IndicatorName'] == indicator) & (data['Year'].isin(years))]\n",
    "filteredData2 = data.loc[(data['CountryName'] == countries[1]) & (data['IndicatorName'] == indicator) & (data['Year'].isin(years))]"
   ]
  },
  {
   "cell_type": "code",
   "execution_count": null,
   "metadata": {},
   "outputs": [],
   "source": [
    "filteredData1"
   ]
  },
  {
   "cell_type": "code",
   "execution_count": null,
   "metadata": {},
   "outputs": [],
   "source": [
    "filteredData2"
   ]
  },
  {
   "cell_type": "markdown",
   "metadata": {},
   "source": [
    "## Scatter Plot"
   ]
  },
  {
   "cell_type": "code",
   "execution_count": null,
   "metadata": {},
   "outputs": [],
   "source": [
    "fig, axis = plt.subplots()\n",
    "# Grid lines, Xticks, Xlabel, Ylabel\n",
    "\n",
    "axis.yaxis.grid(True)\n",
    "axis.set_title(indicator,fontsize=10)\n",
    "axis.set_xlabel(filteredData1['CountryName'].iloc[0],fontsize=10)\n",
    "axis.set_ylabel(filteredData2['CountryName'].iloc[0],fontsize=10)\n",
    "\n",
    "X = filteredData1['Value']\n",
    "Y = filteredData2['Value']\n",
    "\n",
    "axis.scatter(X, Y);"
   ]
  },
  {
   "cell_type": "markdown",
   "metadata": {},
   "source": [
    "## Line Plot"
   ]
  },
  {
   "cell_type": "code",
   "execution_count": null,
   "metadata": {},
   "outputs": [],
   "source": [
    "fig, ax = plt.subplots(figsize=(20, 10))\n",
    "\n",
    "# 1. Adjust the lower and upper limit to bring the graph at center\n",
    "ax.set_ylim(min(0, filteredData2['Value'].min()), 2*filteredData2['Value'].max())\n",
    "\n",
    "# 2. Place in perspective of full dataset\n",
    "# ax.set_ylim(data['Value'].min(), data['Value'].max())\n",
    "\n",
    "ax.set_title('Indicator Name : ' + indicator)\n",
    "\n",
    "ax.plot(filteredData1['Year'], filteredData1['Value'] , 'r--', label=filteredData1['CountryName'].unique()) \n",
    "\n",
    "ax.plot(filteredData2['Year'], filteredData2['Value'] , label=filteredData2['CountryName'].unique(),\n",
    "         color=\"purple\", lw=1, ls='-', \n",
    "         marker='s', \n",
    "         markersize=10, \n",
    "         markerfacecolor=\"white\", \n",
    "         markeredgewidth=1, \n",
    "         markeredgecolor=\"blue\") \n",
    "\n",
    "# Add the legend\n",
    "legend = plt.legend(loc = 'upper center', \n",
    "#                     shadow=True,\n",
    "                    prop={'weight':'roman','size':'xx-large'})\n",
    "\n",
    "# Rectangle around the legend\n",
    "frame = legend.get_frame()\n",
    "frame.set_facecolor('.95')\n",
    "plt.show();"
   ]
  },
  {
   "cell_type": "markdown",
   "metadata": {},
   "source": [
    "## 3D plot"
   ]
  },
  {
   "cell_type": "code",
   "execution_count": null,
   "metadata": {},
   "outputs": [],
   "source": [
    "from mpl_toolkits.mplot3d import Axes3D\n",
    "from matplotlib import cm\n",
    "\n",
    "countof_angles = 36\n",
    "countof_radii  = 8\n",
    "\n",
    "# array - radii\n",
    "array_rad = np.linspace(0.125, 1.0, countof_radii)\n",
    "\n",
    "# array - angles\n",
    "array_ang = np.linspace(0, 2*np.pi, countof_angles, endpoint=False)\n",
    "\n",
    "# repeat all angles per radius\n",
    "array_ang = np.repeat(array_ang[...,np.newaxis], countof_radii, axis=1)\n",
    "\n",
    "# from polar (radii, angles) coords to cartesian (x, y) coords\n",
    "x = np.append(0, (array_rad*np.cos(array_ang)).flatten())\n",
    "y = np.append(0, (array_rad*np.sin(array_ang)).flatten())\n",
    "\n",
    "# saddle shaped surface\n",
    "z = np.sin(-x*y)\n",
    "\n",
    "fig = plt.figure(figsize=(20,10))\n",
    "ax  = fig.gca(projection='3d')\n",
    "\n",
    "ax.plot_trisurf(x, y, z, cmap=cm.autumn, linewidth=0.2)\n",
    "\n",
    "plt.show()\n",
    "fig.savefig(\"vis_3d.png\");"
   ]
  },
  {
   "cell_type": "markdown",
   "metadata": {},
   "source": [
    "## Bubble plot"
   ]
  },
  {
   "cell_type": "code",
   "execution_count": null,
   "metadata": {},
   "outputs": [],
   "source": [
    "n_points = 200\n",
    "radius   = 2 * np.random.rand(n_points)\n",
    "angles   = 2 * (np.pi) * np.random.rand(n_points)\n",
    "area     = 400 * (radius**2) * np.random.rand(n_points)\n",
    "\n",
    "colors = angles\n",
    "\n",
    "fig = plt.figure(figsize=(20,10))\n",
    "ax  = plt.subplot(111, polar=True)\n",
    "\n",
    "c = plt.scatter(angles, radius, c=colors, s=area, cmap=plt.cm.hsv)\n",
    "c.set_alpha(1.95)\n",
    "\n",
    "plt.show()\n",
    "fig.savefig(\"vis_bubbleplot.png\");"
   ]
  },
  {
   "cell_type": "markdown",
   "metadata": {},
   "source": [
    "## Boxplot"
   ]
  },
  {
   "cell_type": "code",
   "execution_count": null,
   "metadata": {},
   "outputs": [],
   "source": [
    "np.random.seed(452)\n",
    "\n",
    "# Three ararys of 100 points each\n",
    "A1 = np.random.normal(0, 1, 100)\n",
    "A2 = np.random.normal(0, 2, 100)\n",
    "A3 = np.random.normal(0, 1.5, 100)\n",
    "\n",
    "# Concatenate the three arrays\n",
    "data = [ A1, A2, A3 ]\n",
    "\n",
    "fig, axes = plt.subplots(nrows=1, ncols=3, figsize=(20, 10))\n",
    "\n",
    "\n",
    "# Box plot: Notch Shape\n",
    "bplot1 = axes[1].boxplot(data,\n",
    "                         notch=True,  \n",
    "                         vert=True,           # vertical aligmnent\n",
    "                         patch_artist=True)   # color\n",
    "\n",
    "# Box plot: Rectangular \n",
    "bplot2 = axes[0].boxplot(data,\n",
    "                         vert=True,           # vertical aligmnent\n",
    "                         patch_artist=True)   # color\n",
    "\n",
    "# Box plot: Rectangular \n",
    "bplot3 = axes[2].violinplot(data,\n",
    "                         vert=True,           # vertical aligmnent\n",
    "                         )   # color\n",
    "\n",
    "\n",
    "colors = ['tomato', 'darkorchid', 'lime']\n",
    "# more colors here: http://matplotlib.org/examples/color/named_colors.html\n",
    "\n",
    "for bplot in (bplot1, bplot2):\n",
    "    for patch, color in zip(bplot['boxes'], colors):\n",
    "        patch.set_facecolor(color)\n",
    "\n",
    "# Grid lines, Xticks, Xlabel, Ylabel\n",
    "for axis in axes:\n",
    "    axis.yaxis.grid(True)\n",
    "    axis.set_xticks([y for y in range(len(data))], )\n",
    "    axis.set_xlabel('Sample X-Label',fontsize=20)\n",
    "    axis.set_ylabel('Sample Y-Label',fontsize=20)\n",
    "\n",
    "    \n",
    "# Xtick labels\n",
    "plt.setp(axes, xticks=[y for y in range(len(data))],\n",
    "         xticklabels=['X1', 'X2', 'X3'])\n",
    "\n",
    "plt.show()\n",
    "fig.savefig(\"vis_boxplot.png\");"
   ]
  },
  {
   "cell_type": "code",
   "execution_count": null,
   "metadata": {},
   "outputs": [],
   "source": []
  }
 ],
 "metadata": {
  "language_info": {
   "name": "python",
   "pygments_lexer": "ipython3"
  }
 },
 "nbformat": 4,
 "nbformat_minor": 2
}
