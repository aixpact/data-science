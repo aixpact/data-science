{
 "cells": [
  {
   "cell_type": "markdown",
   "metadata": {},
   "source": [
    "# Bivariate Gaussian - interactive"
   ]
  },
  {
   "cell_type": "markdown",
   "metadata": {},
   "source": [
    "In this notebook, we'll get a feel for the two-dimensional Gaussian by varying the covariance matrix, drawing random samples from the resulting distribution, and plotting contour lines of the density."
   ]
  },
  {
   "cell_type": "markdown",
   "metadata": {},
   "source": [
    "[Interactive graphs](#Interactive-graphs)\n",
    "<a href='#Interactive graphs'>link text here</a>"
   ]
  },
  {
   "cell_type": "markdown",
   "metadata": {},
   "source": [
    "\n",
    "- [Interactive Bivariate Gausian plot](#Interactive Bivariate Gausian plot)\n",
    "- [3.2 Multiple Linear Regression](#3.2-Multiple-Linear-Regression)\n",
    "- [3.3 Other Considerations in the Regression Model](#3.3-Other-Considerations-in-the-Regression-Model)"
   ]
  },
  {
   "cell_type": "code",
   "execution_count": null,
   "metadata": {},
   "outputs": [],
   "source": [
    "%matplotlib inline\n",
    "\n",
    "import numpy as np\n",
    "import pandas as pd\n",
    "import matplotlib as mpl\n",
    "import matplotlib.pyplot as plt\n",
    "from matplotlib.pyplot import rcParams"
   ]
  },
  {
   "cell_type": "markdown",
   "metadata": {},
   "source": [
    "### Interactive graphs"
   ]
  },
  {
   "cell_type": "markdown",
   "metadata": {},
   "source": [
    "http://ipywidgets.readthedocs.io/en/latest/examples/Using%20Interact.html"
   ]
  },
  {
   "cell_type": "code",
   "execution_count": null,
   "metadata": {},
   "outputs": [],
   "source": [
    "import ipywidgets as widgets\n",
    "from IPython.display import display\n",
    "from ipywidgets import interact, interactive, fixed, interact_manual, IntSlider"
   ]
  },
  {
   "cell_type": "markdown",
   "metadata": {},
   "source": [
    "The function **bivariate_plot** takes as input three parameters that uniquely specify a 2x2 covariance matrix:\n",
    "* `var1`, the variance of the first feature, `x1`\n",
    "* `var2`, the variance of the second feature, `x2`\n",
    "* `corr`, the correlation between `x1` and `x2`\n",
    "\n",
    "It then depicts a 2-d Gaussian whose mean is the origin and whose covariance matrix is given by these parameters. The display consists of 100 points randomly sampled from the Gaussian, as well as three representative contour lines of the density.\n",
    "\n",
    "The first line below, **interact_manual**, sets up an interactive widget that allows you to specify the parameters to **bivariate_plot** using sliders, and provides a button to execute the function."
   ]
  },
  {
   "cell_type": "markdown",
   "metadata": {},
   "source": [
    "<a id=\"mpl_def\"></a>\n",
    "## Set matplotlib default values\n",
    "\n",
    " 1. rcParams[]\n",
    " 2. mpl.rc()"
   ]
  },
  {
   "cell_type": "markdown",
   "metadata": {},
   "source": [
    "<a id=\"section_ID\"></a>\n",
    "### Find default setting values\n",
    "\n",
    "https://matplotlib.org/api/matplotlib_configuration_api.html#matplotlib.rc"
   ]
  },
  {
   "cell_type": "code",
   "execution_count": null,
   "metadata": {},
   "outputs": [],
   "source": [
    "df_rc = pd.DataFrame([(k, v) for k, v in rcParams.items()], columns=['key', 'value']).set_index('key')"
   ]
  },
  {
   "cell_type": "code",
   "execution_count": null,
   "metadata": {},
   "outputs": [],
   "source": [
    "find = input('Get rcParam containing:\\n')\n",
    "df_rc.filter(regex='.*{}.*'.format(find), axis=0)"
   ]
  },
  {
   "cell_type": "markdown",
   "metadata": {},
   "source": [
    "### rcParams[]"
   ]
  },
  {
   "cell_type": "code",
   "execution_count": null,
   "metadata": {},
   "outputs": [],
   "source": [
    "def resize_figure(w=1, h=1):\n",
    "    # Tweak the figure size to be better suited for a row of numerous plots:\n",
    "    # double the width and halve the height. NB: use relative changes because\n",
    "    # some styles may have a figure size different from the default one.\n",
    "    (fig_width, fig_height) = mpl.rcParams['figure.figsize']\n",
    "    fig_size = [fig_width * w, fig_height * h]\n",
    "\n",
    "    mpl.rcParams['figure.figsize'] = fig_width, fig_height\n",
    "\n"
   ]
  },
  {
   "cell_type": "markdown",
   "metadata": {},
   "source": [
    "### mpl.rc()"
   ]
  },
  {
   "cell_type": "code",
   "execution_count": null,
   "metadata": {},
   "outputs": [],
   "source": [
    "def set_rcParams_theme(): \n",
    "    \"\"\"Set theme defaults\"\"\"\n",
    "    \n",
    "    # Restore defaults, remove earlier changes\n",
    "    mpl.rcdefaults()\n",
    "\n",
    "    mpl.style.use('seaborn-white')\n",
    "    \n",
    "    # Set figure size\n",
    "    mpl.rc('figure', figsize=[10., 10.])\n",
    "\n",
    "    # Remove spines\n",
    "    mpl.rc('axes.spines', left=True, top=False, right=False, bottom=True)\n",
    "\n",
    "    # Remove ticks\n",
    "    mpl.rc('xtick.major', top=False, bottom=False)\n",
    "    mpl.rc('ytick.major', left=False, right=False)\n",
    "    \n",
    "    # Set font\n",
    "    font = {'family' : 'monospace',\n",
    "        'weight' : 'normal',\n",
    "        'size'   : 14}\n",
    "    mpl.rc('font', **font)  # pass in the font dict as **kwargs"
   ]
  },
  {
   "cell_type": "code",
   "execution_count": null,
   "metadata": {},
   "outputs": [],
   "source": [
    "set_rcParams_theme()"
   ]
  },
  {
   "cell_type": "code",
   "execution_count": null,
   "metadata": {},
   "outputs": [],
   "source": [
    "# # Set axis position @ x=0, y=0\n",
    "# ax.xaxis.set_ticks_position('bottom')\n",
    "# ax.spines['bottom'].set_position(('data', 0))\n",
    "# ax.yaxis.set_ticks_position('left')\n",
    "# ax.spines['left'].set_position(('data', 0))\n",
    "\n",
    "# # or at center\n",
    "# ax.spines['left'].set_position('center')\n",
    "# ax.spines['bottom'].set_position('center')"
   ]
  },
  {
   "cell_type": "code",
   "execution_count": null,
   "metadata": {},
   "outputs": [],
   "source": [
    "#     # Prevent RuntimeWarning: More than 20 figures have been opened\n",
    "#     mpl.rcParams.update({'figure.max_open_warning': 0})"
   ]
  },
  {
   "cell_type": "markdown",
   "metadata": {},
   "source": [
    "### Helper functions for use case"
   ]
  },
  {
   "cell_type": "code",
   "execution_count": null,
   "metadata": {},
   "outputs": [],
   "source": [
    "def get_sigma(var1, var2, corr):\n",
    "    covariance = corr * np.sqrt(var1) * np.sqrt(var2)\n",
    "    return [[var1, covariance], [covariance, var2]]"
   ]
  },
  {
   "cell_type": "code",
   "execution_count": null,
   "metadata": {},
   "outputs": [],
   "source": [
    "def print_sigma(sigma):\n",
    "    np.set_printoptions(precision=2)\n",
    "    print(\"Covariance matrix:\")\n",
    "    print(np.around(sigma, decimals=2))"
   ]
  },
  {
   "cell_type": "code",
   "execution_count": null,
   "metadata": {},
   "outputs": [],
   "source": [
    "def adjustFigAspect(fig, aspect=1):\n",
    "    '''\n",
    "    Adjust the subplot parameters so that the figure has the correct\n",
    "    aspect ratio.\n",
    "    '''\n",
    "    xsize, ysize = fig.get_size_inches()\n",
    "    minsize = min(xsize, ysize)\n",
    "    xlim = .4 * minsize / xsize\n",
    "    ylim = .4 * minsize / ysize\n",
    "    if aspect < 1:\n",
    "        xlim *= aspect\n",
    "    else:\n",
    "        ylim /= aspect\n",
    "    fig.subplots_adjust(left=.5 - xlim,\n",
    "                        right=.5 + xlim,\n",
    "                        bottom=.5 - ylim,\n",
    "                        top=.5 + ylim)\n",
    "\n",
    "# fig = plt.figure()\n",
    "# adjustFigAspect(fig, aspect=.5)"
   ]
  },
  {
   "cell_type": "code",
   "execution_count": null,
   "metadata": {},
   "outputs": [],
   "source": [
    "def contour_grid(mu, sigma, lim=10, res=200):\n",
    "    \"\"\"To display contour lines, first define a fine grid.\n",
    "    \"\"\"\n",
    "    from scipy.stats import multivariate_normal\n",
    "    \n",
    "    # Create grid\n",
    "    xg = np.linspace(-lim, lim, res)\n",
    "    yg = np.linspace(-lim, lim, res)\n",
    "    z = np.zeros((res, res))\n",
    "    \n",
    "    # Compute the density at each grid point\n",
    "    rv = multivariate_normal(mean=mu, cov=sigma)\n",
    "    for i in range(res):\n",
    "        for j in range(res):\n",
    "            z[j, i] = rv.logpdf([xg[i], yg[j]]) \n",
    "            \n",
    "    return xg, yg, z"
   ]
  },
  {
   "cell_type": "markdown",
   "metadata": {},
   "source": [
    "## Interactive Bivariate Gausian plot"
   ]
  },
  {
   "cell_type": "code",
   "execution_count": null,
   "metadata": {},
   "outputs": [],
   "source": [
    "@interact(var_x1 = (0.5, 9.), var_x2 = (0.5, 9.), corr=(-0.95, 0.95, 0.05))\n",
    "def bivariate_plot(var_x1, var_x2, corr):\n",
    "\n",
    "    # Set parameters of Gaussian\n",
    "    mu = [0,0]\n",
    "    \n",
    "    # Get and print sigma (covariance matrix)\n",
    "    sigma = get_sigma(var_x1, var_x2, corr)\n",
    "    # print_sigma(sigma)\n",
    "    \n",
    "    # Draw samples from the distribution\n",
    "    n = 100\n",
    "    x = np.random.multivariate_normal(mu, sigma, size=n)\n",
    "\n",
    "    \n",
    "    # Plot the sampled points as blue dots\n",
    "    plt.plot(x[: ,0], x[: ,1], 'bo')\n",
    "    fig, ax = plt.gcf(), plt.gca()\n",
    "    \n",
    "    # Set up a plot for the samples and the density contours\n",
    "    adjustFigAspect(plt.gcf(), aspect=1)\n",
    "    \n",
    "    ax.spines['bottom'].set_position(('data', 0))\n",
    "    ax.spines['left'].set_position(('data', 0))\n",
    "\n",
    "    # To display contour lines, first define a fine grid\n",
    "    xg, yg, z = contour_grid(mu, sigma)\n",
    "           \n",
    "    # Compute the sign and (natural) logarithm of the determinant of an array\n",
    "    sign, logdet = np.linalg.slogdet(sigma)\n",
    "    normalizer = -0.5 * (2 * np.log(6.28) + sign * logdet)\n",
    "    \n",
    "    # Now plot a few contour lines of the density\n",
    "    for offset in range(1, 5):\n",
    "        plt.contour(xg, yg, z, levels=[normalizer - offset], colors='r', linewidths=2.0, linestyles='solid')\n",
    "\n",
    "    # Finally, display\n",
    "    plt.show()"
   ]
  },
  {
   "cell_type": "markdown",
   "metadata": {},
   "source": [
    "## <font color=\"magenta\">Quick exercise:</font>\n",
    "Experiment with the widget above to get a sense for how the different parameters influence the shape of the Gaussian. In particular, figure out the answers to the following questions.\n",
    "* Under what conditions does the Gaussian have contour lines that are perfect circles?\n",
    "* Under what conditions is the Gaussian tilted upwards?\n",
    "* Under what conditions is the Gaussian titled downwards?\n",
    "* Suppose the Gaussian has no tilt, and the contour lines are stretched vertically, so that the vertical stretch is twice the horizontal stretch. What can we conclude about the covariance matrix?"
   ]
  },
  {
   "cell_type": "code",
   "execution_count": null,
   "metadata": {},
   "outputs": [],
   "source": [
    "http://www.labri.fr/perso/nrougier/teaching/matplotlib/"
   ]
  }
 ],
 "metadata": {
  "language_info": {
   "name": "python",
   "pygments_lexer": "ipython3"
  }
 },
 "nbformat": 4,
 "nbformat_minor": 2
}
