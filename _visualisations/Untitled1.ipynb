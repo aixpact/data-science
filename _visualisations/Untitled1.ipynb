{
 "cells": [
  {
   "cell_type": "code",
   "execution_count": null,
   "metadata": {},
   "outputs": [],
   "source": []
  },
  {
   "cell_type": "code",
   "execution_count": null,
   "metadata": {},
   "outputs": [],
   "source": []
  },
  {
   "cell_type": "code",
   "execution_count": null,
   "metadata": {},
   "outputs": [],
   "source": [
    "figure = plt.figure(figsize=(10, 8))\n",
    "gs_master = mpl.gridspec.GridSpec(4, 2, height_ratios=[1, 2, 8, 2])\n",
    "\n",
    "# Layer 1 - Title\n",
    "gs_1 = mpl.gridspec.GridSpecFromSubplotSpec(1, 1, subplot_spec=gs_master[0, :])\n",
    "title_axes = figure.add_subplot(gs_1[0])\n",
    "\n",
    "# Layer 2 - Price\n",
    "gs_2 = mpl.gridspec.GridSpecFromSubplotSpec(1, 1, subplot_spec=gs_master[1, :])\n",
    "price_axes = figure.add_subplot(gs_2[0])\n",
    "\n",
    "# Layer 3 - Risks & Radar\n",
    "gs_31 = mpl.gridspec.GridSpecFromSubplotSpec(2, 2, height_ratios=[2, 1],\n",
    " subplot_spec=gs_master[2, :1])\n",
    "\n",
    "risk_and_loss_axes = figure.add_subplot(gs_31[0, :])\n",
    "risk_axes = figure.add_subplot(gs_31[1, :1])\n",
    "loss_axes = figure.add_subplot(gs_31[1:, 1])\n",
    "\n",
    "gs_32 = mpl.gridspec.GridSpecFromSubplotSpec(1, 1, subplot_spec=gs_master[2, 1])\n",
    "radar_axes = figure.add_subplot(gs_32[0])\n",
    "\n",
    "# Layer 4 - MPG\n",
    "gs_4 = mpl.gridspec.GridSpecFromSubplotSpec(1, 1, subplot_spec=gs_master[3, :])\n",
    "mpg_axes = figure.add_subplot(gs_4[0])\n",
    "\n",
    "# Tidy up\n",
    "gs_master.tight_layout(figure)\n",
    "plt.show()\n"
   ]
  },
  {
   "cell_type": "code",
   "execution_count": null,
   "metadata": {},
   "outputs": [],
   "source": []
  }
 ],
 "metadata": {
  "language_info": {
   "name": "python",
   "pygments_lexer": "ipython3"
  }
 },
 "nbformat": 4,
 "nbformat_minor": 2
}
