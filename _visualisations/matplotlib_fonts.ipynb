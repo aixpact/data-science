{
 "cells": [
  {
   "cell_type": "markdown",
   "metadata": {},
   "source": [
    "# Matplotlib fonts"
   ]
  },
  {
   "cell_type": "code",
   "execution_count": null,
   "metadata": {},
   "outputs": [],
   "source": [
    "# %matplotlib notebook\n",
    "%matplotlib inline"
   ]
  },
  {
   "cell_type": "code",
   "execution_count": null,
   "metadata": {},
   "outputs": [],
   "source": [
    "import numpy as np\n",
    "import pandas as pd\n",
    "import matplotlib as mpl\n",
    "import matplotlib.pyplot as plt\n",
    "from matplotlib.ticker import AutoMinorLocator, MultipleLocator, FuncFormatter\n",
    "import random"
   ]
  },
  {
   "cell_type": "markdown",
   "metadata": {},
   "source": [
    "### Import fonts\n",
    "\n",
    "https://fonts.googleapis.com\n",
    "\n",
    "https://fonts.google.com/selection?selection.family=Architects+Daughter|Averia+Sans+Libre|Barrio|BioRhyme+Expanded|Combo|Copse|Freckle+Face|Fredericka+the+Great|Gloria+Hallelujah|IM+Fell+DW+Pica+SC|Indie+Flower|Jua|Kirang+Haerang|Kranky|Love+Ya+Like+A+Sister|Loved+by+the+King|Patrick+Hand+SC|Permanent+Marker|Reenie+Beanie|Rock+Salt|Schoolbell|Sedgwick+Ave|Sedgwick+Ave+Display|Shadows+Into+Light|Shadows+Into+Light+Two|Unkempt|Waiting+for+the+Sunrise|Walter+Turncoat"
   ]
  },
  {
   "cell_type": "code",
   "execution_count": null,
   "metadata": {},
   "outputs": [],
   "source": [
    "%%html\n",
    "<link href=\"https://fonts.googleapis.com/css?family=Architects+Daughter|Averia+Sans+Libre|Barrio|BioRhyme+Expanded|Combo|Copse|Freckle+Face|Fredericka+the+Great|Gloria+Hallelujah|IM+Fell+DW+Pica+SC|Indie+Flower|Jua|Kirang+Haerang|Kranky|Love+Ya+Like+A+Sister|Loved+by+the+King|Patrick+Hand+SC|Permanent+Marker|Reenie+Beanie|Rock+Salt|Schoolbell|Sedgwick+Ave|Sedgwick+Ave+Display|Shadows+Into+Light|Shadows+Into+Light+Two|Unkempt|Waiting+for+the+Sunrise|Walter+Turncoat\" rel=\"stylesheet\">\n",
    "\n",
    "<style>\n",
    "@import url('https://fonts.googleapis.com/css?family=Architects+Daughter|Averia+Sans+Libre|Barrio|BioRhyme+Expanded|Combo|Copse|Freckle+Face|Fredericka+the+Great|Gloria+Hallelujah|IM+Fell+DW+Pica+SC|Indie+Flower|Jua|Kirang+Haerang|Kranky|Love+Ya+Like+A+Sister|Loved+by+the+King|Patrick+Hand+SC|Permanent+Marker|Reenie+Beanie|Rock+Salt|Schoolbell|Sedgwick+Ave|Sedgwick+Ave+Display|Shadows+Into+Light|Shadows+Into+Light+Two|Unkempt|Waiting+for+the+Sunrise|Walter+Turncoat');\n",
    "</style>"
   ]
  },
  {
   "cell_type": "code",
   "execution_count": null,
   "metadata": {},
   "outputs": [],
   "source": [
    "import matplotlib.font_manager\n",
    "from IPython.core.display import HTML"
   ]
  },
  {
   "cell_type": "code",
   "execution_count": null,
   "metadata": {},
   "outputs": [],
   "source": [
    "!find ~ | grep -i architects"
   ]
  },
  {
   "cell_type": "code",
   "execution_count": null,
   "metadata": {},
   "outputs": [],
   "source": [
    "mpl.get_data_path() + '/fonts/'"
   ]
  },
  {
   "cell_type": "code",
   "execution_count": null,
   "metadata": {},
   "outputs": [],
   "source": [
    "mpl.font_manager.fontManager.ttflist[0].__dict__\n",
    "sorted(set([(f.name, f.fname) for f in mpl.font_manager.fontManager.ttflist]))"
   ]
  },
  {
   "cell_type": "code",
   "execution_count": null,
   "metadata": {},
   "outputs": [],
   "source": [
    "def make_html(font, path):\n",
    "    html = \"\"\"<p>\n",
    "    <span style='font-family:{font}; font-size: 18px;'>{font}<br>\n",
    "    <span style='font-size: 9px;'>{path}</p>\n",
    "    \"\"\".format(font=font, path=path)\n",
    "    return html"
   ]
  },
  {
   "cell_type": "code",
   "execution_count": null,
   "metadata": {},
   "outputs": [],
   "source": [
    "code = \"\\n\".join([make_html(font, path) for font, path in \n",
    "                  sorted(set([(f.name, f.fname) for f in mpl.font_manager.fontManager.ttflist]))])\n",
    "\n",
    "HTML(\"<div style='column-count: 3;'>{}</div>\".format(code))"
   ]
  },
  {
   "cell_type": "code",
   "execution_count": null,
   "metadata": {},
   "outputs": [],
   "source": [
    "sorted(set([(f.name, f.fname) for f in mpl.font_manager.fontManager.ttflist]))"
   ]
  },
  {
   "cell_type": "code",
   "execution_count": null,
   "metadata": {},
   "outputs": [],
   "source": [
    "# sorted(set([(f.name, f.fname) for f in mpl.font_manager.fontManager.ttflist]))"
   ]
  },
  {
   "cell_type": "code",
   "execution_count": null,
   "metadata": {},
   "outputs": [],
   "source": [
    "code = \"\\n\".join([make_html(font, path) for font, path in sorted(set([(f.name, f.fname) for f in mpl.font_manager.fontManager.ttflist]))])\n",
    "HTML(\"<div style='column-count: 3;'>{}</div>\".format(code))"
   ]
  },
  {
   "cell_type": "code",
   "execution_count": null,
   "metadata": {},
   "outputs": [],
   "source": [
    "code = \"\\n\".join([make_html(font) for font in sorted(set([f.name for f in mpl.font_manager.fontManager.ttflist]))])\n",
    "HTML(\"<div style='column-count: 3;'>{}</div>\".format(code))"
   ]
  },
  {
   "cell_type": "code",
   "execution_count": null,
   "metadata": {},
   "outputs": [],
   "source": []
  }
 ],
 "metadata": {
  "language_info": {
   "name": "python",
   "pygments_lexer": "ipython3"
  }
 },
 "nbformat": 4,
 "nbformat_minor": 2
}
