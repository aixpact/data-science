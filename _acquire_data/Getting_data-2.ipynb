{
 "cells": [
  {
   "cell_type": "markdown",
   "metadata": {},
   "source": [
    "<h3>Step 1: Import the requests library</h3>"
   ]
  },
  {
   "cell_type": "code",
   "execution_count": null,
   "metadata": {},
   "outputs": [],
   "source": [
    "import requests"
   ]
  },
  {
   "cell_type": "markdown",
   "metadata": {},
   "source": [
    "<h3>Step 2: Send an HTTP request, get the response, and save in a variable</h3>"
   ]
  },
  {
   "cell_type": "code",
   "execution_count": null,
   "metadata": {},
   "outputs": [],
   "source": [
    "response = requests.get(\"http://www.epicurious.com/search/Tofu+Chili\")"
   ]
  },
  {
   "cell_type": "markdown",
   "metadata": {},
   "source": [
    "<h3>Step 3: Check the response status code to see if everything went as planned</h3>\n",
    "<li>status code 200: the request response cycle was successful\n",
    "<li>any other status code: it didn't work (e.g., 404 = page not found)"
   ]
  },
  {
   "cell_type": "code",
   "execution_count": null,
   "metadata": {},
   "outputs": [],
   "source": [
    "print(response.status_code)"
   ]
  },
  {
   "cell_type": "markdown",
   "metadata": {},
   "source": [
    "<h3>Step 4: Get the content of the response</h3>\n",
    "<li>Convert to utf-8 if necessary"
   ]
  },
  {
   "cell_type": "code",
   "execution_count": null,
   "metadata": {},
   "outputs": [],
   "source": [
    "response.content.decode('utf-8')"
   ]
  },
  {
   "cell_type": "markdown",
   "metadata": {},
   "source": [
    "<h4>Problem: Get the contents of Wikipedia's main page and look for the string \"Did you know\" in it</h4>"
   ]
  },
  {
   "cell_type": "code",
   "execution_count": null,
   "metadata": {},
   "outputs": [],
   "source": [
    "url = \"https://en.wikipedia.org/wiki/main_page\"\n",
    "#The rest of your code should go below this line\n"
   ]
  },
  {
   "cell_type": "markdown",
   "metadata": {},
   "source": [
    "<h2>JSON</h2>\n",
    "<li>The python library - json - deals with converting text to and from JSON\n"
   ]
  },
  {
   "cell_type": "code",
   "execution_count": null,
   "metadata": {},
   "outputs": [],
   "source": [
    "import json\n",
    "data_string = '[{\"b\": [2, 4], \"c\": 3.0, \"a\": \"A\"}]'\n",
    "python_data = json.loads(data_string)\n",
    "print(python_data)"
   ]
  },
  {
   "cell_type": "markdown",
   "metadata": {},
   "source": [
    "<h3>json.loads recursively decodes a string in JSON format into equivalent python objects</h3>\n",
    "<li>data_string's outermost element is converted into a python list\n",
    "<li>the first element of that list is converted into a dictionary\n",
    "<li>the key of that dictionary is converted into a string\n",
    "<li>the value of that dictionary is converted into a list of two integer elements"
   ]
  },
  {
   "cell_type": "code",
   "execution_count": null,
   "metadata": {},
   "outputs": [],
   "source": [
    "print(type(data_string),type(python_data))\n",
    "print(type(python_data[0]),python_data[0])\n",
    "print(type(python_data[0]['b']),python_data[0]['b'])"
   ]
  },
  {
   "cell_type": "markdown",
   "metadata": {},
   "source": [
    "<h3>json.loads will throw an exception if the format is incorrect</h3>"
   ]
  },
  {
   "cell_type": "code",
   "execution_count": null,
   "metadata": {},
   "outputs": [],
   "source": [
    "#Wrong\n",
    "json.loads(\"Hello\")\n",
    "#Correct\n",
    "json.loads('\"Hello\"')"
   ]
  },
  {
   "cell_type": "code",
   "execution_count": null,
   "metadata": {},
   "outputs": [],
   "source": [
    "import json\n",
    "data_string = json.dumps(python_data)\n",
    "print(type(data_string))\n",
    "print(data_string)\n"
   ]
  },
  {
   "cell_type": "markdown",
   "metadata": {},
   "source": [
    "<h2>requests library and JSON</h2>"
   ]
  },
  {
   "cell_type": "code",
   "execution_count": null,
   "metadata": {},
   "outputs": [],
   "source": [
    "address=\"Columbia University, New York, NY\"\n",
    "url=\"https://maps.googleapis.com/maps/api/geocode/json?address=%s\" % (address)\n",
    "response = requests.get(url).json()\n",
    "print(type(response))"
   ]
  },
  {
   "cell_type": "markdown",
   "metadata": {},
   "source": [
    "<h3>Exception checking!</h3>"
   ]
  },
  {
   "cell_type": "code",
   "execution_count": null,
   "metadata": {},
   "outputs": [],
   "source": [
    "address=\"Columbia University, New York, NY\"\n",
    "url=\"https://maps.googleapis.com/maps/api/geocode/json?address=%s\" % (address)\n",
    "try:\n",
    "    response = requests.get(url)\n",
    "    if not response.status_code == 200:\n",
    "        print(\"HTTP error\",response.status_code)\n",
    "    else:\n",
    "        try:\n",
    "            response_data = response.json()\n",
    "        except:\n",
    "            print(\"Response not in valid JSON format\")\n",
    "except:\n",
    "    print(\"Something went wrong with requests.get\")\n",
    "print(type(response_data))"
   ]
  },
  {
   "cell_type": "markdown",
   "metadata": {},
   "source": [
    "<h2>Problem 1: Write a function that takes an address as an argument and returns a (latitude, longitude) tuple</h2>"
   ]
  },
  {
   "cell_type": "code",
   "execution_count": null,
   "metadata": {},
   "outputs": [],
   "source": [
    "def get_lat_lng(address_string):\n",
    "    #python code goes here"
   ]
  },
  {
   "cell_type": "markdown",
   "metadata": {},
   "source": [
    "<h2>Problem 2: Extend the function so that it takes a possibly incomplete address as an argument and returns a list of tuples of the form (complete address, latitude, longitude)</h2>"
   ]
  },
  {
   "cell_type": "code",
   "execution_count": null,
   "metadata": {},
   "outputs": [],
   "source": [
    "def get_lat_lng(address_string):\n",
    "    #python code goes here"
   ]
  },
  {
   "cell_type": "markdown",
   "metadata": {},
   "source": [
    "<h1>XML</h1>\n",
    "<li>The python library - lxml - deals with converting an xml string to python objects and vice versa</li>"
   ]
  },
  {
   "cell_type": "code",
   "execution_count": null,
   "metadata": {},
   "outputs": [],
   "source": [
    "data_string = \"\"\"\n",
    "<Bookstore>\n",
    "   <Book ISBN=\"ISBN-13:978-1599620787\" Price=\"15.23\" Weight=\"1.5\">\n",
    "      <Title>New York Deco</Title>\n",
    "      <Authors>\n",
    "         <Author Residence=\"New York City\">\n",
    "            <First_Name>Richard</First_Name>\n",
    "            <Last_Name>Berenholtz</Last_Name>\n",
    "         </Author>\n",
    "      </Authors>\n",
    "   </Book>\n",
    "   <Book ISBN=\"ISBN-13:978-1579128562\" Price=\"15.80\">\n",
    "      <Remark>\n",
    "      Five Hundred Buildings of New York and over one million other books are available for Amazon Kindle.\n",
    "      </Remark>\n",
    "      <Title>Five Hundred Buildings of New York</Title>\n",
    "      <Authors>\n",
    "         <Author Residence=\"Beijing\">\n",
    "            <First_Name>Bill</First_Name>\n",
    "            <Last_Name>Harris</Last_Name>\n",
    "         </Author>\n",
    "         <Author Residence=\"New York City\">\n",
    "            <First_Name>Jorg</First_Name>\n",
    "            <Last_Name>Brockmann</Last_Name>\n",
    "         </Author>\n",
    "      </Authors>\n",
    "   </Book>\n",
    "</Bookstore>\n",
    "\"\"\""
   ]
  },
  {
   "cell_type": "code",
   "execution_count": null,
   "metadata": {},
   "outputs": [],
   "source": [
    "from lxml import etree\n",
    "root = etree.XML(data_string)\n",
    "print(root.tag,type(root.tag))"
   ]
  },
  {
   "cell_type": "code",
   "execution_count": null,
   "metadata": {},
   "outputs": [],
   "source": [
    "print(etree.tostring(root, pretty_print=True).decode(\"utf-8\"))"
   ]
  },
  {
   "cell_type": "markdown",
   "metadata": {},
   "source": [
    "<h3>Iterating over an XML tree</h3>\n",
    "<li>Use an iterator. \n",
    "<li>The iterator will generate every tree element for a given subtree"
   ]
  },
  {
   "cell_type": "code",
   "execution_count": null,
   "metadata": {},
   "outputs": [],
   "source": [
    "for element in root.iter():\n",
    "    print(element)"
   ]
  },
  {
   "cell_type": "markdown",
   "metadata": {},
   "source": [
    "<h4>Or just use the child in subtree construction"
   ]
  },
  {
   "cell_type": "code",
   "execution_count": null,
   "metadata": {},
   "outputs": [],
   "source": [
    "for child in root:\n",
    "    print(child)"
   ]
  },
  {
   "cell_type": "markdown",
   "metadata": {},
   "source": [
    "<h4>Accessing the tag</h4>\n"
   ]
  },
  {
   "cell_type": "code",
   "execution_count": null,
   "metadata": {},
   "outputs": [],
   "source": [
    "for child in root:\n",
    "    print(child.tag)"
   ]
  },
  {
   "cell_type": "markdown",
   "metadata": {},
   "source": [
    "<h4>Using the iterator to get specific tags<h4>\n",
    "<li>In the below example, only the author tags are accessed\n",
    "<li>For each author tag, the .find function accesses the First_Name and Last_Name tags\n",
    "<li>The .find function only looks at the children, not other descendants, so be careful!\n",
    "<li>The .text attribute prints the text in a leaf node"
   ]
  },
  {
   "cell_type": "code",
   "execution_count": null,
   "metadata": {},
   "outputs": [],
   "source": [
    "for element in root.iter(\"Author\"):\n",
    "    print(element.find('First_Name').text,element.find('Last_Name').text)"
   ]
  },
  {
   "cell_type": "markdown",
   "metadata": {},
   "source": [
    "<h4>Problem: Find the last names of all authors in the tree “root” using xpath</h4>"
   ]
  },
  {
   "cell_type": "code",
   "execution_count": null,
   "metadata": {},
   "outputs": [],
   "source": []
  },
  {
   "cell_type": "markdown",
   "metadata": {},
   "source": [
    "<h4>Using values of attributes as filters</h4>\n",
    "<li>Example: Find the first name of the author of a book that weighs 1.5 oz"
   ]
  },
  {
   "cell_type": "code",
   "execution_count": null,
   "metadata": {},
   "outputs": [],
   "source": [
    "root.find('Book[@Weight=\"1.5\"]/Authors/Author/First_Name').text"
   ]
  },
  {
   "cell_type": "markdown",
   "metadata": {},
   "source": [
    "<h4>Problem: Print first and last names of all authors who live in New York City</h4>"
   ]
  },
  {
   "cell_type": "code",
   "execution_count": null,
   "metadata": {},
   "outputs": [],
   "source": []
  },
  {
   "cell_type": "code",
   "execution_count": null,
   "metadata": {},
   "outputs": [],
   "source": []
  },
  {
   "cell_type": "code",
   "execution_count": null,
   "metadata": {},
   "outputs": [],
   "source": []
  },
  {
   "cell_type": "code",
   "execution_count": null,
   "metadata": {},
   "outputs": [],
   "source": []
  }
 ],
 "metadata": {
  "language_info": {
   "name": "python",
   "pygments_lexer": "ipython3"
  }
 },
 "nbformat": 4,
 "nbformat_minor": 2
}
