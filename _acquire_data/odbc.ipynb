{
 "cells": [
  {
   "cell_type": "markdown",
   "metadata": {},
   "source": [
    "# ODBC connection - pyodbc\n",
    "\n",
    "https://github.com/mkleehammer/pyodbc/wiki/Getting-started\n",
    "\n",
    "https://www.digitalocean.com/community/tutorials/how-to-set-up-a-remote-database-to-optimize-site-performance-with-mysql\n"
   ]
  },
  {
   "cell_type": "code",
   "execution_count": null,
   "metadata": {},
   "outputs": [],
   "source": [
    "!pip install pyodbc\n",
    "import pyodbc"
   ]
  },
  {
   "cell_type": "code",
   "execution_count": null,
   "metadata": {},
   "outputs": [],
   "source": [
    "HOST = \"remote host\"\n",
    "PORT = 3306\n",
    "USER = \"username of remote mysql instance\"\n",
    "PASSWORD = \"password of remote mysql instance\"\n",
    "DB = \"database name\""
   ]
  },
  {
   "cell_type": "code",
   "execution_count": null,
   "metadata": {},
   "outputs": [],
   "source": [
    "# Specifying the ODBC driver, server name, database, etc. directly\n",
    "cnxn = pyodbc.connect('DRIVER={SQL Server};SERVER=localhost;DATABASE=DB;UID=USER;PWD=PASSWORD')\n",
    "PORT"
   ]
  },
  {
   "cell_type": "code",
   "execution_count": null,
   "metadata": {},
   "outputs": [],
   "source": [
    "# Using a DSN, but providing a password as well\n",
    "cnxn = pyodbc.connect('DSN=test;PWD=PASSWORD')\n",
    "# or\n",
    "cnxn = pyodbc.connect('DSN=test;UID=USER;PWD=PASSWORD')"
   ]
  },
  {
   "cell_type": "code",
   "execution_count": null,
   "metadata": {},
   "outputs": [],
   "source": [
    "# Create a cursor from the connection\n",
    "cursor = cnxn.cursor()"
   ]
  },
  {
   "cell_type": "code",
   "execution_count": null,
   "metadata": {},
   "outputs": [],
   "source": []
  },
  {
   "cell_type": "code",
   "execution_count": null,
   "metadata": {},
   "outputs": [],
   "source": [
    "# This is just an example that works for PostgreSQL and MySQL, with Python 2.7.\n",
    "cnxn.setdecoding(pyodbc.SQL_CHAR, encoding='utf-8')\n",
    "cnxn.setdecoding(pyodbc.SQL_WCHAR, encoding='utf-8')\n",
    "cnxn.setencoding(encoding='utf-8')"
   ]
  },
  {
   "cell_type": "code",
   "execution_count": null,
   "metadata": {},
   "outputs": [],
   "source": []
  },
  {
   "cell_type": "code",
   "execution_count": null,
   "metadata": {},
   "outputs": [],
   "source": [
    "cursor.execute(\"select user_id, user_name from users\")\n",
    "row = cursor.fetchone()\n",
    "if row:\n",
    "    print(row)"
   ]
  },
  {
   "cell_type": "code",
   "execution_count": null,
   "metadata": {},
   "outputs": [],
   "source": []
  },
  {
   "cell_type": "code",
   "execution_count": null,
   "metadata": {},
   "outputs": [],
   "source": [
    "cursor.execute(\"select user_id, user_name from users\")\n",
    "row = cursor.fetchone()\n",
    "print('name:', row[1])          # access by column index (zero-based)\n",
    "print('name:', row.user_name)   # access by name"
   ]
  },
  {
   "cell_type": "markdown",
   "metadata": {},
   "source": [
    "### resource for DB connection on remote server"
   ]
  },
  {
   "cell_type": "markdown",
   "metadata": {},
   "source": [
    "https://stackoverflow.com/questions/12972867/connect-on-remote-mysql-database-through-python\n",
    "\n",
    "http://nrcfoss.org.in/downloads/tutorials/python/mysql-database-access-from-remote-machine\n",
    "\n",
    "\n",
    "https://stackoverflow.com/questions/37534186/how-to-connect-to-my-remote-sql-server\n"
   ]
  },
  {
   "cell_type": "code",
   "execution_count": null,
   "metadata": {},
   "outputs": [],
   "source": [
    "import pyodbc\n",
    "\n",
    "#Establish connection to SQL-Server 2008 Database using SQL-Server Authentication\n",
    "cnxn = pyodbc.connect('DRIVER={SQL Server Native Client 10.0};SERVER=inp2300fcsdeto6\\data2008;UID=climate_reader;PWD=cl1m@te')\n",
    "                      \n",
    "#Establish connection to SQL-Server 2008 Database using DSN and Windows Authentication\n",
    "cnxn = pyodbc.connect(';DSN = ClimateDB;Trusted_Connection =yes')\n",
    "                      \n",
    "#Create a cursor which manages attributes of data returned from the SQL-Server data source\n",
    "cursor = cnxn.cursor()\n",
    "                      \n",
    "#define SQL Query\n",
    "strSQL = \"SELECT TOP(100)* FROM viewer.vBasicSelection WHERE VersionID=1'\"\n",
    "                      \n",
    "#Execute SQL Query\n",
    "cursor.execute(strSQL)\n",
    "a = cursor.fetchall()\n",
    "                      \n",
    "#print results to screen\n",
    "print a\n",
    "                      \n",
    "#close the connection\n",
    "cursor.close()\n",
    "cnxn.close()"
   ]
  },
  {
   "cell_type": "code",
   "execution_count": null,
   "metadata": {},
   "outputs": [],
   "source": [
    "# Import package to connect to PostgreSQL database\n",
    "# Might need to do \"pip install psycopg2\" OR \"conda install psycopg2\" to download the package\n",
    "import psycopg2\n",
    "# Connect to an existing database\n",
    "conn = psycopg2.connect(dbname=ENTER NAME OF DATABASE, user=ENTER USERNAME, password=ENTER PASSWORD, host=ENTER IP ADDRESS OF HOST, port=5432)\n",
    "# Open a cursor to perform database operations\n",
    "cur = conn.cursor()\n",
    "# Execute a command: this creates a new table\n",
    "cur.execute(\"CREATE TABLE test (id serial PRIMARY KEY, num integer, data varchar);\")\n",
    "# Execute another command. This inserts a row in the table we just created\n",
    "cur.execute(\"INSERT INTO test (num, data) VALUES (%s, %s)\", (100, \"Text\"))\n",
    "# Make the changes to the database persistent\n",
    "conn.commit()\n",
    "# Close communication with the database\n",
    "cur.close()\n",
    "conn.close()"
   ]
  }
 ],
 "metadata": {
  "language_info": {
   "name": "python",
   "pygments_lexer": "ipython3"
  }
 },
 "nbformat": 4,
 "nbformat_minor": 2
}
