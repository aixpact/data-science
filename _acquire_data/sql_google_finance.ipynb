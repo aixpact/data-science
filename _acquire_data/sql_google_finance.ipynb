{
 "cells": [
  {
   "cell_type": "markdown",
   "metadata": {},
   "source": [
    "# MySQL - Google Finance"
   ]
  },
  {
   "cell_type": "code",
   "execution_count": null,
   "metadata": {},
   "outputs": [],
   "source": [
    "import numpy as np\n",
    "import pandas as pd\n",
    "import pymysql\n",
    "import sqlalchemy\n",
    "from sqlalchemy import create_engine"
   ]
  },
  {
   "cell_type": "markdown",
   "metadata": {},
   "source": [
    "### Get credentials"
   ]
  },
  {
   "cell_type": "code",
   "execution_count": null,
   "metadata": {},
   "outputs": [],
   "source": [
    "with open('../_credentials/mysql_credentials.txt') as f:\n",
    "    contents = f.read().split('\\n')\n",
    "    USER = contents[0]\n",
    "    NAME = contents[1]\n",
    "    HOST = contents[2]\n",
    "    PWD = contents[3]"
   ]
  },
  {
   "cell_type": "code",
   "execution_count": null,
   "metadata": {},
   "outputs": [],
   "source": [
    "!find ../_data | grep portfolio.txt"
   ]
  },
  {
   "cell_type": "code",
   "execution_count": null,
   "metadata": {},
   "outputs": [],
   "source": [
    "file = \"../_data/portfolio.txt\"\n",
    "DB = \"Googl_db\""
   ]
  },
  {
   "cell_type": "code",
   "execution_count": null,
   "metadata": {},
   "outputs": [],
   "source": [
    "df = pd.read_csv(file, sep=':')\n",
    "df.head()"
   ]
  },
  {
   "cell_type": "markdown",
   "metadata": {},
   "source": [
    "## Scrape Google Finance"
   ]
  },
  {
   "cell_type": "markdown",
   "metadata": {},
   "source": [
    "### Connect to MySql"
   ]
  },
  {
   "cell_type": "code",
   "execution_count": null,
   "metadata": {},
   "outputs": [],
   "source": [
    "def connect_cursor(host, user, password, db_name):\n",
    "    conx = pymysql.connect(host=host, user=user, password=password, db=db_name,\n",
    "                           charset='utf8mb4', cursorclass=pymysql.cursors.DictCursor)\n",
    "    return conx, conx.cursor()"
   ]
  },
  {
   "cell_type": "code",
   "execution_count": null,
   "metadata": {},
   "outputs": [],
   "source": [
    "conx, cursor = connect_cursor(HOST, USER, PWD, DB)"
   ]
  },
  {
   "cell_type": "code",
   "execution_count": null,
   "metadata": {},
   "outputs": [],
   "source": [
    "cursor.execute('show tables;')\n",
    "cursor.fetchall()"
   ]
  },
  {
   "cell_type": "markdown",
   "metadata": {},
   "source": [
    "### Text file to MySql tables"
   ]
  },
  {
   "cell_type": "code",
   "execution_count": null,
   "metadata": {},
   "outputs": [],
   "source": [
    "with open(file, 'r') as f:\n",
    "    line_count = 0\n",
    "    stocks_set = set()\n",
    "    \n",
    "    for line in f:\n",
    "        line = line.strip()\n",
    "\n",
    "        if line_count == 0:\n",
    "            headers = line.split(':')\n",
    "            headers = [x.replace(' ','_') for x in headers]\n",
    "            \n",
    "            cursor.execute(\"DROP TABLE IF EXISTS stocks;\")\n",
    "            query = \"\"\"CREATE TABLE IF NOT EXISTS stocks ({} VARCHAR(10), {} VARCHAR(30));\n",
    "            \"\"\".format(headers[0], headers[1])\n",
    "            cursor.execute(query)\n",
    "            \n",
    "            cursor.execute(\"DROP TABLE IF EXISTS holdings;\")\n",
    "            query = \"\"\"CREATE TABLE IF NOT EXISTS holdings ({} VARCHAR(10), {} DECIMAL(10,2), {} INT, {} DATE);\n",
    "            \"\"\".format(headers[0], headers[2], headers[3], headers[4])\n",
    "            cursor.execute(query)\n",
    "            \n",
    "            line_count += 1\n",
    "            continue  \n",
    "            \n",
    "        data = line.split(':')\n",
    "        \n",
    "        query = \"\"\"INSERT INTO holdings VALUES (\"{}\", \"{}\", \"{}\", \"{}\");\n",
    "        \"\"\".format(data[0], data[2], data[3], data[4])\n",
    "        cursor.execute(query)\n",
    "        \n",
    "        stock_info = (data[0], data[1])\n",
    "        stocks_set.add(stock_info)"
   ]
  },
  {
   "cell_type": "code",
   "execution_count": null,
   "metadata": {},
   "outputs": [],
   "source": [
    "for stock_info in stocks_set:\n",
    "    stock_query = \"\"\"INSERT INTO stocks VALUES (\"{}\", \"{}\");\"\"\".format(stock_info[0], stock_info[1])\n",
    "    cursor.execute(stock_query)"
   ]
  },
  {
   "cell_type": "code",
   "execution_count": null,
   "metadata": {},
   "outputs": [],
   "source": [
    "conx.commit()\n",
    "conx.close()"
   ]
  },
  {
   "cell_type": "code",
   "execution_count": null,
   "metadata": {},
   "outputs": [],
   "source": [
    "conx, cursor = connect_cursor(HOST, USER, PWD, DB)"
   ]
  },
  {
   "cell_type": "code",
   "execution_count": null,
   "metadata": {},
   "outputs": [],
   "source": [
    "cursor.execute('select * from holdings')\n",
    "cursor.fetchall()"
   ]
  },
  {
   "cell_type": "markdown",
   "metadata": {},
   "source": [
    "### Create table"
   ]
  },
  {
   "cell_type": "code",
   "execution_count": null,
   "metadata": {},
   "outputs": [],
   "source": [
    "conx, cursor = connect_cursor(HOST, USER, PWD, DB)"
   ]
  },
  {
   "cell_type": "code",
   "execution_count": null,
   "metadata": {},
   "outputs": [],
   "source": [
    "create_table = '''CREATE TABLE IF NOT EXISTS `users3` (\n",
    "    `id` int(11) NOT NULL AUTO_INCREMENT,\n",
    "    `email` varchar(255) COLLATE utf8_bin NOT NULL,\n",
    "    `password` varchar(255) COLLATE utf8_bin NOT NULL,\n",
    "    PRIMARY KEY (`id`)) ENGINE=InnoDB DEFAULT CHARSET=utf8 COLLATE=utf8_bin AUTO_INCREMENT=1;'''"
   ]
  },
  {
   "cell_type": "code",
   "execution_count": null,
   "metadata": {},
   "outputs": [],
   "source": [
    "create_table2 = '''CREATE TABLE IF NOT EXISTS {TABLE} (\n",
    "    {ID} VARCHAR(255),\n",
    "    {FIELD1} VARCHAR(255),\n",
    "    {FIELD2} VARCHAR(255));'''.format(TABLE='users2', ID='id', FIELD1='email', FIELD2='password')"
   ]
  },
  {
   "cell_type": "code",
   "execution_count": null,
   "metadata": {},
   "outputs": [],
   "source": [
    "with open(file, 'r') as f:\n",
    "    line_count = 0\n",
    "    stocks_set = set()\n",
    "    for line in f:\n",
    "        line = line.strip()\n",
    "\n",
    "        if line_count == 0:\n",
    "            headers = line.split(':')\n",
    "            headers = [x.replace(' ','_') for x in headers]\n",
    "            cursor.execute(\"DROP TABLE IF EXISTS stocks;\")\n",
    "            cursor.execute(\"DROP TABLE IF EXISTS holdings;\")\n",
    "            \n",
    "            query1 = \"\"\"CREATE TABLE IF NOT EXISTS stocks ({} VARCHAR(10), {} VARCHAR(30));\n",
    "            \"\"\".format(headers[0], headers[1])\n",
    "            query2 = \"\"\"CREATE TABLE IF NOT EXISTS holdings ({} VARCHAR(10), {} DECIMAL(10,2), {} INT, {} DATE);\n",
    "            \"\"\".format(headers[0], headers[2], headers[3], headers[4])\n",
    "            print(query2)\n",
    "            cursor.execute(query1)\n",
    "            cursor.execute(query2)\n",
    "            \n",
    "            line_count += 1\n",
    "            continue        \n",
    "        data = line.split(':')\n",
    "        stock_info = (data[0], data[1])\n",
    "        stocks_set.add(stock_info)\n",
    "        \n",
    "        holdings_query = \"\"\"INSERT INTO holdings VALUES (\"{}\", \"{}\", \"{}\", \"{}\");\"\"\".format(data[0], data[2], data[3], data[4])\n",
    "        cursor.execute(holdings_query)\n",
    "        \n",
    "for s_info in stocks_set:\n",
    "    stock_query = \"\"\"INSERT INTO stocks VALUES (\"{}\", \"{}\");\"\"\".format(s_info[0], s_info[1])\n",
    "    cursor.execute(stock_query)\n",
    "    \n",
    "conx.commit()\n",
    "conx.close()"
   ]
  },
  {
   "cell_type": "markdown",
   "metadata": {},
   "source": [
    "### DataFrame to MySql table"
   ]
  },
  {
   "cell_type": "code",
   "execution_count": null,
   "metadata": {},
   "outputs": [],
   "source": [
    "credx = \"mysql+pymysql://{user}:{pw}@{host}/{db}?charset=utf8\".format(user=USER, host=HOST, pw=PWD, db=DB)\n",
    "engine = create_engine(credx, pool_recycle=1, pool_timeout=57600, echo=False)\n",
    "conx = engine.connect()"
   ]
  },
  {
   "cell_type": "code",
   "execution_count": null,
   "metadata": {},
   "outputs": [],
   "source": [
    "df.to_sql(con=conx, name='university_dataset_ca2', if_exists='append', chunksize=100)"
   ]
  },
  {
   "cell_type": "code",
   "execution_count": null,
   "metadata": {},
   "outputs": [],
   "source": [
    "conx, cursor = connect_cursor(HOST, USER, PWD, DB)"
   ]
  },
  {
   "cell_type": "code",
   "execution_count": null,
   "metadata": {},
   "outputs": [],
   "source": [
    "cursor.execute('show tables;')\n",
    "cursor.fetchall()"
   ]
  },
  {
   "cell_type": "code",
   "execution_count": null,
   "metadata": {},
   "outputs": [],
   "source": [
    "conx.close()"
   ]
  },
  {
   "cell_type": "code",
   "execution_count": null,
   "metadata": {},
   "outputs": [],
   "source": []
  }
 ],
 "metadata": {
  "language_info": {
   "name": "python",
   "pygments_lexer": "ipython3"
  }
 },
 "nbformat": 4,
 "nbformat_minor": 2
}
