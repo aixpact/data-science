{
 "cells": [
  {
   "cell_type": "markdown",
   "metadata": {},
   "source": [
    "# JSON"
   ]
  },
  {
   "cell_type": "code",
   "execution_count": null,
   "metadata": {},
   "outputs": [],
   "source": [
    "import pandas as pd\n",
    "import requests\n",
    "import json"
   ]
  },
  {
   "cell_type": "markdown",
   "metadata": {},
   "source": [
    "### json.loads recursively decodes a string in JSON format into equivalent python objects\n",
    " - data_string's outermost element is converted into a python list\n",
    " - the first element of that list is converted into a dictionary\n",
    " - the key of that dictionary is converted into a string\n",
    " - the value of that dictionary is converted into a list of two integer elements"
   ]
  },
  {
   "cell_type": "code",
   "execution_count": null,
   "metadata": {},
   "outputs": [],
   "source": [
    "data_string = '[{\"b\": [2, 4], \"c\": 3.0, \"a\": \"A\"}]'\n",
    "\n",
    "python_data = json.loads(data_string)\n",
    "print('{}\\n{}\\n{}\\n{}\\n{}\\n{}'.format(type(data_string), type(python_data), python_data, python_data[0], python_data[0]['b'], python_data[0]['b'][1]))"
   ]
  },
  {
   "cell_type": "markdown",
   "metadata": {},
   "source": [
    "### json.dumps and json.loads"
   ]
  },
  {
   "cell_type": "code",
   "execution_count": null,
   "metadata": {},
   "outputs": [],
   "source": [
    "JSON_string = \"JSON throws exception when not in correct format\"\n",
    "print(JSON_string)\n",
    "\n",
    "# Stringify strings\n",
    "JSON_stringified = json.dumps(JSON_string)\n",
    "print(JSON_stringified)\n",
    "\n",
    "# Correct\n",
    "json.loads(JSON_stringified)\n",
    "\n",
    "# JSONDecodeError \n",
    "# json.loads(JSON_string)\n",
    "\n"
   ]
  },
  {
   "cell_type": "markdown",
   "metadata": {},
   "source": [
    "### requests & JSON"
   ]
  },
  {
   "cell_type": "code",
   "execution_count": null,
   "metadata": {},
   "outputs": [],
   "source": [
    "address = 'Amsterdam, Netherlands'\n",
    "url = 'https://maps.googleapis.com/maps/api/geocode/json?address={}'.format(address)\n",
    "response = requests.get(url).json()\n",
    "type(response), response"
   ]
  },
  {
   "cell_type": "markdown",
   "metadata": {},
   "source": [
    "### Get JSON formatted content"
   ]
  },
  {
   "cell_type": "code",
   "execution_count": null,
   "metadata": {},
   "outputs": [],
   "source": [
    "def get_json(url, decode='utf-8'):\n",
    "    try:\n",
    "        response = requests.get(url)\n",
    "        if not response.status_code == 200:\n",
    "            print('HTTP error, response code: {}'.format(response.status_code))\n",
    "        else:\n",
    "            try:\n",
    "                response_data = response.json()\n",
    "            except:\n",
    "                print(\"response not in valid JSON format\")\n",
    "    except:\n",
    "        print('something went wrong with requests.get')\n",
    "        \n",
    "    return response_data"
   ]
  },
  {
   "cell_type": "code",
   "execution_count": null,
   "metadata": {},
   "outputs": [],
   "source": [
    "response_data = get_json(url)\n",
    "response_data"
   ]
  },
  {
   "cell_type": "markdown",
   "metadata": {},
   "source": [
    "### Get address, latitude, longitude"
   ]
  },
  {
   "cell_type": "code",
   "execution_count": null,
   "metadata": {},
   "outputs": [],
   "source": [
    "def get_lat_lng(url):\n",
    "    response = get_json(url)\n",
    "    result = response['results'][0]\n",
    "    formatted_address = result['formatted_address']\n",
    "    lat = result['geometry']['location']['lat']\n",
    "    lng = result['geometry']['location']['lng']\n",
    "    return formatted_address, lat, lng"
   ]
  },
  {
   "cell_type": "code",
   "execution_count": null,
   "metadata": {},
   "outputs": [],
   "source": [
    "get_lat_lng(url)"
   ]
  },
  {
   "cell_type": "code",
   "execution_count": null,
   "metadata": {},
   "outputs": [],
   "source": [
    "address = 'London Business School'\n",
    "url = 'https://maps.googleapis.com/maps/api/geocode/json?address={}'.format(address)\n",
    "get_lat_lng(url)"
   ]
  },
  {
   "cell_type": "markdown",
   "metadata": {},
   "source": [
    "### Get list of addresses with lat, lon"
   ]
  },
  {
   "cell_type": "code",
   "execution_count": null,
   "metadata": {},
   "outputs": [],
   "source": [
    "def get_lat_lng_list(url):\n",
    "    response = get_json(url)\n",
    "    result_list = []\n",
    "    for result in response['results']:\n",
    "        formatted_address = result['formatted_address']\n",
    "        lat = result['geometry']['location']['lat']\n",
    "        lng = result['geometry']['location']['lng']\n",
    "        result_list.append((formatted_address, lat, lng))\n",
    "    return result_list"
   ]
  },
  {
   "cell_type": "code",
   "execution_count": null,
   "metadata": {},
   "outputs": [],
   "source": [
    "address = 'Baker Street'\n",
    "url = 'https://maps.googleapis.com/maps/api/geocode/json?address={}'.format(address)\n",
    "get_lat_lng_list(url)"
   ]
  }
 ],
 "metadata": {
  "language_info": {
   "name": "python",
   "pygments_lexer": "ipython3"
  }
 },
 "nbformat": 4,
 "nbformat_minor": 2
}
