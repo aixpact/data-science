{
 "cells": [
  {
   "cell_type": "markdown",
   "metadata": {},
   "source": [
    "# Matplotlib styles\n",
    "\n",
    "https://tonysyu.github.io/raw_content/matplotlib-style-gallery/gallery.html"
   ]
  },
  {
   "cell_type": "code",
   "execution_count": null,
   "metadata": {},
   "outputs": [],
   "source": [
    "%matplotlib inline"
   ]
  },
  {
   "cell_type": "code",
   "execution_count": null,
   "metadata": {},
   "outputs": [],
   "source": [
    "# libraries and data\n",
    "import matplotlib.pyplot as plt\n",
    "import numpy as np\n",
    "import pandas as pd"
   ]
  },
  {
   "cell_type": "code",
   "execution_count": null,
   "metadata": {},
   "outputs": [],
   "source": [
    "# Make a data frame\n",
    "df=pd.DataFrame({'x': range(1,11), \n",
    "                 'y1': np.random.randn(10), \n",
    "                 'y2': np.random.randn(10)+range(1,11), \n",
    "                 'y3': np.random.randn(10)+range(11,21), \n",
    "                 'y4': np.random.randn(10)+range(6,16), \n",
    "                 'y5': np.random.randn(10)+range(4,14), \n",
    "                 'y6': np.random.randn(10)+range(2,12), \n",
    "                 'y7': np.random.randn(10)+range(5,15), \n",
    "                 'y8': np.random.randn(10)+range(4,14) })"
   ]
  },
  {
   "cell_type": "code",
   "execution_count": null,
   "metadata": {},
   "outputs": [],
   "source": [
    "# All the possibility of style:\n",
    "plt.style.available"
   ]
  },
  {
   "cell_type": "code",
   "execution_count": null,
   "metadata": {},
   "outputs": [],
   "source": [
    "\n",
    " \n",
    "# Initialise figure\n",
    "my_dpi=96\n",
    "plt.figure(figsize=(1000/my_dpi, 1000/my_dpi), dpi=my_dpi)\n",
    " \n",
    "# Let's do a chart per possibility:\n",
    "for n, v in enumerate(plt.style.available):\n",
    " \n",
    "    # I set the new style\n",
    "    plt.style.use(v)\n",
    "\n",
    "    # Start new place in the figure\n",
    "    plt.subplot(5, 5, n+1)\n",
    " \n",
    "    # multiple line plot\n",
    "    for column in df.drop('x', axis=1):\n",
    "        plt.plot(df['x'], df[column], marker='', color='grey', linewidth=1, alpha=0.4)\n",
    "\n",
    "    # And highlith one\n",
    "    plt.plot(df['x'], df['y5'], marker='', color='orange', linewidth=4)\n",
    "\n",
    "    # Add a title to say which style it is\n",
    "    plt.title(v, fontsize=10, fontweight=0, color='grey', loc='left')\n",
    " \n",
    "    # remove labels\n",
    "    plt.tick_params(labelbottom='off')\n",
    "    plt.tick_params(labelleft='off')\n",
    "    \n",
    "# save\n",
    "plt.savefig('../_data/matplotlib_style_sheet.png', dpi=96, bbox_inches='tight');"
   ]
  },
  {
   "cell_type": "code",
   "execution_count": null,
   "metadata": {},
   "outputs": [],
   "source": []
  }
 ],
 "metadata": {
  "language_info": {
   "name": "python",
   "pygments_lexer": "ipython3"
  }
 },
 "nbformat": 4,
 "nbformat_minor": 2
}
