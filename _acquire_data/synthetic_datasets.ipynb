{
 "cells": [
  {
   "cell_type": "markdown",
   "metadata": {},
   "source": [
    "# Synthetic datasets"
   ]
  },
  {
   "cell_type": "markdown",
   "metadata": {},
   "source": [
    "---\n",
    "\n",
    "You are currently looking at **version 1.0** of this notebook. \n",
    "\n",
    "---"
   ]
  },
  {
   "cell_type": "markdown",
   "metadata": {},
   "source": [
    "## Import packages"
   ]
  },
  {
   "cell_type": "code",
   "execution_count": null,
   "metadata": {},
   "outputs": [],
   "source": [
    "%matplotlib inline\n",
    "\n",
    "import numpy as np\n",
    "import pandas as pd\n",
    "import matplotlib as mpl\n",
    "import matplotlib.pyplot as plt\n",
    "\n",
    "from sklearn.datasets import (make_moons, make_circles, make_friedman1,\n",
    "                              make_classification, make_blobs, make_regression)"
   ]
  },
  {
   "cell_type": "markdown",
   "metadata": {},
   "source": [
    "### Constants and defaults"
   ]
  },
  {
   "cell_type": "code",
   "execution_count": null,
   "metadata": {},
   "outputs": [],
   "source": [
    "np.set_printoptions(precision=2)\n",
    "N = 500 # sample size"
   ]
  },
  {
   "cell_type": "markdown",
   "metadata": {},
   "source": [
    "## Datasets"
   ]
  },
  {
   "cell_type": "markdown",
   "metadata": {},
   "source": [
    "### Helper functions"
   ]
  },
  {
   "cell_type": "markdown",
   "metadata": {},
   "source": [
    "#### Sanity check dataset format"
   ]
  },
  {
   "cell_type": "code",
   "execution_count": null,
   "metadata": {},
   "outputs": [],
   "source": [
    "def format_check(X, y):\n",
    "    import numpy as np\n",
    "    assert type(X) == type(np.zeros(2))\n",
    "#     assert X.shape[1] > 0\n",
    "    assert type(y) == type(np.zeros(y.shape))\n",
    "    try:\n",
    "        y.shape[1]\n",
    "        print('{} must be of shape: (n,)'.format(y.shape))  \n",
    "    except:\n",
    "        pass\n",
    "    if len(set(y)) > 9:\n",
    "        classes = 'regression'\n",
    "    else:\n",
    "        classes = set(y)\n",
    "    print('X:\\t {} {}\\ny:\\t {} {}\\nclasses: {}\\n'.format(X.shape, type(X), y.shape, type(y), classes))  \n",
    "    "
   ]
  },
  {
   "cell_type": "markdown",
   "metadata": {},
   "source": [
    "#### Plot datasets"
   ]
  },
  {
   "cell_type": "markdown",
   "metadata": {},
   "source": [
    "def plot_dataset(X_train, X_test, y_train, y_test, ax):\n",
    "    \n",
    "    # Plot training points\n",
    "    ax.scatter(X_train[:, 0], X_train[:, 1], c=y_train, cmap=cm_bright, edgecolors='k')\n",
    "    \n",
    "    # Plot testing points\n",
    "    ax.scatter(X_test[:, 0], X_test[:, 1], c=y_test, cmap=cm_bright, alpha=0.6, edgecolors='k')\n",
    "    \n",
    "    ax.set_xlim(xx_min, xx_max)\n",
    "    ax.set_ylim(yy_min, yy_max)\n",
    "    ax.set_xticks(())\n",
    "    ax.set_yticks(())\n",
    "    plt.tight_layout()\n",
    "                \n",
    "    return None"
   ]
  },
  {
   "cell_type": "code",
   "execution_count": null,
   "metadata": {},
   "outputs": [],
   "source": [
    "def plot_dataset(X, y, **kwargs):\n",
    "    import matplotlib.cm as cm\n",
    "    import seaborn as sns\n",
    "    from matplotlib.colors import ListedColormap, BoundaryNorm\n",
    "    \n",
    "    title = kwargs.get('title', 'default Title')\n",
    "    label = kwargs.get('c', None)\n",
    "    \n",
    "    cmap = kwargs.get('cmap', cm.jet)\n",
    "    cols = ['#00570d', '#1dea5a', '#0762f1', '#cb00f7', '#ff02a0']  # very bright\n",
    "    col_pal = sns.color_palette(cols).as_hex()\n",
    "    cmap = ListedColormap(col_pal)\n",
    "    \n",
    "    plt.scatter(X, y, c=label, cmap=cmap, alpha=0.6)\n",
    "    plt.title(title)\n",
    "    plt.tight_layout();\n",
    "    plt.show();"
   ]
  },
  {
   "cell_type": "markdown",
   "metadata": {},
   "source": [
    "## Syntethic datasets"
   ]
  },
  {
   "cell_type": "markdown",
   "metadata": {},
   "source": [
    "### Simple regression"
   ]
  },
  {
   "cell_type": "code",
   "execution_count": null,
   "metadata": {},
   "outputs": [],
   "source": [
    "X_R1, y_R1 = make_regression(n_samples=N, \n",
    "                             n_features=1,\n",
    "                             n_informative=1, \n",
    "                             bias=150.0,\n",
    "                             noise=30, \n",
    "                             random_state=0)\n",
    "format_check(X_R1, y_R1)\n",
    "plot_dataset(X_R1, y_R1, title='Simple regression distribution')"
   ]
  },
  {
   "cell_type": "markdown",
   "metadata": {},
   "source": [
    "### Complex regression"
   ]
  },
  {
   "cell_type": "code",
   "execution_count": null,
   "metadata": {},
   "outputs": [],
   "source": [
    "X_F1, y_F1 = make_friedman1(n_samples=N,\n",
    "                            n_features=7, \n",
    "                            random_state=0)\n",
    "\n",
    "format_check(X_F1[:, 2], y_F1)\n",
    "plot_dataset(X_F1[:, 2], y_F1, title='Complex regression problem with one input variable')"
   ]
  },
  {
   "cell_type": "markdown",
   "metadata": {},
   "source": [
    "### Classification"
   ]
  },
  {
   "cell_type": "code",
   "execution_count": null,
   "metadata": {},
   "outputs": [],
   "source": [
    "X_C2, y_C2 = make_classification(n_samples=N, \n",
    "                                 n_features=2,\n",
    "                                 n_redundant=0, \n",
    "                                 n_informative=2,\n",
    "                                 n_clusters_per_class=1, \n",
    "                                 flip_y=0.1,\n",
    "                                 class_sep=0.5, \n",
    "                                 random_state=0)\n",
    "\n",
    "format_check(X_C2[:, 0], X_C2[:, 1])\n",
    "plot_dataset(X_C2[:, 0], X_C2[:, 1], c=y_C2, title='Classification distribution')"
   ]
  },
  {
   "cell_type": "markdown",
   "metadata": {},
   "source": [
    "### Blobs"
   ]
  },
  {
   "cell_type": "code",
   "execution_count": null,
   "metadata": {},
   "outputs": [],
   "source": [
    "from sklearn.datasets import make_blobs\n",
    "\n",
    "X_blob, y_blob = make_blobs(n_samples=N,\n",
    "                              n_features=2, \n",
    "                              centers=3, \n",
    "                              cluster_std=1.0,\n",
    "                              shuffle=True, \n",
    "                              random_state=0)\n",
    "\n",
    "format_check(X_blob, y_blob)\n",
    "plot_dataset(X_blob[:,0], X_blob[:,1], c=y_blob, title='Blob shaped distribution')"
   ]
  },
  {
   "cell_type": "markdown",
   "metadata": {},
   "source": [
    "### Complex Blobs"
   ]
  },
  {
   "cell_type": "code",
   "execution_count": null,
   "metadata": {},
   "outputs": [],
   "source": [
    "X_D2, y_D2 = make_blobs(n_samples=N, \n",
    "                        n_features=2, \n",
    "                        centers=8,\n",
    "                        cluster_std=1.3, \n",
    "                        random_state=4)\n",
    "y_D2 = y_D2 % 2\n",
    "\n",
    "format_check(X_D2[:,0], X_D2[:,1])\n",
    "plot_dataset(X_D2[:,0], X_D2[:,1], c=y_D2, title='Complex blob shaped distribution')"
   ]
  },
  {
   "cell_type": "markdown",
   "metadata": {},
   "source": [
    "### Noisy Linear\n",
    "\n",
    "1. create linear separable data set\n",
    "2. add random noise to X"
   ]
  },
  {
   "cell_type": "code",
   "execution_count": null,
   "metadata": {},
   "outputs": [],
   "source": [
    "X_lin, y_lin = make_classification(n_samples=N,\n",
    "                                   n_features=2, \n",
    "                                   n_redundant=0, \n",
    "                                   n_informative=2,\n",
    "                                   n_clusters_per_class=1,\n",
    "                                   random_state=1)\n",
    "\n",
    "rng = np.random.RandomState(2)\n",
    "X_lin += 2 * rng.uniform(size=X_lin.shape)\n",
    "\n",
    "format_check(X_lin[:,0], X_lin[:,1])\n",
    "plot_dataset(X_lin[:,0], X_lin[:,1], c=y_lin, title='Noisy linear shaped distribution')"
   ]
  },
  {
   "cell_type": "markdown",
   "metadata": {},
   "source": [
    "### Moons"
   ]
  },
  {
   "cell_type": "code",
   "execution_count": null,
   "metadata": {},
   "outputs": [],
   "source": [
    "X_moon, y_moon = make_moons(n_samples=N, \n",
    "                            noise=0.3, \n",
    "                            random_state=0)\n",
    "\n",
    "format_check(X_moon, y_moon)\n",
    "plot_dataset(X_moon[:,0], X_moon[:,1], c=y_moon, title='Moon shaped distribution')"
   ]
  },
  {
   "cell_type": "markdown",
   "metadata": {},
   "source": [
    "### Circles"
   ]
  },
  {
   "cell_type": "code",
   "execution_count": null,
   "metadata": {},
   "outputs": [],
   "source": [
    "X_circle, y_circle = make_circles(n_samples=N,\n",
    "                                  noise=0.3, \n",
    "                                  factor=0.5, \n",
    "                                  random_state=1)\n",
    "\n",
    "format_check(X_circle, y_circle)\n",
    "plot_dataset(X_circle[:,0], X_circle[:,1], c=y_circle, title='Circle shaped distribution')"
   ]
  },
  {
   "cell_type": "markdown",
   "metadata": {},
   "source": [
    "---"
   ]
  },
  {
   "cell_type": "markdown",
   "metadata": {},
   "source": [
    "## Sklearn datasets"
   ]
  },
  {
   "cell_type": "markdown",
   "metadata": {},
   "source": [
    "### Breast cancer"
   ]
  },
  {
   "cell_type": "code",
   "execution_count": null,
   "metadata": {},
   "outputs": [],
   "source": [
    "# Breast cancer dataset for classification\n",
    "from sklearn.datasets import load_breast_cancer\n",
    "\n",
    "cancer = load_breast_cancer()\n",
    "X_cancer, y_cancer = load_breast_cancer(return_X_y=True)\n",
    "\n",
    "format_check(X_cancer, y_cancer)\n",
    "plot_dataset(X_cancer[:,0], X_cancer[:,1], c=y_cancer, title='Breast Cancer dataset')"
   ]
  },
  {
   "cell_type": "code",
   "execution_count": null,
   "metadata": {},
   "outputs": [],
   "source": []
  }
 ],
 "metadata": {
  "language_info": {
   "name": "python",
   "pygments_lexer": "ipython3"
  }
 },
 "nbformat": 4,
 "nbformat_minor": 2
}
