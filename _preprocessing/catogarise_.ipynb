{
 "cells": [
  {
   "cell_type": "markdown",
   "metadata": {},
   "source": [
    "# Catogerise data"
   ]
  },
  {
   "cell_type": "code",
   "execution_count": null,
   "metadata": {},
   "outputs": [],
   "source": [
    "import numpy as np\n",
    "import pandas as pd"
   ]
  },
  {
   "cell_type": "code",
   "execution_count": null,
   "metadata": {},
   "outputs": [],
   "source": [
    "# Set pandas defaults\n",
    "# Show max 10 rows: head(5) ... tail(5)\n",
    "pd.set_option('max_rows', 10) "
   ]
  },
  {
   "cell_type": "markdown",
   "metadata": {},
   "source": [
    "## Import data"
   ]
  },
  {
   "cell_type": "code",
   "execution_count": null,
   "metadata": {},
   "outputs": [],
   "source": [
    "df = pd.read_excel('data/categorical_test.xlsx')\n",
    "writer = pd.ExcelWriter('data/categorical_test.xlsx')"
   ]
  },
  {
   "cell_type": "code",
   "execution_count": null,
   "metadata": {},
   "outputs": [],
   "source": [
    "df.info()"
   ]
  },
  {
   "cell_type": "code",
   "execution_count": null,
   "metadata": {},
   "outputs": [],
   "source": [
    "df"
   ]
  },
  {
   "cell_type": "markdown",
   "metadata": {},
   "source": [
    "## Safe data to Excel sheets"
   ]
  },
  {
   "cell_type": "code",
   "execution_count": null,
   "metadata": {},
   "outputs": [],
   "source": [
    "df.to_excel(writer, 'sheet_name')\n",
    "writer.save()"
   ]
  },
  {
   "cell_type": "markdown",
   "metadata": {},
   "source": [
    "## Clean Data"
   ]
  },
  {
   "cell_type": "markdown",
   "metadata": {},
   "source": [
    "### Clean missing Values"
   ]
  },
  {
   "cell_type": "markdown",
   "metadata": {},
   "source": [
    "#### Get features with missing values"
   ]
  },
  {
   "cell_type": "code",
   "execution_count": null,
   "metadata": {},
   "outputs": [],
   "source": [
    "df.columns[df.isnull().sum() > 0]"
   ]
  },
  {
   "cell_type": "markdown",
   "metadata": {},
   "source": [
    "#### Number of missing values"
   ]
  },
  {
   "cell_type": "code",
   "execution_count": null,
   "metadata": {},
   "outputs": [],
   "source": [
    "feature = 'loxen_b'\n",
    "df.loc[:, feature].isnull().values.sum()\n",
    "df.loc[:, feature].isnull().any().sum()"
   ]
  },
  {
   "cell_type": "markdown",
   "metadata": {},
   "source": [
    "#### Range of other missing values"
   ]
  },
  {
   "cell_type": "code",
   "execution_count": null,
   "metadata": {},
   "outputs": [],
   "source": [
    "list_missing = ['ND', 'nan', 'NaN', 'NA', '', '?']\n",
    "df.loc[:, feature].isin(list_missing).any().sum()"
   ]
  },
  {
   "cell_type": "code",
   "execution_count": null,
   "metadata": {},
   "outputs": [],
   "source": [
    "feature = 'height'\n",
    "list_missing = ['ND', 'nan', 'NaN', 'NA', '', '?']\n",
    "df.loc[:, feature].isin(list_missing).any().sum()"
   ]
  },
  {
   "cell_type": "markdown",
   "metadata": {},
   "source": [
    "#### Get sample(s) of missing values\n",
    "- decide whether to drop the sample or impute a value"
   ]
  },
  {
   "cell_type": "code",
   "execution_count": null,
   "metadata": {},
   "outputs": [],
   "source": [
    "df[df[feature].isin(list_missing)]"
   ]
  },
  {
   "cell_type": "markdown",
   "metadata": {},
   "source": [
    "#### Impute manually"
   ]
  },
  {
   "cell_type": "code",
   "execution_count": null,
   "metadata": {},
   "outputs": [],
   "source": [
    "mean_height_female = pd.to_numeric(df[df['sex'] == 'F']['height'], errors='coerce').mean().round(0)\n",
    "mean_height_female"
   ]
  },
  {
   "cell_type": "code",
   "execution_count": null,
   "metadata": {},
   "outputs": [],
   "source": [
    "df.iloc[159, 4] = mean_height_female"
   ]
  },
  {
   "cell_type": "markdown",
   "metadata": {},
   "source": [
    "#### Sanity check"
   ]
  },
  {
   "cell_type": "code",
   "execution_count": null,
   "metadata": {},
   "outputs": [],
   "source": [
    "df.iloc[159].height"
   ]
  },
  {
   "cell_type": "markdown",
   "metadata": {},
   "source": [
    "#### Impute by function (irrespective of factors)"
   ]
  },
  {
   "cell_type": "code",
   "execution_count": null,
   "metadata": {},
   "outputs": [],
   "source": [
    "def impute(df, feature, by):\n",
    "    list_ = df.loc[:, feature].replace([np.nan, None, 'ND', 'nan', 'NaN', 'NA', ''], 9999).copy()\n",
    "    mask_ = list_==9999\n",
    "    if by == 'mean':\n",
    "        list_[mask_] = list_[~mask_].mean()\n",
    "    elif by == 'mode':\n",
    "        list_[mask_] = list_[~mask_].mode()\n",
    "    elif by in df.columns:\n",
    "        list_[mask_] = df.loc[mask_, by]\n",
    "    else:\n",
    "        list_[mask_] = by\n",
    "    return pd.Series(list_)"
   ]
  },
  {
   "cell_type": "code",
   "execution_count": null,
   "metadata": {},
   "outputs": [],
   "source": [
    "df[feature] = impute(df, feature, 'mean')"
   ]
  },
  {
   "cell_type": "markdown",
   "metadata": {},
   "source": [
    "#### Sanity check"
   ]
  },
  {
   "cell_type": "code",
   "execution_count": null,
   "metadata": {},
   "outputs": [],
   "source": [
    "assert df[feature].isin(list_missing).any().sum() == 0 and df[feature].isnull().any().sum() == 0"
   ]
  },
  {
   "cell_type": "code",
   "execution_count": null,
   "metadata": {},
   "outputs": [],
   "source": [
    "feature = 'sex'\n",
    "df[feature].value_counts()\n",
    "df[feature].isin(['NA', 'ND', '']).any().sum(), df[feature].isnull().any().sum()"
   ]
  },
  {
   "cell_type": "markdown",
   "metadata": {},
   "source": [
    "#### Set masks of missing values to amend"
   ]
  },
  {
   "cell_type": "code",
   "execution_count": null,
   "metadata": {},
   "outputs": [],
   "source": [
    "missing = pd.isnull(df.loc[:, feature])"
   ]
  },
  {
   "cell_type": "markdown",
   "metadata": {},
   "source": [
    "#### Stratified masking"
   ]
  },
  {
   "cell_type": "code",
   "execution_count": null,
   "metadata": {},
   "outputs": [],
   "source": [
    "# Male vs. female height & weight distributions\n",
    "male_w = df['weight'] > 68\n",
    "male_h = df['height'] > 168\n",
    "male = male_w & male_h\n",
    "missing_male = male & missing\n",
    "missing_female = ~male & missing"
   ]
  },
  {
   "cell_type": "markdown",
   "metadata": {},
   "source": [
    "#### Impute missing values"
   ]
  },
  {
   "cell_type": "code",
   "execution_count": null,
   "metadata": {},
   "outputs": [],
   "source": [
    "df.loc[missing_male, feature] = 'M'\n",
    "df.loc[missing_female, feature] = 'F'"
   ]
  },
  {
   "cell_type": "markdown",
   "metadata": {},
   "source": [
    "#### Sanity check"
   ]
  },
  {
   "cell_type": "code",
   "execution_count": null,
   "metadata": {},
   "outputs": [],
   "source": [
    "assert df[feature].isin(list_missing).any().sum() == 0 and df[feature].isnull().any().sum() == 0\n",
    "assert df[feature].value_counts().sum() == 200\n",
    "df[feature].value_counts().sum()"
   ]
  },
  {
   "cell_type": "markdown",
   "metadata": {},
   "source": [
    "### Clean garbage data"
   ]
  },
  {
   "cell_type": "code",
   "execution_count": null,
   "metadata": {},
   "outputs": [],
   "source": [
    "df.describe().T"
   ]
  },
  {
   "cell_type": "code",
   "execution_count": null,
   "metadata": {},
   "outputs": [],
   "source": [
    "# Collect features that do not contribute to inference and/or prediction\n",
    "garbage_features = []\n",
    "\n",
    "# Unused features\n",
    "garbage_features.extend([])        # use for list of features\n",
    "garbage_features.append('donor')   # use for a single feature at a time\n",
    "\n",
    "# Drop all 'garbage' features\n",
    "df_unused = df.loc[:, garbage_features]     # save unused features for backup\n",
    "df.drop(garbage_features, axis=1, inplace=True)"
   ]
  },
  {
   "cell_type": "code",
   "execution_count": null,
   "metadata": {},
   "outputs": [],
   "source": [
    "df.describe().T"
   ]
  },
  {
   "cell_type": "markdown",
   "metadata": {},
   "source": [
    "### Clean textual data"
   ]
  },
  {
   "cell_type": "markdown",
   "metadata": {},
   "source": [
    "#### Get object types"
   ]
  },
  {
   "cell_type": "code",
   "execution_count": null,
   "metadata": {},
   "outputs": [],
   "source": [
    "df.loc[:, df.dtypes == 'object']"
   ]
  },
  {
   "cell_type": "code",
   "execution_count": null,
   "metadata": {},
   "outputs": [],
   "source": [
    "feature = 'scanner_b'\n",
    "df[feature].value_counts()"
   ]
  },
  {
   "cell_type": "code",
   "execution_count": null,
   "metadata": {},
   "outputs": [],
   "source": [
    "def clean_seq(df, feature, seperator='_'):\n",
    "    import re\n",
    "    return [seperator.join(sorted(set(re.split(r';\\s*|\\.\\s*|,\\s*|\\+\\s*|\\s+', str(x).strip()))))\n",
    "                      for x in df.loc[:, feature]]\n",
    "\n",
    "def clean_feature(df, feature, seperator='_'):\n",
    "    return pd.Series(clean_seq(df, feature, seperator))"
   ]
  },
  {
   "cell_type": "code",
   "execution_count": null,
   "metadata": {},
   "outputs": [],
   "source": [
    "df[feature] = clean_feature(df, feature, ',')"
   ]
  },
  {
   "cell_type": "code",
   "execution_count": null,
   "metadata": {},
   "outputs": [],
   "source": [
    "df[feature].value_counts()"
   ]
  },
  {
   "cell_type": "markdown",
   "metadata": {},
   "source": [
    "### Clean numerical data"
   ]
  },
  {
   "cell_type": "code",
   "execution_count": null,
   "metadata": {},
   "outputs": [],
   "source": [
    "feature = 'nad_0'\n",
    "df[feature].describe()"
   ]
  },
  {
   "cell_type": "markdown",
   "metadata": {},
   "source": [
    "#### Set type to float"
   ]
  },
  {
   "cell_type": "code",
   "execution_count": null,
   "metadata": {},
   "outputs": [],
   "source": [
    "df.loc[:, feature] = df.loc[:, feature][df[feature].apply(lambda x: type(x) in [int, np.int64, float, np.float64])]\n",
    "df.loc[:, feature] = df.loc[:, feature].astype('f')"
   ]
  },
  {
   "cell_type": "markdown",
   "metadata": {},
   "source": [
    "#### Set all 'object' features which contain more then 2 values to float "
   ]
  },
  {
   "cell_type": "code",
   "execution_count": null,
   "metadata": {},
   "outputs": [],
   "source": [
    "def convert_to_floats(df):\n",
    "    for feature in df.loc[:, df.dtypes == 'object'].columns:\n",
    "        if len(df.loc[:, feature].value_counts()) > 2:\n",
    "            try:\n",
    "                df.loc[:, feature] = df.loc[:, feature].astype(np.float32)\n",
    "            except:\n",
    "                # print(\"{} can't be converted to float\".format(feature))\n",
    "                continue"
   ]
  },
  {
   "cell_type": "markdown",
   "metadata": {},
   "source": [
    "### Convert to binary on arbitrary cut"
   ]
  },
  {
   "cell_type": "code",
   "execution_count": null,
   "metadata": {},
   "outputs": [],
   "source": [
    "cut = 0.5\n",
    "df.loc[:, feature] = round(impute(df, feature, 'mean'), 2)\n",
    "df.loc[:, feature] = np.where(df.loc[:, feature] > cut, 1, 0).astype(np.uint8)"
   ]
  },
  {
   "cell_type": "markdown",
   "metadata": {},
   "source": [
    "#### Sanity check"
   ]
  },
  {
   "cell_type": "code",
   "execution_count": null,
   "metadata": {},
   "outputs": [],
   "source": [
    "df[feature].describe()\n",
    "assert ~df.loc[:, feature].isnull().any(), 'Feature contains missing values'"
   ]
  },
  {
   "cell_type": "markdown",
   "metadata": {},
   "source": [
    "#### Impute mean value"
   ]
  },
  {
   "cell_type": "code",
   "execution_count": null,
   "metadata": {},
   "outputs": [],
   "source": [
    "df.loc[:, feature] = impute(df, feature, 'mean').astype('f')"
   ]
  },
  {
   "cell_type": "code",
   "execution_count": null,
   "metadata": {},
   "outputs": [],
   "source": [
    "assert ~df.loc[:, feature].isnull().any(), 'Feature contains missing values'"
   ]
  },
  {
   "cell_type": "markdown",
   "metadata": {},
   "source": [
    "### Convert to top-n categories\n",
    "- move typos/missing values to separate dummy var"
   ]
  },
  {
   "cell_type": "code",
   "execution_count": null,
   "metadata": {},
   "outputs": [],
   "source": [
    "def top_cat(df_, feature, top=10):\n",
    "    \"\"\"Create dummy vars of top most-frequent labels and annotate with A-Z\"\"\"\n",
    "    alphabet = list('ABCDEFGHIJKLMNOPQRSTUVWXYZ')\n",
    "    labels = alphabet[:top]\n",
    "    other = alphabet[top+1]\n",
    "    top_codes = df_.groupby(feature)[feature].count().sort_values(ascending=False).head(top).index.tolist()\n",
    "    map_values = {k:l for k, l in (zip(top_codes, labels))}  # [::-1]\n",
    "    key_others = set(map_values.keys()) ^ (set(df_.loc[:, feature].values))\n",
    "    map_others = {k:other for k in key_others}\n",
    "    map_all = {**map_others, **map_values}\n",
    "#     pd.get_dummies(df_, columns=[feature], drop_first=True)\n",
    "    return df_.loc[:, feature].replace(map_all).astype('category')"
   ]
  },
  {
   "cell_type": "code",
   "execution_count": null,
   "metadata": {},
   "outputs": [],
   "source": [
    "feature = 'infection_b'\n",
    "df[feature].unique()"
   ]
  },
  {
   "cell_type": "code",
   "execution_count": null,
   "metadata": {},
   "outputs": [],
   "source": [
    "df[feature].value_counts()"
   ]
  },
  {
   "cell_type": "code",
   "execution_count": null,
   "metadata": {},
   "outputs": [],
   "source": [
    "df[feature] = top_cat(df, feature, 5)"
   ]
  },
  {
   "cell_type": "markdown",
   "metadata": {},
   "source": [
    "#### Sanity check"
   ]
  },
  {
   "cell_type": "code",
   "execution_count": null,
   "metadata": {},
   "outputs": [],
   "source": [
    "df.filter(regex=(\"infection.*\"))\n",
    "df[feature].value_counts()"
   ]
  },
  {
   "cell_type": "markdown",
   "metadata": {},
   "source": [
    "### Clean binary data"
   ]
  },
  {
   "cell_type": "code",
   "execution_count": null,
   "metadata": {},
   "outputs": [],
   "source": [
    "feature = 'sex'\n",
    "df[feature] = df[feature].replace({'M':0, 'F':1}).astype(np.uint8)"
   ]
  },
  {
   "cell_type": "markdown",
   "metadata": {},
   "source": [
    "#### Set all 'object' features which contain 2 values to binary"
   ]
  },
  {
   "cell_type": "code",
   "execution_count": null,
   "metadata": {},
   "outputs": [],
   "source": [
    "def convert_to_boolean(df):\n",
    "    for feature in df.loc[:, df.dtypes == 'object'].columns:\n",
    "        if len(df.loc[:, feature].value_counts()) == 2:\n",
    "            try:\n",
    "                df.loc[:, feature] = df.loc[:, feature].astype(np.uint8)\n",
    "            except:\n",
    "                # print(\"{} can't be converted to boolean\".format(feature))\n",
    "                continue"
   ]
  },
  {
   "cell_type": "markdown",
   "metadata": {},
   "source": [
    "#### Split data on arbitrary value  \n",
    "e.g. \n",
    "- keep 1 and change rest to 0\n",
    "- keep 0 and change rest to 1\n",
    "- change below 0 => 0, above 0 => 1"
   ]
  },
  {
   "cell_type": "code",
   "execution_count": null,
   "metadata": {},
   "outputs": [],
   "source": [
    "df.info()"
   ]
  },
  {
   "cell_type": "code",
   "execution_count": null,
   "metadata": {},
   "outputs": [],
   "source": [
    "feature = 'minirin_b'\n",
    "arb_value = 1\n",
    "df.loc[:, feature] = np.where(df.loc[:, feature] == 1, 1, 0).astype(np.uint8)\n",
    "df[feature].value_counts()"
   ]
  },
  {
   "cell_type": "code",
   "execution_count": null,
   "metadata": {},
   "outputs": [],
   "source": [
    "feature = 'loxen_b'\n",
    "arb_value = 0\n",
    "df.loc[:, feature] = np.where(df.loc[:, feature] != 0, 1, 0).astype(np.uint8)\n",
    "df[feature].value_counts()"
   ]
  },
  {
   "cell_type": "code",
   "execution_count": null,
   "metadata": {},
   "outputs": [],
   "source": [
    "feature = 'weight_change'\n",
    "arb_value = 1\n",
    "df.loc[:, feature] = np.where(df.loc[:, feature] > 0, 1, 0).astype(np.uint8)\n",
    "df[feature].value_counts()"
   ]
  },
  {
   "cell_type": "markdown",
   "metadata": {},
   "source": [
    "## EDA"
   ]
  },
  {
   "cell_type": "markdown",
   "metadata": {},
   "source": [
    "### Distribution and Frequency"
   ]
  },
  {
   "cell_type": "code",
   "execution_count": null,
   "metadata": {},
   "outputs": [],
   "source": [
    "feature, values, by, top_n = 'target_label', [1,], 'sex', 5\n",
    "df[df[feature].isin(values)].groupby(by).count()"
   ]
  },
  {
   "cell_type": "code",
   "execution_count": null,
   "metadata": {},
   "outputs": [],
   "source": [
    "(df[df[feature] == value][by].value_counts()\n",
    "                              .sort_values(ascending=False)\n",
    "                              .nlargest(top_n))"
   ]
  },
  {
   "cell_type": "markdown",
   "metadata": {},
   "source": [
    "#### Singleton distributions"
   ]
  },
  {
   "cell_type": "code",
   "execution_count": null,
   "metadata": {},
   "outputs": [],
   "source": [
    "def get_singletons(df):\n",
    "    return [feature for i, feature in enumerate(df.columns) if len(df.loc[:, feature].value_counts()) < 2]"
   ]
  },
  {
   "cell_type": "code",
   "execution_count": null,
   "metadata": {},
   "outputs": [],
   "source": [
    "df[get_singletons(df)].describe()"
   ]
  },
  {
   "cell_type": "code",
   "execution_count": null,
   "metadata": {},
   "outputs": [],
   "source": [
    "# Remove single value features\n",
    "df.drop(get_singletons(df), axis=1, inplace=True)"
   ]
  },
  {
   "cell_type": "markdown",
   "metadata": {},
   "source": [
    "### Remove highly skewed features by threshold"
   ]
  },
  {
   "cell_type": "code",
   "execution_count": null,
   "metadata": {},
   "outputs": [],
   "source": [
    "freq_threshold = 0.10\n",
    "drop = False\n",
    "for feature in df.columns:\n",
    "    try:\n",
    "        if df.loc[:, feature].value_counts().max()/len(df) > freq_threshold:\n",
    "            print('Feature {}: {}% in one value'.format(\n",
    "            feature, df.loc[:, feature].value_counts().max()/len(df)*100))\n",
    "            if drop:\n",
    "                print('Feature {} ({}% in one value) is dropped'.format(\n",
    "                feature, df.loc[:, feature].value_counts().max()/len(df)*100))\n",
    "                df.drop(feature, axis=1, inplace=True)\n",
    "    except:\n",
    "        continue"
   ]
  },
  {
   "cell_type": "markdown",
   "metadata": {},
   "source": [
    "## Binary vars"
   ]
  },
  {
   "cell_type": "markdown",
   "metadata": {},
   "source": [
    "## Dummy vars"
   ]
  },
  {
   "cell_type": "code",
   "execution_count": null,
   "metadata": {},
   "outputs": [],
   "source": [
    "feature = 'monitor'\n",
    "df = pd.get_dummies(df, columns=[feature], drop_first=True)\n",
    "df"
   ]
  },
  {
   "cell_type": "markdown",
   "metadata": {},
   "source": [
    "## Named dummies\n",
    " - collect by value\n",
    " - split to dummy vars\n",
    " - name as per category value"
   ]
  },
  {
   "cell_type": "code",
   "execution_count": null,
   "metadata": {},
   "outputs": [],
   "source": [
    "feature = 'germes'\n",
    "df[feature].unique()"
   ]
  },
  {
   "cell_type": "code",
   "execution_count": null,
   "metadata": {},
   "outputs": [],
   "source": [
    "df[feature] = clean_feature(df, feature, ',')\n",
    "for cat in ['1','2','3','4','5','6','7','8','ND']:\n",
    "    feature_ = '{}_{}'.format(feature, cat)\n",
    "    df[feature_] = np.where(df.loc[:, feature].str.contains(cat), 1, 0).astype(np.uint8)"
   ]
  },
  {
   "cell_type": "markdown",
   "metadata": {},
   "source": [
    "#### Sanity check"
   ]
  },
  {
   "cell_type": "code",
   "execution_count": null,
   "metadata": {},
   "outputs": [],
   "source": [
    "df.filter(regex=(\"germes.*\"))"
   ]
  },
  {
   "cell_type": "markdown",
   "metadata": {},
   "source": [
    "#### Delete absolete feature"
   ]
  },
  {
   "cell_type": "code",
   "execution_count": null,
   "metadata": {},
   "outputs": [],
   "source": [
    "del df[feature]"
   ]
  },
  {
   "cell_type": "code",
   "execution_count": null,
   "metadata": {},
   "outputs": [],
   "source": []
  },
  {
   "cell_type": "code",
   "execution_count": null,
   "metadata": {},
   "outputs": [],
   "source": []
  },
  {
   "cell_type": "code",
   "execution_count": null,
   "metadata": {},
   "outputs": [],
   "source": []
  },
  {
   "cell_type": "code",
   "execution_count": null,
   "metadata": {},
   "outputs": [],
   "source": []
  }
 ],
 "metadata": {
  "language_info": {
   "name": "python",
   "pygments_lexer": "ipython3"
  }
 },
 "nbformat": 4,
 "nbformat_minor": 2
}
