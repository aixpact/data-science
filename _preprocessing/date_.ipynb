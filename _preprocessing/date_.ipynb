{
 "cells": [
  {
   "cell_type": "markdown",
   "metadata": {},
   "source": [
    "---\n",
    "\n",
    "_You are currently looking at **version 1.1** of this notebook. To download notebooks and datafiles, as well as get help on Jupyter notebooks in the Coursera platform, visit the [Jupyter Notebook FAQ](https://www.coursera.org/learn/python-text-mining/resources/d9pwm) course resource._\n",
    "\n",
    "---"
   ]
  },
  {
   "cell_type": "markdown",
   "metadata": {},
   "source": [
    "# Assignment 1\n",
    "\n",
    "In this assignment, you'll be working with messy medical data and using regex to extract relevant infromation from the data. \n",
    "\n",
    "Each line of the `dates.txt` file corresponds to a medical note. Each note has a date that needs to be extracted, but each date is encoded in one of many formats.\n",
    "\n",
    "The goal of this assignment is to correctly identify all of the different date variants encoded in this dataset and to properly normalize and sort the dates. \n",
    "\n",
    "Here is a list of some of the variants you might encounter in this dataset:\n",
    "* 04/20/2009; 04/20/09; 4/20/09; 4/3/09\n",
    "* Mar-20-2009; Mar 20, 2009; March 20, 2009;  Mar. 20, 2009; Mar 20 2009;\n",
    "* 20 Mar 2009; 20 March 2009; 20 Mar. 2009; 20 March, 2009\n",
    "* Mar 20th, 2009; Mar 21st, 2009; Mar 22nd, 2009\n",
    "* Feb 2009; Sep 2009; Oct 2010\n",
    "* 6/2008; 12/2009\n",
    "* 2009; 2010\n",
    "\n",
    "Once you have extracted these date patterns from the text, the next step is to sort them in ascending chronological order accoring to the following rules:\n",
    "* Assume all dates in xx/xx/xx format are mm/dd/yy\n",
    "* Assume all dates where year is encoded in only two digits are years from the 1900's (e.g. 1/5/89 is January 5th, 1989)\n",
    "* If the day is missing (e.g. 9/2009), assume it is the first day of the month (e.g. September 1, 2009).\n",
    "* If the month is missing (e.g. 2010), assume it is the first of January of that year (e.g. January 1, 2010).\n",
    "* Watch out for potential typos as this is a raw, real-life derived dataset.\n",
    "\n",
    "With these rules in mind, find the correct date in each note and return a pandas Series in chronological order of the original Series' indices.\n",
    "\n",
    "For example if the original series was this:\n",
    "\n",
    "    0    1999\n",
    "    1    2010\n",
    "    2    1978\n",
    "    3    2015\n",
    "    4    1985\n",
    "\n",
    "Your function should return this:\n",
    "\n",
    "    0    2\n",
    "    1    4\n",
    "    2    0\n",
    "    3    1\n",
    "    4    3\n",
    "\n",
    "Your score will be calculated using [Kendall's tau](https://en.wikipedia.org/wiki/Kendall_rank_correlation_coefficient), a correlation measure for ordinal data.\n",
    "\n",
    "*This function should return a Series of length 500 and dtype int.*"
   ]
  },
  {
   "cell_type": "code",
   "execution_count": null,
   "metadata": {},
   "outputs": [],
   "source": [
    "import pandas as pd\n",
    "import numpy as np\n",
    "\n",
    "doc = []\n",
    "with open('dates.txt') as file:\n",
    "    for line in file:\n",
    "        doc.append(line)\n",
    "\n",
    "df = pd.Series(doc)\n",
    "df.head(10)\n",
    "# df.shape"
   ]
  },
  {
   "cell_type": "code",
   "execution_count": null,
   "metadata": {},
   "outputs": [],
   "source": [
    "def date_sorter():\n",
    "    # Extract dates\n",
    "    df_dates = df.str.replace(r'(\\d+\\.\\d+)', '')\n",
    "    df_dates = df_dates.str.extractall(r'[\\s\\.,\\-/]*?(?P<ddmonthyyyy>\\d\\d[\\s\\.,\\-/]+(?:January|February|March|April|May|June|July|August|September|October|November|December|' + \\\n",
    "                                       'Jan|Feb|Mar|Apr|May|Jun|Jul|Aug|Sep|Oct|Nov|Dec)[\\s\\.,\\-/]+(?:19|20)\\d\\d)|' + \\\n",
    "                                       r'[\\s\\.,\\-/]*?(?P<monthddyyyy>(?:Jan.*\\b|February|March|April|May|June|July|August|September|October|November|Dec.*\\b|' + \\\n",
    "                                       'Jan|Feb|Mar|Apr|May|Jun|Jul|Aug|Sep|Oct|Nov|Dec)[\\s\\.,\\-/]+\\d\\d[\\s\\.,\\-/]+?(?:19|20)?\\d\\d)|' + \\\n",
    "                                       r'[\\s\\.,\\-/]*?(?P<monthyyyy>(?:January|February|March|April|May|June|July|August|September|October|November|December|' + \\\n",
    "                                       'Jan|Feb|Mar|Apr|May|Jun|Jul|Aug|Sep|Oct|Nov|Dec)[\\s\\.,\\-/]+(?:19|20)\\d\\d)|' + \\\n",
    "                                       r'(?P<mmddyyyy>[0-3]?\\d[\\-/]+[0-3]?\\d[\\-/]+(?:19|20)\\d\\d)|' + \\\n",
    "                                       r'(?P<mmddyy>[0-3]?\\d[\\-/]+[0-3]?\\d[\\-/]+\\d\\d)|' + \\\n",
    "                                       r'(?P<mmyyyy>[0-1]?\\d[\\-/]+(?:19|20)\\d\\d)|' + \\\n",
    "                                       r'(?P<year>(?:19|20)\\d\\d)')\n",
    "    # Munge dates\n",
    "    df_dates = df_dates.fillna('')\n",
    "    df_dates = df_dates.sum(axis=1).apply(pd.to_datetime)\n",
    "    df_dates = df_dates.reset_index()\n",
    "    df_dates.columns = ['index', 'match', 'dates']\n",
    "\n",
    "    # Sort dates\n",
    "    df_dates.sort_values(by='dates', inplace=True)\n",
    "    result = df_dates.loc[:, 'index'].astype('int32')\n",
    "\n",
    "    # Unit test & Sanity check\n",
    "    assert result.shape[0] == 500\n",
    "    assert result[0].dtype == 'int32'\n",
    "\n",
    "    return result\n",
    "\n",
    "date_sorter()"
   ]
  },
  {
   "cell_type": "code",
   "execution_count": null,
   "metadata": {},
   "outputs": [],
   "source": []
  }
 ],
 "metadata": {
  "language_info": {
   "name": "python",
   "pygments_lexer": "ipython3"
  }
 },
 "nbformat": 4,
 "nbformat_minor": 2
}
