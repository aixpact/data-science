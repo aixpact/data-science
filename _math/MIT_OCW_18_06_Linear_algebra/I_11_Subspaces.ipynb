{
 "cells": [
  {
   "cell_type": "markdown",
   "metadata": {},
   "source": [
    "+ This notebook is part of lecture 10 *The four fundamental subspaces* in the OCW MIT course 18.06 by Prof Gilbert Strang [1]\n",
    "+ Created by me, Dr Juan H Klopper\n",
    "    + Head of Acute Care Surgery\n",
    "    + Groote Schuur Hospital\n",
    "    + University Cape Town\n",
    "    + <a href=\"mailto:juan.klopper@uct.ac.za\">Email me with your thoughts, comments, suggestions and corrections</a> \n",
    "<a rel=\"license\" href=\"http://creativecommons.org/licenses/by-nc/4.0/\"><img alt=\"Creative Commons Licence\" style=\"border-width:0\" src=\"https://i.creativecommons.org/l/by-nc/4.0/88x31.png\" /></a><br /><span xmlns:dct=\"http://purl.org/dc/terms/\" href=\"http://purl.org/dc/dcmitype/InteractiveResource\" property=\"dct:title\" rel=\"dct:type\">Linear Algebra OCW MIT18.06</span> <span xmlns:cc=\"http://creativecommons.org/ns#\" property=\"cc:attributionName\">IPython notebook [2] study notes by Dr Juan H Klopper</span> is licensed under a <a rel=\"license\" href=\"http://creativecommons.org/licenses/by-nc/4.0/\">Creative Commons Attribution-NonCommercial 4.0 International License</a>.\n",
    "\n",
    "+ [1] <a href=\"http://ocw.mit.edu/courses/mathematics/18-06sc-linear-algebra-fall-2011/index.htm\">OCW MIT 18.06</a>\n",
    "+ [2] Fernando Pérez, Brian E. Granger, IPython: A System for Interactive Scientific Computing, Computing in Science and Engineering, vol. 9, no. 3, pp. 21-29, May/June 2007, doi:10.1109/MCSE.2007.53. URL: http://ipython.org"
   ]
  },
  {
   "cell_type": "code",
   "execution_count": null,
   "metadata": {},
   "outputs": [],
   "source": [
    "from IPython.core.display import HTML, Image\n",
    "css_file = 'style.css'\n",
    "HTML(open(css_file, 'r').read())"
   ]
  },
  {
   "cell_type": "code",
   "execution_count": null,
   "metadata": {},
   "outputs": [],
   "source": [
    "#import numpy as np\n",
    "from sympy import init_printing, Matrix, symbols\n",
    "#import matplotlib.pyplot as plt\n",
    "#import seaborn as sns\n",
    "#from IPython.display import Image\n",
    "from warnings import filterwarnings\n",
    "\n",
    "init_printing(use_latex = 'mathjax') # Pretty Latex printing to the screen\n",
    "#%matplotlib inline\n",
    "filterwarnings('ignore')"
   ]
  },
  {
   "cell_type": "markdown",
   "metadata": {},
   "source": [
    "# The four fundamental subspaces\n",
    "# Introducing the matrix space"
   ]
  },
  {
   "cell_type": "markdown",
   "metadata": {},
   "source": [
    "## The four fundamental subspaces"
   ]
  },
  {
   "cell_type": "markdown",
   "metadata": {},
   "source": [
    "* Columnspace, C(A)\n",
    "* Nullspace, N(A)\n",
    "* Rowspaces\n",
    "    * All linear combinations of rows\n",
    "    * All the linear combinations of the colums of A<sup>T</sup>, C(A<sup>T</sup>)\n",
    "* Nullspace of A<sup>T</sup>, N(A<sup>T</sup>) (the left nullspace of A)"
   ]
  },
  {
   "cell_type": "markdown",
   "metadata": {},
   "source": [
    "## Where are these spaces for a matrix A<sub>m&#215;n</sub>?"
   ]
  },
  {
   "cell_type": "markdown",
   "metadata": {},
   "source": [
    "* C(A) is in &#8477;<sup>m</sup>\n",
    "* N(A) is in &#8477;<sup>n</sup>\n",
    "* C(A<sup>T</sup>) is in &#8477;<sup>n</sup>\n",
    "* N(A<sup>T</sup>) is in &#8477;<sup>m</sup>"
   ]
  },
  {
   "cell_type": "markdown",
   "metadata": {},
   "source": [
    "## Calculating basis and dimension"
   ]
  },
  {
   "cell_type": "markdown",
   "metadata": {},
   "source": [
    "### For C(A)"
   ]
  },
  {
   "cell_type": "markdown",
   "metadata": {},
   "source": [
    "* The bases are the pivot columns\n",
    "* The dimension is the rank *r*"
   ]
  },
  {
   "cell_type": "markdown",
   "metadata": {},
   "source": [
    "### For N(A)"
   ]
  },
  {
   "cell_type": "markdown",
   "metadata": {},
   "source": [
    "* The bases are the special solutions (one for every free variable, *n* - *r*)\n",
    "* The dimension is *n* - *r*"
   ]
  },
  {
   "cell_type": "markdown",
   "metadata": {},
   "source": [
    "### For C(A<sup>T</sup>)"
   ]
  },
  {
   "cell_type": "markdown",
   "metadata": {},
   "source": [
    "* If A undergoes row reduction to row echelon form (R), then C(R) &#8800; C(A), but rowspace(R) = rowspace(A) (or C(R<sup>T</sup>) = C(A<sup>T</sup>))\n",
    "* A basis for the rowspace of A (or R) is the first *r* rows of R\n",
    "    * So we row reduce A and take the pivot rows and transpose them\n",
    "* The dimension is also equal to the rank *r*"
   ]
  },
  {
   "cell_type": "markdown",
   "metadata": {},
   "source": [
    "### For N(A<sup>T</sup>)"
   ]
  },
  {
   "cell_type": "markdown",
   "metadata": {},
   "source": [
    "* It is also called the left, because it ends up on the left (as seen below)\n",
    "* Here we have A<sup>T</sup>**y** = **0**\n",
    "    * **y**<sup>T</sup>(A<sup>T</sup>)<sup>T</sup> = **0**<sup>T</sup>\n",
    "    * **y**<sup>T</sup>A = **0**<sup>T</sup>\n",
    "    * This is (again) the pivot columns of A<sup>T</sup> (after row reduction)\n",
    "* The dimension is *m* - *r*"
   ]
  },
  {
   "cell_type": "markdown",
   "metadata": {},
   "source": [
    "## Example problems"
   ]
  },
  {
   "cell_type": "markdown",
   "metadata": {},
   "source": [
    "### Consider this example matrix and calculate the bases and dimension for all four fundamental spaces"
   ]
  },
  {
   "cell_type": "code",
   "execution_count": null,
   "metadata": {},
   "outputs": [],
   "source": [
    "A = Matrix([[1, 2, 3, 1], [1, 1, 2, 1], [1, 2, 3, 1]]) # We note that rows 1 and three are identical and that\n",
    "# columns 3 is the addtion of columns 1 and 2 and column 1 equals column 4\n",
    "A"
   ]
  },
  {
   "cell_type": "markdown",
   "metadata": {},
   "source": [
    "#### Columnspace"
   ]
  },
  {
   "cell_type": "code",
   "execution_count": null,
   "metadata": {},
   "outputs": [],
   "source": [
    "A.rref() # Remember that the columnspace contains the pivot columns as a basis"
   ]
  },
  {
   "cell_type": "markdown",
   "metadata": {},
   "source": [
    "* The basis is thus:\n",
    "$$ \\begin{bmatrix} 1 & 0 \\\\ 0 & 1 \\\\ 0 & 0 \\end{bmatrix} $$\n",
    "* It is indeed in &#8477;<sup>3</sup> (rows of A = *m* = 3, i.e. each column vector is in 3-space or has 3 components)"
   ]
  },
  {
   "cell_type": "markdown",
   "metadata": {},
   "source": [
    "* The rank (no of columns with pivots) are 2, thus dim(A) = 2"
   ]
  },
  {
   "cell_type": "markdown",
   "metadata": {},
   "source": [
    "#### Nullspace"
   ]
  },
  {
   "cell_type": "code",
   "execution_count": null,
   "metadata": {},
   "outputs": [],
   "source": [
    "A.nullspace() # Calculating the nullspace vectors"
   ]
  },
  {
   "cell_type": "markdown",
   "metadata": {},
   "source": [
    "* So, indeed the basis is in &#8477;<sup>4</sup> (A has *n* = 4 columns)"
   ]
  },
  {
   "cell_type": "code",
   "execution_count": null,
   "metadata": {},
   "outputs": [],
   "source": [
    "A.rref() # No pivots for columns 3 and 4"
   ]
  },
  {
   "cell_type": "markdown",
   "metadata": {},
   "source": [
    "* The dimension is two (there are 2 column vectors, which is indeed *n* - *r* = 4 - 2 = 2)"
   ]
  },
  {
   "cell_type": "markdown",
   "metadata": {},
   "source": [
    "#### Rowspace C(A<sup>T</sup>)"
   ]
  },
  {
   "cell_type": "markdown",
   "metadata": {},
   "source": [
    "* So we are looking for the pivot columns of A<sup>T</sup>"
   ]
  },
  {
   "cell_type": "code",
   "execution_count": null,
   "metadata": {},
   "outputs": [],
   "source": [
    "A.rref()"
   ]
  },
  {
   "cell_type": "markdown",
   "metadata": {},
   "source": [
    "* The pivot rows are rows 1 and 2\n",
    "* We take them and transpose them\n",
    "$$ \\begin{bmatrix} 1 & 0 \\\\ 0 & 1 \\\\ 1 & 1 \\\\ 1 & 0 \\end{bmatrix} $$"
   ]
  },
  {
   "cell_type": "markdown",
   "metadata": {},
   "source": [
    "* As stated above, it is in &#8477;<sup>4</sup>"
   ]
  },
  {
   "cell_type": "markdown",
   "metadata": {},
   "source": [
    "* The dimension is *n* - *r* = 4 - 2 = 2"
   ]
  },
  {
   "cell_type": "markdown",
   "metadata": {},
   "source": [
    "#### Nullspace of A<sup>T</sup>"
   ]
  },
  {
   "cell_type": "code",
   "execution_count": null,
   "metadata": {},
   "outputs": [],
   "source": [
    "A.nullspace()"
   ]
  },
  {
   "cell_type": "markdown",
   "metadata": {},
   "source": [
    "* Which is indeed in &#8477;<sup>3</sup>"
   ]
  },
  {
   "cell_type": "markdown",
   "metadata": {},
   "source": [
    "* The dimension is 1, since *m* - *r* = 3 - 2 = 1 (remember that the rank is the number of pivot columns)"
   ]
  },
  {
   "cell_type": "markdown",
   "metadata": {},
   "source": [
    "### Consider this example matrix (in LU form) and calculate the bases and dimension for all four fundamental spaces"
   ]
  },
  {
   "cell_type": "code",
   "execution_count": null,
   "metadata": {},
   "outputs": [],
   "source": [
    "L = Matrix([[1, 0, 0], [2, 1, 0], [-1, 0, 1]])\n",
    "U = Matrix([[5, 0, 3], [0, 1, 1], [0, 0, 0]])\n",
    "A = L * U\n",
    "L, U, A"
   ]
  },
  {
   "cell_type": "markdown",
   "metadata": {},
   "source": [
    "#### Columnspace of A"
   ]
  },
  {
   "cell_type": "code",
   "execution_count": null,
   "metadata": {},
   "outputs": [],
   "source": [
    "A.rref()"
   ]
  },
  {
   "cell_type": "markdown",
   "metadata": {},
   "source": [
    "* The basis is thus:\n",
    "$$ \\begin{bmatrix} 1 & 0 \\\\ 0 & 1 \\\\ 0 & 0 \\end{bmatrix} $$\n",
    "* Another basis would be the pivot columns of L:\n",
    "$$ \\begin{bmatrix} 1 & 0 \\\\ 2 & 1 \\\\ -1 & 0 \\end{bmatrix} $$\n",
    "* It is in &#8477;<sup>3</sup>, since *m* = 3\n",
    "* It has a rank of 2 (two pivot columns)\n",
    "* Since the dimension of the columnspace is equal to the rank, dim(A) = 2\n",
    "    * Note that it is also equal to the number of pivot columns in U"
   ]
  },
  {
   "cell_type": "markdown",
   "metadata": {},
   "source": [
    "#### Nullspace of A"
   ]
  },
  {
   "cell_type": "code",
   "execution_count": null,
   "metadata": {},
   "outputs": [],
   "source": [
    "A.nullspace()"
   ]
  },
  {
   "cell_type": "markdown",
   "metadata": {},
   "source": [
    "* The nullspace is in &#8477;<sup>3</sup>, since *n* = 3\n",
    "* The basis is the special solution(s), which is one column vector for every free variable\n",
    "    * Since we only have a single free variable, we have a single nullspace column vector\n",
    "    * This fits in with the fact that it needs to be *n* - *r*\n",
    "    * It can also be calculated by taking U, setting the free variable to 1 and solving for the other rows by setting each equal to zero\n",
    "* The dimension of the nullspace is also 1 (*n* - *r*, i.e. a single column)\n",
    "    * It is also the number of free variables"
   ]
  },
  {
   "cell_type": "markdown",
   "metadata": {},
   "source": [
    "#### The rowspace"
   ]
  },
  {
   "cell_type": "markdown",
   "metadata": {},
   "source": [
    "* This is the columnspace of A<sup>T</sup>\n",
    "* Don't take the transpose first!\n",
    "* Row reduce, identify the rows with pivots and transpose them"
   ]
  },
  {
   "cell_type": "code",
   "execution_count": null,
   "metadata": {},
   "outputs": [],
   "source": [
    "A.rref()"
   ]
  },
  {
   "cell_type": "markdown",
   "metadata": {},
   "source": [
    "* The basis is can also be written down by identifying the rows with pivots in U and writing them down as columns (getting their transpose)\n",
    "$$ \\begin{bmatrix} 5 & 0 \\\\ 0 & 1 \\\\ 3 & 1 \\end{bmatrix} $$\n",
    "* It is in &#8477;<sup>3</sup>, since *n* = 3\n",
    "* The rank *r* = 2, which is equal to the dimension, i.e. dim(A<sup>T</sup>) = 2"
   ]
  },
  {
   "cell_type": "markdown",
   "metadata": {},
   "source": [
    "#### The nullspace of A<sup>T</sup>"
   ]
  },
  {
   "cell_type": "code",
   "execution_count": null,
   "metadata": {},
   "outputs": [],
   "source": [
    "A.transpose().nullspace()"
   ]
  },
  {
   "cell_type": "markdown",
   "metadata": {},
   "source": [
    "* It is indeed in &#8477;<sup>3</sup>, since *m* = 3\n",
    "* A good way to do it is to take the inverse of L, such that L<sup>-1</sup>A = U\n",
    "    * Now the free variable row in U is row three\n",
    "    * Take the corresponding row in L<sup>-1</sup> and transpose it\n",
    "* The dimension in *m* - 2 = 3 - 2 = 1"
   ]
  },
  {
   "cell_type": "markdown",
   "metadata": {},
   "source": [
    "## The matrix space"
   ]
  },
  {
   "cell_type": "markdown",
   "metadata": {},
   "source": [
    "* A square matrix is also a 'vector' space, because they obey the vector space rules of addition and scalar multiplication\n",
    "* Subspaces (of same) would include\n",
    "    * Upper triangular matrices\n",
    "    * Symmetric matrices"
   ]
  },
  {
   "cell_type": "code",
   "execution_count": null,
   "metadata": {},
   "outputs": [],
   "source": []
  }
 ],
 "metadata": {
  "language_info": {
   "name": "python",
   "pygments_lexer": "ipython3"
  }
 },
 "nbformat": 4,
 "nbformat_minor": 0
}
