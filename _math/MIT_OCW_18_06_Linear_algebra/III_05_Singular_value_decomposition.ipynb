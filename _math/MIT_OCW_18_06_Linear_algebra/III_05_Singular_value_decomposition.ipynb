{
 "cells": [
  {
   "cell_type": "markdown",
   "metadata": {},
   "source": [
    "+ This notebook is part of lecture 29 *Singular value decomposition* in the OCW MIT course 18.06 by Prof Gilbert Strang [1]\n",
    "+ Created by me, Dr Juan H Klopper\n",
    "    + Head of Acute Care Surgery\n",
    "    + Groote Schuur Hospital\n",
    "    + University Cape Town\n",
    "    + <a href=\"mailto:juan.klopper@uct.ac.za\">Email me with your thoughts, comments, suggestions and corrections</a> \n",
    "<a rel=\"license\" href=\"http://creativecommons.org/licenses/by-nc/4.0/\"><img alt=\"Creative Commons Licence\" style=\"border-width:0\" src=\"https://i.creativecommons.org/l/by-nc/4.0/88x31.png\" /></a><br /><span xmlns:dct=\"http://purl.org/dc/terms/\" href=\"http://purl.org/dc/dcmitype/InteractiveResource\" property=\"dct:title\" rel=\"dct:type\">Linear Algebra OCW MIT18.06</span> <span xmlns:cc=\"http://creativecommons.org/ns#\" property=\"cc:attributionName\">IPython notebook [2] study notes by Dr Juan H Klopper</span> is licensed under a <a rel=\"license\" href=\"http://creativecommons.org/licenses/by-nc/4.0/\">Creative Commons Attribution-NonCommercial 4.0 International License</a>.\n",
    "\n",
    "+ [1] <a href=\"http://ocw.mit.edu/courses/mathematics/18-06sc-linear-algebra-fall-2011/index.htm\">OCW MIT 18.06</a>\n",
    "+ [2] Fernando Pérez, Brian E. Granger, IPython: A System for Interactive Scientific Computing, Computing in Science and Engineering, vol. 9, no. 3, pp. 21-29, May/June 2007, doi:10.1109/MCSE.2007.53. URL: http://ipython.org"
   ]
  },
  {
   "cell_type": "code",
   "execution_count": null,
   "metadata": {},
   "outputs": [],
   "source": [
    "from IPython.core.display import HTML, Image\n",
    "css_file = 'style.css'\n",
    "HTML(open(css_file, 'r').read())"
   ]
  },
  {
   "cell_type": "code",
   "execution_count": null,
   "metadata": {},
   "outputs": [],
   "source": [
    "from sympy import init_printing, Matrix, symbols, sqrt, Rational\n",
    "from warnings import filterwarnings"
   ]
  },
  {
   "cell_type": "code",
   "execution_count": null,
   "metadata": {},
   "outputs": [],
   "source": [
    "init_printing(use_latex = 'mathjax')\n",
    "filterwarnings('ignore')"
   ]
  },
  {
   "cell_type": "markdown",
   "metadata": {},
   "source": [
    "+ This chapter starts with explanations using sympy\n",
    "+ A proper method using numpy and sympy is described in the example problem at the end"
   ]
  },
  {
   "cell_type": "markdown",
   "metadata": {},
   "source": [
    "# Singular value decomposition (SVD)"
   ]
  },
  {
   "cell_type": "markdown",
   "metadata": {},
   "source": [
    "## Derivation"
   ]
  },
  {
   "cell_type": "markdown",
   "metadata": {},
   "source": [
    "* This is the final form of matrix factorization\n",
    "* The factors are an orthogonal matrix A, a diagonal matrix &Sigma;, and an orthogonal matrix V\n",
    "$$ {A}={U}{\\Sigma}{V}^{T} $$"
   ]
  },
  {
   "cell_type": "markdown",
   "metadata": {},
   "source": [
    "+ In case the matrix A is symmetric positive definite, the decomposition is akin to the following\n",
    "$$  {A}={Q}{\\Lambda}{Q}^{T} $$"
   ]
  },
  {
   "cell_type": "markdown",
   "metadata": {},
   "source": [
    "* Consider a vector *v*<sub>1</sub> in &#8477;<sup>n</sup> row space, transformed into a vector *u*<sub>1</sub> in &#8477;<sup>m</sup> column space by the matrix A\n",
    "$$ {u}_{1}={A}{v}_{1} $$"
   ]
  },
  {
   "cell_type": "markdown",
   "metadata": {},
   "source": [
    "* What we are looking for is an orthogonal basis in &#8477;<sup>n</sup> row space, transformed into an orthogonal basis in &#8477;<sup>m</sup> column space\n",
    "$$ {u}_{1}={A}{v}_{1} \\\\ { v }_{ 1 }\\bot { v }_{ 2 };{ u }_{ 1 }\\bot { u }_{ 2 }$$"
   ]
  },
  {
   "cell_type": "markdown",
   "metadata": {},
   "source": [
    "* It's easy to calculate an orthogonal basis in the row space using Gram-Schmidt\n",
    "* Now, though, we need something special in A that would ensure that the basis *u*<sub>i</sub> in in &#8477;<sup>m</sup> column space is also orthogonal (and at the same time make it orthonormal, so that *v*<sub>i</sub> ends up as &sigma;<sub>i</sub>*u*<sub>i</sub>)\n",
    "* The two nullspaces are not required\n",
    "* So, we are looking for the following\n",
    "$$ A\\begin{bmatrix} \\vdots  & \\vdots  & \\vdots  & \\vdots  \\\\ { v }_{ 1 } & { v }_{ 2 } & \\cdots  & { v }_{ r } \\\\ \\vdots  & \\vdots  & \\vdots  & \\vdots  \\end{bmatrix}=\\begin{bmatrix} \\vdots  & \\vdots  & \\vdots  & \\vdots  \\\\ { u }_{ 1 } & u_{ 2 } & \\cdots  & { u }_{ r } \\\\ \\vdots  & \\vdots  & \\vdots  & \\vdots  \\end{bmatrix}\\begin{bmatrix} { \\sigma  }_{ 1 } & \\quad  & \\quad  & \\quad  & \\quad  \\\\ \\quad  & { \\sigma  }_{ 2 } & \\quad  & \\quad  & \\quad  \\\\ \\quad  & \\quad  & \\quad \\ddots  & \\quad  & \\quad  \\\\ \\quad  & \\quad  & \\quad  & { \\sigma  }_{ r }\\quad  & \\quad  \\\\ \\quad  & \\quad  & \\quad  & \\quad  & \\left( 0 \\right)  \\end{bmatrix} \\\\ {A}{V}={U}{\\Sigma}$$"
   ]
  },
  {
   "cell_type": "markdown",
   "metadata": {},
   "source": [
    "+ In the case that we are not changing spaces V and U would be the same matrix Q (and then Q<sup>-1</sup>)"
   ]
  },
  {
   "cell_type": "markdown",
   "metadata": {},
   "source": [
    "### Example problem explaining the derivation"
   ]
  },
  {
   "cell_type": "markdown",
   "metadata": {},
   "source": [
    "+ Look at the next matrix A that is square and invertible (i.e. rank 2)"
   ]
  },
  {
   "cell_type": "code",
   "execution_count": null,
   "metadata": {},
   "outputs": [],
   "source": [
    "A = Matrix([[4, 4], [-3, 3]])\n",
    "A"
   ]
  },
  {
   "cell_type": "markdown",
   "metadata": {},
   "source": [
    "* We are looking for *v*<sub>1</sub> and *v*<sub>2</sub> in the &#8477;<sup>2</sup> rowspace and *u*<sub>1</sub> and *u*<sub>2</sub> in the &#8477;<sup>2</sup> columnspace, as well as the scaling factors *&sigma;*<sub>1</sub>>0 and *&sigma;*<sub>2</sub>>0"
   ]
  },
  {
   "cell_type": "markdown",
   "metadata": {},
   "source": [
    "+ Just to be complete, we extend V until *v*<sub>n</sub> with zero columns and U with zero columns until *u*<sub>m</sub>, as well as zeros for &Sigma; to include the nullspaces"
   ]
  },
  {
   "cell_type": "markdown",
   "metadata": {},
   "source": [
    "+ Now A is not symmetric so that their eigenvectors are not orthogonal (Q), so we can't go that route"
   ]
  },
  {
   "cell_type": "markdown",
   "metadata": {},
   "source": [
    "+ From above we have the following and because V is square and orthogonal we have\n",
    "$$ {A}={U}{\\Sigma}{V}^{-1} \\\\ {A}={U}{\\Sigma}{V}^{T} $$"
   ]
  },
  {
   "cell_type": "markdown",
   "metadata": {},
   "source": [
    "+ Multiplying both sides by A<sup>T</sup> we will have a left-hand side that is square and definte (semi)definte\n",
    "$$ A=U\\Sigma { V }^{ T }\\\\ { A }^{ T }A=V{ \\Sigma  }^{ T }{ U }^{ T }U\\Sigma { V }^{ T }\\\\ \\because \\quad { U }^{ T }U=I\\\\ \\because \\quad { \\Sigma  }^{ T }\\Sigma =\\dots { \\sigma  }_{ i }^{ 2 }\\dots \\\\ { A }^{ T }A=V{ \\Sigma  }^{ T }\\Sigma { V }^{ T } $$"
   ]
  },
  {
   "cell_type": "markdown",
   "metadata": {},
   "source": [
    "+ Because A<sup>T</sup>A is now definite (semi)positive, we have a perfect situation akin to being able to use Q&Lambda;Q<sup>T</sup>\n",
    "+ The eigenvalues are the squares of the &sigma;<sub>i</sub> values\n",
    "+ To get U we use AA<sup>T</sup> and use its eigenvalues and eigenvectors"
   ]
  },
  {
   "cell_type": "markdown",
   "metadata": {},
   "source": [
    "* All of this is easy to accomplish with the mpmath submodule of sympy"
   ]
  },
  {
   "cell_type": "code",
   "execution_count": null,
   "metadata": {},
   "outputs": [],
   "source": [
    "from sympy.mpmath import svd"
   ]
  },
  {
   "cell_type": "code",
   "execution_count": null,
   "metadata": {},
   "outputs": [],
   "source": [
    "U, S, V = svd(A)"
   ]
  },
  {
   "cell_type": "code",
   "execution_count": null,
   "metadata": {},
   "outputs": [],
   "source": [
    "U # The numbers round to zero!!! Please see it as zero"
   ]
  },
  {
   "cell_type": "code",
   "execution_count": null,
   "metadata": {},
   "outputs": [],
   "source": [
    "S # Not the final Sigma matrix"
   ]
  },
  {
   "cell_type": "code",
   "execution_count": null,
   "metadata": {},
   "outputs": [],
   "source": [
    "V"
   ]
  },
  {
   "cell_type": "markdown",
   "metadata": {},
   "source": [
    "+ There are square roots, so the values are given instead of symbols"
   ]
  },
  {
   "cell_type": "markdown",
   "metadata": {},
   "source": [
    "* Now let's do it step-by-step"
   ]
  },
  {
   "cell_type": "code",
   "execution_count": null,
   "metadata": {},
   "outputs": [],
   "source": [
    "A.transpose() * A"
   ]
  },
  {
   "cell_type": "code",
   "execution_count": null,
   "metadata": {},
   "outputs": [],
   "source": [
    "(A.transpose() * A).eigenvals()"
   ]
  },
  {
   "cell_type": "code",
   "execution_count": null,
   "metadata": {},
   "outputs": [],
   "source": [
    "(A.transpose() * A).eigenvects()"
   ]
  },
  {
   "cell_type": "markdown",
   "metadata": {},
   "source": [
    "* These are not normalized, though\n",
    "* Also remember to take the square roots of the eigenvalues\n",
    "* ... and to add zeros to incorporate the correct size for *m* and *n*\n",
    "* ... and to take the transpose"
   ]
  },
  {
   "cell_type": "markdown",
   "metadata": {},
   "source": [
    "* Now let's tackle U"
   ]
  },
  {
   "cell_type": "code",
   "execution_count": null,
   "metadata": {},
   "outputs": [],
   "source": [
    "A * A.transpose()"
   ]
  },
  {
   "cell_type": "code",
   "execution_count": null,
   "metadata": {},
   "outputs": [],
   "source": [
    "(A * A.transpose()).eigenvals()"
   ]
  },
  {
   "cell_type": "markdown",
   "metadata": {},
   "source": [
    "* The eigenvalues are always the same"
   ]
  },
  {
   "cell_type": "code",
   "execution_count": null,
   "metadata": {},
   "outputs": [],
   "source": [
    "(A * A.transpose()).eigenvects()"
   ]
  },
  {
   "cell_type": "markdown",
   "metadata": {},
   "source": [
    "* Also remember to normalize (see example problem below)"
   ]
  },
  {
   "cell_type": "markdown",
   "metadata": {},
   "source": [
    "* We now have U, &Sigma; and V<sup>T</sup> (although &Sigma; must still be constructed; see below)"
   ]
  },
  {
   "cell_type": "markdown",
   "metadata": {},
   "source": [
    "### Example problem to explain the derivation for dependent rows, columns"
   ]
  },
  {
   "cell_type": "markdown",
   "metadata": {},
   "source": [
    "+ Let's consider this rank=1, 2&times;2 singular matrix\n",
    "+ The rowspace is just a line (the second row is a constant multiple of the first)\n",
    "+ The nullspace of this row picture is a line perpendicular to this\n",
    "+ The columnspace is also on a line, with the nullspace of A<sup>T</sup> being a line perpendicular to this"
   ]
  },
  {
   "cell_type": "code",
   "execution_count": null,
   "metadata": {},
   "outputs": [],
   "source": [
    "A = Matrix([[4, 3], [8, 6]])\n",
    "A"
   ]
  },
  {
   "cell_type": "markdown",
   "metadata": {},
   "source": [
    "+ Let's use *svd*() first"
   ]
  },
  {
   "cell_type": "code",
   "execution_count": null,
   "metadata": {},
   "outputs": [],
   "source": [
    "U, S, V = svd(A, full_matrices = True, compute_uv = True)"
   ]
  },
  {
   "cell_type": "markdown",
   "metadata": {},
   "source": [
    "* This is likely to be different to the value you calculate for U\n",
    "* We are talking unit basis vectors, though, which can be in a different direction depending on your choice"
   ]
  },
  {
   "cell_type": "code",
   "execution_count": null,
   "metadata": {},
   "outputs": [],
   "source": [
    "U"
   ]
  },
  {
   "cell_type": "code",
   "execution_count": null,
   "metadata": {},
   "outputs": [],
   "source": [
    "S"
   ]
  },
  {
   "cell_type": "markdown",
   "metadata": {},
   "source": [
    "+ Note that the size of our &Sigma; matrix is wrong\n",
    "+ It has to be 2&times;2 and we have to create it from this info\n",
    "+ Since A has rank = 1 and all off-diagonal entries must be zero, we will only have a value in the first row, first column position\n",
    "+ Below I show you how to correct this"
   ]
  },
  {
   "cell_type": "code",
   "execution_count": null,
   "metadata": {},
   "outputs": [],
   "source": [
    "V"
   ]
  },
  {
   "cell_type": "code",
   "execution_count": null,
   "metadata": {},
   "outputs": [],
   "source": [
    "A.transpose() * A # Which will be symmetric positive definite and of rank = 1"
   ]
  },
  {
   "cell_type": "code",
   "execution_count": null,
   "metadata": {},
   "outputs": [],
   "source": [
    "(A.transpose() * A).eigenvals() # One eigenvalue will be zero and the other must then be the trace"
   ]
  },
  {
   "cell_type": "code",
   "execution_count": null,
   "metadata": {},
   "outputs": [],
   "source": [
    "(A.transpose() * A).eigenvects()"
   ]
  },
  {
   "cell_type": "code",
   "execution_count": null,
   "metadata": {},
   "outputs": [],
   "source": [
    "A * A.transpose()"
   ]
  },
  {
   "cell_type": "code",
   "execution_count": null,
   "metadata": {},
   "outputs": [],
   "source": [
    "(A * A.transpose()).eigenvals()"
   ]
  },
  {
   "cell_type": "code",
   "execution_count": null,
   "metadata": {},
   "outputs": [],
   "source": [
    "(A * A.transpose()).eigenvects()"
   ]
  },
  {
   "cell_type": "markdown",
   "metadata": {},
   "source": [
    "+ Inserted below is the three resultant matrices from our calculations above (normalized, etc)"
   ]
  },
  {
   "cell_type": "code",
   "execution_count": null,
   "metadata": {},
   "outputs": [],
   "source": [
    "Matrix([[1 / sqrt(5), 2 / sqrt(5)], [2 / sqrt(5), 1 / sqrt(5)]]), Matrix([[sqrt(125), 0], [0, 0]]), Matrix([[0.8, 0.6], [0.6, -0.8]])"
   ]
  },
  {
   "cell_type": "markdown",
   "metadata": {},
   "source": [
    "+ Now let me show you how to correct the *svd*() solutions"
   ]
  },
  {
   "cell_type": "code",
   "execution_count": null,
   "metadata": {},
   "outputs": [],
   "source": [
    "U"
   ]
  },
  {
   "cell_type": "code",
   "execution_count": null,
   "metadata": {},
   "outputs": [],
   "source": [
    "S"
   ]
  },
  {
   "cell_type": "code",
   "execution_count": null,
   "metadata": {},
   "outputs": [],
   "source": [
    "S = Matrix([[11.1803398874989, 0], [0, 0]])\n",
    "S # Composed by hand (proper method further below)"
   ]
  },
  {
   "cell_type": "code",
   "execution_count": null,
   "metadata": {},
   "outputs": [],
   "source": [
    "V"
   ]
  },
  {
   "cell_type": "code",
   "execution_count": null,
   "metadata": {},
   "outputs": [],
   "source": [
    "V = Matrix([[-0.8, -0.6], [-0.6, 0.8]])\n",
    "V # Remember that this is actually V transpose"
   ]
  },
  {
   "cell_type": "markdown",
   "metadata": {},
   "source": [
    "+ Let's calculate A&Sigma;V<sup>T</sup>"
   ]
  },
  {
   "cell_type": "code",
   "execution_count": null,
   "metadata": {},
   "outputs": [],
   "source": [
    "U * S * V"
   ]
  },
  {
   "cell_type": "markdown",
   "metadata": {},
   "source": [
    "+ Compensating for rounding, this is the original matrix A"
   ]
  },
  {
   "cell_type": "markdown",
   "metadata": {},
   "source": [
    "## Summary"
   ]
  },
  {
   "cell_type": "markdown",
   "metadata": {},
   "source": [
    "+ The orthonormal basis for the rowspace is\n",
    "$$ {v}_{1},{v}_{2},\\dots,{v}_{r} $$\n",
    "+ The orthonormal basis for the columnspace is\n",
    "$$ {u}_{1},{u}_{2},\\dots,{u}_{r} $$\n",
    "+ The orthonormal basis for the nullspace is\n",
    "$$ {v}_{r+1},{v}_{r+2},\\dots,{v}_{n} $$\n",
    "+ The orthonormal basis for the nullspace of A<sup>T</sup>\n",
    "$$ {u}_{r+1},{u}_{r+2},\\dots,{u}_{m} $$"
   ]
  },
  {
   "cell_type": "markdown",
   "metadata": {},
   "source": [
    "## Example problem"
   ]
  },
  {
   "cell_type": "markdown",
   "metadata": {},
   "source": [
    "### Example problem 1"
   ]
  },
  {
   "cell_type": "markdown",
   "metadata": {},
   "source": [
    "* Find the singular value decomposition of the matrix\n",
    "$$ \\begin{bmatrix}5&5\\\\-1&7\\end{bmatrix} $$"
   ]
  },
  {
   "cell_type": "markdown",
   "metadata": {},
   "source": [
    "#### Solution"
   ]
  },
  {
   "cell_type": "markdown",
   "metadata": {},
   "source": [
    "+ First off, I'll show you how to make proper use of numpy and scipy (as opposed to sympy) to solve singular value decomposition problems"
   ]
  },
  {
   "cell_type": "code",
   "execution_count": null,
   "metadata": {},
   "outputs": [],
   "source": [
    "from numpy import matrix, transpose # Importing the matrix object and the \n",
    "# transpose object from numerical python (numpy)\n",
    "from numpy.linalg import svd, det # Importing the svd and determinant\n",
    "# methods from the linalg submodule \n",
    "from scipy.linalg import diagsvd"
   ]
  },
  {
   "cell_type": "code",
   "execution_count": null,
   "metadata": {},
   "outputs": [],
   "source": [
    "type(transpose) # Type tells us what 'something' is (sometimes)"
   ]
  },
  {
   "cell_type": "code",
   "execution_count": null,
   "metadata": {},
   "outputs": [],
   "source": [
    "C = matrix([[5, 5], [-1, 7]]) # Using the numpy matrix object\n",
    "C"
   ]
  },
  {
   "cell_type": "markdown",
   "metadata": {},
   "source": [
    "* We can see from the determinant that the rows and columns are independent"
   ]
  },
  {
   "cell_type": "code",
   "execution_count": null,
   "metadata": {},
   "outputs": [],
   "source": [
    "det(C) # Notice the difference in syntax"
   ]
  },
  {
   "cell_type": "markdown",
   "metadata": {},
   "source": [
    "+ Let's calculate U by looking at A<sup>T</sup>A"
   ]
  },
  {
   "cell_type": "code",
   "execution_count": null,
   "metadata": {},
   "outputs": [],
   "source": [
    "transpose(C) *C # Notice the difference in synmtax"
   ]
  },
  {
   "cell_type": "markdown",
   "metadata": {},
   "source": [
    "+ This is symmetric, positive definite\n",
    "+ One eigenvalue will be 0 and the other, the trace (since they (the eigenvalues) must sum to the trace)\n",
    "+ Remember that the eigenvalues are the squares of the *&sigma;*<sub>i</sub> values"
   ]
  },
  {
   "cell_type": "markdown",
   "metadata": {},
   "source": [
    "+ Now let's put numpy and sympy to good use"
   ]
  },
  {
   "cell_type": "code",
   "execution_count": null,
   "metadata": {},
   "outputs": [],
   "source": [
    "U, S, VT = svd(C) # I use the computer variable VT to remind us that\n",
    "# this is the transpose of V"
   ]
  },
  {
   "cell_type": "markdown",
   "metadata": {},
   "source": [
    "+ S will only indicate the eigenvalues and must be converted to the correct sized matrix"
   ]
  },
  {
   "cell_type": "code",
   "execution_count": null,
   "metadata": {},
   "outputs": [],
   "source": [
    "M, N = C.shape # Shape returns a tuple (two values), indicating\n",
    "# row and column size\n",
    "M, N"
   ]
  },
  {
   "cell_type": "code",
   "execution_count": null,
   "metadata": {},
   "outputs": [],
   "source": [
    "Sig = diagsvd(S, M, N) # Creating a m times n matrix from S\n",
    "Sig"
   ]
  },
  {
   "cell_type": "code",
   "execution_count": null,
   "metadata": {},
   "outputs": [],
   "source": [
    "VT"
   ]
  },
  {
   "cell_type": "markdown",
   "metadata": {},
   "source": [
    "+ Let's check if it worked!"
   ]
  },
  {
   "cell_type": "code",
   "execution_count": null,
   "metadata": {},
   "outputs": [],
   "source": [
    "U * Sig * VT"
   ]
  },
  {
   "cell_type": "markdown",
   "metadata": {},
   "source": [
    "Now, let's use good old sympy"
   ]
  },
  {
   "cell_type": "code",
   "execution_count": null,
   "metadata": {},
   "outputs": [],
   "source": [
    "C = Matrix([[5, 5], [-1, 7]])\n",
    "C"
   ]
  },
  {
   "cell_type": "markdown",
   "metadata": {},
   "source": [
    "+ We need to work with a positive (semi)definite matrix"
   ]
  },
  {
   "cell_type": "code",
   "execution_count": null,
   "metadata": {},
   "outputs": [],
   "source": [
    "CTC = C.transpose() * C # Using the computer variable CTC to remind that\n",
    "# it is C transpose times C\n",
    "CTC, CTC.det()"
   ]
  },
  {
   "cell_type": "markdown",
   "metadata": {},
   "source": [
    "+ Let's look at the eigenvalues"
   ]
  },
  {
   "cell_type": "code",
   "execution_count": null,
   "metadata": {},
   "outputs": [],
   "source": [
    "CTC.eigenvals()"
   ]
  },
  {
   "cell_type": "markdown",
   "metadata": {},
   "source": [
    "+ &Sigma; will contain along its main diagonal the square root of these eigenvalues"
   ]
  },
  {
   "cell_type": "code",
   "execution_count": null,
   "metadata": {},
   "outputs": [],
   "source": [
    "Sig = Matrix([[sqrt(20), 0], [0, sqrt(80)]])\n",
    "Sig"
   ]
  },
  {
   "cell_type": "markdown",
   "metadata": {},
   "source": [
    "+ For V we require the eigenvectors of C<sup>T</sup>C\n",
    "+ We need to remember to normalize each vector (dividing each component by the length (norm) of that vector"
   ]
  },
  {
   "cell_type": "code",
   "execution_count": null,
   "metadata": {},
   "outputs": [],
   "source": [
    "CTC.eigenvects()"
   ]
  },
  {
   "cell_type": "markdown",
   "metadata": {},
   "source": [
    "+ Let's normalize each *v*<sub>i</sub> by calculating the length (norm) of each"
   ]
  },
  {
   "cell_type": "code",
   "execution_count": null,
   "metadata": {},
   "outputs": [],
   "source": [
    "v1 = Matrix([-3, 1])\n",
    "v1.norm()"
   ]
  },
  {
   "cell_type": "code",
   "execution_count": null,
   "metadata": {},
   "outputs": [],
   "source": [
    "v2 = Matrix([Rational(1, 3), 1])\n",
    "v2.norm()"
   ]
  },
  {
   "cell_type": "markdown",
   "metadata": {},
   "source": [
    "+ We'll get each element of V by dividing by these norms"
   ]
  },
  {
   "cell_type": "code",
   "execution_count": null,
   "metadata": {},
   "outputs": [],
   "source": [
    "-3 / v1.norm(), 1 / v1.norm()"
   ]
  },
  {
   "cell_type": "code",
   "execution_count": null,
   "metadata": {},
   "outputs": [],
   "source": [
    "Rational(1, 3) / v2.norm(), 1 / v2.norm()"
   ]
  },
  {
   "cell_type": "code",
   "execution_count": null,
   "metadata": {},
   "outputs": [],
   "source": [
    "V = Matrix([[-3 / sqrt(10), 1 / sqrt(10)], [1 / sqrt(10), 3 / sqrt(10)]])\n",
    "# Just remember to put the elements of V in the correct place\n",
    "V"
   ]
  },
  {
   "cell_type": "markdown",
   "metadata": {},
   "source": [
    "+ Remember that it is equal to the transpose of V"
   ]
  },
  {
   "cell_type": "code",
   "execution_count": null,
   "metadata": {},
   "outputs": [],
   "source": [
    "V == V.transpose()"
   ]
  },
  {
   "cell_type": "markdown",
   "metadata": {},
   "source": [
    "+ Now for U using CC<sup>T</sup>"
   ]
  },
  {
   "cell_type": "code",
   "execution_count": null,
   "metadata": {},
   "outputs": [],
   "source": [
    "CCT = C * C.transpose() # Using the computer variable CCT\n",
    "CCT"
   ]
  },
  {
   "cell_type": "markdown",
   "metadata": {},
   "source": [
    "+ The eigenvalues will be the same"
   ]
  },
  {
   "cell_type": "code",
   "execution_count": null,
   "metadata": {},
   "outputs": [],
   "source": [
    "CCT.eigenvals()"
   ]
  },
  {
   "cell_type": "code",
   "execution_count": null,
   "metadata": {},
   "outputs": [],
   "source": [
    "CCT.eigenvects()"
   ]
  },
  {
   "cell_type": "code",
   "execution_count": null,
   "metadata": {},
   "outputs": [],
   "source": [
    "u1 = Matrix([-1, 1])\n",
    "u2 = Matrix([1, 1])"
   ]
  },
  {
   "cell_type": "code",
   "execution_count": null,
   "metadata": {},
   "outputs": [],
   "source": [
    "-1 / u1.norm(), 1 / u1.norm()"
   ]
  },
  {
   "cell_type": "code",
   "execution_count": null,
   "metadata": {},
   "outputs": [],
   "source": [
    "1 / u2.norm(), 1 / u2.norm()"
   ]
  },
  {
   "cell_type": "code",
   "execution_count": null,
   "metadata": {},
   "outputs": [],
   "source": [
    "U = Matrix([[-sqrt(2) / 2, sqrt(2) / 2], [sqrt(2) / 2, sqrt(2) / 2]])\n",
    "# Just remember to put the elements of U in the correct place\n",
    "U"
   ]
  },
  {
   "cell_type": "markdown",
   "metadata": {},
   "source": [
    "+ Let's see if it worked!"
   ]
  },
  {
   "cell_type": "code",
   "execution_count": null,
   "metadata": {},
   "outputs": [],
   "source": [
    "U * Sig * V"
   ]
  },
  {
   "cell_type": "code",
   "execution_count": null,
   "metadata": {},
   "outputs": [],
   "source": []
  }
 ],
 "metadata": {
  "language_info": {
   "name": "python",
   "pygments_lexer": "ipython3"
  }
 },
 "nbformat": 4,
 "nbformat_minor": 0
}
