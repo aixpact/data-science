{
 "cells": [
  {
   "cell_type": "markdown",
   "metadata": {},
   "source": [
    "+ This notebook is part of lecture 23 *Differential equations and exponent A* in the OCW MIT course 18.06 by Prof Gilbert Strang [1]\n",
    "+ Created by me, Dr Juan H Klopper\n",
    "    + Head of Acute Care Surgery\n",
    "    + Groote Schuur Hospital\n",
    "    + University Cape Town\n",
    "    + <a href=\"mailto:juan.klopper@uct.ac.za\">Email me with your thoughts, comments, suggestions and corrections</a> \n",
    "<a rel=\"license\" href=\"http://creativecommons.org/licenses/by-nc/4.0/\"><img alt=\"Creative Commons Licence\" style=\"border-width:0\" src=\"https://i.creativecommons.org/l/by-nc/4.0/88x31.png\" /></a><br /><span xmlns:dct=\"http://purl.org/dc/terms/\" href=\"http://purl.org/dc/dcmitype/InteractiveResource\" property=\"dct:title\" rel=\"dct:type\">Linear Algebra OCW MIT18.06</span> <span xmlns:cc=\"http://creativecommons.org/ns#\" property=\"cc:attributionName\">IPython notebook [2] study notes by Dr Juan H Klopper</span> is licensed under a <a rel=\"license\" href=\"http://creativecommons.org/licenses/by-nc/4.0/\">Creative Commons Attribution-NonCommercial 4.0 International License</a>.\n",
    "\n",
    "+ [1] <a href=\"http://ocw.mit.edu/courses/mathematics/18-06sc-linear-algebra-fall-2011/index.htm\">OCW MIT 18.06</a>\n",
    "+ [2] Fernando Pérez, Brian E. Granger, IPython: A System for Interactive Scientific Computing, Computing in Science and Engineering, vol. 9, no. 3, pp. 21-29, May/June 2007, doi:10.1109/MCSE.2007.53. URL: http://ipython.org"
   ]
  },
  {
   "cell_type": "code",
   "execution_count": null,
   "metadata": {},
   "outputs": [],
   "source": [
    "from IPython.core.display import HTML, Image\n",
    "css_file = 'style.css'\n",
    "HTML(open(css_file, 'r').read())"
   ]
  },
  {
   "cell_type": "code",
   "execution_count": null,
   "metadata": {},
   "outputs": [],
   "source": [
    "from sympy import init_printing, Matrix, symbols, exp\n",
    "from warnings import filterwarnings"
   ]
  },
  {
   "cell_type": "code",
   "execution_count": null,
   "metadata": {},
   "outputs": [],
   "source": [
    "init_printing(use_latex = 'mathjax')\n",
    "filterwarnings('ignore')"
   ]
  },
  {
   "cell_type": "code",
   "execution_count": null,
   "metadata": {},
   "outputs": [],
   "source": [
    "u, u1, u2, t, a, b, c = symbols('u u1 u2 t a b c')"
   ]
  },
  {
   "cell_type": "markdown",
   "metadata": {},
   "source": [
    "# Differential equations\n",
    "# Exponential  e<sup>At</sup> of a matrix"
   ]
  },
  {
   "cell_type": "markdown",
   "metadata": {},
   "source": [
    "## Differential equations (ordinary only)"
   ]
  },
  {
   "cell_type": "markdown",
   "metadata": {},
   "source": [
    "* A differential equation moves on from the previous lecture's difference equation which had finite steps to continuously changing systems (here in the time parameter *t*)\n",
    "* A differential equation included a function and its derivative(s)\n",
    "* It has and order based on the highest derivative that appears\n",
    "* Here we are only concerned with differential equation with constant coefficients\n",
    "* The simplest differential equation is the following\n",
    "$$ \\frac{dy}{dt}={a}{y}\\left(t\\right) $$\n",
    "* It is simply solved in the following manner (which gives us some insight into the general solution for these equations)\n",
    "$$ \\frac { dy }{ dt } =ay\\\\ \\frac { 1 }{ y } dy=adt\\\\ \\int { \\frac { 1 }{ y }  } dy=a\\int {  } dt\\\\ \\ln { \\left| y \\right|  } =a\\left( t+{ c }_{ 1 } \\right) \\\\ { e }^{ \\ln { \\left| y \\right|  }  }={ e }^{ at+a{ c }_{ 1 } }\\\\ y={ e }^{ at }{ e }^{ a{ c }_{ 1 } }\\\\ y=c{ e }^{ at } $$\n",
    "* We can solve for the constant(s) if we have values for the initial condition (usually *t*=0) for *y*(t) and all its derivatives (called *initial value problems*)\n",
    "* We can write a system of differential equations in matrix form\n",
    "$$ { y }_{ 1 }^{ ' }=3{ y }_{ 1 }\\\\ { y }_{ 2 }^{ ' }=-2{ y }_{ 2 }\\\\ { y }_{ 3 }^{ ' }=6{ y }_{ 3 }\\\\ \\therefore \\quad \\begin{bmatrix} { y }_{ 1 }^{ ' } \\\\ { y }_{ 2 }^{ ' } \\\\ { y }_{ 3 }^{ ' } \\end{bmatrix}=\\begin{bmatrix} 3 & 0 & 0 \\\\ 0 & -2 & 0 \\\\ 0 & 0 & 6 \\end{bmatrix}\\begin{bmatrix} { y }_{ 1 } \\\\ { y }_{ 2 } \\\\ { y }_{ 3 } \\end{bmatrix} $$"
   ]
  },
  {
   "cell_type": "markdown",
   "metadata": {},
   "source": [
    "* Rewriting the above, we consider the following differential equations in this lecture\n",
    "$$ \\frac { d\\underline { u }  }{ dt } =A\\underline { u }  $$"
   ]
  },
  {
   "cell_type": "markdown",
   "metadata": {},
   "source": [
    "* So suppose we have these two differential equations\n",
    "$$ \\frac{{d}\\underline{u}_{1}}{{d}{t}} = -\\underline{u}_{1}+2\\underline{u}_{2} \\\\ \\frac{{d}\\underline{u}_{2}}{{d}{t}} = \\underline{u}_{1}-2\\underline{u}_{2} $$\n",
    "* The intial consitions are given by the following\n",
    "$$ \\underline{u}\\left({0}\\right)=\\begin{bmatrix}1\\\\0\\end{bmatrix} $$"
   ]
  },
  {
   "cell_type": "markdown",
   "metadata": {},
   "source": [
    "* We can write it as A**u**"
   ]
  },
  {
   "cell_type": "code",
   "execution_count": null,
   "metadata": {},
   "outputs": [],
   "source": [
    "A = Matrix([[-1, 2], [1, -2]])\n",
    "A"
   ]
  },
  {
   "cell_type": "code",
   "execution_count": null,
   "metadata": {},
   "outputs": [],
   "source": [
    "u_vect = Matrix([u1, u2]) # u is now a sympy mathematical symbol\n",
    "# Have to use another variable name, i.e. u_vect\n",
    "u_vect"
   ]
  },
  {
   "cell_type": "markdown",
   "metadata": {},
   "source": [
    "* Multiplying this A**u** brings you back to the two linear equations"
   ]
  },
  {
   "cell_type": "code",
   "execution_count": null,
   "metadata": {},
   "outputs": [],
   "source": [
    "A * u_vect"
   ]
  },
  {
   "cell_type": "code",
   "execution_count": null,
   "metadata": {},
   "outputs": [],
   "source": [
    "A.eigenvals()"
   ]
  },
  {
   "cell_type": "code",
   "execution_count": null,
   "metadata": {},
   "outputs": [],
   "source": [
    "A.eigenvects() # The results give the two eigenvectors in the following format\n",
    "# (eigenvalue, no of eigenvectors, eigenvector)"
   ]
  },
  {
   "cell_type": "code",
   "execution_count": null,
   "metadata": {},
   "outputs": [],
   "source": [
    "S, D = A.diagonalize() # For interest sake we get the matrix of eigenvectors and the diagonal matrix\n",
    "S, D"
   ]
  },
  {
   "cell_type": "markdown",
   "metadata": {},
   "source": [
    "* To complete the solution now, we note that there are two eigenvalues, which will give us the following\n",
    "    * Two constants\n",
    "    * Two exponent to the power eigenvalue times *t*\n",
    "    * Two eigenvectors\n",
    "* It is written like this, with **x**<sub>i</sub> denoting an eigenvector\n",
    "$$ \\underline { u } \\left( t \\right) ={ c }_{ 1 }{ e }^{ { \\lambda  }_{ 1 }t }{ \\underline { x }  }_{ 1 }+{ c }_{ 2 }{ e }^{ { \\lambda  }_{ 2 }t }{ \\underline { x }  }_{ 2 } $$\n",
    "* This makes our solution as follows\n",
    "$$ \\underline { u } \\left( t \\right) ={ c }_{ 1 }{ e }^{ -3t }\\begin{bmatrix} -1 \\\\ 1 \\end{bmatrix}+{ c }_{ 2 }{ e }^{ \\left( 0 \\right) t }\\begin{bmatrix} 2 \\\\ 1 \\end{bmatrix}\\\\ \\underline { u } \\left( t \\right) ={ c }_{ 1 }{ e }^{ -3t }\\begin{bmatrix} -1 \\\\ 1 \\end{bmatrix}+{ c }_{ 2 }\\begin{bmatrix} 2 \\\\ 1 \\end{bmatrix} $$\n",
    "* There is clearly a constant term and a term that approaches zero at *t* approaches infinity"
   ]
  },
  {
   "cell_type": "markdown",
   "metadata": {},
   "source": [
    "* Writing this as two separate equations we have the following\n",
    "$$ { u }_{ 1 }\\left( t \\right) =-{ c }_{ 1 }{ e }^{ -3t }+2{ c }_{ 2 }\\\\ { u }_{ 2 }\\left( t \\right) ={ c }_{ 1 }{ e }^{ -3t }+{ c }_{ 2 }  $$"
   ]
  },
  {
   "cell_type": "markdown",
   "metadata": {},
   "source": [
    "* Using the initial conditions we can solve for *c*<sub>i</sub>\n",
    "$$ { u }_{ 1 }\\left( 0 \\right) =-{ c }_{ 1 }{ e }^{ -3\\left( 0 \\right)  }+2{ c }_{ 2 }=1\\\\ { u }_{ 2 }\\left( 0 \\right) ={ c }_{ 1 }{ e }^{ -3\\left( 0 \\right)  }+{ c }_{ 2 }=0\\\\ -{ c }_{ 1 }+2{ c }_{ 2 }=1\\\\ { c }_{ 1 }+{ c }_{ 2 }=0 $$"
   ]
  },
  {
   "cell_type": "markdown",
   "metadata": {},
   "source": [
    "* Let's use an augmented matrix and Gauss-Jordan elimination to solve for the two constants (or at least the python™ equivalent)"
   ]
  },
  {
   "cell_type": "code",
   "execution_count": null,
   "metadata": {},
   "outputs": [],
   "source": [
    "C = Matrix([[-1, 2, 1], [1, 1, 0]])\n",
    "C.rref()"
   ]
  },
  {
   "cell_type": "markdown",
   "metadata": {},
   "source": [
    "* Which gives us the final solution\n",
    "$$  { u }_{ 1 }\\left( t \\right) =\\frac { 1 }{ 3 } { e }^{ -3t }+\\frac { 2 }{ 3 } \\\\ { u }_{ 2 }\\left( t \\right) =\\frac { -1 }{ 3 } { e }^{ -3t }+\\frac { 1 }{ 3 }   $$"
   ]
  },
  {
   "cell_type": "markdown",
   "metadata": {},
   "source": [
    "* Just to remind ourselves about the previous lecture where we had difference equations and had something like the following\n",
    "$$ \\underline{u}={c}_{1}{\\lambda}_{1}^{k}{\\underline{x}}_{1}+{c}_{2}{\\lambda}_{2}^{k}{\\underline{x}}_{2} $$\n",
    "* Which is for finite steps, i.e. stepping by one\n",
    "$$ \\underline{u}_{k+1}={A}\\underline{u}_{k} $$"
   ]
  },
  {
   "cell_type": "markdown",
   "metadata": {},
   "source": [
    "## What can the eigenvalues tell us about these equations as *t* approaches &#8734;"
   ]
  },
  {
   "cell_type": "markdown",
   "metadata": {},
   "source": [
    "* If both eigenvalues (real parts) are negative, the equation **t**(t) approaches **0** (called *stability*)\n",
    "* If one eigenvalue (real part) is zero and the others (real parts) are less than one, the equations reach is specific value (called a *steady state*)\n",
    "* If any eigenvalue (real parts) is larger than zero, the equations approach &#177;&#8734;"
   ]
  },
  {
   "cell_type": "markdown",
   "metadata": {},
   "source": [
    "## What can the matrix A<sub>2&#215;2</sub> tell us about the eigenvalues (and then what happens when *t* approaches &#8734;)"
   ]
  },
  {
   "cell_type": "markdown",
   "metadata": {},
   "source": [
    "* The trace is equal to the sum of the eigenvalues\n",
    "* The determinant is the product of the eigenvalues"
   ]
  },
  {
   "cell_type": "markdown",
   "metadata": {},
   "source": [
    "* If the trace is negative **and** the determinant positive, we will have stability"
   ]
  },
  {
   "cell_type": "markdown",
   "metadata": {},
   "source": [
    "## Using diagonalization"
   ]
  },
  {
   "cell_type": "markdown",
   "metadata": {},
   "source": [
    "* Consider the following derivation\n",
    "$$ \\frac { d\\underline { u }  }{ dt } =A\\underline { u } \\\\ \\because \\quad A\\underline { u } =S\\underline { v } \\\\ S\\frac { d\\underline { v }  }{ dt } =S\\underline { v } \\\\ \\frac { d\\underline { v }  }{ dt } =S\\underline { v } { S }^{ -1 }=\\Lambda \\underline { v }  $$"
   ]
  },
  {
   "cell_type": "markdown",
   "metadata": {},
   "source": [
    "* From this we have the following\n",
    "$$ \\underline { v } \\left( t \\right) ={ e }^{ \\Lambda t }\\underline { v } \\left( 0 \\right) \\\\ \\underline { u } \\left( t \\right) =S{ e }^{ \\Lambda t }{ S }^{ -1 }\\underline { u } \\left( 0 \\right) \\\\ {e}^{At}={S}{e}^{\\Lambda{t}}{S}^{-1} $$"
   ]
  },
  {
   "cell_type": "markdown",
   "metadata": {},
   "source": [
    "## Matrix exponential *e*<sup>At</sup>"
   ]
  },
  {
   "cell_type": "markdown",
   "metadata": {},
   "source": [
    "* How do we calculate a matrix as a power? \n",
    "* Consider Taylor series expansion\n",
    "$$ {e}^{At}={I}+{At} + \\frac{{\\left(At\\right)}^{2}}{2!}+\\frac{{\\left(At\\right)}^{3}}{3!}+\\dots+\\frac{{\\left(At\\right)}^{n}}{n!} $$\n",
    "* This comes from the following\n",
    "$$ { e }^{ x }=\\sum _{ n=0 }^{ \\infty  }{ \\frac { { x }^{ n } }{ n! }  }  $$\n",
    "* As the denominator increases the *n*<sup>th</sup> term approaches 0\n",
    "* Remember also this (geometric) series (just for fun)\n",
    "$$ \\frac { 1 }{ 1-x } =\\sum _{ 0 }^{ \\infty  }{ { x }^{ n } } \\\\ { \\left( I-At \\right)  }^{ -1 }=I+At+{ \\left( At \\right)  }^{ 2 }+\\dots { \\left( At \\right)  }^{ n } $$\n",
    "* This will blow up unless then eigenvalues of A are less than 1"
   ]
  },
  {
   "cell_type": "markdown",
   "metadata": {},
   "source": [
    "* Now, let calculate *e*<sup>At</sup>, remembering the following\n",
    "$$ {A}^{k}={S}{\\Lambda}^{k}{S}^{-1} $$\n",
    "$$ { e }^{ At }=\\sum _{ n=0 }^{ \\infty  }{ \\frac { \\left( S{ \\Lambda  }^{ n }{ S }^{ -1 } \\right) ^{ n }{ t }^{ n } }{ n! }  }  $$"
   ]
  },
  {
   "cell_type": "markdown",
   "metadata": {},
   "source": [
    "* We thus have the following\n",
    "$$ {e}^{At}={S}{e}^{\\Lambda{t}}{S}^{-1} $$\n",
    "* This is with the assumption that A can be diagonalized (otherwise we will have to use the infinite series (above)\n",
    "$$ {e}^{At}={I}+{At} + \\frac{{\\left(At\\right)}^{2}}{2!}+\\frac{{\\left(At\\right)}^{3}}{3!}+\\dots+\\frac{{\\left(At\\right)}^{n}}{n!} $$"
   ]
  },
  {
   "cell_type": "markdown",
   "metadata": {},
   "source": [
    "* Remember that &#923; is a diagonal matrix and therefor we would have the following\n",
    "$$ { e }^{ \\Lambda t }=\\begin{bmatrix} { e }^{ { \\lambda  }_{ 1 }t } & 0 & 0 & 0 \\\\ 0 & { e }^{ { \\lambda  }_{ 2 }t } & 0 & 0 \\\\ \\vdots  & \\vdots  & \\dots  & \\vdots  \\\\ 0 & 0 & 0 & { e }^{ { \\lambda  }_{ n }t } \\end{bmatrix} $$"
   ]
  },
  {
   "cell_type": "markdown",
   "metadata": {},
   "source": [
    "* The S and S<sup>-1</sup> matrices are stable, it is therefor the &#923; matrix that provides an approach to zero as *t* approaches &#8734;\n",
    "* This is achieved by every &#955;<sub>i</sub> having a real part less than zero"
   ]
  },
  {
   "cell_type": "markdown",
   "metadata": {},
   "source": [
    "* The powers of A go to zero if the absolute value of the real part of all the &#955;<sub>i</sub>-values is less than 1"
   ]
  },
  {
   "cell_type": "markdown",
   "metadata": {},
   "source": [
    "+ Let's consider this example"
   ]
  },
  {
   "cell_type": "markdown",
   "metadata": {},
   "source": [
    "$$ \\underline { y } ''+b\\underline { y } '+{k}\\underline{y}=\\underline { 0 }  $$"
   ]
  },
  {
   "cell_type": "markdown",
   "metadata": {},
   "source": [
    "* We have to create a system of two first-order equations\n",
    "$$ \\underline{u}=\\begin{bmatrix} y' \\\\ y \\end{bmatrix} \\\\ \\underline{u}'=\\begin{bmatrix}{y}''\\\\{y}'\\end{bmatrix}=\\begin{bmatrix} -{b} & -{k} \\\\ 1 & 0 \\end{bmatrix}\\begin{bmatrix} {y}' \\\\ {y} \\end{bmatrix}$$"
   ]
  },
  {
   "cell_type": "markdown",
   "metadata": {},
   "source": [
    "## Example problems"
   ]
  },
  {
   "cell_type": "markdown",
   "metadata": {},
   "source": [
    "### Example problem 1"
   ]
  },
  {
   "cell_type": "markdown",
   "metadata": {},
   "source": [
    "* Find the general solutions, the matrix A, and the first column of *e*<sup>At</sup> of the following third-order, ordinary, homogeneous differential equation with constant coefficients\n",
    "$$ \\frac { { d }^{ 3 }y }{ d{ t }^{ 3 } } +2\\frac { { d }^{ 2 }y }{ d{ t }^{ 2 } } -\\frac { dy }{ dt } -2y=0 $$"
   ]
  },
  {
   "cell_type": "markdown",
   "metadata": {},
   "source": [
    "#### Solution"
   ]
  },
  {
   "cell_type": "markdown",
   "metadata": {},
   "source": [
    "* Since the differential equation is third order, we need to create three first-order differential equations\n",
    "$$ \\frac { { d }^{ 3 }y }{ d{ t }^{ 3 } } +2\\frac { { d }^{ 2 }y }{ d{ t }^{ 2 } } -\\frac { dy }{ dt } -2y=0\\\\ \\therefore \\quad y'''=-2y''+y'+2\\\\ \\underline { u } =\\begin{bmatrix} y'' \\\\ y' \\\\ y \\end{bmatrix}\\\\ \\underline { u } '=\\begin{bmatrix} y''' \\\\ y'' \\\\ y' \\end{bmatrix}\\\\ \\underline { u } '=A\\underline { u } =\\begin{bmatrix} -2 & 1 & 2 \\\\ 1 & 0 & 0 \\\\ 0 & 1 & 0 \\end{bmatrix}\\begin{bmatrix} y'' \\\\ y' \\\\ y \\end{bmatrix} $$"
   ]
  },
  {
   "cell_type": "markdown",
   "metadata": {},
   "source": [
    "* Notice that when we do the last matrix multiplication, we get exactly what we need\n",
    "$$  \\underline { u } '=\\begin{bmatrix} y''' \\\\ y'' \\\\ y' \\end{bmatrix}=\\begin{bmatrix} -2y''+y'+2y \\\\ y'' \\\\ y' \\end{bmatrix} $$"
   ]
  },
  {
   "cell_type": "markdown",
   "metadata": {},
   "source": [
    "* We now have the matrix A and we can calculate *e*<sup>At</sup> if A is diagonalizable"
   ]
  },
  {
   "cell_type": "code",
   "execution_count": null,
   "metadata": {},
   "outputs": [],
   "source": [
    "A = Matrix([[-2, 1, 2], [1, 0, 0], [0, 1, 0]])\n",
    "A"
   ]
  },
  {
   "cell_type": "code",
   "execution_count": null,
   "metadata": {},
   "outputs": [],
   "source": [
    "S, D = A.diagonalize()\n",
    "S, D"
   ]
  },
  {
   "cell_type": "markdown",
   "metadata": {},
   "source": [
    "* We can calculate *e*<sup>At</sup> from the following\n",
    "$$ {e}^{At}={S}{e}^{\\Lambda{t}}{S}^{-1} $$"
   ]
  },
  {
   "cell_type": "markdown",
   "metadata": {},
   "source": [
    "* Remember that &#923; is a diagonal matrix and therefor we would have the following\n",
    "$$ { e }^{ \\Lambda t }=\\begin{bmatrix} { e }^{ { \\lambda  }_{ 1 }t } & 0 & 0 & 0 \\\\ 0 & { e }^{ { \\lambda  }_{ 2 }t } & 0 & 0 \\\\ \\vdots  & \\vdots  & \\dots  & \\vdots  \\\\ 0 & 0 & 0 & { e }^{ { \\lambda  }_{ n }t } \\end{bmatrix} $$"
   ]
  },
  {
   "cell_type": "code",
   "execution_count": null,
   "metadata": {},
   "outputs": [],
   "source": [
    "A.eigenvals()"
   ]
  },
  {
   "cell_type": "markdown",
   "metadata": {},
   "source": [
    "* This gives us the three eigenvalues from which we can create the diagonal matrix *e*<sup>&#923;t</sup>"
   ]
  },
  {
   "cell_type": "code",
   "execution_count": null,
   "metadata": {},
   "outputs": [],
   "source": [
    "e_Lamda_t = Matrix([[exp(-2 * t), 0, 0], [0, exp(-t), 0], [0, 0, exp(t)]])\n",
    "e_Lamda_t"
   ]
  },
  {
   "cell_type": "markdown",
   "metadata": {},
   "source": [
    "* We have to multiply the following three matrices (with which python is not comfortable, so I'll do it in two steps)"
   ]
  },
  {
   "cell_type": "code",
   "execution_count": null,
   "metadata": {},
   "outputs": [],
   "source": [
    "S, e_Lamda_t, S.inv()"
   ]
  },
  {
   "cell_type": "code",
   "execution_count": null,
   "metadata": {},
   "outputs": [],
   "source": [
    "first_part = S * e_Lamda_t\n",
    "first_part"
   ]
  },
  {
   "cell_type": "code",
   "execution_count": null,
   "metadata": {},
   "outputs": [],
   "source": [
    "first_part * S.inv()"
   ]
  },
  {
   "cell_type": "markdown",
   "metadata": {},
   "source": [
    "* We still need to write our general solution\n",
    "$$ \\underline { u } \\left( t \\right) ={ c }_{ 1 }{ e }^{ { \\lambda  }_{ 1 }t }{ \\underline { x }  }_{ 1 }+{ c }_{ 2 }{ e }^{ { \\lambda  }_{ 2 }t }{ \\underline { x }  }_{ 2 }+{ c }_{ 3 }{ e }^{ { \\lambda  }_{ 3 }t }{ \\underline { x }  }_{ 3 } $$"
   ]
  },
  {
   "cell_type": "code",
   "execution_count": null,
   "metadata": {},
   "outputs": [],
   "source": [
    "A.eigenvects()"
   ]
  },
  {
   "cell_type": "markdown",
   "metadata": {},
   "source": [
    "* With these eigenvalues and eigenvectors we get\n",
    "$$ \\underline { u } \\left( t \\right) =\\begin{bmatrix} { y }'' \\\\ y' \\\\ y \\end{bmatrix}={ c }_{ 1 }{ e }^{ -2t }\\begin{bmatrix} 4 \\\\ -2 \\\\ 1 \\end{bmatrix}+{ c }_{ s }{ e }^{ -t }\\begin{bmatrix} 1 \\\\ -1 \\\\ 1 \\end{bmatrix}+{ c }_{ 3 }{ e }^{ t }\\begin{bmatrix} 1 \\\\ 1 \\\\ 1 \\end{bmatrix}\\\\ \\therefore \\quad y\\left( t \\right) ={ c }_{ 1 }{ e }^{ -2t }+{ c }_{ 2 }{ e }^{ -t }+{ c }_{ 3 }{ e }^{ t } $$"
   ]
  },
  {
   "cell_type": "markdown",
   "metadata": {},
   "source": [
    "### Example problem 2"
   ]
  },
  {
   "cell_type": "markdown",
   "metadata": {},
   "source": [
    "* Solve the following second-order ordinary differential equation\n",
    "$$ y''-y'-6y=0 $$"
   ]
  },
  {
   "cell_type": "markdown",
   "metadata": {},
   "source": [
    "#### Solution"
   ]
  },
  {
   "cell_type": "markdown",
   "metadata": {},
   "source": [
    "* We need to create two first-order equations \n",
    "$$ \\therefore \\quad y''=y'+6y\\\\ \\because \\quad \\underline { u } \\left( t \\right) =\\begin{bmatrix} y' \\\\ y \\end{bmatrix}\\\\ \\underline { u } '\\left( t \\right) =\\begin{bmatrix} y'' \\\\ y' \\end{bmatrix}\\\\ \\therefore \\quad \\underline { u } '\\left( t \\right) =\\begin{bmatrix} 1 & 6 \\\\ 1 & 0 \\end{bmatrix}\\underline { u } \\left( t \\right)  $$"
   ]
  },
  {
   "cell_type": "code",
   "execution_count": null,
   "metadata": {},
   "outputs": [],
   "source": [
    "A = Matrix([[1, 6], [1, 0]])\n",
    "A"
   ]
  },
  {
   "cell_type": "code",
   "execution_count": null,
   "metadata": {},
   "outputs": [],
   "source": [
    "A.eigenvects()"
   ]
  },
  {
   "cell_type": "markdown",
   "metadata": {},
   "source": [
    "* The solution is thus as follows\n",
    "$$ {y}\\left({t}\\right)={c}_{1}{e}^{-2t}+{c}_{2}{e}^{3t} $$"
   ]
  },
  {
   "cell_type": "code",
   "execution_count": null,
   "metadata": {},
   "outputs": [],
   "source": []
  }
 ],
 "metadata": {
  "language_info": {
   "name": "python",
   "pygments_lexer": "ipython3"
  }
 },
 "nbformat": 4,
 "nbformat_minor": 0
}
