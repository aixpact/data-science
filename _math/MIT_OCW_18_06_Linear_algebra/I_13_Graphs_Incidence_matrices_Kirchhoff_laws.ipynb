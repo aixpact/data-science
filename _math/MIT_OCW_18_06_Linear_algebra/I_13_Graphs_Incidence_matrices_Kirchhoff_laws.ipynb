{
 "cells": [
  {
   "cell_type": "markdown",
   "metadata": {},
   "source": [
    "+ This notebook is part of lecture 12 *Graphs, netwroks, and incidence matrices* in the OCW MIT course 18.06 by Prof Gilbert Strang [1]\n",
    "+ Created by me, Dr Juan H Klopper\n",
    "    + Head of Acute Care Surgery\n",
    "    + Groote Schuur Hospital\n",
    "    + University Cape Town\n",
    "    + <a href=\"mailto:juan.klopper@uct.ac.za\">Email me with your thoughts, comments, suggestions and corrections</a> \n",
    "<a rel=\"license\" href=\"http://creativecommons.org/licenses/by-nc/4.0/\"><img alt=\"Creative Commons Licence\" style=\"border-width:0\" src=\"https://i.creativecommons.org/l/by-nc/4.0/88x31.png\" /></a><br /><span xmlns:dct=\"http://purl.org/dc/terms/\" href=\"http://purl.org/dc/dcmitype/InteractiveResource\" property=\"dct:title\" rel=\"dct:type\">Linear Algebra OCW MIT18.06</span> <span xmlns:cc=\"http://creativecommons.org/ns#\" property=\"cc:attributionName\">IPython notebook [2] study notes by Dr Juan H Klopper</span> is licensed under a <a rel=\"license\" href=\"http://creativecommons.org/licenses/by-nc/4.0/\">Creative Commons Attribution-NonCommercial 4.0 International License</a>.\n",
    "\n",
    "+ [1] <a href=\"http://ocw.mit.edu/courses/mathematics/18-06sc-linear-algebra-fall-2011/index.htm\">OCW MIT 18.06</a>\n",
    "+ [2] Fernando Pérez, Brian E. Granger, IPython: A System for Interactive Scientific Computing, Computing in Science and Engineering, vol. 9, no. 3, pp. 21-29, May/June 2007, doi:10.1109/MCSE.2007.53. URL: http://ipython.org"
   ]
  },
  {
   "cell_type": "code",
   "execution_count": null,
   "metadata": {},
   "outputs": [],
   "source": [
    "from IPython.core.display import HTML, Image\n",
    "css_file = 'style.css'\n",
    "HTML(open(css_file, 'r').read())"
   ]
  },
  {
   "cell_type": "code",
   "execution_count": null,
   "metadata": {},
   "outputs": [],
   "source": [
    "from sympy import init_printing, symbols, Matrix\n",
    "from warnings import filterwarnings\n",
    "from IPython.display import Image"
   ]
  },
  {
   "cell_type": "code",
   "execution_count": null,
   "metadata": {},
   "outputs": [],
   "source": [
    "init_printing(use_latex = 'mathjax')\n",
    "filterwarnings('ignore')"
   ]
  },
  {
   "cell_type": "markdown",
   "metadata": {},
   "source": [
    "# Graphs and networks\n",
    "# Incidence matrices\n",
    "# Kirchhoff's laws"
   ]
  },
  {
   "cell_type": "markdown",
   "metadata": {},
   "source": [
    "* This lecture is about the application of matrices"
   ]
  },
  {
   "cell_type": "markdown",
   "metadata": {},
   "source": [
    "## Graphs and networks"
   ]
  },
  {
   "cell_type": "markdown",
   "metadata": {},
   "source": [
    "* In this instance we refer to nodes and there connections called edges\n",
    "* Consider the graph below:"
   ]
  },
  {
   "cell_type": "code",
   "execution_count": null,
   "metadata": {},
   "outputs": [],
   "source": [
    "Image(filename = 'Graph1.png')"
   ]
  },
  {
   "cell_type": "markdown",
   "metadata": {},
   "source": [
    "* We will call the nodes *n* (columns), in this case *n* = 4\n",
    "* The edges (connections) will be called *m* (rows), with *m* = 5 in this case\n",
    "* This will give us a *m*&#215;*n* = 5&#215;4 matrix\n",
    "* We will have to give a direction to every edge"
   ]
  },
  {
   "cell_type": "markdown",
   "metadata": {},
   "source": [
    "## The incidence matrix"
   ]
  },
  {
   "cell_type": "markdown",
   "metadata": {},
   "source": [
    "* This corresponds to the graph above"
   ]
  },
  {
   "cell_type": "code",
   "execution_count": null,
   "metadata": {},
   "outputs": [],
   "source": [
    "A = Matrix([[-1, 1, 0, 0], [0, -1, 1, 0], [-1, 0, 1, 0], [-1, 0, 0, 1], [0, 0, -1, 1]])\n",
    "A\n",
    "# For each row (edge) look only at that edge (line)\n",
    "# In the case of row (edge, line) 1, the arrow point away from node 1, hence the first -1 in the matrix\n",
    "# The arrow point towards node 2, hence the 1\n",
    "# It does not point to nodes 3 and 4, hence the 0's"
   ]
  },
  {
   "cell_type": "markdown",
   "metadata": {},
   "source": [
    "* Edges 1, 2, and 3 form a loop\n",
    "* Notice for the first loop (edges 1, 2, and 3) the corresponding third row is a linear combination of rows 1 and 2\n",
    "* Intuitively, you can see that you can reach node 3 from node 1 by a combination of edges (rows) 1 and 2"
   ]
  },
  {
   "cell_type": "code",
   "execution_count": null,
   "metadata": {},
   "outputs": [],
   "source": [
    "A.rref()"
   ]
  },
  {
   "cell_type": "markdown",
   "metadata": {},
   "source": [
    "* We note that we have three pivot columns, hence a rank, *r* = 3\n",
    "* We have one column without a pivot and will thus have one in the nullspace (*n* - *r* = 4 - 3 = 1)"
   ]
  },
  {
   "cell_type": "code",
   "execution_count": null,
   "metadata": {},
   "outputs": [],
   "source": [
    "A.nullspace()"
   ]
  },
  {
   "cell_type": "markdown",
   "metadata": {},
   "source": [
    "*  The basis for this subspace is one dimensional and includes all scalar multiplications of this vector\n",
    "* The meaning in our example is that nothing will happen when the solutions fall on this line in 4-dimensional space, i.e. no current will flow"
   ]
  },
  {
   "cell_type": "markdown",
   "metadata": {},
   "source": [
    "* If you think of the solution **x** and every component of **x** being a potential at a node, the matrix multiplication A**x** gives you the potential differences along the edges\n",
    "* The nullspace would then be the solution where all the potential differences are 0"
   ]
  },
  {
   "cell_type": "code",
   "execution_count": null,
   "metadata": {},
   "outputs": [],
   "source": [
    "x1, x2, x3, x4 = symbols('x1, x2, x3, x4')"
   ]
  },
  {
   "cell_type": "code",
   "execution_count": null,
   "metadata": {},
   "outputs": [],
   "source": [
    "x_vect = Matrix([x1, x2, x3, x4])\n",
    "x_vect"
   ]
  },
  {
   "cell_type": "code",
   "execution_count": null,
   "metadata": {},
   "outputs": [],
   "source": [
    "A * x_vect"
   ]
  },
  {
   "cell_type": "markdown",
   "metadata": {},
   "source": [
    "* For the nullspace, each row now equals 0 (the potential difference between two nodes)"
   ]
  },
  {
   "cell_type": "markdown",
   "metadata": {},
   "source": [
    "* Let's look at the row space and the nullspace of the row picture\n",
    "* We now to get the rowspace by transposing the row that contain pivots"
   ]
  },
  {
   "cell_type": "code",
   "execution_count": null,
   "metadata": {},
   "outputs": [],
   "source": [
    "A_row = Matrix([[1, 0, 0, -1], [0, 1, 0, -1], [0, 0, 1, -1]]).transpose()\n",
    "A_row"
   ]
  },
  {
   "cell_type": "code",
   "execution_count": null,
   "metadata": {},
   "outputs": [],
   "source": [
    "A"
   ]
  },
  {
   "cell_type": "code",
   "execution_count": null,
   "metadata": {},
   "outputs": [],
   "source": [
    "A.transpose()"
   ]
  },
  {
   "cell_type": "code",
   "execution_count": null,
   "metadata": {},
   "outputs": [],
   "source": [
    "A.transpose().rref()"
   ]
  },
  {
   "cell_type": "markdown",
   "metadata": {},
   "source": [
    "* Note how the pivot columns are columns 1, 2, and 4\n",
    "* These represent edges 1, 2, 4\n",
    "* Note (form the graph above) that thye are independent as they are not a part of a loop\n",
    "* A graph without a loop (with 1 less edge than nodes) is called a *tree*\n",
    "* It has a nullspace of"
   ]
  },
  {
   "cell_type": "code",
   "execution_count": null,
   "metadata": {},
   "outputs": [],
   "source": [
    "A.transpose().nullspace()"
   ]
  },
  {
   "cell_type": "markdown",
   "metadata": {},
   "source": [
    "* The dimension of the nullspace of A<sup>T</sup> is *m* - *r* = number of edges minus (number of nodes - 1)\n",
    "* &#8756; number of nodes - number of edges + number of loops = 1\n",
    "* This is Euler's formula and works for all graphs\n",
    "* It tells you how many independent loops there are"
   ]
  },
  {
   "cell_type": "markdown",
   "metadata": {},
   "source": [
    "* There is a connection between potentials and currents\n",
    "* With 5 edges we will have 5 currents, which we can represent as a vector **y**\n",
    "$$ \\overline { y } =\\begin{bmatrix} { y }_{ 1 } & { y }_{ 2 } & { y }_{ 3 } & { y }_{ 4 } & { y }_{ 5 } \\end{bmatrix} $$\n",
    "* This relationship is Ohm's law"
   ]
  },
  {
   "cell_type": "markdown",
   "metadata": {},
   "source": [
    "## Kirchhoff's law"
   ]
  },
  {
   "cell_type": "markdown",
   "metadata": {},
   "source": [
    "* By the way, Kirchhoff's current law is: A<sup>T</sup>**y** = **0**\n",
    "* We can look at it in the following way"
   ]
  },
  {
   "cell_type": "code",
   "execution_count": null,
   "metadata": {},
   "outputs": [],
   "source": [
    "A.transpose()"
   ]
  },
  {
   "cell_type": "code",
   "execution_count": null,
   "metadata": {},
   "outputs": [],
   "source": [
    "y1, y2, y3, y4, y5 = symbols('y1, y2, y3, y4, y5')"
   ]
  },
  {
   "cell_type": "code",
   "execution_count": null,
   "metadata": {},
   "outputs": [],
   "source": [
    "y_vect = Matrix([y1, y2, y3, y4, y5])\n",
    "y_vect"
   ]
  },
  {
   "cell_type": "code",
   "execution_count": null,
   "metadata": {},
   "outputs": [],
   "source": [
    "A.transpose() * y_vect"
   ]
  },
  {
   "cell_type": "markdown",
   "metadata": {},
   "source": [
    "* For row 1 (setting it equal to 0 and looking at graph above tells us that current flows out from node 1 on all these 3 edges\n",
    "* For row 2 (doing the same as above) we note that for node 2 current flow towards it on edge *y*<sub>1</sub> and away from it along edge *y*<sub>2</sub>\n",
    "* For row 3 we note that current flows from node three along edges 2 (edge *y*<sub>2</sub>) and 3 (edge *y*<sub>3</sub>) and away from it along edge 5 (edge *y*<sub>5</sub>)\n",
    "* For row 4 we note that current flows towards it along edges 4 (edge *y*<sub>4</sub>) and 5 (edge *y*<sub>5</sub>)"
   ]
  },
  {
   "cell_type": "markdown",
   "metadata": {},
   "source": [
    "* Look back at the nullspace of A<sup>T</sup>\n",
    "* The two basis vectors show the flow in current that will allow for NO current to accumulate at a node\n",
    "* In this example, current flowed along the loop of edges 1, 2, and 3 (with nothing along 4 and 5\n",
    "* The other solution would be current flowing all along the periphery, with nothing along 3\n",
    "* These are the basis vectors of the nullspace\n",
    "* Another valid basis would include flow along the upper loop\n",
    "* Notice that the basis is two dimensional as (between the 3 flows explained above) one is a linear combination of the other two"
   ]
  },
  {
   "cell_type": "markdown",
   "metadata": {},
   "source": [
    "## Putting it all together"
   ]
  },
  {
   "cell_type": "markdown",
   "metadata": {},
   "source": [
    "* All of the above can be stated as follows\n",
    "$$ \\overline {e} = {A} \\overline {x} $$\n",
    "$$ \\overline {y} = {C} \\overline {e} $$\n",
    "$$ A^{ T }\\overline { y } =\\overline { f } $$\n",
    "* Where\n",
    "    * **e** is the potential differences\n",
    "    * **f** is an external current in Kirchhoff's law\n",
    "* This gives us the fundamental equation for applications as stated here\n",
    "$$ {A}^{T}{C}{A} \\overline{x}=\\overline{f} $$\n",
    "* These equations are for equilibrium (no Newton's law, no time)"
   ]
  },
  {
   "cell_type": "markdown",
   "metadata": {},
   "source": [
    "* Remember that A<sup>T</sup>A is always symmetric"
   ]
  },
  {
   "cell_type": "markdown",
   "metadata": {},
   "source": [
    "## Example problem"
   ]
  },
  {
   "cell_type": "markdown",
   "metadata": {},
   "source": [
    "### Example problem 1"
   ]
  },
  {
   "cell_type": "code",
   "execution_count": null,
   "metadata": {},
   "outputs": [],
   "source": [
    "Image(filename = 'Graph2.png')"
   ]
  },
  {
   "cell_type": "markdown",
   "metadata": {},
   "source": [
    "* Calculate the incidence matrix A\n",
    "* Calculate the nullspaces of A and A<sup>T</sup>\n",
    "* Calculate the trace of A<sup>T</sup>A"
   ]
  },
  {
   "cell_type": "markdown",
   "metadata": {},
   "source": [
    "#### Solution"
   ]
  },
  {
   "cell_type": "code",
   "execution_count": null,
   "metadata": {},
   "outputs": [],
   "source": [
    "A = Matrix([[-1, 1, 0, 0, 0], [0, -1, 1, 0, 0], [-1, 0, 1, 0, 0], [0, -1, 0, 1, 0], [0, 0, 0, -1, 1], [0, 0, 1, 0, -1]])\n",
    "A"
   ]
  },
  {
   "cell_type": "code",
   "execution_count": null,
   "metadata": {},
   "outputs": [],
   "source": [
    "A.rref()"
   ]
  },
  {
   "cell_type": "markdown",
   "metadata": {},
   "source": [
    "* We note that we have 4 independent columns\n",
    "* The dimension of the nullspace will be *n* - *r* = 5 - 4 = 1\n",
    "* We will let *x*<sub>5</sub> = *s*, then from the row-reduced echelon form abobe we have\n",
    "$$ { x }_{ 1 }-{ x }_{ 5 }=0\\\\ { x }_{ 2 }-{ x }_{ 5 }=0\\\\ { x }_{ 3 }-{ x }_{ 5 }=0\\\\ { x }_{ 4 }-{ x }_{ 5 }=0\\\\ \\begin{bmatrix} { x }_{ 1 } \\\\ { x }_{ 2 } \\\\ { x }_{ 3 } \\\\ { x }_{ 4 } \\\\ { x }_{ 5 } \\end{bmatrix}=s\\begin{bmatrix} 1 \\\\ 1 \\\\ 1 \\\\ 1 \\\\ 1 \\end{bmatrix} $$"
   ]
  },
  {
   "cell_type": "code",
   "execution_count": null,
   "metadata": {},
   "outputs": [],
   "source": [
    "A.nullspace()"
   ]
  },
  {
   "cell_type": "markdown",
   "metadata": {},
   "source": [
    "* It represents a potential difference between all nodes t be zero: A**x** = **0**\n",
    "* This means that the potential at all nodes must be a constant"
   ]
  },
  {
   "cell_type": "code",
   "execution_count": null,
   "metadata": {},
   "outputs": [],
   "source": [
    "A.transpose().nullspace()"
   ]
  },
  {
   "cell_type": "markdown",
   "metadata": {},
   "source": [
    "* It is of dimension 2, as there are two independent loops\n",
    "* As per Euler's formula\n",
    "    * nodes - edges + loops = 1\n",
    "    * 5 - 6 + 2 = 1\n",
    "* This tells us about current that needs to flow so as not to accumulate current at a node\n",
    "* It therefor indicates the independent loops\n",
    "* It works out beautifully\n",
    "    * Look at the two loops and assign flow as per the two vector columns for each edge and you will see perfect flow along either of the two independent loops with no current accumulating at any node"
   ]
  },
  {
   "cell_type": "markdown",
   "metadata": {},
   "source": [
    "* We could calculate it from the row-reduced echelon for of A<sup>T</sup>"
   ]
  },
  {
   "cell_type": "code",
   "execution_count": null,
   "metadata": {},
   "outputs": [],
   "source": [
    "A.transpose().rref()"
   ]
  },
  {
   "cell_type": "markdown",
   "metadata": {},
   "source": [
    "* This gives us 4 independent columns, with dependent *y*<sub>3</sub> and *y*<sub>6</sub>\n",
    "$$ y_{ 6 }=s\\\\ { y }_{ 3 }=t\\\\ { y }_{ 1 }+{ y }_{ 3 }={ y }_{ 1 }+t=0\\\\ \\therefore \\quad { y }_{ 1 }=-t\\\\ { y }_{ 2 }+{ y }_{ 3 }+{ y }_{ 6 }=\\quad 0\\\\ \\therefore \\quad { y }_{ 2 }=-s-t\\\\ { y }_{ 4 }-{ y }_{ 6 }={ y }_{ 4 }-s=0\\\\ \\therefore \\quad { y }_{ 4 }=s\\\\ { y }_{ 5 }-{ y }_{ 6 }={ y }_{ 5 }-s=0\\\\ \\therefore \\quad { y }_{ 5 }=s\\\\ \\begin{bmatrix} { y }_{ 1 } \\\\ { y }_{ 2 } \\\\ { y }_{ 3 } \\\\ { y }_{ 4 } \\\\ { y }_{ 5 } \\\\ { y }_{ 6 } \\end{bmatrix}=\\begin{bmatrix} -t \\\\ -s-t \\\\ t \\\\ s \\\\ s \\\\ s \\end{bmatrix}=\\begin{bmatrix} 0 \\\\ -s \\\\ 0 \\\\ s \\\\ s \\\\ s \\end{bmatrix}+\\begin{bmatrix} -t \\\\ -t \\\\ t \\\\ 0 \\\\ 0 \\\\ 0 \\end{bmatrix}=s\\begin{bmatrix} 0 \\\\ -1 \\\\ 0 \\\\ 1 \\\\ 1 \\\\ 1 \\end{bmatrix}+t\\begin{bmatrix} -1 \\\\ -1 \\\\ 1 \\\\ 0 \\\\ 0 \\\\ 0 \\end{bmatrix} $$"
   ]
  },
  {
   "cell_type": "code",
   "execution_count": null,
   "metadata": {},
   "outputs": [],
   "source": [
    "A.transpose() * A"
   ]
  },
  {
   "cell_type": "code",
   "execution_count": null,
   "metadata": {},
   "outputs": [],
   "source": [
    "(A.transpose() * A).trace()"
   ]
  },
  {
   "cell_type": "markdown",
   "metadata": {},
   "source": [
    "* The degree of the node is the number of edges it has\n",
    "* Look at the columns of the incidence matrix A\n",
    "* Every non-trivial (non-zero) entry represents an edge\n",
    "* Note that there are 2 in column 1\n",
    "    * This gives us a degree of 2, which will also be the first entry on the diagonal of A<sup>T</sup>A\n",
    "* Column 2 has 3 entries representing 3 edges from node 2 and an entry of 3 on the diagonal of A<sup>T</sup>A\n",
    "* ... and so on\n",
    "* The trace is therefor just the sum of the degree of all the nodes"
   ]
  },
  {
   "cell_type": "code",
   "execution_count": null,
   "metadata": {},
   "outputs": [],
   "source": []
  }
 ],
 "metadata": {
  "language_info": {
   "name": "python",
   "pygments_lexer": "ipython3"
  }
 },
 "nbformat": 4,
 "nbformat_minor": 0
}
