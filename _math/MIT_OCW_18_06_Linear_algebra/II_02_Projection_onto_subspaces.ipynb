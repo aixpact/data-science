{
 "cells": [
  {
   "cell_type": "markdown",
   "metadata": {},
   "source": [
    "+ This notebook is part of lecture 15 *Projections onto subspaces* in the OCW MIT course 18.06 by Prof Gilbert Strang [1]\n",
    "+ Created by me, Dr Juan H Klopper\n",
    "    + Head of Acute Care Surgery\n",
    "    + Groote Schuur Hospital\n",
    "    + University Cape Town\n",
    "    + <a href=\"mailto:juan.klopper@uct.ac.za\">Email me with your thoughts, comments, suggestions and corrections</a> \n",
    "<a rel=\"license\" href=\"http://creativecommons.org/licenses/by-nc/4.0/\"><img alt=\"Creative Commons Licence\" style=\"border-width:0\" src=\"https://i.creativecommons.org/l/by-nc/4.0/88x31.png\" /></a><br /><span xmlns:dct=\"http://purl.org/dc/terms/\" href=\"http://purl.org/dc/dcmitype/InteractiveResource\" property=\"dct:title\" rel=\"dct:type\">Linear Algebra OCW MIT18.06</span> <span xmlns:cc=\"http://creativecommons.org/ns#\" property=\"cc:attributionName\">IPython notebook [2] study notes by Dr Juan H Klopper</span> is licensed under a <a rel=\"license\" href=\"http://creativecommons.org/licenses/by-nc/4.0/\">Creative Commons Attribution-NonCommercial 4.0 International License</a>.\n",
    "\n",
    "+ [1] <a href=\"http://ocw.mit.edu/courses/mathematics/18-06sc-linear-algebra-fall-2011/index.htm\">OCW MIT 18.06</a>\n",
    "+ [2] Fernando Pérez, Brian E. Granger, IPython: A System for Interactive Scientific Computing, Computing in Science and Engineering, vol. 9, no. 3, pp. 21-29, May/June 2007, doi:10.1109/MCSE.2007.53. URL: http://ipython.org"
   ]
  },
  {
   "cell_type": "code",
   "execution_count": null,
   "metadata": {},
   "outputs": [],
   "source": [
    "from IPython.core.display import HTML, Image\n",
    "css_file = 'style.css'\n",
    "HTML(open(css_file, 'r').read())"
   ]
  },
  {
   "cell_type": "code",
   "execution_count": null,
   "metadata": {},
   "outputs": [],
   "source": [
    "from sympy import init_printing, Matrix, symbols\n",
    "from IPython.display import Image\n",
    "from warnings import filterwarnings"
   ]
  },
  {
   "cell_type": "code",
   "execution_count": null,
   "metadata": {},
   "outputs": [],
   "source": [
    "init_printing(use_latex = 'mathjax')\n",
    "filterwarnings('ignore')"
   ]
  },
  {
   "cell_type": "markdown",
   "metadata": {},
   "source": [
    "# Projections onto subspaces"
   ]
  },
  {
   "cell_type": "markdown",
   "metadata": {},
   "source": [
    "## Geometry in the plane"
   ]
  },
  {
   "cell_type": "markdown",
   "metadata": {},
   "source": [
    "* Projection of a vector onto another (in the plane)\n",
    "* Consider the orthogonal projection of **b** onto **a**"
   ]
  },
  {
   "cell_type": "code",
   "execution_count": null,
   "metadata": {},
   "outputs": [],
   "source": [
    "Image(filename = 'Orthogonal projection in the plane.png')"
   ]
  },
  {
   "cell_type": "markdown",
   "metadata": {},
   "source": [
    "* Note that **p** falls on a line, which is a subspace of the plane &#8477;<sup>2</sup>\n",
    "* Remember from the previous lecture that orthogonal subspaces have A**x** = **0**\n",
    "* Note that **p** is some scalar multiple of **a**\n",
    "* With **a** perpendicular to **e** and **e** = **b** - x**a**\n",
    "* Thus we have **a**<sup>T</sup>(**b** - x**a**) = 0 and x**a**<sup>T</sup>**a** = **a**<sup>T</sup>**b**\n",
    "* Since **a**<sup>T</sup>**a** is a number we can simplify\n",
    "$$ x=\\frac { { \\underline { a }  }^{ T }\\underline { b }  }{ { \\underline { a }  }^{ T }\\underline { a }  }  $$"
   ]
  },
  {
   "cell_type": "markdown",
   "metadata": {},
   "source": [
    "* We also have **p** = **a**x\n",
    "$$ \\underline { p } =\\underline { a } x=\\underline { a } \\frac { { \\underline { a }  }^{ T }\\underline { b }  }{ { \\underline { a }  }^{ T }\\underline { a }  }  $$"
   ]
  },
  {
   "cell_type": "markdown",
   "metadata": {},
   "source": [
    "* This equation is helpful\n",
    "    * Doubling (or any other scalar multiple of) **b** doubles (or scalar multiplies) **p**\n",
    "    * Doubling (or scalar multiple of) **a** has no effect"
   ]
  },
  {
   "cell_type": "markdown",
   "metadata": {},
   "source": [
    "* Eventually we are looking for proj<sub>**p**</sub> = P**b**, where P is the projection matrix\n",
    "$$ \\underline { p } =P\\underline { b } \\\\ P=\\frac { 1 }{ { \\underline { a }  }^{ T }\\underline { a }  } \\underline { a } { \\underline { a }  }^{ T } $$"
   ]
  },
  {
   "cell_type": "markdown",
   "metadata": {},
   "source": [
    "* Properties of the projection matrix P\n",
    "    * The columnspace of P (C(P)) is the line which contains **a**\n",
    "    * The rank is 1, rank(P) = 1\n",
    "    * P is symmetrix, i.e. P<sup>T</sup> = P\n",
    "    * Applying the projection matrix a second time (i.e. P<sup>2</sup>) nothing changes, thus P<sup>2</sup> = P"
   ]
  },
  {
   "cell_type": "markdown",
   "metadata": {},
   "source": [
    "## Why project?"
   ]
  },
  {
   "cell_type": "markdown",
   "metadata": {},
   "source": [
    "(projecting onto more than a one-dimensional line)"
   ]
  },
  {
   "cell_type": "markdown",
   "metadata": {},
   "source": [
    "* Because A**x** = **b** may not have a solution\n",
    "    * **b** may not be in the columnspace\n",
    "    * May have more equations than unknowns\n",
    "* Solve for the closest vector in the columnspace\n",
    "    * This is done by solving for **p** instead, where **p** is the projection of **b** onto the columnsapce of A\n",
    "$$ A\\hat { x } =\\underline { p }  $$"
   ]
  },
  {
   "cell_type": "markdown",
   "metadata": {},
   "source": [
    "* Now we have to get **b** orthogonally project (as **p**) onto the column(sub)space\n",
    "* This is done by calculating two bases vectors for the plane that contains **p**, i.e. **a**<sub>1</sub> and **a**<sub>2</sub>"
   ]
  },
  {
   "cell_type": "markdown",
   "metadata": {},
   "source": [
    "* Going way back to the graph up top we note that **e** is perpendicular to the plane\n",
    "* So, we have:\n",
    "$$ A\\hat { x } =\\underline { p } $$\n",
    "* We know that both **a**<sub>1</sub> and **a**<sub>2</sub> is perpendicular to **e**, so:\n",
    "$$ { a }_{ 1 }^{ T }\\underline { e } =0;\\quad { a }_{ 2 }^{ T }\\underline { e } =0\\\\ \\because \\quad \\underline { e } =\\underline { b } -\\underline { p } \\\\ \\because \\quad \\underline { p } =A\\hat { x } \\\\ { a }_{ 1 }^{ T }\\left( \\underline { b } -A\\hat { x }  \\right) =0;\\quad { a }_{ 2 }^{ T }\\left( \\underline { b } -A\\hat { x }  \\right) =0 $$"
   ]
  },
  {
   "cell_type": "markdown",
   "metadata": {},
   "source": [
    "* We know that from ...\n",
    "$$ \\begin{bmatrix} { a }_{ 1 }^{ T } \\\\ { a }_{ 2 }^{ T } \\end{bmatrix}\\left( \\underline { b } -A\\hat { x }  \\right) =\\begin{bmatrix} 0 \\\\ 0 \\end{bmatrix}\\\\ { A }^{ T }\\left( \\underline { b } -A\\hat { x }  \\right) =0 $$\n",
    "* ... **e** must be in the nullspace of A<sup>T</sup>\n",
    "* Which is right because from the previous lecture the nullspace of A<sup>T</sup> is orthogonal to the columnspace of A"
   ]
  },
  {
   "cell_type": "markdown",
   "metadata": {},
   "source": [
    "* Simplifying the last equations we have\n",
    "$$ {A}^{T}{A} \\hat{x} = {A}^{T}{b} $$"
   ]
  },
  {
   "cell_type": "markdown",
   "metadata": {},
   "source": [
    "* Just look back at the plane example in &#8477;<sup>2</sup> example we started with\n",
    "* Simplifying things back to a column vector **a** instead of a matrix subspace A in this last equation does give us what we had in &#8477;<sup>2</sup>"
   ]
  },
  {
   "cell_type": "markdown",
   "metadata": {},
   "source": [
    "* Solving this we have\n",
    "$$ \\hat { x } ={ \\left( { A }^{ T }A \\right)  }^{ -1 }{ A }^{ T }\\underline { b }  $$"
   ]
  },
  {
   "cell_type": "markdown",
   "metadata": {},
   "source": [
    "* Which leaves us with\n",
    "$$ \\underline { p } =A\\hat { x } \\\\ \\underline { p } =A{ \\left( { A }^{ T }A \\right)  }^{ -1 }{ A }^{ T }\\underline { b }  $$"
   ]
  },
  {
   "cell_type": "markdown",
   "metadata": {},
   "source": [
    "* Making the projection matrix P\n",
    "$$ P=A{ \\left( { A }^{ T }A \\right)  }^{ -1 }{ A }^{ T } $$"
   ]
  },
  {
   "cell_type": "markdown",
   "metadata": {},
   "source": [
    "* Just note that for a square invertible matrix A, P is the identity matrix\n",
    "* Most of the time A is not square (and thus invertible) so we have to leave the equation as it is\n",
    "* Also, note that P<sup>T</sup> = P and P<sup>2</sup> = P"
   ]
  },
  {
   "cell_type": "markdown",
   "metadata": {},
   "source": [
    "## Applications"
   ]
  },
  {
   "cell_type": "markdown",
   "metadata": {},
   "source": [
    "### Least squares"
   ]
  },
  {
   "cell_type": "markdown",
   "metadata": {},
   "source": [
    "* Given a set of data points in two dimensions, i.e. with variables (*t*,*b*)\n",
    "* We need to fit them onto the best line\n",
    "* So, as an example consider the points (1,1), (2,2), (3,2)"
   ]
  },
  {
   "cell_type": "markdown",
   "metadata": {},
   "source": [
    "* A best line in this instance means a straight line in the form\n",
    "$$ {b}={C}+{D}{t} $$\n",
    "* Using the three points above we get three equations\n",
    "$$ {C}+{D}=1 \\\\ {C}+{2D} = 2 \\\\ {C}+{3D}=2 $$"
   ]
  },
  {
   "cell_type": "markdown",
   "metadata": {},
   "source": [
    "* If the line goes through all points, we would give a solution\n",
    "* Instead we have the following\n",
    "$$ \\begin{bmatrix} 1 & 1 \\\\ 1 & 2 \\\\ 1 & 3 \\end{bmatrix}\\begin{bmatrix} C \\\\ D \\end{bmatrix}=\\begin{bmatrix} 1 \\\\ 2 \\\\ 2 \\end{bmatrix} $$\n",
    "* Three equation, two unknowns, no solution, **so** solve ...\n",
    "$$ { A }^{ T }A\\hat { x } ={ A }^{ T }b $$\n",
    "* ... which for the solution is\n",
    "$$ \\hat { x } ={ \\left( { A }^{ T }A \\right)  }^{ -1 }{ A }^{ T }b $$"
   ]
  },
  {
   "cell_type": "code",
   "execution_count": null,
   "metadata": {},
   "outputs": [],
   "source": [
    "A = Matrix([[1, 1], [1, 2], [1, 3]])\n",
    "A"
   ]
  },
  {
   "cell_type": "code",
   "execution_count": null,
   "metadata": {},
   "outputs": [],
   "source": [
    "b = Matrix([1, 2, 2])\n",
    "b"
   ]
  },
  {
   "cell_type": "code",
   "execution_count": null,
   "metadata": {},
   "outputs": [],
   "source": [
    "(A.transpose() * A).inv() * A.transpose() * b"
   ]
  },
  {
   "cell_type": "markdown",
   "metadata": {},
   "source": [
    "* Thus, the solution is:\n",
    "$$ b=\\frac { 2 }{ 3 } +\\frac { 1 }{ 2 } t $$"
   ]
  },
  {
   "cell_type": "code",
   "execution_count": null,
   "metadata": {},
   "outputs": [],
   "source": []
  }
 ],
 "metadata": {
  "language_info": {
   "name": "python",
   "pygments_lexer": "ipython3"
  }
 },
 "nbformat": 4,
 "nbformat_minor": 0
}
