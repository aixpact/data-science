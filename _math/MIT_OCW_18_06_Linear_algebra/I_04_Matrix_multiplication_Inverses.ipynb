{
 "cells": [
  {
   "cell_type": "markdown",
   "metadata": {},
   "source": [
    "+ This notebook is part of lecture 3 *Multiplication and inverse matrices* in the OCW MIT course 18.06 [1]\n",
    "+ Created by me, Dr Juan H Klopper\n",
    "    + Head of Acute Care Surgery\n",
    "    + Groote Schuur Hospital\n",
    "    + University Cape Town\n",
    "    + <a href=\"mailto:juan.klopper@uct.ac.za\">Email me with your thoughts, comments, suggestions and corrections</a> \n",
    "<a rel=\"license\" href=\"http://creativecommons.org/licenses/by-nc/4.0/\"><img alt=\"Creative Commons Licence\" style=\"border-width:0\" src=\"https://i.creativecommons.org/l/by-nc/4.0/88x31.png\" /></a><br /><span xmlns:dct=\"http://purl.org/dc/terms/\" href=\"http://purl.org/dc/dcmitype/InteractiveResource\" property=\"dct:title\" rel=\"dct:type\">Linear Algebra OCW MIT18.06</span> <span xmlns:cc=\"http://creativecommons.org/ns#\" property=\"cc:attributionName\">IPython notebook [2] study notes by Dr Juan H Klopper</span> is licensed under a <a rel=\"license\" href=\"http://creativecommons.org/licenses/by-nc/4.0/\">Creative Commons Attribution-NonCommercial 4.0 International License</a>.\n",
    "\n",
    "+ [1] <a href=\"http://ocw.mit.edu/courses/mathematics/18-06sc-linear-algebra-fall-2011/index.htm\">OCW MIT 18.06</a>\n",
    "+ [2] Fernando Pérez, Brian E. Granger, IPython: A System for Interactive Scientific Computing, Computing in Science and Engineering, vol. 9, no. 3, pp. 21-29, May/June 2007, doi:10.1109/MCSE.2007.53. URL: http://ipython.org"
   ]
  },
  {
   "cell_type": "code",
   "execution_count": null,
   "metadata": {},
   "outputs": [],
   "source": [
    "from IPython.core.display import HTML, Image\n",
    "css_file = 'style.css'\n",
    "HTML(open(css_file, 'r').read())"
   ]
  },
  {
   "cell_type": "code",
   "execution_count": null,
   "metadata": {},
   "outputs": [],
   "source": [
    "from sympy import init_printing, Matrix, symbols, eye, Rational\n",
    "from warnings import filterwarnings"
   ]
  },
  {
   "cell_type": "code",
   "execution_count": null,
   "metadata": {},
   "outputs": [],
   "source": [
    "init_printing(use_latex = 'mathjax')\n",
    "filterwarnings('ignore')"
   ]
  },
  {
   "cell_type": "markdown",
   "metadata": {},
   "source": [
    "# Matrix multiplication, inverse and transpose"
   ]
  },
  {
   "cell_type": "markdown",
   "metadata": {},
   "source": [
    "## Multiplying matrices"
   ]
  },
  {
   "cell_type": "markdown",
   "metadata": {},
   "source": [
    "### Method 1"
   ]
  },
  {
   "cell_type": "markdown",
   "metadata": {},
   "source": [
    "+ Consider multiply matrices A and B to result in C\n",
    "+ We have already seen that the column size of the first must equal the row size of the second, *n*<sub>A</sub> **must equal** *m*<sub>B</sub>\n",
    "$$ {m}_{A}\\times{n}_{A}\\cdot{m}_{B}\\times{n}_{B} \\\\ = {m}_{A}\\cdot{n}_{B} $$\n",
    "+ C will then be of size *m*<sub>A</sub> &times; *n*<sub>B</sub>\n",
    "+ Every position *c*<sub>ij</sub>, with *i* as the row position and *j* as the column position is calculated by taking the dot product (i.e. each element times it's corresponding element, all added), *c*<sub>ij</sub> = (row *i* in A &sdot; column *j* of B)\n",
    "+ Here we calculate the row 2, column 1 position in C by the dot product of row 2 in A by column 1 in B\n",
    "$$ { \\begin{bmatrix} \\cdots  & \\cdots  & \\cdots  \\\\ 3 & 2 & -1 \\\\ \\cdots  & \\cdots  & \\cdots  \\\\ \\cdots  & \\cdots  & \\cdots  \\end{bmatrix} }_{ 4\\times 3 }{ \\begin{bmatrix} 1 & \\vdots  \\\\ 2 & \\vdots  \\\\ 1 & \\vdots  \\end{bmatrix} }_{ 3\\times 2 }={ \\begin{bmatrix} { c }_{ 11 } & { c }_{ 12 } \\\\ \\left( 3\\times 1 \\right) +\\left( 2\\times 2 \\right) +\\left( -1\\times 1 \\right)  & { c }_{ 22 } \\\\ { c }_{ 31 } & { c }_{ 32 } \\\\ { c }_{ 41 } & { c }_{ 42 } \\end{bmatrix} }_{ 4\\times 2 } $$\n",
    "+ Notice how this multiplication is only possible because the row size of A equals the column size of B\n",
    "$$ { \\begin{bmatrix} \\cdots  & \\cdots  & \\cdots  \\\\ { a }_{ 21 } & { a }_{ 22 } & { a }_{ 23 } \\\\ \\cdots  & \\cdots  & \\cdots  \\\\ \\cdots  & \\cdots  & \\cdots  \\end{bmatrix} }_{ 4\\times 3 }{ \\begin{bmatrix} { b }_{ 11 } & \\vdots  \\\\ { b }_{ 21 } & \\vdots  \\\\ { b }_{ 31 } & \\vdots  \\end{bmatrix} }_{ 3\\times 2 }={ \\begin{bmatrix} { c }_{ 11 } & { c }_{ 12 } \\\\ \\left( { a }_{ 21 }{ b }_{ 11 } \\right) +\\left( { a }_{ 22 }{ b }_{ 21 } \\right) +\\left( { a }_{ 23 }{ b }_{ 31 } \\right)  & { c }_{ 22 } \\\\ { c }_{ 31 } & { c }_{ 32 } \\\\ { c }_{ 41 } & { c }_{ 42 } \\end{bmatrix} }_{ 4\\times 2 }\\\\ =\\sum _{ k=1 }^{ n }{ { a }_{ 2k }{ b }_{ k1 } }  $$"
   ]
  },
  {
   "cell_type": "markdown",
   "metadata": {},
   "source": [
    "### Method 2"
   ]
  },
  {
   "cell_type": "markdown",
   "metadata": {},
   "source": [
    "+ In this method we note that each column in C is the result of the matrix A times the corresponding column in B\n",
    "+ This is akin to a matrix multiplied by a vector A**x**=**b**\n",
    "+ We see B as made up of vector columns\n",
    "+ The columns of C are thus combinations of columns of A\n",
    "    + The numbers in the corresponding columns in B is this combination"
   ]
  },
  {
   "cell_type": "markdown",
   "metadata": {},
   "source": [
    "### Method 3"
   ]
  },
  {
   "cell_type": "markdown",
   "metadata": {},
   "source": [
    "+ Here every row in A produces the same numbered row in C by multiplying it with the matrix B\n",
    "+ The rows of C are linear combinations of B"
   ]
  },
  {
   "cell_type": "markdown",
   "metadata": {},
   "source": [
    "### Method 4"
   ]
  },
  {
   "cell_type": "markdown",
   "metadata": {},
   "source": [
    "+ In method 1 we looked at row<sub>A</sub> &times; col<sub>B</sub> producing a single number in C\n",
    "+ What if we did column &times; row?\n",
    "+ The size of column of A is *m*<sub>A</sub> &times; 1 and a row of B is of size 1 &times; *n*<sub>B</sub>\n",
    "+ This results in C of size *m*<sub>A</sub> &times; *n*<sub>B</sub>\n",
    "+ Let's look at a simple example using python (with sympy)"
   ]
  },
  {
   "cell_type": "code",
   "execution_count": null,
   "metadata": {},
   "outputs": [],
   "source": [
    "A = Matrix([[2], [3], [4]])\n",
    "B = Matrix([[1, 6]])\n",
    "A, B"
   ]
  },
  {
   "cell_type": "code",
   "execution_count": null,
   "metadata": {},
   "outputs": [],
   "source": [
    "C = A * B\n",
    "C"
   ]
  },
  {
   "cell_type": "markdown",
   "metadata": {},
   "source": [
    "+ Notice how the columns of C are linear combinations of the values in the columns of A\n",
    "+ The rows of C are multiples of the rows of B\n",
    "+ So in method 4, C is the sum of *the columns of A* &times; *the rows of B*\n",
    "$$ \\begin{bmatrix} { a }_{ 11 } & { a }_{ 12 } \\\\ { a }_{ 21 } & { a }_{ 22 } \\\\ { a }_{ 31 } & { a }_{ 32 } \\end{bmatrix}\\begin{bmatrix} { b }_{ 11 } & { b }_{ 12 } \\\\ b_{ 21 } & { b }_{ 22 } \\end{bmatrix}=\\begin{bmatrix} { a }_{ 11 } \\\\ { a }_{ 21 } \\\\ { a }_{ 31 } \\end{bmatrix}\\begin{bmatrix} { b }_{ 11 } & { b }_{ 12 } \\end{bmatrix}+\\begin{bmatrix} { a }_{ 12 } \\\\ { a }_{ 22 } \\\\ { a }_{ 32 } \\end{bmatrix}\\begin{bmatrix} { b }_{ 21 } & { b }_{ 22 } \\end{bmatrix} $$"
   ]
  },
  {
   "cell_type": "markdown",
   "metadata": {},
   "source": [
    "### Block multiplication"
   ]
  },
  {
   "cell_type": "markdown",
   "metadata": {},
   "source": [
    "+ Combining the above we can do the following\n",
    "    + Both A and B can be broken into block of sizes that allow for multiplication\n",
    "    + Here is an example of two square matrices\n",
    "$$ \\begin{bmatrix} { A }_{ 1 } & { A }_{ 2 } \\\\ { A }_{ 3 } & { A }_{ 4 } \\end{bmatrix}\\begin{bmatrix} { B }_{ 1 } & { B }_{ 2 } \\\\ { B }_{ 3 } & { B }_{ 4 } \\end{bmatrix}=\\begin{bmatrix} { A }_{ 1 }{ B }_{ 1 }+{ A }_{ 2 }{ B }_{ 3 } & { A }_{ 1 }{ B }_{ 2 }+{ A }_{ 2 }{ B }_{ 4 } \\\\ { A }_{ 3 }{ B }_{ 1 }+{ A }_{ 4 }{ B }_{ 3 } & { A }_{ 3 }{ B }_{ 2 }+{ A }_{ 4 }{ B }_{ 4 } \\end{bmatrix} $$"
   ]
  },
  {
   "cell_type": "markdown",
   "metadata": {},
   "source": [
    "## Inverses"
   ]
  },
  {
   "cell_type": "markdown",
   "metadata": {},
   "source": [
    "+ **If** the inverse of a matrix A exists then A<sup>-1</sup>=I, the identity matrix\n",
    "+ Above is a left inverse, but what about a right inverse, AA<sup>-1</sup>?\n",
    "    + This is also equal to the identity for invertible square inverses\n",
    "+ Invertible matrices are also called *non-singular* matrices"
   ]
  },
  {
   "cell_type": "markdown",
   "metadata": {},
   "source": [
    "+ Non-invertible matrices are also called *singular* matrices\n",
    "+ An example would look like this\n",
    "$$ \\begin{bmatrix}1&3\\\\2&6\\end{bmatrix} $$\n",
    "+ Note how the elements on row two are just two times the elements in row 1 (A linear combination)\n",
    "+ The same go for the columns, the first being a linear combination of the second, multiplying each element by 3\n",
    "+ More profoundly, note that you could find a column vector **x** such that A**x**=**0**\n",
    "$$ \\begin{bmatrix}1&3\\\\2&6\\end{bmatrix}\\begin{bmatrix}3\\\\-1\\end{bmatrix}=\\begin{bmatrix}0\\\\0\\end{bmatrix} $$\n",
    "+ This says 3 times column 1 in A plus -1 times column 2 gives *nothing*"
   ]
  },
  {
   "cell_type": "markdown",
   "metadata": {},
   "source": [
    "+ Let construct as example\n",
    "$$ \\begin{bmatrix} 1 & 3 \\\\ 2 & 7 \\end{bmatrix}\\begin{bmatrix} a & c \\\\ b & d \\end{bmatrix}=\\begin{bmatrix} 1 & 0 \\\\ 0 & 1 \\end{bmatrix} $$\n",
    "+ In essence we have to solve two systems\n",
    "    + A &times; column *j* of A<sup>-1</sup> = column *j* of I\n",
    "    + This is the Gauss-Jordan idea of solving two systems at once\n",
    "    $$ \\begin{bmatrix} 1 & 3 \\\\ 2 & 7 \\end{bmatrix}\\begin{bmatrix} a \\\\ b \\end{bmatrix}=\\begin{bmatrix} 1 \\\\ 0 \\end{bmatrix}\\\\ \\begin{bmatrix} 1 & 3 \\\\ 2 & 7 \\end{bmatrix}\\begin{bmatrix} c \\\\ d \\end{bmatrix}=\\begin{bmatrix} 0 \\\\ 1 \\end{bmatrix} $$\n",
    "    + This gives us the two columns of A<sup>-1</sup>\n",
    "    + We now create the augmented matrix\n",
    "    $$ \\begin{bmatrix} 1 & 3 & 1 & 0 \\\\ 2 & 7 & 0 & 1 \\end{bmatrix} $$\n",
    "    + Now we use elementary row operations to reduced row-echelon form (leading 1<sup>'s</sup> in the pivot positions, with 0<sup>'s</sup> below and above each)\n",
    "    $$ \\begin{bmatrix} 1 & 3 & 1 & 0 \\\\ 2 & 7 & 0 & 1 \\end{bmatrix}\\rightarrow \\begin{bmatrix} 1 & 3 & 1 & 0 \\\\ 0 & 1 & -2 & 1 \\end{bmatrix}\\rightarrow \\begin{bmatrix} 1 & 0 & 7 & -3 \\\\ 0 & 1 & -2 & 1 \\end{bmatrix} $$\n",
    "    + We now read off the two columns of A<sup>-1</sup>\n",
    "    $$ \\begin{bmatrix}7&-3\\\\-2&1\\end{bmatrix} $$\n",
    "+ To do all of the elimination, we created a lot of elimination (elementary) matrices\n",
    "+ If we combine all of them into E we have E[AI]=[IA<sup>-1</sup>], because EA=I tells us E=A<sup>-1</sup>"
   ]
  },
  {
   "cell_type": "markdown",
   "metadata": {},
   "source": [
    "## Example problems\n"
   ]
  },
  {
   "cell_type": "markdown",
   "metadata": {},
   "source": [
    "### Example problem 1"
   ]
  },
  {
   "cell_type": "markdown",
   "metadata": {},
   "source": [
    "+ Find the conditions on *a* and *b* that makes the matrix A invertible and find A<sup>-1</sup>\n",
    "$$ A=\\begin{bmatrix} a & b & b \\\\ a & a & b \\\\ a & a & a \\end{bmatrix} $$"
   ]
  },
  {
   "cell_type": "markdown",
   "metadata": {},
   "source": [
    "#### Solution"
   ]
  },
  {
   "cell_type": "markdown",
   "metadata": {},
   "source": [
    "+ A matrix is singular (non-invertible) if we have a row or column of zeros, so *a* &ne; 0\n",
    "+ We can also not have similar columns, so *a* &ne; b\n",
    "+ Using Gauss-Jordan elimination we will have the following\n",
    "$$ \\begin{bmatrix} a & b & b & 1 & 0 & 0 \\\\ a & a & b & 0 & 1 & 0 \\\\ a & a & a & 0 & 0 & 1 \\end{bmatrix}\\rightarrow \\begin{bmatrix} a & b & b & 1 & 0 & 0 \\\\ 0 & a-b & 0 & -1 & 1 & 0 \\\\ 0 & a-b & a-b & -1 & 0 & 1 \\end{bmatrix}\\rightarrow \\begin{bmatrix} a & b & b & 1 & 0 & 0 \\\\ 0 & a-b & 0 & -1 & 1 & 0 \\\\ 0 & 0 & a-b & 0 & -1 & 1 \\end{bmatrix}\\\\ \\rightarrow \\begin{bmatrix} a & b & b & 1 & 0 & 0 \\\\ 0 & \\frac { a-b }{ a-b }  & 0 & \\frac { -1 }{ a-b }  & \\frac { 1 }{ a-b }  & 0 \\\\ 0 & 0 & \\frac { a-b }{ a-b }  & 0 & \\frac { -1 }{ a-b }  & \\frac { 1 }{ a-b }  \\end{bmatrix}\\rightarrow \\begin{bmatrix} a & b & b & 1 & 0 & 0 \\\\ 0 & 1 & 0 & \\frac { -1 }{ a-b }  & \\frac { 1 }{ a-b }  & 0 \\\\ 0 & 0 & 1 & 0 & \\frac { -1 }{ a-b }  & \\frac { 1 }{ a-b }  \\end{bmatrix}\\\\ \\rightarrow \\begin{bmatrix} a & b & 0 & 1 & \\frac { 1 }{ a-b } \\left( b \\right)  & -\\frac { 1 }{ a-b } \\left( b \\right)  \\\\ 0 & 1 & 0 & \\frac { -1 }{ a-b }  & \\frac { 1 }{ a-b }  & 0 \\\\ 0 & 0 & 1 & 0 & \\frac { -1 }{ a-b }  & \\frac { 1 }{ a-b }  \\end{bmatrix}\\rightarrow \\begin{bmatrix} a & 0 & 0 & 1+\\frac { b }{ a-b }  & 0 & -\\frac { 1 }{ a-b } \\left( b \\right)  \\\\ 0 & 1 & 0 & \\frac { -1 }{ a-b }  & \\frac { 1 }{ a-b }  & 0 \\\\ 0 & 0 & 1 & 0 & \\frac { -1 }{ a-b }  & \\frac { 1 }{ a-b }  \\end{bmatrix}\\\\ \\rightarrow \\begin{bmatrix} 1 & 0 & 0 & \\frac { 1 }{ a-b }  & 0 & -\\frac { 1 }{ a\\left( a-b \\right)  } \\left( b \\right)  \\\\ 0 & 1 & 0 & \\frac { -1 }{ a-b }  & \\frac { 1 }{ a-b }  & 0 \\\\ 0 & 0 & 1 & 0 & \\frac { -1 }{ a-b }  & \\frac { 1 }{ a-b }  \\end{bmatrix}\\\\ { A }^{ -1 }=\\frac { 1 }{ a-b } \\begin{bmatrix} 1 & 0 & \\frac { -b }{ a }  \\\\ -1 & 1 & 0 \\\\ 0 & -1 & 1 \\end{bmatrix} $$"
   ]
  },
  {
   "cell_type": "markdown",
   "metadata": {},
   "source": [
    "+ Additionally then we note that for the inverse of A to exist *a* - *b* &ne; 0, which is the same as *a* &ne; *b* and again a &ne; 0"
   ]
  },
  {
   "cell_type": "code",
   "execution_count": null,
   "metadata": {},
   "outputs": [],
   "source": []
  }
 ],
 "metadata": {
  "language_info": {
   "name": "python",
   "pygments_lexer": "ipython3"
  }
 },
 "nbformat": 4,
 "nbformat_minor": 2
}
