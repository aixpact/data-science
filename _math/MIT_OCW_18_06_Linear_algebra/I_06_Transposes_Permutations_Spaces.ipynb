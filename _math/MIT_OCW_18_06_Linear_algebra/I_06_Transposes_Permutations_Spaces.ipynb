{
 "cells": [
  {
   "cell_type": "markdown",
   "metadata": {},
   "source": [
    "+ This notebook is part of lecture 5 *Transposes, permutations, and vector spaces* in the OCW MIT course 18.06 by Prof Gilbert Strang [1]\n",
    "+ Created by me, Dr Juan H Klopper\n",
    "    + Head of Acute Care Surgery\n",
    "    + Groote Schuur Hospital\n",
    "    + University Cape Town\n",
    "    + <a href=\"mailto:juan.klopper@uct.ac.za\">Email me with your thoughts, comments, suggestions and corrections</a> \n",
    "<a rel=\"license\" href=\"http://creativecommons.org/licenses/by-nc/4.0/\"><img alt=\"Creative Commons Licence\" style=\"border-width:0\" src=\"https://i.creativecommons.org/l/by-nc/4.0/88x31.png\" /></a><br /><span xmlns:dct=\"http://purl.org/dc/terms/\" href=\"http://purl.org/dc/dcmitype/InteractiveResource\" property=\"dct:title\" rel=\"dct:type\">Linear Algebra OCW MIT18.06</span> <span xmlns:cc=\"http://creativecommons.org/ns#\" property=\"cc:attributionName\">IPython notebook [2] study notes by Dr Juan H Klopper</span> is licensed under a <a rel=\"license\" href=\"http://creativecommons.org/licenses/by-nc/4.0/\">Creative Commons Attribution-NonCommercial 4.0 International License</a>.\n",
    "\n",
    "+ [1] <a href=\"http://ocw.mit.edu/courses/mathematics/18-06sc-linear-algebra-fall-2011/index.htm\">OCW MIT 18.06</a>\n",
    "+ [2] Fernando Pérez, Brian E. Granger, IPython: A System for Interactive Scientific Computing, Computing in Science and Engineering, vol. 9, no. 3, pp. 21-29, May/June 2007, doi:10.1109/MCSE.2007.53. URL: http://ipython.org"
   ]
  },
  {
   "cell_type": "code",
   "execution_count": null,
   "metadata": {},
   "outputs": [],
   "source": [
    "from IPython.core.display import HTML, Image\n",
    "css_file = 'style.css'\n",
    "HTML(open(css_file, 'r').read())"
   ]
  },
  {
   "cell_type": "code",
   "execution_count": null,
   "metadata": {},
   "outputs": [],
   "source": [
    "#import numpy as np\n",
    "from sympy import init_printing, Matrix, symbols\n",
    "#import matplotlib.pyplot as plt\n",
    "#import seaborn as sns\n",
    "#from IPython.display import Image\n",
    "from warnings import filterwarnings\n",
    "\n",
    "init_printing(use_latex = 'mathjax')\n",
    "%matplotlib inline\n",
    "filterwarnings('ignore')"
   ]
  },
  {
   "cell_type": "markdown",
   "metadata": {},
   "source": [
    "# Transposes, permutations and vector spaces"
   ]
  },
  {
   "cell_type": "markdown",
   "metadata": {},
   "source": [
    "## The permutation matrices"
   ]
  },
  {
   "cell_type": "markdown",
   "metadata": {},
   "source": [
    "* Remember that the permutation matrices allow for row exchanges\n",
    "* They are used to manage zero's in pivot positions\n",
    "* The have the following property\n",
    "$$ {P}^{-1} = {P}^{T} $$"
   ]
  },
  {
   "cell_type": "code",
   "execution_count": null,
   "metadata": {},
   "outputs": [],
   "source": [
    "P = Matrix([[0, 1, 0], [1, 0, 0], [0, 0, 1]])\n",
    "P # Exchanging rows 1 and 2"
   ]
  },
  {
   "cell_type": "code",
   "execution_count": null,
   "metadata": {},
   "outputs": [],
   "source": [
    "P.inv(), P.transpose()"
   ]
  },
  {
   "cell_type": "code",
   "execution_count": null,
   "metadata": {},
   "outputs": [],
   "source": [
    "P.inv() == P.transpose()"
   ]
  },
  {
   "cell_type": "markdown",
   "metadata": {},
   "source": [
    "* If a matrix is of size *n* &#215; *n* then there are *n*! number of permutations"
   ]
  },
  {
   "cell_type": "markdown",
   "metadata": {},
   "source": [
    "## The transpose of a matrix"
   ]
  },
  {
   "cell_type": "markdown",
   "metadata": {},
   "source": [
    "* We have mentioned transposes of a matrix, but what are they?\n",
    "* The simply make row of the column elements and columns of the row elements as in the example below"
   ]
  },
  {
   "cell_type": "code",
   "execution_count": null,
   "metadata": {},
   "outputs": [],
   "source": [
    "a11, a12, a13, a14, a21, a22, a23, a24, a31, a32, a33, a34 = symbols('a11, a12, a13, a14, a21, a22, a23, a24, a31, a32, a33, a34')\n",
    "# Creating mathematical scalar constants"
   ]
  },
  {
   "cell_type": "code",
   "execution_count": null,
   "metadata": {},
   "outputs": [],
   "source": [
    "A = Matrix([[a11, a12, a13], [a21, a22, a23], [a31, a32, a33]])\n",
    "A"
   ]
  },
  {
   "cell_type": "code",
   "execution_count": null,
   "metadata": {},
   "outputs": [],
   "source": [
    "A.transpose()"
   ]
  },
  {
   "cell_type": "markdown",
   "metadata": {},
   "source": [
    "* This applies to any size matrix"
   ]
  },
  {
   "cell_type": "code",
   "execution_count": null,
   "metadata": {},
   "outputs": [],
   "source": [
    "A = Matrix([[a11, a12, a13, a14], [a21, a22, a23, a24]])\n",
    "A"
   ]
  },
  {
   "cell_type": "code",
   "execution_count": null,
   "metadata": {},
   "outputs": [],
   "source": [
    "A.transpose()"
   ]
  },
  {
   "cell_type": "markdown",
   "metadata": {},
   "source": [
    "* Multiplying a matrix by its transpose results in a symmetric matrix"
   ]
  },
  {
   "cell_type": "code",
   "execution_count": null,
   "metadata": {},
   "outputs": [],
   "source": [
    "A * A.transpose()"
   ]
  },
  {
   "cell_type": "markdown",
   "metadata": {},
   "source": [
    "## Symmetric matrices"
   ]
  },
  {
   "cell_type": "markdown",
   "metadata": {},
   "source": [
    "* A symmetric matrix is a square matrix with elements opposite the main diagonal all equal\n",
    "* Example"
   ]
  },
  {
   "cell_type": "code",
   "execution_count": null,
   "metadata": {},
   "outputs": [],
   "source": [
    "S = Matrix([[1, 3, 2], [3, 2, 4], [2 , 4, 2]])\n",
    "S"
   ]
  },
  {
   "cell_type": "markdown",
   "metadata": {},
   "source": [
    "* On the main diagonal we have 1, 2, 2\n",
    "* Opposite this main diagonal we have a 3 and a 3 and a 2 and a 2 and a 4 and a 4\n",
    "* The transpose of a symmetric matrix is equal to the matrix"
   ]
  },
  {
   "cell_type": "code",
   "execution_count": null,
   "metadata": {},
   "outputs": [],
   "source": [
    "S == S.transpose()"
   ]
  },
  {
   "cell_type": "markdown",
   "metadata": {},
   "source": [
    "## Vector spaces"
   ]
  },
  {
   "cell_type": "markdown",
   "metadata": {},
   "source": [
    "* A vector space is a bunch of vectors (a set of vectors) With certain properties that allow us to do stuff with\n",
    "* The space &#8477;<sup>2</sup> is all vectors of two components that reaches every coordinate point in &#8477;<sup>2</sup>\n",
    "* It always includes the zero vector **0**\n",
    "* We usually call this vector space *V*, such that *V* = &#8477;<sup>2</sup> or *V* = &#8477;<sup>n</sup>\n",
    "* A linear combination of a certain number of these can also fill all of &#8477;<sup>2</sup>\n",
    "* A good example is the two unit vectors along the two axes\n",
    "* Such a set of vectors form a basis for *V*\n",
    "* The two of them also span &#8477;<sup>2</sup>, i.e. a linear combination of them fills *V* = &#8477;<sup>2</sup>\n",
    "* Linear independence means the vectors in &#8477;<sup>2</sup> don't fall on the same line\n",
    "    * If they do, we can't get to all coordinate points in &#8477;<sup>2</sup>\n",
    "* The **important** point about a vector space *V* is that it allows for vector addition and scalar multiplication\n",
    "    * Taking any of the set of vectors in *V* and adding them results in a new vector which is still a component of *V*\n",
    "    * Multiplying a scalar by any of the vectors in *V* results in a vector still in *V*"
   ]
  },
  {
   "cell_type": "markdown",
   "metadata": {},
   "source": [
    "### A subspace"
   ]
  },
  {
   "cell_type": "markdown",
   "metadata": {},
   "source": [
    "* For a subspace the rules of vector addition and scalar multiplication must apply\n",
    "* I.e. a quadrant of &#8477;<sup>2</sup> is not a vector subspace\n",
    "    * Addition or scalar multiplication of any vector in this quadrant can lead to a vector outside of this quadrant\n",
    "* The zero vector **0** is a subspace (every subspace must contain the zero vector)\n",
    "* The whole space *V* = &#8477;<sup>n</sup> (here we use *n* = 2) is a subspace of itself\n",
    "* Continuing with our example of *n* = 2, any line **through the origin** is a subspace of &#8477;<sup>2</sup>\n",
    "    * Adding a vector on this line to itself of a scalar multiple of itself will eventually fill the whole line\n",
    "* For *n* = 3 we have the whole space *V* = &#8477;<sup>3</sup>, a plane through the origin, a line through the origin and the zero vectors are all subspace of *V* = &#8477;<sup>3</sup>\n",
    "* The point is that vector addition and scalar multiplication of vectors in the subspace must result in a new vector that remains in the subspace\n",
    "* Every subspace must include the zero vector **0**\n",
    "* All the properties of vectors must apply to the vectors in a subspace (and a space)"
   ]
  },
  {
   "cell_type": "markdown",
   "metadata": {},
   "source": [
    "## Column spaces of matrices"
   ]
  },
  {
   "cell_type": "markdown",
   "metadata": {},
   "source": [
    "* Here we see the columns of a matrix as a vector\n",
    "* If there are two columns and three rows we will have the following as an example\n",
    "$$ \\begin{bmatrix} 2 & 1 \\\\ 1 & 3 \\\\ 2 & 2 \\end{bmatrix}=\\begin{bmatrix} 2 \\\\ 1 \\\\ 2 \\end{bmatrix}+\\begin{bmatrix} 1 \\\\ 3 \\\\ 2 \\end{bmatrix} $$\n",
    "* If they are not linear combinations of each other addition and scalar multiplication of the two of them will fill a plane in &#8477;<sup>3</sup>"
   ]
  },
  {
   "cell_type": "code",
   "execution_count": null,
   "metadata": {},
   "outputs": [],
   "source": []
  }
 ],
 "metadata": {
  "language_info": {
   "name": "python",
   "pygments_lexer": "ipython3"
  }
 },
 "nbformat": 4,
 "nbformat_minor": 0
}
