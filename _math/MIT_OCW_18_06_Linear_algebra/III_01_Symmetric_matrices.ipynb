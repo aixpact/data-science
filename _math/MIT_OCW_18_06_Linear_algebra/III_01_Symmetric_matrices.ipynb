{
 "cells": [
  {
   "cell_type": "markdown",
   "metadata": {},
   "source": [
    "+ This notebook is part of lecture 25 *Symmetric matrices and positive definiteness* in the OCW MIT course 18.06 by Prof Gilbert Strang [1]\n",
    "+ Created by me, Dr Juan H Klopper\n",
    "    + Head of Acute Care Surgery\n",
    "    + Groote Schuur Hospital\n",
    "    + University Cape Town\n",
    "    + <a href=\"mailto:juan.klopper@uct.ac.za\">Email me with your thoughts, comments, suggestions and corrections</a> \n",
    "<a rel=\"license\" href=\"http://creativecommons.org/licenses/by-nc/4.0/\"><img alt=\"Creative Commons Licence\" style=\"border-width:0\" src=\"https://i.creativecommons.org/l/by-nc/4.0/88x31.png\" /></a><br /><span xmlns:dct=\"http://purl.org/dc/terms/\" href=\"http://purl.org/dc/dcmitype/InteractiveResource\" property=\"dct:title\" rel=\"dct:type\">Linear Algebra OCW MIT18.06</span> <span xmlns:cc=\"http://creativecommons.org/ns#\" property=\"cc:attributionName\">IPython notebook [2] study notes by Dr Juan H Klopper</span> is licensed under a <a rel=\"license\" href=\"http://creativecommons.org/licenses/by-nc/4.0/\">Creative Commons Attribution-NonCommercial 4.0 International License</a>.\n",
    "\n",
    "+ [1] <a href=\"http://ocw.mit.edu/courses/mathematics/18-06sc-linear-algebra-fall-2011/index.htm\">OCW MIT 18.06</a>\n",
    "+ [2] Fernando Pérez, Brian E. Granger, IPython: A System for Interactive Scientific Computing, Computing in Science and Engineering, vol. 9, no. 3, pp. 21-29, May/June 2007, doi:10.1109/MCSE.2007.53. URL: http://ipython.org"
   ]
  },
  {
   "cell_type": "code",
   "execution_count": null,
   "metadata": {},
   "outputs": [],
   "source": [
    "from IPython.core.display import HTML, Image\n",
    "css_file = 'style.css'\n",
    "HTML(open(css_file, 'r').read())"
   ]
  },
  {
   "cell_type": "code",
   "execution_count": null,
   "metadata": {},
   "outputs": [],
   "source": [
    "from IPython.core.display import HTML, Image\n",
    "css_file = 'style.css'\n",
    "HTML(open(css_file, 'r').read())"
   ]
  },
  {
   "cell_type": "code",
   "execution_count": null,
   "metadata": {},
   "outputs": [],
   "source": [
    "from sympy import init_printing, Matrix, symbols, sqrt\n",
    "from warnings import filterwarnings"
   ]
  },
  {
   "cell_type": "code",
   "execution_count": null,
   "metadata": {},
   "outputs": [],
   "source": [
    "init_printing(use_latex = 'mathjax')\n",
    "filterwarnings('ignore')"
   ]
  },
  {
   "cell_type": "markdown",
   "metadata": {},
   "source": [
    "# Symmetric matrices\n",
    "# Positive definite matrices"
   ]
  },
  {
   "cell_type": "markdown",
   "metadata": {},
   "source": [
    "## Symmetric matrices"
   ]
  },
  {
   "cell_type": "markdown",
   "metadata": {},
   "source": [
    "* Symmetric matrices are square with the following property\n",
    "$$ {A}={A}^{T} $$"
   ]
  },
  {
   "cell_type": "markdown",
   "metadata": {},
   "source": [
    "* We are concerned with the eigenvalues and eigenvectors of symmetric matrices\n",
    "    * The eigenvalues are real\n",
    "    * The eigenvectors are orthogonal, or at least, can be chosen orthogonal"
   ]
  },
  {
   "cell_type": "markdown",
   "metadata": {},
   "source": [
    "* Considering proof of the real nature of eigenvalues we have the following\n",
    "    * Any matrix equation of the following example can be changed to its complex conjugate form by changing each element into its complex conjugate form (here marked with a bar over the top)\n",
    "    $$ {A}\\underline{x}={\\lambda}\\underline{x} \\\\ {A}\\overline{x}=\\overline{\\lambda}\\overline{x} $$\n",
    "    * We can take the complex conjugate transpose of **x** on both sides\n",
    "    $$ \\overline{x}^{T}A\\underline{x}={\\lambda}\\overline{x}^{T}\\underline{x}\\dots\\left(1\\right) $$\n",
    "    * In the complex conjugate form this becomes the following\n",
    "    $$ \\overline{x}^{T}{A}^{T}\\underline{x}=\\overline{x}^{T}{\\lambda}\\underline{x} $$\n",
    "    * Now if A is symmetric we use the fact that A=A<sup>T</sup>\n",
    "    $$ \\overline{x}^{T}{A}\\underline{x}=\\overline{x}^{T}\\overline{\\lambda}\\underline{x}\\dots\\left(2\\right) $$\n",
    "    * Note how the right-hand sides of (1) and (2) are equal and we therefor have the following\n",
    "    $$ \\lambda\\overline{x}^{T}\\underline{x}=\\overline\\lambda\\overline{x}^{T}\\underline{x} $$\n",
    "    * This means the following\n",
    "    $$ \\lambda=\\overline\\lambda $$\n",
    "    * The only ways that this is possible is if the imaginary part is zero and only real eigenvalues are possible\n",
    "    * Note also what happens if the complex conjugate of the vector **x** is multiplied by the vector itself\n",
    "        * Remember that **x**<sup>T</sup>**x** is a form of the dot product (which is the length squared)\n",
    "        * Any number times its complex conjugate gets rid of the imaginary part"
   ]
  },
  {
   "cell_type": "markdown",
   "metadata": {},
   "source": [
    "* Consider the following symmetric matrix A"
   ]
  },
  {
   "cell_type": "code",
   "execution_count": null,
   "metadata": {},
   "outputs": [],
   "source": [
    "A = Matrix([[5, 2], [2, 3]])\n",
    "A"
   ]
  },
  {
   "cell_type": "markdown",
   "metadata": {},
   "source": [
    "* Let's see if it really is symmetric by making sure that it is equal to it's transpose"
   ]
  },
  {
   "cell_type": "code",
   "execution_count": null,
   "metadata": {},
   "outputs": [],
   "source": [
    "A == A.transpose() # Boolean (true or false) statement"
   ]
  },
  {
   "cell_type": "code",
   "execution_count": null,
   "metadata": {},
   "outputs": [],
   "source": [
    "S, D = A.diagonalize()"
   ]
  },
  {
   "cell_type": "markdown",
   "metadata": {},
   "source": [
    "* S, the matrix containing the eigenvectors as it's columns\n",
    "    * Remember that these eigenvectors are not necessarily the same as those you would get doing these problems by hand\n",
    "    * When substituting the values for &#955;<sub>i</sub> a singular matrix is created with rows that are simply linear combinations of each other\n",
    "    * You are free to choose values for the components of the eigenvectors for each eigenvalue (usually choosing the simplest ones)"
   ]
  },
  {
   "cell_type": "code",
   "execution_count": null,
   "metadata": {},
   "outputs": [],
   "source": [
    "S"
   ]
  },
  {
   "cell_type": "markdown",
   "metadata": {},
   "source": [
    "* D, the matrix containing the values of the eigenvalues down the main diagonal"
   ]
  },
  {
   "cell_type": "code",
   "execution_count": null,
   "metadata": {},
   "outputs": [],
   "source": [
    "D"
   ]
  },
  {
   "cell_type": "markdown",
   "metadata": {},
   "source": [
    "* In decomposition, a symmetric matrix results in the following\n",
    "$$ {A}={S}{\\Lambda}{S}^{T} $$\n",
    "* In this case we have an orthogonal matrix times diagonal matrix times transpose of orthogonal matrix\n",
    "$$ {A}={Q}{\\Lambda}{Q}^{T} $$"
   ]
  },
  {
   "cell_type": "code",
   "execution_count": null,
   "metadata": {},
   "outputs": [],
   "source": [
    "A.eigenvals()"
   ]
  },
  {
   "cell_type": "code",
   "execution_count": null,
   "metadata": {},
   "outputs": [],
   "source": [
    "A.eigenvects()"
   ]
  },
  {
   "cell_type": "markdown",
   "metadata": {},
   "source": [
    "* We've seen in our example that, indeed, the eigenvalues are real\n",
    "* Let's see of the eigenvectors are orthogonal by looking at their dot product"
   ]
  },
  {
   "cell_type": "code",
   "execution_count": null,
   "metadata": {},
   "outputs": [],
   "source": [
    "eigenvec_1 = Matrix([-2 / (1 + sqrt(5)), 1])\n",
    "eigenvec_2 = Matrix([-2 / (1 - sqrt(5)), 1])\n",
    "eigenvec_1.dot(eigenvec_2)"
   ]
  },
  {
   "cell_type": "markdown",
   "metadata": {},
   "source": [
    "* This is certainly zero when simplified"
   ]
  },
  {
   "cell_type": "code",
   "execution_count": null,
   "metadata": {},
   "outputs": [],
   "source": [
    "(eigenvec_1.dot(eigenvec_2)).simplify() # Using the simplify() method"
   ]
  },
  {
   "cell_type": "markdown",
   "metadata": {},
   "source": [
    "* We need not use symbolic computing (computer algebra system, CAS)\n",
    "* Let's look at numerical evaluation using numerical python (numpy)"
   ]
  },
  {
   "cell_type": "code",
   "execution_count": null,
   "metadata": {},
   "outputs": [],
   "source": [
    "import numpy as np # Using namespace abbreviations"
   ]
  },
  {
   "cell_type": "code",
   "execution_count": null,
   "metadata": {},
   "outputs": [],
   "source": [
    "A = np.matrix([[5, 2], [2, 3]])\n",
    "A"
   ]
  },
  {
   "cell_type": "code",
   "execution_count": null,
   "metadata": {},
   "outputs": [],
   "source": [
    "w, v = np.linalg.eig(A) # Calculating the eigenvalues and eigenvectors\n",
    "# The result of np.linalg.eig() is a tuple, the first being the eigenvalues\n",
    "# The second being the eigenvectors"
   ]
  },
  {
   "cell_type": "code",
   "execution_count": null,
   "metadata": {},
   "outputs": [],
   "source": [
    "w"
   ]
  },
  {
   "cell_type": "code",
   "execution_count": null,
   "metadata": {},
   "outputs": [],
   "source": [
    "v"
   ]
  },
  {
   "cell_type": "code",
   "execution_count": null,
   "metadata": {},
   "outputs": [],
   "source": [
    "# Creating the diagonal matrix manually from the eigenvalues\n",
    "D = np.matrix([[6.23606798, 0], [0, 1.76393202]])\n",
    "D"
   ]
  },
  {
   "cell_type": "code",
   "execution_count": null,
   "metadata": {},
   "outputs": [],
   "source": [
    "# Checking to see if our equation for A holds\n",
    "v * D * np.matrix.transpose(v)"
   ]
  },
  {
   "cell_type": "markdown",
   "metadata": {},
   "source": [
    "## Positive definite matrices (referring to symmetric matrices)"
   ]
  },
  {
   "cell_type": "markdown",
   "metadata": {},
   "source": [
    "* The properties of positive definite (symmetric) matrices \n",
    "    * All eigenvalues are positive\n",
    "    * All pivots are positive\n",
    "    * All determinants (actually also all *sub*-determinants) are positive"
   ]
  },
  {
   "cell_type": "markdown",
   "metadata": {},
   "source": [
    "* The fact that a (square symmetric) matrix A is invertible implies the following\n",
    "    * The determinant is non-zero (actually larger than zero)\n",
    "    * The determinant is the product of the eigenvalues\n",
    "    * The determinant must therefor be larger than zero"
   ]
  },
  {
   "cell_type": "markdown",
   "metadata": {},
   "source": [
    "* For projection matrices\n",
    "    * The eigenvalues are either 0 or 1\n",
    "    * If this projection matrix is positive definite\n",
    "        * The eigenvalues must all be 1 (since they must be larger than zero)\n",
    "    * The only matrix that satisfies this property is the identity matrix"
   ]
  },
  {
   "cell_type": "markdown",
   "metadata": {},
   "source": [
    "* The diagonal matrix D is positive definite\n",
    "    * This means that for any non-zero vector **x** we have **x**<sup>T</sup>D**x**>0\n",
    "    * Let's look at a 3-component vector with a 3&#215;3 matrix D"
   ]
  },
  {
   "cell_type": "code",
   "execution_count": null,
   "metadata": {},
   "outputs": [],
   "source": [
    "d1, d2, d3, x1, x2, x3 = symbols('d1 d2 d3 x1 x2 x3')"
   ]
  },
  {
   "cell_type": "code",
   "execution_count": null,
   "metadata": {},
   "outputs": [],
   "source": [
    "D = Matrix([[d1, 0, 0], [0, d2, 0], [0, 0, d3]])\n",
    "x_vect = Matrix([x1, x2, x3])\n",
    "x_vect.transpose(), D, x_vect"
   ]
  },
  {
   "cell_type": "markdown",
   "metadata": {},
   "source": [
    "* Indeed we have **x**<sup>T</sup>D**x**>0 since the components if **x** are squared and the eigenvalues are all positive"
   ]
  },
  {
   "cell_type": "code",
   "execution_count": null,
   "metadata": {},
   "outputs": [],
   "source": [
    "x_vect.transpose() * D * x_vect"
   ]
  },
  {
   "cell_type": "markdown",
   "metadata": {},
   "source": [
    "* Not all symmetric matrices with a positive determinant are definite positive\n",
    "* Easy matrices to construct with this property have negative values on the main diagonal\n",
    "* Note below how the eigenvalues are not all more than zero\n",
    "* Also note how **x**<sup>T</sup>D**x**&#8815;0\n",
    "* It is important to note that the *sub*-determinant must also be positive\n",
    "    * In the example below the *sub*-determinant of 3 is -1"
   ]
  },
  {
   "cell_type": "code",
   "execution_count": null,
   "metadata": {},
   "outputs": [],
   "source": [
    "A = Matrix([[3, 1], [1, -1]])\n",
    "A"
   ]
  },
  {
   "cell_type": "code",
   "execution_count": null,
   "metadata": {},
   "outputs": [],
   "source": [
    "A == A.transpose()"
   ]
  },
  {
   "cell_type": "code",
   "execution_count": null,
   "metadata": {},
   "outputs": [],
   "source": [
    "A.det()"
   ]
  },
  {
   "cell_type": "code",
   "execution_count": null,
   "metadata": {},
   "outputs": [],
   "source": [
    "A.eigenvals()"
   ]
  },
  {
   "cell_type": "code",
   "execution_count": null,
   "metadata": {},
   "outputs": [],
   "source": [
    "A.eigenvects()"
   ]
  },
  {
   "cell_type": "code",
   "execution_count": null,
   "metadata": {},
   "outputs": [],
   "source": [
    "S, D = A.diagonalize()"
   ]
  },
  {
   "cell_type": "code",
   "execution_count": null,
   "metadata": {},
   "outputs": [],
   "source": [
    "S"
   ]
  },
  {
   "cell_type": "code",
   "execution_count": null,
   "metadata": {},
   "outputs": [],
   "source": [
    "D"
   ]
  },
  {
   "cell_type": "code",
   "execution_count": null,
   "metadata": {},
   "outputs": [],
   "source": [
    "x_vect = Matrix([x1, x2])\n",
    "x_vect"
   ]
  },
  {
   "cell_type": "code",
   "execution_count": null,
   "metadata": {},
   "outputs": [],
   "source": [
    "x_vect.transpose() * D * x_vect"
   ]
  },
  {
   "cell_type": "markdown",
   "metadata": {},
   "source": [
    "* In this example the *sub*-determinant of 1 is -3"
   ]
  },
  {
   "cell_type": "code",
   "execution_count": null,
   "metadata": {},
   "outputs": [],
   "source": [
    "A = Matrix([[-3, 1], [1, 1]])\n",
    "A"
   ]
  },
  {
   "cell_type": "code",
   "execution_count": null,
   "metadata": {},
   "outputs": [],
   "source": [
    "A == A.transpose()"
   ]
  },
  {
   "cell_type": "code",
   "execution_count": null,
   "metadata": {},
   "outputs": [],
   "source": [
    "S, D = A.diagonalize()"
   ]
  },
  {
   "cell_type": "code",
   "execution_count": null,
   "metadata": {},
   "outputs": [],
   "source": [
    "x_vect.transpose() * D * x_vect"
   ]
  },
  {
   "cell_type": "code",
   "execution_count": null,
   "metadata": {},
   "outputs": [],
   "source": []
  }
 ],
 "metadata": {
  "language_info": {
   "name": "python",
   "pygments_lexer": "ipython3"
  }
 },
 "nbformat": 4,
 "nbformat_minor": 0
}
