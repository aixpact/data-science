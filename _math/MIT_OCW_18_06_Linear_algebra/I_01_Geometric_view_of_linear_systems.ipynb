{
 "cells": [
  {
   "cell_type": "markdown",
   "metadata": {},
   "source": [
    "+ This notebook is part of lecture 1 *The geometry of linear equations* in the OCW MIT course 18.06 by Prof Gilbert Strang [1]\n",
    "+ Created by me, Dr Juan H Klopper\n",
    "    + Head of Acute Care Surgery\n",
    "    + Groote Schuur Hospital\n",
    "    + University Cape Town\n",
    "    + <a href=\"mailto:juan.klopper@uct.ac.za\">Email me with your thoughts, comments, suggestions and corrections</a> \n",
    "<a rel=\"license\" href=\"http://creativecommons.org/licenses/by-nc/4.0/\"><img alt=\"Creative Commons Licence\" style=\"border-width:0\" src=\"https://i.creativecommons.org/l/by-nc/4.0/88x31.png\" /></a><br /><span xmlns:dct=\"http://purl.org/dc/terms/\" href=\"http://purl.org/dc/dcmitype/InteractiveResource\" property=\"dct:title\" rel=\"dct:type\">Linear Algebra OCW MIT18.06</span> <span xmlns:cc=\"http://creativecommons.org/ns#\" property=\"cc:attributionName\">IPython notebook [2] study notes by Dr Juan H Klopper</span> is licensed under a <a rel=\"license\" href=\"http://creativecommons.org/licenses/by-nc/4.0/\">Creative Commons Attribution-NonCommercial 4.0 International License</a>.\n",
    "\n",
    "+ [1] <a href=\"http://ocw.mit.edu/courses/mathematics/18-06sc-linear-algebra-fall-2011/index.htm\">OCW MIT 18.06</a>\n",
    "+ [2] Fernando Pérez, Brian E. Granger, IPython: A System for Interactive Scientific Computing, Computing in Science and Engineering, vol. 9, no. 3, pp. 21-29, May/June 2007, doi:10.1109/MCSE.2007.53. URL: http://ipython.org"
   ]
  },
  {
   "cell_type": "markdown",
   "metadata": {},
   "source": [
    "+ In this series of notebooks I will make use of a custom cascading style sheet\n",
    "+ The file *style.css* must be in the same folder as the notebook file\n",
    "+ The first block of code executes the stylesheet"
   ]
  },
  {
   "cell_type": "code",
   "execution_count": null,
   "metadata": {},
   "outputs": [],
   "source": [
    "# from IPython.core.display import HTML, Image\n",
    "# css_file = 'style.css'\n",
    "# HTML(open(css_file, 'r').read())"
   ]
  },
  {
   "cell_type": "markdown",
   "metadata": {},
   "source": [
    "+ All the modules and function will be imported here"
   ]
  },
  {
   "cell_type": "code",
   "execution_count": null,
   "metadata": {},
   "outputs": [],
   "source": [
    "import numpy as np # Using namespace abbreviation to import numerical python\n",
    "from sympy import init_printing, symbols, Matrix, Eq # Imporint only the\n",
    "# required functions in the sympy module\n",
    "import matplotlib.pyplot as plt # Using namespace abbreviation to import\n",
    "# the pyplot submodule of matplotlib\n",
    "import seaborn as sns # Using namespace abbreviation to import\n",
    "# the seaborn plotting library\n",
    "from IPython.display import Image\n",
    "from warnings import filterwarnings\n",
    "\n",
    "init_printing(use_latex = 'mathjax') # Used to print Latex to the screen\n",
    "%matplotlib inline\n",
    "filterwarnings('ignore') # Ignore those ugly pink warning boxes"
   ]
  },
  {
   "cell_type": "code",
   "execution_count": null,
   "metadata": {},
   "outputs": [],
   "source": [
    "# Comments will be in this form\n",
    "# Comments are not executed"
   ]
  },
  {
   "cell_type": "code",
   "execution_count": null,
   "metadata": {},
   "outputs": [],
   "source": [
    "x, y, z = symbols('x y z') # Creating symbolic mathematical variables as opposed to computer variables\n",
    "# These symbols can no longer be used as computer variable names"
   ]
  },
  {
   "cell_type": "markdown",
   "metadata": {},
   "source": [
    "# Geometrical view"
   ]
  },
  {
   "cell_type": "markdown",
   "metadata": {},
   "source": [
    "## System of linear equations"
   ]
  },
  {
   "cell_type": "markdown",
   "metadata": {},
   "source": [
    "* A set of variables (each of power one and not transcendental)\n",
    "* Example\n",
    "$$ 2{x}-{y}={0} $$\n",
    "$$ -{x} + 2{y} = {3} $$"
   ]
  },
  {
   "cell_type": "markdown",
   "metadata": {},
   "source": [
    "* This can be represented as an augmented matrix"
   ]
  },
  {
   "cell_type": "code",
   "execution_count": null,
   "metadata": {},
   "outputs": [],
   "source": [
    "A_augm = Matrix([[2, -1, 0], [-1, 2, 3]]) # Note the placement of ()'s and []'s\n",
    "A_augm # A_augm is a computer variable that contains the matrix"
   ]
  },
  {
   "cell_type": "code",
   "execution_count": null,
   "metadata": {},
   "outputs": [],
   "source": [
    "# We can ask python what type of computer variable A_augm holds\n",
    "type(A_augm)  # We see that it is a mutable dense matrix"
   ]
  },
  {
   "cell_type": "markdown",
   "metadata": {},
   "source": [
    "* The matrix of coefficients:"
   ]
  },
  {
   "cell_type": "code",
   "execution_count": null,
   "metadata": {},
   "outputs": [],
   "source": [
    "A = Matrix([[2, -1], [-1, 2]])\n",
    "A"
   ]
  },
  {
   "cell_type": "markdown",
   "metadata": {},
   "source": [
    "* The variable vector:"
   ]
  },
  {
   "cell_type": "code",
   "execution_count": null,
   "metadata": {},
   "outputs": [],
   "source": [
    "x_vect = Matrix([x, y])\n",
    "x_vect"
   ]
  },
  {
   "cell_type": "markdown",
   "metadata": {},
   "source": [
    "* The solution vector:"
   ]
  },
  {
   "cell_type": "code",
   "execution_count": null,
   "metadata": {},
   "outputs": [],
   "source": [
    "b_vect = Matrix([0, 3])\n",
    "b_vect"
   ]
  },
  {
   "cell_type": "code",
   "execution_count": null,
   "metadata": {},
   "outputs": [],
   "source": [
    "Eq(A * x_vect, b_vect) # From Ax = b\n",
    "# The Eq function takes the arguments left-hand-side (LHS), right-handside (RHS) of the equation"
   ]
  },
  {
   "cell_type": "markdown",
   "metadata": {},
   "source": [
    "## The row picture"
   ]
  },
  {
   "cell_type": "code",
   "execution_count": null,
   "metadata": {},
   "outputs": [],
   "source": [
    "# Don't be too concerned about the code for plotting\n",
    "# It does not form part of this series of notebooks\n",
    "\n",
    "x_vals = np.linspace(-3, 3, 100) # Create 100 values between -3 and 3\n",
    "# Note that we cannot use the computer variable x, because it has been reserved above as a mathematical variable in\n",
    "# the symbols function\n",
    "\n",
    "plt.figure(figsize = (10,8)) # Create a graph of size 10 by 8\n",
    "plt.plot(x_vals, 2 * x_vals) # Plot every single value created above with 2 times that values\n",
    "# Taken from the first equation which was y = 2x or f(x) = 2x\n",
    "# The plot takes the arguments (code between parentheses) of x,y\n",
    "plt.plot(x_vals, ((x_vals / 2) + (3 / 2))) # Also plot the second equation\n",
    "plt.show; # Draw the plot on screen"
   ]
  },
  {
   "cell_type": "markdown",
   "metadata": {},
   "source": [
    "## The column picture"
   ]
  },
  {
   "cell_type": "markdown",
   "metadata": {},
   "source": [
    "* In the column picture we look at the column vector associate with the variables:\n",
    "$$ x\\begin{bmatrix} 2 \\\\ -1 \\end{bmatrix}+y\\begin{bmatrix} -1 \\\\ 2 \\end{bmatrix}=\\begin{bmatrix} 0 \\\\ 3 \\end{bmatrix} $$\n",
    "* It asks us to look at the linear combination of the columns"
   ]
  },
  {
   "cell_type": "markdown",
   "metadata": {},
   "source": [
    "* Performing this multiplication results in the same equation"
   ]
  },
  {
   "cell_type": "code",
   "execution_count": null,
   "metadata": {},
   "outputs": [],
   "source": [
    "Eq(x * Matrix([2, -1]) + y * Matrix([-1, 2]), Matrix([0, 3]))"
   ]
  },
  {
   "cell_type": "code",
   "execution_count": null,
   "metadata": {},
   "outputs": [],
   "source": [
    "from mpl_toolkits.mplot3d import proj3d\n",
    "\n",
    "fig = plt.figure(figsize = (10, 8))\n",
    "ax = fig.add_subplot(111, projection='3d')\n",
    "ax.plot([0, 2], [0, -1], zs=[0, 0])\n",
    "# The three sets of square bracket contain as first element the starting\n",
    "# point, i.e. 0, 0, 0 (as in  x, y ,z coordinates)\n",
    "# The second element in each square bracket represents the end-point, i.e. 2, -1, 0 \n",
    "ax.plot([0, -1], [0, 2], zs=[0, 0])\n",
    "\n",
    "plt.show();"
   ]
  },
  {
   "cell_type": "code",
   "execution_count": null,
   "metadata": {},
   "outputs": [],
   "source": [
    "# Method adding arrow heads (very complicated)\n",
    "from mpl_toolkits.mplot3d import Axes3D\n",
    "from itertools import product, combinations\n",
    "fig = plt.figure(figsize = (10, 8))\n",
    "ax = fig.gca(projection='3d')\n",
    "ax.set_aspect(\"equal\")\n",
    "\n",
    "#draw a vector\n",
    "from matplotlib.patches import FancyArrowPatch\n",
    "from mpl_toolkits.mplot3d import proj3d\n",
    "\n",
    "class Arrow3D(FancyArrowPatch):\n",
    "    def __init__(self, xs, ys, zs, *args, **kwargs):\n",
    "        FancyArrowPatch.__init__(self, (0,0), (0,0), *args, **kwargs)\n",
    "        self._verts3d = xs, ys, zs\n",
    "\n",
    "    def draw(self, renderer):\n",
    "        xs3d, ys3d, zs3d = self._verts3d\n",
    "        xs, ys, zs = proj3d.proj_transform(xs3d, ys3d, zs3d, renderer.M)\n",
    "        self.set_positions((xs[0],ys[0]),(xs[1],ys[1]))\n",
    "        FancyArrowPatch.draw(self, renderer)\n",
    "\n",
    "a = Arrow3D([0, 2],[0, -1],[0, 0], mutation_scale=20, lw=1, arrowstyle=\"-|>\", color=\"k\")\n",
    "b = Arrow3D([0, -1],[0, 2],[0, 0], mutation_scale=20, lw=1, arrowstyle=\"-|>\", color=\"b\")\n",
    "ax.add_artist(a)\n",
    "ax.add_artist(b)\n",
    "plt.show();"
   ]
  },
  {
   "cell_type": "markdown",
   "metadata": {},
   "source": [
    "* The column view suggest that we need one of the first vector to be added to two times the second vector to get to point (0,3)"
   ]
  },
  {
   "cell_type": "markdown",
   "metadata": {},
   "source": [
    "* Note that we are working in the *xy*-plane\n",
    "* Forgetting for now the solution (0,3), if we took all the possible values (on the real line) for *x* and *y*, we would fill the whole plane\n",
    "* Linear combinations of the two (column) vectors...\n",
    "$$ \\begin{bmatrix} 2 \\\\ -1 \\end{bmatrix} $$\n",
    "* ...and...\n",
    "$$ \\begin{bmatrix} -1 \\\\ 2 \\end{bmatrix} $$\n",
    "* ...fill &#8477;<sup>2</sup>"
   ]
  },
  {
   "cell_type": "markdown",
   "metadata": {},
   "source": [
    "* It's easy to see that these two vectors are not linear combinations of each other (they don't lie on the same line)\n",
    "* If this is so (they are linearly independent) and linear combinations of them fill the plane we say they span the plane (&#8477;<sup>2</sup>)"
   ]
  },
  {
   "cell_type": "markdown",
   "metadata": {},
   "source": [
    "* It's also easy to imagine that the *xy*-plane is filled with (all the points are filled with) vectors, i.e. I can find any coordinate by drawing a vector to it\n",
    "* All these vectors together can be called a **set**\n",
    "* Let's call this set *W* and is equals &#8477;<sup>2</sup>\n",
    "* Later we will see that this vector space is a subspace of *V* = &#8477;<sup>3</sup>\n",
    "* We will also see that the vectors above span *W*, i.e. *W* = span(set of two vectors above)\n",
    "* It will also be shown that this set of two vectors is a **basis** of *W* (they are linearly independent and they span *W*)\n",
    "* &#8477;<sup>2</sup> is of **dimension** two (2) as the whole space can be represented by a linear combination of just two vectors\n",
    "    * The basis vectors for &#8477;<sup>2</sup> are actually...\n",
    "$$ \\begin{bmatrix} 1 \\\\ 0 \\end{bmatrix},\\begin{bmatrix} 0 \\\\ 1 \\end{bmatrix} $$\n",
    "    * ...which we commonly call \n",
    "$$ \\hat { i } ,\\hat { j }  $$"
   ]
  },
  {
   "cell_type": "markdown",
   "metadata": {},
   "source": [
    "## The 3-space picture"
   ]
  },
  {
   "cell_type": "markdown",
   "metadata": {},
   "source": [
    "$$ {3x}+{2y}-{z}=2 $$\n",
    "$$ {x}-{2y}-{z}=3 $$\n",
    "$$ {2x}+{y}-{z}={1} $$"
   ]
  },
  {
   "cell_type": "code",
   "execution_count": null,
   "metadata": {},
   "outputs": [],
   "source": [
    "A_augm = Matrix([[3, 2, -1, 2], [1, -2, -1, 3], [2, 1, -1, 1]])\n",
    "A_augm"
   ]
  },
  {
   "cell_type": "code",
   "execution_count": null,
   "metadata": {},
   "outputs": [],
   "source": [
    "A_augm.rref()"
   ]
  },
  {
   "cell_type": "code",
   "execution_count": null,
   "metadata": {},
   "outputs": [],
   "source": [
    "Image(filename = '3d.png')"
   ]
  },
  {
   "cell_type": "code",
   "execution_count": null,
   "metadata": {},
   "outputs": [],
   "source": []
  }
 ],
 "metadata": {
  "language_info": {
   "name": "python",
   "pygments_lexer": "ipython3"
  }
 },
 "nbformat": 4,
 "nbformat_minor": 2
}
