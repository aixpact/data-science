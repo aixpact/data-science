{
 "cells": [
  {
   "cell_type": "markdown",
   "metadata": {},
   "source": [
    "+ This notebook is part of lecture 22 *Diagonalization and powers of A* in the OCW MIT course 18.06 by Prof Gilbert Strang [1]\n",
    "+ Created by me, Dr Juan H Klopper\n",
    "    + Head of Acute Care Surgery\n",
    "    + Groote Schuur Hospital\n",
    "    + University Cape Town\n",
    "    + <a href=\"mailto:juan.klopper@uct.ac.za\">Email me with your thoughts, comments, suggestions and corrections</a> \n",
    "<a rel=\"license\" href=\"http://creativecommons.org/licenses/by-nc/4.0/\"><img alt=\"Creative Commons Licence\" style=\"border-width:0\" src=\"https://i.creativecommons.org/l/by-nc/4.0/88x31.png\" /></a><br /><span xmlns:dct=\"http://purl.org/dc/terms/\" href=\"http://purl.org/dc/dcmitype/InteractiveResource\" property=\"dct:title\" rel=\"dct:type\">Linear Algebra OCW MIT18.06</span> <span xmlns:cc=\"http://creativecommons.org/ns#\" property=\"cc:attributionName\">IPython notebook [2] study notes by Dr Juan H Klopper</span> is licensed under a <a rel=\"license\" href=\"http://creativecommons.org/licenses/by-nc/4.0/\">Creative Commons Attribution-NonCommercial 4.0 International License</a>.\n",
    "\n",
    "+ [1] <a href=\"http://ocw.mit.edu/courses/mathematics/18-06sc-linear-algebra-fall-2011/index.htm\">OCW MIT 18.06</a>\n",
    "+ [2] Fernando Pérez, Brian E. Granger, IPython: A System for Interactive Scientific Computing, Computing in Science and Engineering, vol. 9, no. 3, pp. 21-29, May/June 2007, doi:10.1109/MCSE.2007.53. URL: http://ipython.org"
   ]
  },
  {
   "cell_type": "code",
   "execution_count": null,
   "metadata": {},
   "outputs": [],
   "source": [
    "from IPython.core.display import HTML, Image\n",
    "css_file = 'style.css'\n",
    "HTML(open(css_file, 'r').read())"
   ]
  },
  {
   "cell_type": "code",
   "execution_count": null,
   "metadata": {},
   "outputs": [],
   "source": [
    "from sympy import init_printing, Matrix, symbols, eye, Rational\n",
    "from warnings import filterwarnings"
   ]
  },
  {
   "cell_type": "code",
   "execution_count": null,
   "metadata": {},
   "outputs": [],
   "source": [
    "init_printing(use_latex = 'mathjax')\n",
    "filterwarnings('ignore')"
   ]
  },
  {
   "cell_type": "markdown",
   "metadata": {},
   "source": [
    "# Diagonalizing a matrix\n",
    "# Powers of a matrix A"
   ]
  },
  {
   "cell_type": "markdown",
   "metadata": {},
   "source": [
    "## Definition"
   ]
  },
  {
   "cell_type": "markdown",
   "metadata": {},
   "source": [
    "* If A is a *n*&#215;*n*, then a non-zero vector **x** in &#8477;<sup>n</sup> is called an *eigenvector* of the matrix A if A**x** is a scalar multiple of **x**\n",
    "* What this suggests is that if you consider the column vector **x** and multiply it by a scalar (here called &#955;) (which is then parallel to **x**, just of different length) it results in the same solution as multiplying the matrix A by **x**\n",
    "* Let's try another explanation: if a matrix A, multiplied with a (column) vector (**x**) results in a scalar multiple of that same (column) vector (and is thus parallel to that (column) vector) then this (column) vector is an eigenvector of the matrix A\n",
    "    * In essence this multiplication of a matrix with a (column) vector produces another vector on the same line as the original vector\n",
    "    * Depending on the value of this scalar the resulting vector might point in the opposite direction and be shorter or longer than the original\n",
    "* This scalar multiple is called the eigenvalue\n",
    "* Matrices can have more than one eigenvalue and eigenvector"
   ]
  },
  {
   "cell_type": "markdown",
   "metadata": {},
   "source": [
    "## Derivations"
   ]
  },
  {
   "cell_type": "markdown",
   "metadata": {},
   "source": [
    "* We need to insert an identity matrix of size *n* into the equation that describes the explanation above\n",
    "$$ {A}\\underline{x}={\\lambda}\\underline{x} \\\\ {A}\\underline{x}={\\lambda}{I}\\underline{x} \\\\ {A}\\underline{x}-{\\lambda}{I}\\underline{x}=\\underline{0} \\\\ \\left({A}-{\\lambda}{I}\\right)\\underline{x}=\\underline{0} $$"
   ]
  },
  {
   "cell_type": "markdown",
   "metadata": {},
   "source": [
    "* Look at this carefully and you'll notice that we are suggesting the nullspace (eigenspace) of the matrix (A-&#955;I)\n",
    "* This matrix has to be singular, i.e. have a determinant of 0\n",
    "$$ \\left|{A}-{\\lambda}{I}\\right|=0 $$\n",
    "* Solving this equation (called the characteristic equation) will give us the eigenvalues (&#955;<sup>'s</sup>)\n",
    "* It will always be a polynomial in &#955; (called the characteristic polynomial of A), with a leading coefficient of 1 and a degree of *n* corresponding to the size of A\n",
    "$$ {p}\\left({\\lambda}\\right)={\\lambda}^{n}+{c}_{1}{\\lambda}^{n-1}+\\dots+{c}_{n} $$\n",
    "* Substituting them back into...\n",
    "$$ \\left({A}\\underline{x}-{\\lambda}{I}\\right)\\underline{x}=\\underline{0} $$\n",
    "* ... allows us to calculate the eigenvector(s) **x**"
   ]
  },
  {
   "cell_type": "markdown",
   "metadata": {},
   "source": [
    "* Let's look at the following matrix A\n",
    "$$ A=\\begin{bmatrix} 0 & 0 & -2 \\\\ 1 & 2 & 1 \\\\ 1 & 0 & 3 \\end{bmatrix}\\\\ A-\\lambda I=\\begin{bmatrix} 0 & 0 & -2 \\\\ 1 & 2 & 1 \\\\ 1 & 0 & 3 \\end{bmatrix}-\\begin{bmatrix} \\lambda  & 0 & 0 \\\\ 0 & \\lambda  & 0 \\\\ 0 & 0 & \\lambda  \\end{bmatrix}=\\begin{bmatrix} -\\lambda  & 0 & -2 \\\\ 1 & 2-\\lambda  & 1 \\\\ 1 & 0 & 3-\\lambda  \\end{bmatrix}\\\\ \\begin{vmatrix} -\\lambda  & 0 & -2 \\\\ 1 & 2-\\lambda  & 1 \\\\ 1 & 0 & 3-\\lambda  \\end{vmatrix}=0\\\\ { \\lambda  }^{ 3 }-5{ \\lambda  }^{ 2 }+8\\lambda -4=0\\\\ { \\lambda  }_{ 1 }=1,\\quad { \\lambda  }_{ 2 }={ \\lambda  }_{ 3 }=2 $$"
   ]
  },
  {
   "cell_type": "markdown",
   "metadata": {},
   "source": [
    "* Let's start with the first eigenvalue, which is equal to 1 and replace it in A-&#955;I"
   ]
  },
  {
   "cell_type": "code",
   "execution_count": null,
   "metadata": {},
   "outputs": [],
   "source": [
    "A = Matrix([[-1, 0 ,-2], [1, 1, 1], [1, 0, 2]])\n",
    "A"
   ]
  },
  {
   "cell_type": "markdown",
   "metadata": {},
   "source": [
    "* We now need the nullspace of this matrix"
   ]
  },
  {
   "cell_type": "code",
   "execution_count": null,
   "metadata": {},
   "outputs": [],
   "source": [
    "A.nullspace()"
   ]
  },
  {
   "cell_type": "markdown",
   "metadata": {},
   "source": [
    "* We knew that this would be 1-dimensional after looking at the row-reduced form"
   ]
  },
  {
   "cell_type": "code",
   "execution_count": null,
   "metadata": {},
   "outputs": [],
   "source": [
    "A.rref()"
   ]
  },
  {
   "cell_type": "markdown",
   "metadata": {},
   "source": [
    "* It has rank 2 (two pivot column and 1 free variable"
   ]
  },
  {
   "cell_type": "markdown",
   "metadata": {},
   "source": [
    "* Now for the other 2 eigenvalues, both equaling 2"
   ]
  },
  {
   "cell_type": "code",
   "execution_count": null,
   "metadata": {},
   "outputs": [],
   "source": [
    "A = Matrix([[-2, 0, -2], [1, 0, 1], [1, 0, 1]])\n",
    "A"
   ]
  },
  {
   "cell_type": "code",
   "execution_count": null,
   "metadata": {},
   "outputs": [],
   "source": [
    "A.nullspace()"
   ]
  },
  {
   "cell_type": "code",
   "execution_count": null,
   "metadata": {},
   "outputs": [],
   "source": [
    "A.rref()"
   ]
  },
  {
   "cell_type": "markdown",
   "metadata": {},
   "source": [
    "* Only a single pivot column, therefor rank of 1 and two independent (free) variables"
   ]
  },
  {
   "cell_type": "markdown",
   "metadata": {},
   "source": [
    "* Corresponding to the first eigenvalue we have a single eigenvector that is the basis for a 1-dimensional (line) eigenspace in &#8477;<sup>3</sup>\n",
    "* Corresponding to the second (and third) eigenvalues we have two basis vectors for a 2-dimensional plane in &#8477;<sup>3</sup>\n",
    "* Since we are talking about subspaces, we must note that the zero vector must be in both eigenspaces (type of nullspace), but isn't an eigenvector"
   ]
  },
  {
   "cell_type": "markdown",
   "metadata": {},
   "source": [
    "## The eigenvalues of triangular (upper and lower) and diagonal matrices"
   ]
  },
  {
   "cell_type": "markdown",
   "metadata": {},
   "source": [
    "* The eigenvalue of these type of matrices are exactly the entries along the main diagonal"
   ]
  },
  {
   "cell_type": "markdown",
   "metadata": {},
   "source": [
    "## Real and complex eigenvalues"
   ]
  },
  {
   "cell_type": "markdown",
   "metadata": {},
   "source": [
    "* There will be characteristic polynomials resulting in complex roots\n",
    "* The consequences of real-valued eigenvalues for a square matrix A of size *n* are the following\n",
    "    * The system (A-&#955;I)**x**=**0** has non-trivial solutions\n",
    "    * There is a non-zero vector **x** in &#8477;<sup>n</sup> such that A**x**=&#955;**x**"
   ]
  },
  {
   "cell_type": "markdown",
   "metadata": {},
   "source": [
    "## The eigenvector matrix S and eigenvalue matrix &#923;"
   ]
  },
  {
   "cell_type": "markdown",
   "metadata": {},
   "source": [
    "* We need to create S from the (column) eigenvectors such that the following holds\n",
    "$$ {S}^{-1}{A}{S}=\\Lambda $$"
   ]
  },
  {
   "cell_type": "markdown",
   "metadata": {},
   "source": [
    "* As such, S should be square of size *n*&#215;*n* and invertible, so we need *n* independent eigenvectors"
   ]
  },
  {
   "cell_type": "markdown",
   "metadata": {},
   "source": [
    "* Suppose we have *n* linearly independent eigenvectors of A\n",
    "* Put them in the columns of S and calculate AS\n",
    "$$ AS=A\\begin{bmatrix} \\vdots  & \\vdots  & \\vdots  & \\vdots  \\\\ \\vdots  & \\vdots  & \\vdots  & \\vdots  \\\\ { x }_{ 1 } & { x }_{ 2 } & \\dots  & { x }_{ n } \\\\ \\vdots  & \\vdots  & \\vdots  & \\vdots  \\end{bmatrix}=\\begin{bmatrix} \\vdots  & \\vdots  & \\vdots  & \\vdots  \\\\ \\vdots  & \\vdots  & \\vdots  & \\vdots  \\\\ { { \\lambda  }_{ 1 }x }_{ 1 } & { \\lambda  }_{ 2 }{ x }_{ 2 } & \\dots  & { \\lambda  }_{ n }{ x }_{ n } \\\\ \\vdots  & \\vdots  & \\vdots  & \\vdots  \\end{bmatrix}=\\begin{bmatrix} \\vdots  & \\vdots  & \\vdots  & \\vdots  \\\\ \\vdots  & \\vdots  & \\vdots  & \\vdots  \\\\ { x }_{ 1 } & { x }_{ 2 } & \\dots  & { x }_{ n } \\\\ \\vdots  & \\vdots  & \\vdots  & \\vdots  \\end{bmatrix}\\begin{bmatrix} { \\lambda  }_{ 1 } & 0 & 0 & 0 \\\\ 0 & { \\lambda  }_{ 2 } & 0 & 0 \\\\ \\vdots  & \\vdots  & { \\dots  } & \\vdots  \\\\ 0 & 0 & 0 & { \\lambda  }_{ n } \\end{bmatrix}\\\\ AS=S\\Lambda  $$"
   ]
  },
  {
   "cell_type": "markdown",
   "metadata": {},
   "source": [
    "* From this we have the following\n",
    "$$ AS=S\\Lambda \\\\ { S }^{ -1 }AS=\\Lambda \\\\ A=S\\Lambda { S }^{ -1 } $$\n",
    "* Later I will use the computer variable D for this diagonal matrix &#923;"
   ]
  },
  {
   "cell_type": "markdown",
   "metadata": {},
   "source": [
    "## The power of a matrix (only for *n* independent eigenvectors)"
   ]
  },
  {
   "cell_type": "markdown",
   "metadata": {},
   "source": [
    "* We saw in the example section of the last lecture that the following holds\n",
    "$$ {A}^{2}\\underline{x}={\\lambda}^{2}{x} $$\n",
    "* The eigenvectors are the same for A and A<sup>2</sup>\n",
    "* We can also see the following\n",
    "$$ { A }^{ 2 }=S\\Lambda { S }^{ -1 }S\\Lambda { S }^{ -1 }=S{ \\Lambda  }^{ 2 }{ S }^{ -1 } $$"
   ]
  },
  {
   "cell_type": "markdown",
   "metadata": {},
   "source": [
    "* The power need not be 2, but any *k* which will have S<sup>-1</sup> appearing *k*-1 times"
   ]
  },
  {
   "cell_type": "markdown",
   "metadata": {},
   "source": [
    "* We thus have the following theorems\n",
    "$$ { A }^{ k }\\rightarrow 0\\quad \\because \\quad k\\rightarrow \\infty ;\\quad \\left| { \\lambda  }_{ i } \\right| $$\n",
    "* ...and...\n",
    "* If *k* is a positive integer, &#955; is an eigenvalue of the matrix A, and **x** is a corresponding eigenvector, then &#955;<sup>k</sup> is an eigenvalue of A<sup>k</sup> and **x** is a corresponding eigenvector"
   ]
  },
  {
   "cell_type": "markdown",
   "metadata": {},
   "source": [
    "## What makes a matrix diagonalizable"
   ]
  },
  {
   "cell_type": "markdown",
   "metadata": {},
   "source": [
    "* In discussing diagonalization we are concerned with finding a basis for &#8477;<sup>n</sup> that consists of eigenvectors of a given square matrix of size *n*\n",
    "* These bases can tell us about geometric properties of A and it can simplify numerical computations involving A"
   ]
  },
  {
   "cell_type": "markdown",
   "metadata": {},
   "source": [
    "* We need to answer two question (which are actually the same)\n",
    "    * Given a square matrix of size *n*, is there a basis for &#8477;<sup>n</sup> consisting of eigenvectors?\n",
    "    * Given a square matrix of size *n*, it there and invertible matrix S, such that S<sup>-1</sup>AS is a diagonal matrix? (It is the same matrix S referred to above)\n",
    "* If such a matrix S exists, it is said to diagonalize A (and we will call the resultant diagonal matrix D)"
   ]
  },
  {
   "cell_type": "markdown",
   "metadata": {},
   "source": [
    "* In short the answer to the above question(s) is yes if A has *n* independent eigenvectors\n",
    "    * This happens if all &#955;<sup>'s</sup> are different (none are repeated) (not totally excluded if they are repeated though)"
   ]
  },
  {
   "cell_type": "markdown",
   "metadata": {},
   "source": [
    "* If they are repeated, we still might have independent eigenvectors, i.e. any size identity matrix (because it is already diagonal)"
   ]
  },
  {
   "cell_type": "code",
   "execution_count": null,
   "metadata": {},
   "outputs": [],
   "source": [
    "A = eye(5)\n",
    "A"
   ]
  },
  {
   "cell_type": "code",
   "execution_count": null,
   "metadata": {},
   "outputs": [],
   "source": [
    "A.eigenvals()"
   ]
  },
  {
   "cell_type": "code",
   "execution_count": null,
   "metadata": {},
   "outputs": [],
   "source": [
    "A.eigenvects()"
   ]
  },
  {
   "cell_type": "markdown",
   "metadata": {},
   "source": [
    "* Here we look at a triangular matrix, though"
   ]
  },
  {
   "cell_type": "code",
   "execution_count": null,
   "metadata": {},
   "outputs": [],
   "source": [
    "A = Matrix([[2, 1], [0, 2]])\n",
    "A.eigenvals()"
   ]
  },
  {
   "cell_type": "code",
   "execution_count": null,
   "metadata": {},
   "outputs": [],
   "source": [
    "A.eigenvects()"
   ]
  },
  {
   "cell_type": "markdown",
   "metadata": {},
   "source": [
    "* We can use python™ code to calculate the diagonalized matrix"
   ]
  },
  {
   "cell_type": "code",
   "execution_count": null,
   "metadata": {},
   "outputs": [],
   "source": [
    "A = Matrix([[3, -2,  4, -2], [5,  3, -3, -2], [5, -2,  2, -2], [5, -2, -3, 3]])\n",
    "A"
   ]
  },
  {
   "cell_type": "code",
   "execution_count": null,
   "metadata": {},
   "outputs": [],
   "source": [
    "S, D = A.diagonalize()"
   ]
  },
  {
   "cell_type": "code",
   "execution_count": null,
   "metadata": {},
   "outputs": [],
   "source": [
    "S # S, such that A = S times D times the inverse of S"
   ]
  },
  {
   "cell_type": "code",
   "execution_count": null,
   "metadata": {},
   "outputs": [],
   "source": [
    "D # The diagonal"
   ]
  },
  {
   "cell_type": "code",
   "execution_count": null,
   "metadata": {},
   "outputs": [],
   "source": [
    "S * D * S.inv() == A # Checking to see if our statement above is correct"
   ]
  },
  {
   "cell_type": "code",
   "execution_count": null,
   "metadata": {},
   "outputs": [],
   "source": [
    "S.inv() * A * S == D # Checking to see if our statement above is correct"
   ]
  },
  {
   "cell_type": "code",
   "execution_count": null,
   "metadata": {},
   "outputs": [],
   "source": [
    "A.eigenvals()"
   ]
  },
  {
   "cell_type": "markdown",
   "metadata": {},
   "source": [
    "* Remember &#923; from above?\n",
    "    * The eigenvalues are precisely the entries along the main diagonal of the diagonal matrix"
   ]
  },
  {
   "cell_type": "markdown",
   "metadata": {},
   "source": [
    "* To produce the required diagonal matrix manually then will require computing *n* linearly independent eigenvectors for matrix A of size *n* (assuming that it is diagonalizable), creating a matrix with its columns equal to these eigenvectors (called matrix S) and performing the equation S<sup>-1</sup>AS to calculate the diagonal matrix D ( or &#923;)"
   ]
  },
  {
   "cell_type": "markdown",
   "metadata": {},
   "source": [
    "* Back to the topic of what makes a matrix diagonalizable"
   ]
  },
  {
   "cell_type": "markdown",
   "metadata": {},
   "source": [
    "* Suppose we have an equation that starts with some vector and every subsequent vector is a matrix A time the previous vector\n",
    "$$ \\underline{u}_{k+1}={A}\\underline{u}_{k} $$"
   ]
  },
  {
   "cell_type": "markdown",
   "metadata": {},
   "source": [
    "* From this arises the following\n",
    "$$ { \\underline { u }  }_{ 1 }=A{ \\underline { u }  }_{ 0 }\\\\ { \\underline { u }  }_{ 2 }=A{ A\\underline { u }  }_{ 0 }={ A }^{ 2 }{ \\underline { u }  }_{ 0 }\\\\ { \\underline { u }  }_{ k }={ A }^{ k }{ \\underline { u }  }_{ 0 } $$"
   ]
  },
  {
   "cell_type": "markdown",
   "metadata": {},
   "source": [
    "* To really solve this problem, rewrite **u**<sub>0</sub> as follows (a certain scalar times an eigenvector)\n",
    "$$ { \\underline { u }  }_{ 0 }={ c }_{ 1 }\\underline{ x }_{ 1 }+{ c }_{ 2 }\\underline{ x }_{ 2 }+\\dots +{ c }_{ n }\\underline{ x }_{ n } = {S}\\underline{c} $$\n",
    "* Where the S**c** is a linear combination of the individual eigenvectors"
   ]
  },
  {
   "cell_type": "markdown",
   "metadata": {},
   "source": [
    "* Now multiply both sides by A\n",
    "$$ A{ \\underline { u }  }_{ 0 }={ c }_{ 1 }{A}\\underline{ x }_{ 1 }+{ c }_{ 2 }{A}\\underline{ x }_{ 2 }+\\dots +{ c }_{ n }{A}\\underline{ x }_{ n } \\\\ A{ \\underline { u }  }_{ 0 }={ c }_{ 1 }{ \\lambda  }_{ 1 }\\underline{ x }_{ 1 }+{ c }_{ 2 }{ \\lambda  }_{ 2 }\\underline{ x }_{ 2 }+\\dots +{ c }_{ n }{ \\lambda  }_{ n }\\underline{ x }_{ n } $$\n",
    "* Taking a power of A now (i.e. *k*) would be akin to taking each eigenvalue to that power\n",
    "$$ {A}^{k}{ \\underline { u }  }_{ 0 }={ c }_{ 1 }{ \\lambda  }_{ 1 }^{k}\\underline{ x }_{ 1 }+{ c }_{ 2 }{ \\lambda  }_{ 2 }^{k}\\underline{ x }_{ 2 }+\\dots +{ c }_{ n }{ \\lambda  }_{ n }^{k}\\underline{ x }_{ n } $$\n",
    "* This can be written as\n",
    "$$ \\underline{u}_{k} = {A}^{k}\\underline{u}_{0}={\\Lambda}^{k}{S}\\underline{c} $$"
   ]
  },
  {
   "cell_type": "markdown",
   "metadata": {},
   "source": [
    "* As an example consider the Fibonacci numbers: 0, 1, 1, 2, 3, 5, 8, 13, ...\n",
    "* What would the 100<sup>th</sup> number be?\n",
    "* Consider the following\n",
    "$$ {F}_{k+2}={F}_{k+1}+{F}_{k} $$\n",
    "* This is a (second-order) difference equation; think of this example as similar to a second-order differential equation (without derivatives)\n",
    "* By adding a second equation F<sub>k+1</sub>=F<sub>k+1</sub>, consider **u**<sub>k</sub> to be the following vector\n",
    "$$ \\underline{u}_{k}=\\begin{bmatrix} {F}_{k+1} \\\\ {F}_{k} \\end{bmatrix} $$\n",
    "* This means the following\n",
    "$$ \\underline{u}_{k+1}=\\begin{bmatrix} 1 & 1 \\\\ 1 & 0 \\end{bmatrix} \\begin{bmatrix} {F}_{k+1} \\\\ {F}_{k} \\end{bmatrix}=\\begin{bmatrix} {F}_{k+1}+{F}_{k} \\\\ {F}_{k+1} \\end{bmatrix} \\\\ \\underline{u}_{k+1}=\\begin{bmatrix} 1 & 1 \\\\ 1 & 0 \\end{bmatrix}\\underline{u}_{k} $$"
   ]
  },
  {
   "cell_type": "code",
   "execution_count": null,
   "metadata": {},
   "outputs": [],
   "source": [
    "A = Matrix([[1, 1], [1, 0]])\n",
    "A"
   ]
  },
  {
   "cell_type": "code",
   "execution_count": null,
   "metadata": {},
   "outputs": [],
   "source": [
    "A.eigenvals()"
   ]
  },
  {
   "cell_type": "code",
   "execution_count": null,
   "metadata": {},
   "outputs": [],
   "source": [
    "A.eigenvects()"
   ]
  },
  {
   "cell_type": "code",
   "execution_count": null,
   "metadata": {},
   "outputs": [],
   "source": [
    "S, D = A.diagonalize()"
   ]
  },
  {
   "cell_type": "code",
   "execution_count": null,
   "metadata": {},
   "outputs": [],
   "source": [
    "D"
   ]
  },
  {
   "cell_type": "markdown",
   "metadata": {},
   "source": [
    "* From above we remember the following\n",
    "$$ \\underline{u}_{k} = {A}^{k}\\underline{u}_{0}={\\Lambda}^{k}{S}\\underline{c} $$\n",
    "* We have **u**<sub>0</sub> contains the first two values"
   ]
  },
  {
   "cell_type": "code",
   "execution_count": null,
   "metadata": {},
   "outputs": [],
   "source": [
    "u_zero =  Matrix([1, 0])\n",
    "u_100 = A ** 100 * u_zero\n",
    "u_100 # The top value is the 100th Fibonacci number"
   ]
  },
  {
   "cell_type": "code",
   "execution_count": null,
   "metadata": {},
   "outputs": [],
   "source": [
    "u_four = A ** 4 * u_zero\n",
    "u_four # If the first number is 0 the the fourth number would be the top value"
   ]
  },
  {
   "cell_type": "markdown",
   "metadata": {},
   "source": [
    "## Example problems"
   ]
  },
  {
   "cell_type": "markdown",
   "metadata": {},
   "source": [
    "### Example problem 1"
   ]
  },
  {
   "cell_type": "markdown",
   "metadata": {},
   "source": [
    "* Find an equation for C<sup>k</sup> where C is given by the following matrix\n",
    "$$  $$\n",
    "* Calculate C<sup>100</sup> when *a*=*b*=-1"
   ]
  },
  {
   "cell_type": "markdown",
   "metadata": {},
   "source": [
    "#### Solution"
   ]
  },
  {
   "cell_type": "code",
   "execution_count": null,
   "metadata": {},
   "outputs": [],
   "source": [
    "a, b, k = symbols('a b k')"
   ]
  },
  {
   "cell_type": "code",
   "execution_count": null,
   "metadata": {},
   "outputs": [],
   "source": [
    "C = Matrix([[2 * b - a, a - b], [2 * b - 2 * a, 2 * a - b]])\n",
    "C"
   ]
  },
  {
   "cell_type": "markdown",
   "metadata": {},
   "source": [
    "* We remember the following\n",
    "$$ {A}^{k}={S}{\\Lambda}^{k}{S}^{-1} $$\n",
    "* Where &#923; is denoted by the computer variable D"
   ]
  },
  {
   "cell_type": "code",
   "execution_count": null,
   "metadata": {},
   "outputs": [],
   "source": [
    "S, D = C.diagonalize()"
   ]
  },
  {
   "cell_type": "code",
   "execution_count": null,
   "metadata": {},
   "outputs": [],
   "source": [
    "S"
   ]
  },
  {
   "cell_type": "markdown",
   "metadata": {},
   "source": [
    "* Python™ is not always good at simplifying these\n",
    "* If you look at it carefully you will note the following"
   ]
  },
  {
   "cell_type": "code",
   "execution_count": null,
   "metadata": {},
   "outputs": [],
   "source": [
    "S = Matrix([[1, Rational(1, 2)], [1, 1]])\n",
    "S"
   ]
  },
  {
   "cell_type": "code",
   "execution_count": null,
   "metadata": {},
   "outputs": [],
   "source": [
    "D"
   ]
  },
  {
   "cell_type": "code",
   "execution_count": null,
   "metadata": {},
   "outputs": [],
   "source": [
    "D = Matrix([[b, 0], [0, a]])\n",
    "D"
   ]
  },
  {
   "cell_type": "markdown",
   "metadata": {},
   "source": [
    "* For the values given, we have the following"
   ]
  },
  {
   "cell_type": "code",
   "execution_count": null,
   "metadata": {},
   "outputs": [],
   "source": [
    "C = Matrix([[-1, 0],  [0, -1]])\n",
    "C"
   ]
  },
  {
   "cell_type": "code",
   "execution_count": null,
   "metadata": {},
   "outputs": [],
   "source": [
    "S, D = C.diagonalize()"
   ]
  },
  {
   "cell_type": "code",
   "execution_count": null,
   "metadata": {},
   "outputs": [],
   "source": [
    "D"
   ]
  },
  {
   "cell_type": "code",
   "execution_count": null,
   "metadata": {},
   "outputs": [],
   "source": [
    "D ** 100"
   ]
  },
  {
   "cell_type": "code",
   "execution_count": null,
   "metadata": {},
   "outputs": [],
   "source": [
    "S * (D ** 100) * S.inv()"
   ]
  },
  {
   "cell_type": "markdown",
   "metadata": {},
   "source": [
    "* Doing the same, but with eigenvalues and eigenvectors"
   ]
  },
  {
   "cell_type": "code",
   "execution_count": null,
   "metadata": {},
   "outputs": [],
   "source": [
    "C = Matrix([[2 * b - a, a - b], [2 * b - 2 * a, 2 * a - b]])\n",
    "C"
   ]
  },
  {
   "cell_type": "code",
   "execution_count": null,
   "metadata": {},
   "outputs": [],
   "source": [
    "C.eigenvals()"
   ]
  },
  {
   "cell_type": "markdown",
   "metadata": {},
   "source": [
    "* This simplifies the &#955;<sub>1</sub> = *b* and &#955;<sub>2</sub> = *a*\n",
    "* That makes &#923; (or D) the following"
   ]
  },
  {
   "cell_type": "code",
   "execution_count": null,
   "metadata": {},
   "outputs": [],
   "source": [
    "D = Matrix([[b, 0], [0, a]])\n",
    "D"
   ]
  },
  {
   "cell_type": "code",
   "execution_count": null,
   "metadata": {},
   "outputs": [],
   "source": [
    "C.eigenvects() # The solution is two tuples, with each being eigenvalue, eigenvector"
   ]
  },
  {
   "cell_type": "markdown",
   "metadata": {},
   "source": [
    "* This simplifies to the following eigenvalue matrix S"
   ]
  },
  {
   "cell_type": "code",
   "execution_count": null,
   "metadata": {},
   "outputs": [],
   "source": [
    "S = Matrix([[1, Rational(1, 2)], [1, 1]])\n",
    "S"
   ]
  },
  {
   "cell_type": "markdown",
   "metadata": {},
   "source": [
    "* We can see if we can get back to C"
   ]
  },
  {
   "cell_type": "code",
   "execution_count": null,
   "metadata": {},
   "outputs": [],
   "source": [
    "S * D * S.inv()"
   ]
  },
  {
   "cell_type": "code",
   "execution_count": null,
   "metadata": {},
   "outputs": [],
   "source": [
    "S * D * S.inv() == C"
   ]
  },
  {
   "cell_type": "markdown",
   "metadata": {},
   "source": [
    "* Python™ won't to D<sup>k</sup> for you, but it's easy to do yourself"
   ]
  },
  {
   "cell_type": "code",
   "execution_count": null,
   "metadata": {},
   "outputs": [],
   "source": [
    "D = Matrix([[b ** k, 0], [0, a ** k]])\n",
    "D"
   ]
  },
  {
   "cell_type": "markdown",
   "metadata": {},
   "source": [
    "* Now we can compute S&#923;S<sup>-1</sup>"
   ]
  },
  {
   "cell_type": "code",
   "execution_count": null,
   "metadata": {},
   "outputs": [],
   "source": [
    "S * D * S.inv()"
   ]
  },
  {
   "cell_type": "markdown",
   "metadata": {},
   "source": [
    "* Placing the given values into this equation will give you the same solution for C<sup>100</sup> as above"
   ]
  },
  {
   "cell_type": "code",
   "execution_count": null,
   "metadata": {},
   "outputs": [],
   "source": []
  }
 ],
 "metadata": {
  "language_info": {
   "name": "python",
   "pygments_lexer": "ipython3"
  }
 },
 "nbformat": 4,
 "nbformat_minor": 0
}
