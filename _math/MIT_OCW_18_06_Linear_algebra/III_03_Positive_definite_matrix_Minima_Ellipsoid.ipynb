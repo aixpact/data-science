{
 "cells": [
  {
   "cell_type": "markdown",
   "metadata": {},
   "source": [
    "+ This notebook is part of lecture 27 *Positive definite matrices and minima* in the OCW MIT course 18.06 by Prof Gilbert Strang [1]\n",
    "+ Created by me, Dr Juan H Klopper\n",
    "    + Head of Acute Care Surgery\n",
    "    + Groote Schuur Hospital\n",
    "    + University Cape Town\n",
    "    + <a href=\"mailto:juan.klopper@uct.ac.za\">Email me with your thoughts, comments, suggestions and corrections</a> \n",
    "<a rel=\"license\" href=\"http://creativecommons.org/licenses/by-nc/4.0/\"><img alt=\"Creative Commons Licence\" style=\"border-width:0\" src=\"https://i.creativecommons.org/l/by-nc/4.0/88x31.png\" /></a><br /><span xmlns:dct=\"http://purl.org/dc/terms/\" href=\"http://purl.org/dc/dcmitype/InteractiveResource\" property=\"dct:title\" rel=\"dct:type\">Linear Algebra OCW MIT18.06</span> <span xmlns:cc=\"http://creativecommons.org/ns#\" property=\"cc:attributionName\">IPython notebook [2] study notes by Dr Juan H Klopper</span> is licensed under a <a rel=\"license\" href=\"http://creativecommons.org/licenses/by-nc/4.0/\">Creative Commons Attribution-NonCommercial 4.0 International License</a>.\n",
    "\n",
    "+ [1] <a href=\"http://ocw.mit.edu/courses/mathematics/18-06sc-linear-algebra-fall-2011/index.htm\">OCW MIT 18.06</a>\n",
    "+ [2] Fernando Pérez, Brian E. Granger, IPython: A System for Interactive Scientific Computing, Computing in Science and Engineering, vol. 9, no. 3, pp. 21-29, May/June 2007, doi:10.1109/MCSE.2007.53. URL: http://ipython.org"
   ]
  },
  {
   "cell_type": "code",
   "execution_count": null,
   "metadata": {},
   "outputs": [],
   "source": [
    "from IPython.core.display import HTML, Image\n",
    "css_file = 'style.css'\n",
    "HTML(open(css_file, 'r').read())"
   ]
  },
  {
   "cell_type": "code",
   "execution_count": null,
   "metadata": {},
   "outputs": [],
   "source": [
    "from sympy import init_printing, Matrix, symbols, Derivative, diff\n",
    "from warnings import filterwarnings"
   ]
  },
  {
   "cell_type": "code",
   "execution_count": null,
   "metadata": {},
   "outputs": [],
   "source": [
    "init_printing(use_latex = 'mathjax')\n",
    "filterwarnings('ignore')"
   ]
  },
  {
   "cell_type": "code",
   "execution_count": null,
   "metadata": {},
   "outputs": [],
   "source": [
    "a, b, c, d, lamda, x1, x2, x3 = symbols('a b c d lamda x1 x2 x3')"
   ]
  },
  {
   "cell_type": "markdown",
   "metadata": {},
   "source": [
    "# Tests for positive definite matrices\n",
    "# Tests for minimum **x**<sup>T</sup>A**x**>0\n",
    "# Ellipsoids in &#8477;<sup>n</sup>"
   ]
  },
  {
   "cell_type": "markdown",
   "metadata": {},
   "source": [
    "## When is a symmetric matrix positive definite "
   ]
  },
  {
   "cell_type": "markdown",
   "metadata": {},
   "source": [
    "* Let's first consider the 2&#215;2 matrix"
   ]
  },
  {
   "cell_type": "markdown",
   "metadata": {},
   "source": [
    "* Tests for complete definitiveness\n",
    "    * &#955;<sub>1</sub>>0, &#955;<sub>2</sub>>0\n",
    "    * *a*>0, *ac*-*b*<sup>2</sup>\n",
    "    * The pivots larger than zero\n",
    "    $$ {a}>0;\\quad\\frac{{ac}-{b}^{2}}{a}>0 $$\n",
    "    * **x**<sup>T</sup>A**x**>0"
   ]
  },
  {
   "cell_type": "markdown",
   "metadata": {},
   "source": [
    "* Let's look at some example matrices"
   ]
  },
  {
   "cell_type": "code",
   "execution_count": null,
   "metadata": {},
   "outputs": [],
   "source": [
    "A = Matrix([[2, 6], [6, a]])\n",
    "A"
   ]
  },
  {
   "cell_type": "markdown",
   "metadata": {},
   "source": [
    "* The first question is what value of *a* would make this symmetric matrix positive definite\n",
    "* The second would be, which of the tests above would you use"
   ]
  },
  {
   "cell_type": "markdown",
   "metadata": {},
   "source": [
    "* The second question first\n",
    "    * Seems the determinant tests would suffice\n",
    "    * We need 2*a*-36>0\n",
    "* The first question is the answered\n",
    "    * *a* must therefor be larger than 18"
   ]
  },
  {
   "cell_type": "markdown",
   "metadata": {},
   "source": [
    "* Let's play around by making *a* equal to 18"
   ]
  },
  {
   "cell_type": "code",
   "execution_count": null,
   "metadata": {},
   "outputs": [],
   "source": [
    "A = Matrix([[2, 6], [6, 18]])\n",
    "A"
   ]
  },
  {
   "cell_type": "code",
   "execution_count": null,
   "metadata": {},
   "outputs": [],
   "source": [
    "A.charpoly(lamda)"
   ]
  },
  {
   "cell_type": "code",
   "execution_count": null,
   "metadata": {},
   "outputs": [],
   "source": [
    "A.eigenvals()"
   ]
  },
  {
   "cell_type": "markdown",
   "metadata": {},
   "source": [
    "* One of the eigenvalues is zero (after all, it is a singular matrix now and one eigenvalues must be zero)\n",
    "* It is a 2&#215;2 matrix and we must have two eigenvalues\n",
    "* The other eigenvalue must equal the trace of A, which is 20 (therefor there was no need to calculate the eigenvalues, we could just reason and read it off)\n",
    "* We'll call this matrix *positive semi-definite*"
   ]
  },
  {
   "cell_type": "markdown",
   "metadata": {},
   "source": [
    "* Notice that the pivot test would not have helped\n",
    "$$ \\frac{(6)(2)-{6}^{2}}{{2}} $$"
   ]
  },
  {
   "cell_type": "markdown",
   "metadata": {},
   "source": [
    "* Let's look at **x**<sup>T</sup>A**x**>0 (where **x** is any correctly-sized vector)"
   ]
  },
  {
   "cell_type": "code",
   "execution_count": null,
   "metadata": {},
   "outputs": [],
   "source": [
    "x_vect = Matrix([x1, x2])\n",
    "x_vect"
   ]
  },
  {
   "cell_type": "code",
   "execution_count": null,
   "metadata": {},
   "outputs": [],
   "source": [
    "f = x_vect.transpose() * A * x_vect\n",
    "f"
   ]
  },
  {
   "cell_type": "code",
   "execution_count": null,
   "metadata": {},
   "outputs": [],
   "source": [
    "f.expand() # Expanding the expression shows it is no quadratic (not linear anymore)"
   ]
  },
  {
   "cell_type": "markdown",
   "metadata": {},
   "source": [
    "* For A to be positive definite, this quadratic must be positive for all values of *x*<sub>i</sub>"
   ]
  },
  {
   "cell_type": "markdown",
   "metadata": {},
   "source": [
    "* Below I use some 3D plotting\n",
    "* Not too clear to see, but note that nowhere does plot go below zero on the *z*-axis "
   ]
  },
  {
   "cell_type": "code",
   "execution_count": null,
   "metadata": {},
   "outputs": [],
   "source": [
    "import scipy as sp\n",
    "import matplotlib.pyplot as plt\n",
    "from mpl_toolkits.mplot3d import Axes3D\n",
    "\n",
    "%matplotlib inline"
   ]
  },
  {
   "cell_type": "code",
   "execution_count": null,
   "metadata": {},
   "outputs": [],
   "source": [
    "fig = plt.figure(figsize = (10, 8))\n",
    "ax = Axes3D(fig)\n",
    "x = sp.linspace(-2, 2, 100)\n",
    "y = sp.linspace(-2, 2, 100)\n",
    "[x, y] = sp.meshgrid(x, y)\n",
    "z = 2 * x ** 2 + 12 * x * y + 18 * y ** 2\n",
    "\n",
    "ax.plot_wireframe(x, y, z, rstride = 5, cstride = 5)\n",
    "plt.show();"
   ]
  },
  {
   "cell_type": "markdown",
   "metadata": {},
   "source": [
    "* We can construct a matrix with a value for *a* (same matrix as above), which will clearly not be positive definite"
   ]
  },
  {
   "cell_type": "code",
   "execution_count": null,
   "metadata": {},
   "outputs": [],
   "source": [
    "A = Matrix([[2, 6], [6, 7]])\n",
    "A"
   ]
  },
  {
   "cell_type": "code",
   "execution_count": null,
   "metadata": {},
   "outputs": [],
   "source": [
    "f = x_vect.transpose() * A * x_vect\n",
    "f.expand()"
   ]
  },
  {
   "cell_type": "code",
   "execution_count": null,
   "metadata": {},
   "outputs": [],
   "source": [
    "fig = plt.figure(figsize = (10, 8))\n",
    "ax = Axes3D(fig)\n",
    "x = sp.linspace(-20, 20, 100)\n",
    "y = sp.linspace(-20, 20, 100)\n",
    "[x, y] = sp.meshgrid(x, y)\n",
    "z = 2 * x ** 2 + 12 * x * y + 7 * y ** 2\n",
    "\n",
    "ax.plot_wireframe(x, y, z, rstride = 5, cstride = 5)\n",
    "plt.show();"
   ]
  },
  {
   "cell_type": "markdown",
   "metadata": {},
   "source": [
    "* I've saved a separate rendition of this which is rotated so that you can see, we are dipping below *z*=0"
   ]
  },
  {
   "cell_type": "code",
   "execution_count": null,
   "metadata": {},
   "outputs": [],
   "source": [
    "Image(filename ='figure_1.png', width = 800)"
   ]
  },
  {
   "cell_type": "markdown",
   "metadata": {},
   "source": [
    "* Clearly now, for some values of *x*<sub>i</sub> the *z* value is less than zero"
   ]
  },
  {
   "cell_type": "markdown",
   "metadata": {},
   "source": [
    "* Now for an example which is clearly definite positive"
   ]
  },
  {
   "cell_type": "code",
   "execution_count": null,
   "metadata": {},
   "outputs": [],
   "source": [
    "A = Matrix([[2, 6], [6, 26]])\n",
    "A"
   ]
  },
  {
   "cell_type": "code",
   "execution_count": null,
   "metadata": {},
   "outputs": [],
   "source": [
    "f = x_vect.transpose() * A * x_vect\n",
    "f.expand()"
   ]
  },
  {
   "cell_type": "code",
   "execution_count": null,
   "metadata": {},
   "outputs": [],
   "source": [
    "fig = plt.figure(figsize = (10, 8))\n",
    "ax = Axes3D(fig)\n",
    "x = sp.linspace(-2, 2, 100)\n",
    "y = sp.linspace(-2, 2, 100)\n",
    "[x, y] = sp.meshgrid(x, y)\n",
    "z = 2 * x ** 2 + 12 * x * y + 26 * y ** 2\n",
    "\n",
    "ax.plot_wireframe(x, y, z, rstride = 5, cstride = 5)\n",
    "plt.show();"
   ]
  },
  {
   "cell_type": "markdown",
   "metadata": {},
   "source": [
    "## Minina"
   ]
  },
  {
   "cell_type": "markdown",
   "metadata": {},
   "source": [
    "* We use the following function from our symmetric matrix above\n",
    "$$ {f}\\left({{x}_{1},{x}_{2}}\\right)=2{x}_{1}^{2}+12{{x}_{1}}{{x}_{2}}+20{x}_{2}^{2} $$"
   ]
  },
  {
   "cell_type": "markdown",
   "metadata": {},
   "source": [
    "* Completing the square we have the following\n",
    "$$ {f}\\left({{x}_{1},{x}_{2}}\\right)=2\\left({x}_{1}+3{x}_{2}\\right)^{2}+2{x}_{2} $$\n",
    "* From this we can see that we are dealing with all positive values irrespective of the values of the variables"
   ]
  },
  {
   "cell_type": "code",
   "execution_count": null,
   "metadata": {},
   "outputs": [],
   "source": [
    "(2 * (x1 + 3 * x2) ** 2).expand() # Just checking if we are correct"
   ]
  },
  {
   "cell_type": "markdown",
   "metadata": {},
   "source": [
    "* Setting the equation equal to (a positive) value will *cut through* the plot and result in an ellipse\n",
    "* *Cutting though* a saddle point results in a hyperbola"
   ]
  },
  {
   "cell_type": "code",
   "execution_count": null,
   "metadata": {},
   "outputs": [],
   "source": [
    "# Rewriting the function above as a computer variable\n",
    "function = 2 * (x1 + 3 * x2) ** 2 + 2 * x2 ** 2\n",
    "function"
   ]
  },
  {
   "cell_type": "code",
   "execution_count": null,
   "metadata": {},
   "outputs": [],
   "source": [
    "# Derivative(f, variable with whicg respect to partial derivative is taken, order)\n",
    "Derivative(function, x1) # Printing the partial derivative to the screen"
   ]
  },
  {
   "cell_type": "code",
   "execution_count": null,
   "metadata": {},
   "outputs": [],
   "source": [
    "Derivative(function, x1).doit() # The .doit() method execute the partial derivative"
   ]
  },
  {
   "cell_type": "code",
   "execution_count": null,
   "metadata": {},
   "outputs": [],
   "source": [
    "diff(function, x2, 1) # Alternative method of doing the partial derivative"
   ]
  },
  {
   "cell_type": "markdown",
   "metadata": {},
   "source": [
    "* Solving for the two variables in two equations using an augmented matrix"
   ]
  },
  {
   "cell_type": "code",
   "execution_count": null,
   "metadata": {},
   "outputs": [],
   "source": [
    "M = Matrix([[4, 12, 0], [12, 40, 0]])\n",
    "M.rref()"
   ]
  },
  {
   "cell_type": "markdown",
   "metadata": {},
   "source": [
    "* Let's look at this if we cut through the *x<sub>1</sub>z*-plane (that is *x<sub>y</sub>* = 0) and the *x<sub>2</sub>z*-plane (that is *x<sub>1</sub>*=0)\n",
    "$$ f\\left( { x }_{ 1 },{ x }_{ 2 } \\right) =2{ \\left( { x }_{ 1 }+3{ x }_{ 2 } \\right)  }^{ 2 }+2{ x }_{ 2 }^{ 2 }\\\\ f\\left( { x }_{ 1 },0 \\right) =2{ \\left( { x }_{ 1 } \\right)  }^{ 2 }\\\\ f\\left( 0,{ x }_{ 2 } \\right) =2{ \\left( 3{ x }_{ 2 } \\right)  }^{ 2 }+2{ x }_{ 2 }^{ 2 }=8{ x }_{ 2 }^{ 2 } $$"
   ]
  },
  {
   "cell_type": "markdown",
   "metadata": {},
   "source": [
    "* Let's look at the two plots"
   ]
  },
  {
   "cell_type": "code",
   "execution_count": null,
   "metadata": {},
   "outputs": [],
   "source": [
    "x = sp.linspace(-2, 2, 100)\n",
    "\n",
    "plt.figure(figsize = (10, 8))\n",
    "plt.plot(x, 2 * x **2)\n",
    "plt.show();"
   ]
  },
  {
   "cell_type": "code",
   "execution_count": null,
   "metadata": {},
   "outputs": [],
   "source": [
    "y = sp.linspace(-2, 2, 100)\n",
    "\n",
    "plt.figure(figsize = (10, 8))\n",
    "plt.plot(y, 8 * x **2)\n",
    "plt.show();"
   ]
  },
  {
   "cell_type": "markdown",
   "metadata": {},
   "source": [
    "* If you reconstruct this in your mind's eye, you can see that we are dealing with a bowl shape\n",
    "* Remember from calculus that an extrema is a first derivative set to zero\n",
    "* We look at the second derivative to know if we are dealing with a minimum or a maximum"
   ]
  },
  {
   "cell_type": "code",
   "execution_count": null,
   "metadata": {},
   "outputs": [],
   "source": [
    "diff(2 * x1 ** 2, x1, 2) # Taking a derivative twice"
   ]
  },
  {
   "cell_type": "code",
   "execution_count": null,
   "metadata": {},
   "outputs": [],
   "source": [
    "diff(8 * x2 ** 2, x2, 2)"
   ]
  },
  {
   "cell_type": "markdown",
   "metadata": {},
   "source": [
    "* These second derivatives are both positive and we have a minimum"
   ]
  },
  {
   "cell_type": "markdown",
   "metadata": {},
   "source": [
    "* Let's go for a setup again which will not be positive definite\n",
    "$$ {f}\\left({{x}_{1},{x}_{2}}\\right)=2{x}_{1}^{2}+12{{x}_{1}}{{x}_{2}}+7{x}_{2}^{2} $$\n",
    "* Completing the square will have the following equation\n",
    "$$ {f}\\left({{x}_{1},{x}_{2}}\\right)=2\\left({x}_{1}+3{x}_{2}\\right)^{2}-11{x}_{2}^{2} $$"
   ]
  },
  {
   "cell_type": "code",
   "execution_count": null,
   "metadata": {},
   "outputs": [],
   "source": [
    "function = 2 * (x1 + 3 * x2) ** 2 - 11 * x2 ** 2\n",
    "function, function.expand() # Just checking to see if our completion of the square was correct"
   ]
  },
  {
   "cell_type": "code",
   "execution_count": null,
   "metadata": {},
   "outputs": [],
   "source": [
    "Derivative(function, x1), diff(function, x1)"
   ]
  },
  {
   "cell_type": "code",
   "execution_count": null,
   "metadata": {},
   "outputs": [],
   "source": [
    "Derivative(function, x2), diff(function, x2)"
   ]
  },
  {
   "cell_type": "code",
   "execution_count": null,
   "metadata": {},
   "outputs": [],
   "source": [
    "M = Matrix([[4, 12, 0], [12, 14, 0]])\n",
    "M.rref()"
   ]
  },
  {
   "cell_type": "markdown",
   "metadata": {},
   "source": [
    "* Again, an extrema at (0,0)"
   ]
  },
  {
   "cell_type": "markdown",
   "metadata": {},
   "source": [
    "* In your mind's eye we clearly have a saddle point at (*x*<sub>1</sub>,*x*<sub>2</sub>)=(0,0)"
   ]
  },
  {
   "cell_type": "markdown",
   "metadata": {},
   "source": [
    "* Let's look at *x*<sub>1</sub>=-*x*<sub>2</sub>\n",
    "$$ f\\left( { x }_{ 1 },{ x }_{ 2 } \\right) =2{ x }_{ 1 }^{ 2 }+12{ x }_{ 1 }{ x }_{ 2 }+7{ x }_{ 2 }^{ 2 }\\\\ f\\left( { x }_{ 1 },{ -x }_{ 1 } \\right) =2{ x }_{ 1 }^{ 2 }-12{ x }_{ 1 }{ x }_{ 1 }+7{ x }_{ 1 }^{ 2 }\\\\ f\\left( { x }_{ 1 },{ -x }_{ 1 } \\right) =2{ x }_{ 1 }^{ 2 }-12{ x }_{ 1 }^{ 2 }+7{ x }_{ 1 }^{ 2 }\\\\ f\\left( { x }_{ 1 },{ -x }_{ 1 } \\right) =-3{ x }_{ 1 }^{ 2 } $$\n",
    "* We are creating a 45<sup>0</sup> plane and values for *z* will be negative here"
   ]
  },
  {
   "cell_type": "markdown",
   "metadata": {},
   "source": [
    "* This is what makes the matrix *non*-positive definite\n",
    "* **x**<sup>T</sup>A**x** will result in an equation which we can use to show always, not-always positive (and the marginal case described above)"
   ]
  },
  {
   "cell_type": "markdown",
   "metadata": {},
   "source": [
    "* So positive definite is the matrix equivalent of the first and second derivative in calculus (which looks at the shape of the plot, i.e extrema)"
   ]
  },
  {
   "cell_type": "markdown",
   "metadata": {},
   "source": [
    "* For a 2&#215;2 we are thus looking for the following\n",
    "$$ \\begin{bmatrix} \\frac { \\partial  }{ \\partial x\\partial x }  & \\frac { \\partial  }{ \\partial x\\partial y }  \\\\ \\frac { \\partial  }{ \\partial y\\partial x }  & \\frac { \\partial  }{ \\partial y\\partial y }  \\end{bmatrix} $$"
   ]
  },
  {
   "cell_type": "markdown",
   "metadata": {},
   "source": [
    "## The pivots, the multiplier and completing the square"
   ]
  },
  {
   "cell_type": "markdown",
   "metadata": {},
   "source": [
    "* Let's take the matrix below\n",
    "* We know it's symmetric and positive definite\n",
    "* We also saw that for **x**<sup>T</sup>A**x** we had to complete the square to show *z*>0\n",
    "* This can easily be done by looking at the pivots and the multiplier"
   ]
  },
  {
   "cell_type": "code",
   "execution_count": null,
   "metadata": {},
   "outputs": [],
   "source": [
    "A = Matrix([[2, 6], [6, 20]])\n",
    "A"
   ]
  },
  {
   "cell_type": "code",
   "execution_count": null,
   "metadata": {},
   "outputs": [],
   "source": [
    "L, U, _ = A.LUdecomposition()\n",
    "L, U"
   ]
  },
  {
   "cell_type": "markdown",
   "metadata": {},
   "source": [
    "* Note how the pivots are 2 and 2 and the multiplier was 3\n",
    "* Now look at the completed square equation"
   ]
  },
  {
   "cell_type": "code",
   "execution_count": null,
   "metadata": {},
   "outputs": [],
   "source": [
    "(x_vect.transpose() * A * x_vect).expand()"
   ]
  },
  {
   "cell_type": "markdown",
   "metadata": {},
   "source": [
    "$$ 2{ x }_{ 1 }^{ 2 }+12{ x }_{ 1 }{ x }_{ 2 }+20{ x }_{ 2 }^{ 2 }\\\\ 2{ \\left( { x }_{ 1 }+3{ x }_{ 2 } \\right)  }^{ 2 }+2{ x }_{ 2 }^{ 2 } $$"
   ]
  },
  {
   "cell_type": "markdown",
   "metadata": {},
   "source": [
    "* So, we wanted squares, but we are also interested in what goes on *outside* the squares, i.e. the pivots (2 and 2 in our example)\n",
    "* Positive pivots give sum of squares, everything positive means there is a minimum (everything goes up)\n",
    "* We can extend this for any *n*&#215;*n* symmetric matrices"
   ]
  },
  {
   "cell_type": "markdown",
   "metadata": {},
   "source": [
    "* Let's look again at the matrix of second derivatives we had above\n",
    "$$ \\begin{bmatrix} \\frac { \\partial  }{ \\partial x\\partial x }  & \\frac { \\partial  }{ \\partial x\\partial y }  \\\\ \\frac { \\partial  }{ \\partial y\\partial x }  & \\frac { \\partial  }{ \\partial y\\partial y }  \\end{bmatrix} $$\n",
    "* *f*<sub>xx</sub> and *f*<sub>yy</sub> have to be positive (for a minimum) and they have to be larger than the product of the other two, *f*<sub>xy</sub> and *f*<sub>yx</sub>"
   ]
  },
  {
   "cell_type": "code",
   "execution_count": null,
   "metadata": {},
   "outputs": [],
   "source": [
    "function = 2 * x1 ** 2 + 12 * x1 * x2 + 20 * x2 ** 2\n",
    "function"
   ]
  },
  {
   "cell_type": "code",
   "execution_count": null,
   "metadata": {},
   "outputs": [],
   "source": [
    "fxx = diff(function, x1, 2)\n",
    "fxy = diff(function, x1, x2)\n",
    "fyx = diff(function, x2, x1)\n",
    "fyy = diff(function, x2, 2)"
   ]
  },
  {
   "cell_type": "code",
   "execution_count": null,
   "metadata": {},
   "outputs": [],
   "source": [
    "deriv_matr = Matrix([[fxx, fxy], [fyx, fyy]])\n",
    "deriv_matr"
   ]
  },
  {
   "cell_type": "code",
   "execution_count": null,
   "metadata": {},
   "outputs": [],
   "source": [
    "deriv_matr.det()"
   ]
  },
  {
   "cell_type": "markdown",
   "metadata": {},
   "source": [
    "* Setting the first partial derivatives equal to zero finds the extrema\n",
    "* The condition above sets *everything positive* (positive definite)"
   ]
  },
  {
   "cell_type": "markdown",
   "metadata": {},
   "source": [
    "* Let's the look at the following"
   ]
  },
  {
   "cell_type": "code",
   "execution_count": null,
   "metadata": {},
   "outputs": [],
   "source": [
    "function = 2 * x1 ** 2 + 12 * x1 * x2 + 7 * x2 ** 2\n",
    "function"
   ]
  },
  {
   "cell_type": "code",
   "execution_count": null,
   "metadata": {},
   "outputs": [],
   "source": [
    "fxx = diff(function, x1, 2)\n",
    "fxy = diff(function, x1, x2)\n",
    "fyx = diff(function, x2, x1)\n",
    "fyy = diff(function, x2, 2)"
   ]
  },
  {
   "cell_type": "code",
   "execution_count": null,
   "metadata": {},
   "outputs": [],
   "source": [
    "deriv_matr = Matrix([[fxx, fxy], [fyx, fyy]])\n",
    "deriv_matr"
   ]
  },
  {
   "cell_type": "code",
   "execution_count": null,
   "metadata": {},
   "outputs": [],
   "source": [
    "deriv_matr.det()"
   ]
  },
  {
   "cell_type": "markdown",
   "metadata": {},
   "source": [
    "* Although the matrix of second derivatives are all positive entries, the determinant is negative\n",
    "* Not all conditions are met for the original matrix to be positive definite"
   ]
  },
  {
   "cell_type": "markdown",
   "metadata": {},
   "source": [
    "## Let's step this up to 3&#215;3 symmetric matrices"
   ]
  },
  {
   "cell_type": "code",
   "execution_count": null,
   "metadata": {},
   "outputs": [],
   "source": [
    "A = Matrix([[2, -1, 0], [-1, 2, -1], [0, -1, 2]])\n",
    "A"
   ]
  },
  {
   "cell_type": "code",
   "execution_count": null,
   "metadata": {},
   "outputs": [],
   "source": [
    "A.transpose() == A # Test to see of A is symmetric"
   ]
  },
  {
   "cell_type": "markdown",
   "metadata": {},
   "source": [
    "* Is this symmetric matrix positive definite?"
   ]
  },
  {
   "cell_type": "markdown",
   "metadata": {},
   "source": [
    "* Let's start by looking at the determinant (and *sub*-determinants)"
   ]
  },
  {
   "cell_type": "code",
   "execution_count": null,
   "metadata": {},
   "outputs": [],
   "source": [
    "A.det() # determinant of the whole matrix"
   ]
  },
  {
   "cell_type": "markdown",
   "metadata": {},
   "source": [
    "* All the submatrices will be the following\n",
    "$$ \\left[ 2 \\right] ,\\begin{bmatrix} 2 & -1 \\\\ -1 & 2 \\end{bmatrix},\\begin{bmatrix} 2 & -1 & 0 \\\\ -1 & 2 & -1 \\\\ 0 & -1 & 2 \\end{bmatrix} $$\n",
    "* There determinant are all positive (2, 3, 4)"
   ]
  },
  {
   "cell_type": "markdown",
   "metadata": {},
   "source": [
    "* Let's look at the pivots"
   ]
  },
  {
   "cell_type": "code",
   "execution_count": null,
   "metadata": {},
   "outputs": [],
   "source": [
    "L, U, _ = A.LUdecomposition()\n",
    "L, U"
   ]
  },
  {
   "cell_type": "markdown",
   "metadata": {},
   "source": [
    "* The pivots are all positive\n",
    "$$ {2}, \\quad \\frac{3}{2}, \\quad \\frac{4}{3} $$"
   ]
  },
  {
   "cell_type": "markdown",
   "metadata": {},
   "source": [
    "* Notice how the first determinant was 2 (also the first *sub*-determinant)\n",
    "* The product of the first two pivots must equal the 2<sup>nd</sup> determinant (which is 3) and must therefor be <sup>3</sup>/<sub>2</sub>\n",
    "* The product of the first three (all) pivots must equal the 4<sup>th</sup> determinant (which is 4) and must therefor be <sup>4</sup>/<sub>3</sub>"
   ]
  },
  {
   "cell_type": "markdown",
   "metadata": {},
   "source": [
    "* Let's look at the eigenvalues"
   ]
  },
  {
   "cell_type": "code",
   "execution_count": null,
   "metadata": {},
   "outputs": [],
   "source": [
    "A.eigenvals()"
   ]
  },
  {
   "cell_type": "markdown",
   "metadata": {},
   "source": [
    "* Again, all positive\n",
    "* So far, so good\n",
    "* Just as a reminder, remember that the sum of the eigenvalues must equal the trace (sum of the entries on the main diagonal) and multiplying them must equal the determinant"
   ]
  },
  {
   "cell_type": "markdown",
   "metadata": {},
   "source": [
    "* Let's look at **x**<sup>T</sup>A**x**"
   ]
  },
  {
   "cell_type": "code",
   "execution_count": null,
   "metadata": {},
   "outputs": [],
   "source": [
    "x_vect = Matrix([x1, x2, x3])\n",
    "x_vect"
   ]
  },
  {
   "cell_type": "code",
   "execution_count": null,
   "metadata": {},
   "outputs": [],
   "source": [
    "(x_vect.transpose() * A * x_vect).expand()"
   ]
  },
  {
   "cell_type": "code",
   "execution_count": null,
   "metadata": {},
   "outputs": [],
   "source": [
    "function = 2 * x1 ** 2 - 2 * x1 * x2 + 2 * x2 ** 2 - 2 * x2 * x3 + 2 * x3 ** 2\n",
    "function # A cubic equation"
   ]
  },
  {
   "cell_type": "markdown",
   "metadata": {},
   "source": [
    "* We can construct this as follows\n",
    "* The main diagonal entries are the constant of the squared variables (2, 2, and 2)\n",
    "* There is a -1 and a -1 in the *12* and *21* *row-column* positions, whose sum is -2 and which then belongs to the *x*<sub>1</sub>*x*<sub>2</sub> (or *x*<sub>2</sub>*x*<sub>1</sub>)\n",
    "* The *13* and *31* entries are both zero, so there will be no *x*<sub>1</sub>*x*<sub>3</sub> coefficient\n",
    "* The *23* and *32* entries are both -1, so again, a coefficient of -2 for *x*<sub>2</sub>*x*<sub>3</sub>"
   ]
  },
  {
   "cell_type": "markdown",
   "metadata": {},
   "source": [
    "* This matrix represents a plot in 4D space, so we can't draw it\n",
    "* We can construct it as the sum of three squares though\n",
    "* The three squares will be made up of the three pivots (for their coefficients)\n",
    "* They (and obviously the squared values) are all positive and therefor we will only have *f*(*x*,*y*,*z*) values which are positive"
   ]
  },
  {
   "cell_type": "markdown",
   "metadata": {},
   "source": [
    "* Cutting through this 4D space (which is difficult to visualize) as say *f*(*x*,*y*,*z*) will give an ellipsoid (lopsided football)\n",
    "* A sphere would have three equal eigenvalues\n",
    "* A *football*-shape would have two identical eigenvalues and the third different\n",
    "* The lopsided ellipsoid would all three eigenvalues different as in this case\n",
    "* The half-lengths the axes of these shapes are 1 over the eigenvalues\n",
    "* Diagonalization will give the principle axis theorem\n",
    "$$ {Q}{\\Lambda}{Q}^{T} $$"
   ]
  },
  {
   "cell_type": "code",
   "execution_count": null,
   "metadata": {},
   "outputs": [],
   "source": [
    "fxx = diff(function, x1, x1)\n",
    "fxy = diff(function, x1, x2)\n",
    "fxz = diff(function, x1, x3)\n",
    "fyx = diff(function, x2, x1)\n",
    "fyy = diff(function, x2, x2)\n",
    "fyz = diff(function, x2, x3)\n",
    "fzx = diff(function, x3, x1)\n",
    "fzy = diff(function, x3, x2)\n",
    "fzz = diff(function, x3, x3)"
   ]
  },
  {
   "cell_type": "code",
   "execution_count": null,
   "metadata": {},
   "outputs": [],
   "source": [
    "deriv_matr = Matrix([[fxx, fxy, fxz], [fyx, fyy, fyz], [fzx, fzy, fzz]])\n",
    "deriv_matr"
   ]
  },
  {
   "cell_type": "code",
   "execution_count": null,
   "metadata": {},
   "outputs": [],
   "source": [
    "deriv_matr.det()"
   ]
  },
  {
   "cell_type": "markdown",
   "metadata": {},
   "source": [
    "* The determinant (and all *sub*-determinants) are positive"
   ]
  },
  {
   "cell_type": "markdown",
   "metadata": {},
   "source": [
    "## Example problems"
   ]
  },
  {
   "cell_type": "markdown",
   "metadata": {},
   "source": [
    "### Example problem 1"
   ]
  },
  {
   "cell_type": "markdown",
   "metadata": {},
   "source": [
    "* For which values of *c* will the following matrix be positive definite and *semi*-positive definite\n",
    "$$ \\begin{bmatrix} 2 & -1 & -1 \\\\ -1 & 2 & -1 \\\\ -1 & -1 & 2+c \\end{bmatrix} $$"
   ]
  },
  {
   "cell_type": "markdown",
   "metadata": {},
   "source": [
    "#### Solution"
   ]
  },
  {
   "cell_type": "markdown",
   "metadata": {},
   "source": [
    "* Let's try the determinant test first"
   ]
  },
  {
   "cell_type": "code",
   "execution_count": null,
   "metadata": {},
   "outputs": [],
   "source": [
    "A = Matrix([[2, -1, -1], [-1, 2, -1], [-1, -1, 2 + c]])\n",
    "A"
   ]
  },
  {
   "cell_type": "code",
   "execution_count": null,
   "metadata": {},
   "outputs": [],
   "source": [
    "A.det()"
   ]
  },
  {
   "cell_type": "markdown",
   "metadata": {},
   "source": [
    "* All the *sub*-determinants are positive, being 2, 3 and then 3*c* for *c*>0"
   ]
  },
  {
   "cell_type": "markdown",
   "metadata": {},
   "source": [
    "* Let's look at the pivot test"
   ]
  },
  {
   "cell_type": "code",
   "execution_count": null,
   "metadata": {},
   "outputs": [],
   "source": [
    "L, U, _ = A.LUdecomposition()\n",
    "L, U"
   ]
  },
  {
   "cell_type": "markdown",
   "metadata": {},
   "source": [
    "* Again, all the pivots (in U) are positive for *c* > 0\n",
    "* So for positive definite we have *c*>0 and for semi-definite we have *c*=0"
   ]
  },
  {
   "cell_type": "code",
   "execution_count": null,
   "metadata": {},
   "outputs": [],
   "source": [
    "A.eigenvals()"
   ]
  },
  {
   "cell_type": "markdown",
   "metadata": {},
   "source": [
    "* The energy or completing the square test"
   ]
  },
  {
   "cell_type": "code",
   "execution_count": null,
   "metadata": {},
   "outputs": [],
   "source": [
    "(x_vect.transpose() * A * x_vect).expand()"
   ]
  },
  {
   "cell_type": "markdown",
   "metadata": {},
   "source": [
    "* For *x*<sub>3</sub> we have (*c*+2)(*x*<sub>3</sub><sup>2</sup>)\n",
    "* Remember, though, that for the squares of the **x**-components we must have the entries along the main diagonal of A as their coefficients; this *c* + 2 = 2 and hence, again, *c*=0"
   ]
  },
  {
   "cell_type": "markdown",
   "metadata": {},
   "source": [
    "* For interest's sake, we will have the following completed square equation\n",
    "$$ 2\\left({x}-\\frac{1}{2}{y}-\\frac{1}{2}{z}\\right)^{2}+\\frac{3}{2}\\left({y}-{z}\\right)^{2}+{c}{z}^{2} $$"
   ]
  },
  {
   "cell_type": "markdown",
   "metadata": {},
   "source": [
    "* Now the coefficients come from the values along the diagonal of U\n",
    "* The -&#189; values come from the multipliers as seen in column 1 of L\n",
    "* The +1 and -1 for (*y*-*z*)<sup>2</sup> come from column 2 of L\n",
    "* The +1 in front of *z*<sup>2</sup> come from column 3 of L (actually every set of ()<sup>'s</sup> contains and *x*, *y* and *z*, some coefficients (from L) are just zero)\n",
    "* Be that as it may, the squared equation as it stands will only equal zero if *x*=*y*=*z*=0\n",
    "* For a value of more than zero, *c* must be positive\n",
    "* Please note that by *x*,*y* and *z* I am referring to *x*<sub>1</sub>, *x*<sub>2</sub> and *x*<sub>3</sub>"
   ]
  },
  {
   "cell_type": "markdown",
   "metadata": {},
   "source": [
    "* If *x*=0 we have the following matrix"
   ]
  },
  {
   "cell_type": "code",
   "execution_count": null,
   "metadata": {},
   "outputs": [],
   "source": [
    "A = Matrix([[2, -1, -1], [-1, 2, -1], [-1, -1, 2]])\n",
    "A"
   ]
  },
  {
   "cell_type": "code",
   "execution_count": null,
   "metadata": {},
   "outputs": [],
   "source": [
    "A.det()"
   ]
  },
  {
   "cell_type": "markdown",
   "metadata": {},
   "source": [
    "* A singular matrix, again only possible if all variables equal zero"
   ]
  },
  {
   "cell_type": "code",
   "execution_count": null,
   "metadata": {},
   "outputs": [],
   "source": []
  }
 ],
 "metadata": {
  "language_info": {
   "name": "python",
   "pygments_lexer": "ipython3"
  }
 },
 "nbformat": 4,
 "nbformat_minor": 0
}
