{
 "cells": [
  {
   "cell_type": "code",
   "execution_count": null,
   "metadata": {},
   "outputs": [],
   "source": [
    "# import matplotlib as mpl\n",
    "# import matplotlib.pyplot as plt\n",
    "# %matplotlib inline"
   ]
  },
  {
   "cell_type": "code",
   "execution_count": null,
   "metadata": {},
   "outputs": [],
   "source": [
    "# Click into this cell and press [Shift-Enter] to start.\n",
    "%run \"sandpit-exercises.ipynb\"\n",
    "sp = sandpit_random_test()\n",
    "\n",
    "def next_step(f, J, H) :\n",
    "    gamma = 0.5\n",
    "    return -gamma * J\n",
    "\n",
    "sp.next_step = next_step\n",
    "sp.game_mode=2\n",
    "sp.draw()\n",
    "sp.showContours()"
   ]
  },
  {
   "cell_type": "code",
   "execution_count": null,
   "metadata": {},
   "outputs": [],
   "source": [
    "sp.revealed = False\n",
    "sp.draw()\n",
    "sp.nGuess = 0\n",
    "sp.showContours()"
   ]
  },
  {
   "cell_type": "code",
   "execution_count": null,
   "metadata": {},
   "outputs": [],
   "source": []
  }
 ],
 "metadata": {
  "language_info": {
   "name": "python",
   "pygments_lexer": "ipython3"
  }
 },
 "nbformat": 4,
 "nbformat_minor": 2
}
