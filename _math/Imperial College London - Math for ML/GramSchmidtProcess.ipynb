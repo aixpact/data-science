{
 "cells": [
  {
   "cell_type": "markdown",
   "metadata": {},
   "source": [
    "# Gram-Schmidt process\n",
    "\n",
    "The Gram-Schmidt procedure takes a list of (column) vectors and forms an orthonormal basis from this set.\n",
    "As a corollary, the procedure allows us to determine the dimension of the space spanned by the basis vectors, which is equal to or less than the space which the vectors sit."
   ]
  },
  {
   "cell_type": "code",
   "execution_count": null,
   "metadata": {},
   "outputs": [],
   "source": [
    "# !pip install sympy"
   ]
  },
  {
   "cell_type": "code",
   "execution_count": null,
   "metadata": {},
   "outputs": [],
   "source": [
    "import numpy as np\n",
    "import numpy.linalg as la\n",
    "\n",
    "verySmallNumber = 1e-14 # That's 1×10⁻¹⁴ = 0.00000000000001"
   ]
  },
  {
   "cell_type": "code",
   "execution_count": null,
   "metadata": {},
   "outputs": [],
   "source": [
    "# sympy converts numpy as laTex\n",
    "# from IPython.display import display, Math, Latex\n",
    "import sympy as sp\n",
    "from sympy import Matrix as spm\n",
    "sp.init_printing(use_unicode=True)"
   ]
  },
  {
   "cell_type": "markdown",
   "metadata": {},
   "source": [
    "### Gram-Schmidt procedure\n",
    "Take 4 basis vectors as a list of vectors as the columns of a matrix, A.\n",
    "Go through the vectors one at a time and set them to be orthogonal to all the vectors that came before it and normalise it."
   ]
  },
  {
   "cell_type": "code",
   "execution_count": null,
   "metadata": {},
   "outputs": [],
   "source": [
    "def gsBasis4(A):\n",
    "    \"\"\"Gram-Schmidt for 4 vectors\"\"\"\n",
    "    \n",
    "    # Work with a copy - vectors are mutable\n",
    "    B = np.array(A, dtype=np.float_) \n",
    "    \n",
    "    # Column(vector) 0: Normalise(divide by its modulus or norm)\n",
    "    B[:, 0] = B[:, 0] / la.norm(B[:, 0])\n",
    "    \n",
    "    # Column 1: - subtract any overlap with the zeroth vector\n",
    "    B[:, 1] = B[:, 1] - B[:, 1] @ B[:, 0] * B[:, 0]\n",
    "    \n",
    "    # If there's anything left after that subtraction, then B[:, 1] is linearly independant of B[:, 0]\n",
    "    # Normalise - norm(indepent)=1, norm(dependent)=0\n",
    "    if la.norm(B[:, 1]) > verySmallNumber :\n",
    "        B[:, 1] = B[:, 1] / la.norm(B[:, 1])\n",
    "    else :\n",
    "        B[:, 1] = np.zeros_like(B[:, 1])\n",
    "        \n",
    "    # Column 2: - subtract the overlap with the zeroth vector\n",
    "    #           - subtract the overlap with the first\n",
    "    B[:, 2] = B[:, 2] - B[:, 2] @ B[:, 0] * B[:, 0] - B[:, 2] @ B[:, 1] * B[:, 1]\n",
    "    \n",
    "    # Normalise - norm(indepent)=1, norm(dependent)=0\n",
    "    if la.norm(B[:, 2]) > verySmallNumber :\n",
    "        B[:, 2] = B[:, 2] / la.norm(B[:, 2])\n",
    "    else :\n",
    "        B[:, 2] = np.zeros_like(B[:, 2])\n",
    "    \n",
    "    # Column 2: - subtract the overlap with the zeroth vector\n",
    "    #           - subtract the overlap with the first\n",
    "    #           - subtract the overlap with the second\n",
    "    B[:, 3] = B[:, 3] - (B[:, 3] @ B[:, 0] * B[:, 0]) - (B[:, 3] @ B[:, 1] * B[:, 1]) - (B[:, 3] @ B[:, 2] * B[:, 2])\n",
    "    \n",
    "    # Normalise - norm(indepent)=1, norm(dependent)=0\n",
    "    if la.norm(B[:, 3]) > verySmallNumber :\n",
    "        B[:, 3] = B[:, 3] / la.norm(B[:, 3])\n",
    "    else :\n",
    "        B[:, 3] = np.zeros_like(B[:, 3])\n",
    "    \n",
    "    return B"
   ]
  },
  {
   "cell_type": "code",
   "execution_count": null,
   "metadata": {},
   "outputs": [],
   "source": [
    "def gsBasis(A):\n",
    "    \"\"\"Gram-Schmidt for n vectors\"\"\"\n",
    "    \n",
    "    # Work with a copy - vectors are mutable\n",
    "    B = np.array(A, dtype=np.float_)\n",
    "    \n",
    "    # Loop over all vectors\n",
    "    for i in range(B.shape[1]):\n",
    "        # Loop over all previous vectors, j, to subtract.\n",
    "        for j in range(i):\n",
    "            # Subtract the overlap with previous vectors\n",
    "            # you'll need the current vector B[:, i] and a previous vector B[:, j]\n",
    "            B[:, i] -= (B[:, i] @ B[:, j] * B[:, j])\n",
    "            \n",
    "        # Normalise - norm(indepent)=1, norm(dependent)=0\n",
    "        if la.norm(B[:, i]) > verySmallNumber :\n",
    "            B[:, i] = B[:, i] / la.norm(B[:, i])\n",
    "        else :\n",
    "            B[:, i] = np.zeros_like(B[:, i])\n",
    "\n",
    "    return B\n",
    "\n",
    "def dimensions(A):\n",
    "    \"\"\"Gram-schmidt process to calculate the dimension spanned by a list of vectors.\n",
    "    Independent vectors are normalised to one and dependent vectors to zero\n",
    "    Thus the sum of all the norms will be the dimension\"\"\"\n",
    "    return np.sum(la.norm(gsBasis(A), axis=0))"
   ]
  },
  {
   "cell_type": "markdown",
   "metadata": {},
   "source": [
    "## Test your code before submission\n",
    "To test the code you've written above, run the cell (select the cell above, then press the play button [ ▶| ] or press shift-enter).\n",
    "You can then use the code below to test out your function.\n",
    "You don't need to submit this cell; you can edit and run it as much as you like.\n",
    "\n",
    "Try out your code on tricky test cases!"
   ]
  },
  {
   "cell_type": "markdown",
   "metadata": {},
   "source": [
    "### 4 vector function"
   ]
  },
  {
   "cell_type": "code",
   "execution_count": null,
   "metadata": {},
   "outputs": [],
   "source": [
    "V = np.array([[1,0,2,6],\n",
    "              [0,1,8,2],\n",
    "              [2,8,3,1],\n",
    "              [1,-6,2,3]], dtype=np.float_)\n",
    "spm(gsBasis4(V).round(2))"
   ]
  },
  {
   "cell_type": "code",
   "execution_count": null,
   "metadata": {},
   "outputs": [],
   "source": [
    "# Once you've done Gram-Schmidt once, doing it again should give you the same result.\n",
    "U = gsBasis4(V)\n",
    "spm(U.round(2)), spm(gsBasis4(U).round(2))\n",
    "np.testing.assert_almost_equal(gsBasis4(U), gsBasis4(V))"
   ]
  },
  {
   "cell_type": "markdown",
   "metadata": {},
   "source": [
    "### Generic function"
   ]
  },
  {
   "cell_type": "code",
   "execution_count": null,
   "metadata": {},
   "outputs": [],
   "source": [
    "spm(gsBasis(V).round(2))"
   ]
  },
  {
   "cell_type": "markdown",
   "metadata": {},
   "source": [
    "### Non-square matrices"
   ]
  },
  {
   "cell_type": "code",
   "execution_count": null,
   "metadata": {},
   "outputs": [],
   "source": [
    "A = np.array([[3,2,3],\n",
    "              [2,5,-1],\n",
    "              [2,4,8],\n",
    "              [12,2,1]], dtype=np.float_)\n",
    "spm(gsBasis(A).round(2)), dimensions(A)"
   ]
  },
  {
   "cell_type": "markdown",
   "metadata": {},
   "source": [
    "### Dependent vectors - a linear combination of the others"
   ]
  },
  {
   "cell_type": "code",
   "execution_count": null,
   "metadata": {},
   "outputs": [],
   "source": [
    "B = np.array([[6,2,1,7,5],\n",
    "              [2,8,5,-4,1],\n",
    "              [1,-6,3,2,8]], dtype=np.float_)\n",
    "spm(gsBasis(B).round(2)), dimensions(B)"
   ]
  },
  {
   "cell_type": "code",
   "execution_count": null,
   "metadata": {},
   "outputs": [],
   "source": [
    "C = np.array([[1,0,2],\n",
    "              [0,1,-3],\n",
    "              [1,0,2]], dtype=np.float_)\n",
    "spm(gsBasis(C).round(2)), dimensions(C)"
   ]
  },
  {
   "cell_type": "code",
   "execution_count": null,
   "metadata": {},
   "outputs": [],
   "source": []
  }
 ],
 "metadata": {
  "language_info": {
   "name": "python",
   "pygments_lexer": "ipython3"
  }
 },
 "nbformat": 4,
 "nbformat_minor": 2
}
