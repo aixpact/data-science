{
 "cells": [
  {
   "cell_type": "markdown",
   "metadata": {},
   "source": [
    "# Identifying special matrices\n",
    "\n",
    "Test if a 4×4 matrix is singular, i.e. to determine if an inverse exists, before calculating it.  \n",
    "Use the method of converting a matrix to echelon form, and testing if this fails by leaving zeros that can’t be removed on the leading diagonal."
   ]
  },
  {
   "cell_type": "code",
   "execution_count": null,
   "metadata": {},
   "outputs": [],
   "source": [
    "% matplotlib inline\n",
    "\n",
    "import numpy as np\n",
    "import numpy.linalg as la"
   ]
  },
  {
   "cell_type": "code",
   "execution_count": null,
   "metadata": {},
   "outputs": [],
   "source": [
    "# Print option; suppress small numbers and exp, precision, numbers shown in matrix\n",
    "# https://docs.scipy.org/doc/numpy/reference/generated/numpy.set_printoptions.html\n",
    "# np.set_printoptions()  # formatter gets reset\n",
    "np.set_printoptions(suppress=True, precision=3, threshold=10)"
   ]
  },
  {
   "cell_type": "code",
   "execution_count": null,
   "metadata": {},
   "outputs": [],
   "source": [
    "import sympy as sp\n",
    "from sympy import Matrix as spm\n",
    "sp.init_printing(use_unicode=True)\n",
    "from mpmath import *\n",
    "mp.dps = 3 # set decimal places"
   ]
  },
  {
   "cell_type": "code",
   "execution_count": null,
   "metadata": {},
   "outputs": [],
   "source": [
    "%precision 3\n",
    "print(mp)\n",
    "mpf(2.00000001)\n",
    "2.0000001"
   ]
  },
  {
   "cell_type": "code",
   "execution_count": null,
   "metadata": {},
   "outputs": [],
   "source": [
    "class MatrixIsSingular(Exception): \n",
    "    \"\"\"Exception extension for errors if the matrix is singular.\"\"\"\n",
    "    def __init__(self, wth, msg=None):\n",
    "        if msg is None:\n",
    "            # Pass error message\n",
    "            msg = 'Runtime error: {}'.format(wth)\n",
    "        super(MatrixIsSingular, self).__init__(msg)\n",
    "        self.wth = wth"
   ]
  },
  {
   "cell_type": "markdown",
   "metadata": {},
   "source": [
    "### Manual RREF"
   ]
  },
  {
   "cell_type": "code",
   "execution_count": null,
   "metadata": {},
   "outputs": [],
   "source": [
    "def isSingular(A):\n",
    "    \"\"\"Try RREF, when diagonal can't be made 1, the matrix is singular\"\"\"\n",
    "    # Work with copy of mutable input\n",
    "    B = np.array(A, dtype=np.float_)\n",
    "    try:\n",
    "        fixRowZero(B)\n",
    "        fixRowOne(B)\n",
    "        fixRowTwo(B)\n",
    "        fixRowThree(B)\n",
    "    except MatrixIsSingular:\n",
    "        return True\n",
    "    return False"
   ]
  },
  {
   "cell_type": "code",
   "execution_count": null,
   "metadata": {},
   "outputs": [],
   "source": [
    "def fixRowZero(A):\n",
    "    \"\"\"\"\"\"\n",
    "    if A[0,0] == 0:                 # test diagonal for non-zero\n",
    "        A[0] = A[0] + A[1]          # add lower vector to populate diagonal\n",
    "    if A[0,0] == 0:                 # repeat for all rows \"\"\n",
    "        A[0] = A[0] + A[2]\n",
    "    if A[0,0] == 0:\n",
    "        A[0] = A[0] + A[3]\n",
    "    if A[0,0] == 0:\n",
    "        raise MatrixIsSingular('fixRowZero')\n",
    "    A[0] = A[0] / A[0,0]            # Normalize row to set the diagonal element to one\n",
    "    return A"
   ]
  },
  {
   "cell_type": "code",
   "execution_count": null,
   "metadata": {},
   "outputs": [],
   "source": [
    "def fixRowOne(A):\n",
    "    A[1] = A[1] - A[1,0] * A[0]     # subtract upper vector to make lower-triangle zero\n",
    "    \n",
    "    if A[1,1] == 0:                 # test diagonal for non-zero\n",
    "        A[1] = A[1] + A[2]          # add lower vector to populate diagonal\n",
    "        A[1] = A[1] - A[1,0] * A[0] # subtract upper vector to make lower-triangle zero\n",
    "        \n",
    "    if A[1,1] == 0:                 # again test diagonal for non-zero\n",
    "        A[1] = A[1] + A[3]          # add lower vector to populate diagonal\n",
    "        A[1] = A[1] - A[1,0] * A[0] # subtract upper vector to make lower-triangle zero\n",
    "        \n",
    "    if A[1,1] == 0:                 # final test diagonal for non-zero\n",
    "        raise MatrixIsSingular('fixRowOne')\n",
    "    A[1] = A[1] / A[1,1]            # Normalize row to set the diagonal element to one\n",
    "    return A"
   ]
  },
  {
   "cell_type": "code",
   "execution_count": null,
   "metadata": {},
   "outputs": [],
   "source": [
    "def fixRowTwo(A) :\n",
    "    A[2] = A[2] - A[2,0] * A[0]\n",
    "    A[2] = A[2] - A[2,1] * A[1]\n",
    "    \n",
    "    if A[2,2] == 0:\n",
    "        A[2] = A[2] + A[3]\n",
    "        A[2] = A[2] - A[2,0] * A[0]\n",
    "        A[2] = A[2] - A[2,1] * A[1]\n",
    "        \n",
    "    if A[2,2] == 0:\n",
    "        raise MatrixIsSingular('fixRowTwo')\n",
    "    A[2] = A[2] / A[2,2]\n",
    "    return A"
   ]
  },
  {
   "cell_type": "code",
   "execution_count": null,
   "metadata": {},
   "outputs": [],
   "source": [
    "def fixRowThree(A) :\n",
    "    A[3] = A[3] - A[3,0] * A[0]\n",
    "    A[3] = A[3] - A[3,1] * A[1]\n",
    "    A[3] = A[3] - A[3,2] * A[2]\n",
    "    \n",
    "    if A[3,3] == 0:\n",
    "        raise MatrixIsSingular('fixRowThree')\n",
    "    A[3] = A[3] / A[3,3]\n",
    "    return A"
   ]
  },
  {
   "cell_type": "markdown",
   "metadata": {},
   "source": [
    "#### Test your code"
   ]
  },
  {
   "cell_type": "code",
   "execution_count": null,
   "metadata": {},
   "outputs": [],
   "source": [
    "A = np.array([\n",
    "        [0, 7, -5, 3],\n",
    "        [2, 8, 0, 4],\n",
    "        [3, 12, 0, 5],\n",
    "        [1, 3, 1, 3]\n",
    "    ], dtype=np.float_)\n",
    "isSingular(A)\n",
    "spm(A)"
   ]
  },
  {
   "cell_type": "code",
   "execution_count": null,
   "metadata": {},
   "outputs": [],
   "source": [
    "spm(fixRowZero(A))\n",
    "## row 1 added to 0 and devided by A[0,0]"
   ]
  },
  {
   "cell_type": "code",
   "execution_count": null,
   "metadata": {},
   "outputs": [],
   "source": [
    "spm(fixRowOne(A).round(2))"
   ]
  },
  {
   "cell_type": "code",
   "execution_count": null,
   "metadata": {},
   "outputs": [],
   "source": [
    "spm(fixRowTwo(A).round(2))"
   ]
  },
  {
   "cell_type": "code",
   "execution_count": null,
   "metadata": {},
   "outputs": [],
   "source": [
    "spm(fixRowThree(A).round(2))"
   ]
  },
  {
   "cell_type": "markdown",
   "metadata": {},
   "source": [
    "## sympy \n",
    "\n",
    "http://docs.sympy.org/0.7.5/tutorial/matrices.html"
   ]
  },
  {
   "cell_type": "code",
   "execution_count": null,
   "metadata": {},
   "outputs": [],
   "source": [
    "A = np.array([\n",
    "        [2, 0, 0, 0],\n",
    "        [0, 3, 0, 0],\n",
    "        [0, 0, 4, 4],\n",
    "        [0, 0, 5, 5]\n",
    "    ], dtype=np.float_)\n",
    "isSingular(A)\n",
    "spm(A)"
   ]
  },
  {
   "cell_type": "code",
   "execution_count": null,
   "metadata": {},
   "outputs": [],
   "source": [
    "spm(A).rref()[1]         # indices of the pivot columns\n",
    "spm(A).rref()[0]         # rref\n",
    "spm(A).nullspace()[0]    # nullspace\n",
    "spm(A).diagonalize()     #\n",
    "spm(A).det()             # determinant\n",
    "if spm(A).det() == 0:\n",
    "    raise MatrixIsSingular('determinant is 0')\n",
    "spm(A)**-1           # matrix inverse\n",
    "spm(A)**-1 @ spm(A)  # A-1 @ A = I - check inverse/rref"
   ]
  },
  {
   "cell_type": "markdown",
   "metadata": {},
   "source": [
    "### Invertible matrix - TODO nxm matrices"
   ]
  },
  {
   "cell_type": "code",
   "execution_count": null,
   "metadata": {},
   "outputs": [],
   "source": [
    "def is_invertible(B):\n",
    "    Bp = np.linalg.inv(B)\n",
    "    I = np.eye(B.shape[1], B.shape[1])\n",
    "    \n",
    "    assert spm(B).det != 0, 'matrix is singular'\n",
    "    np.testing.assert_array_almost_equal(B @ I, B, err_msg='not invertible')\n",
    "    np.testing.assert_array_almost_equal(I, Bp @ B, err_msg='not invertible')\n",
    "    np.testing.assert_array_almost_equal(I, B @ Bp, err_msg='not invertible')\n",
    "    np.testing.assert_array_almost_equal(Bp @ B, B @ Bp, err_msg='not invertible')\n",
    "    return True\n",
    "\n",
    "spm(B)\n",
    "is_invertible(B)"
   ]
  },
  {
   "cell_type": "markdown",
   "metadata": {},
   "source": [
    "### Transformation of base"
   ]
  },
  {
   "cell_type": "code",
   "execution_count": null,
   "metadata": {},
   "outputs": [],
   "source": [
    "A = np.array([\n",
    "        [2, 1],\n",
    "        [1, 2]\n",
    "    ], dtype=np.float_)"
   ]
  },
  {
   "cell_type": "code",
   "execution_count": null,
   "metadata": {},
   "outputs": [],
   "source": [
    "# New base\n",
    "B = np.array([\n",
    "        [3, 1],\n",
    "        [1, 1]\n",
    "    ], dtype=np.float_)\n",
    "B"
   ]
  },
  {
   "cell_type": "code",
   "execution_count": null,
   "metadata": {},
   "outputs": [],
   "source": [
    "# Rotation 45\n",
    "R = np.array([\n",
    "        [1, -1],\n",
    "        [1, 1]\n",
    "    ], dtype=np.float_) #/np.sqrt(2)\n",
    "R"
   ]
  },
  {
   "cell_type": "code",
   "execution_count": null,
   "metadata": {},
   "outputs": [],
   "source": [
    "# Identity\n",
    "I = np.eye(2)\n",
    "I"
   ]
  },
  {
   "cell_type": "code",
   "execution_count": null,
   "metadata": {},
   "outputs": [],
   "source": [
    "# Back to base\n",
    "Binv = np.linalg.inv(B)"
   ]
  },
  {
   "cell_type": "code",
   "execution_count": null,
   "metadata": {},
   "outputs": [],
   "source": [
    "spm(A)\n",
    "spm((Binv @ I @ B).round(2))\n",
    "spm(Binv @ R @ B)\n",
    "spm((Binv @ A @ B).round(2))"
   ]
  },
  {
   "cell_type": "markdown",
   "metadata": {},
   "source": [
    "## Eigen experiments\n",
    "\n",
    "Eigen vectors `x` and eigen values `lambda`:\n",
    "```python\n",
    "A @ x = lambda @ x\n",
    "A @ x - lambda @ I @ x = 0\n",
    "```"
   ]
  },
  {
   "cell_type": "code",
   "execution_count": null,
   "metadata": {},
   "outputs": [],
   "source": [
    "%precision 3\n",
    "B_eig = spm(B).eigenvects()[0][2][0]\n",
    "B_eigv = spm(B).eigenvects()[0][0]\n",
    "spm(B).eigenvects()\n",
    "B @ B_eig\n",
    "B_eigv * B_eig\n",
    "(B @ B_eig - B_eigv @ spm(np.eye(B.shape[0])) @ B_eig)\n",
    "\n",
    "l, v = la.eig(B)\n",
    "l\n",
    "v\n",
    "B\n",
    "l[0] * v[:,0], B @ v[:,0]\n",
    "np.testing.assert_array_almost_equal(l[0] * v[:,0], B @ v[:,0])\n",
    "\n"
   ]
  },
  {
   "cell_type": "markdown",
   "metadata": {},
   "source": [
    "### SVD Singular Value Decomposition\n",
    "When a is a 2D array, it is factorized as u @ np.diag(s) @ vh = (u * s) @ vh, \n",
    "where u and vh are 2D unitary arrays and s is a 1D array of a‘s singular values. "
   ]
  },
  {
   "cell_type": "code",
   "execution_count": null,
   "metadata": {},
   "outputs": [],
   "source": [
    "u, s, vh = np.linalg.svd(B, full_matrices=True)\n",
    "u\n",
    "s\n",
    "vh\n",
    "u @ s @ vh"
   ]
  },
  {
   "cell_type": "code",
   "execution_count": null,
   "metadata": {},
   "outputs": [],
   "source": [
    "# Transform in original\n",
    "a, b, c, d = 1, 0, 2, -1\n",
    "T = np.array([\n",
    "        [a, b],\n",
    "        [c, d]\n",
    "    ], dtype=np.float_)"
   ]
  },
  {
   "cell_type": "code",
   "execution_count": null,
   "metadata": {},
   "outputs": [],
   "source": [
    "# e = values, v = unit eigen matrix (normalized)\n",
    "e, C = la.eig(T)\n",
    "'C'\n",
    "spm(C.round(2))\n",
    "'C_inv'\n",
    "spm(la.inv(C).round(2))\n",
    "'Eigenvalues: {}'.format(e)\n"
   ]
  },
  {
   "cell_type": "code",
   "execution_count": null,
   "metadata": {},
   "outputs": [],
   "source": [
    "%precision 3\n",
    "# Change of basis matrix with Eigen vectors of T\n",
    "a, b, c, d = 1, 2, 0, 1\n",
    "C = np.array([\n",
    "        [a, b],\n",
    "        [c, d]\n",
    "    ], dtype=np.float_)\n",
    "'C'\n",
    "spm(C)\n",
    "\n",
    "# Inverse Eigen matrix\n",
    "Cinv = la.inv(C)\n",
    "'Cinv'\n",
    "spm(Cinv)\n",
    "\n",
    "# Diagonalized matrix of eigen values \n",
    "D = la.inv(C) @ T @ C\n",
    "'D'\n",
    "spm(D)\n",
    "\n",
    "A = C @ D @ la.inv(C)\n",
    "'A'\n",
    "spm(A)\n",
    "\n",
    "An = C @ D @ D @ D @ D @ D @ la.inv(C)\n",
    "'An'\n",
    "spm(An)\n"
   ]
  },
  {
   "cell_type": "code",
   "execution_count": null,
   "metadata": {},
   "outputs": [],
   "source": [
    "# Transform in original\n",
    "a, b, c, d, e, f, g, h, i = 4,-5,6, 7,-8,6, 3/2,-1/2,-2\n",
    "A = np.array([\n",
    "        [a, b, c],\n",
    "        [d, e, f],\n",
    "        [g, h, i]\n",
    "    ], dtype=np.float_)\n",
    "vals, vecs = la.eig(A)\n",
    "print(vals)\n",
    "print(vecs)\n",
    "print('sqrt:', 6, 1/np.sqrt(6))\n",
    "\n",
    "# Normalized\n",
    "i, j, k = 0.5,-.5,-1\n",
    "v = np.array([[i, j, k]])\n",
    "print('normalized: ', v/la.norm(v))"
   ]
  },
  {
   "cell_type": "markdown",
   "metadata": {},
   "source": [
    "### Eigen vector - experiment\n",
    "```python\n",
    "Eigen vectors A@x = lambda@x => (A@x - lambda@I@x) = 0\n",
    "e = values, v = unit eigen matrix (normalized)\n",
    "```"
   ]
  },
  {
   "cell_type": "markdown",
   "metadata": {},
   "source": [
    "#### Complex to real numbers"
   ]
  },
  {
   "cell_type": "code",
   "execution_count": null,
   "metadata": {},
   "outputs": [],
   "source": [
    "A = np.array([[0,0,0,1], [1,0,0,0], [0,1,0,0], [0,0,1,0]])\n",
    "vals, vecs = la.eig(A)\n",
    "vals\n",
    "# np.real() converts complex numbers to real numbers\n",
    "np.real(vals)\n",
    "np.real(vecs)"
   ]
  },
  {
   "cell_type": "code",
   "execution_count": null,
   "metadata": {},
   "outputs": [],
   "source": [
    "A = np.array([[0.0,0.0,0.0,1.0], [1.0,0.0,0.0,0.0], [0.0,1.0,0.0,0.0], [0.0,0.0,1.0,0.0]])\n",
    "D = np.array([[0.1,0.1,0.1,0.7], [0.7,0.1,0.1,0.1], [0.1,0.7,0.1,0.1], [0.1,0.1,0.7,0.1]])\n",
    "d = 0.5\n",
    "\n",
    "M = d * A + (d - 1) * D/4\n",
    "spm(A), spm(D), spm(M.round(2))\n",
    "vals, vecs = la.eig(M)\n",
    "\n",
    "np.real(vals)\n",
    "np.real(vecs)"
   ]
  },
  {
   "cell_type": "code",
   "execution_count": null,
   "metadata": {},
   "outputs": [],
   "source": [
    "d = 0.9\n",
    "M = d * A + (d - 1) * D/4\n",
    "vals, vecs = la.eig(M)\n",
    "\n",
    "np.real(vals)\n",
    "spm(np.real(vecs).round(2))"
   ]
  },
  {
   "cell_type": "code",
   "execution_count": null,
   "metadata": {},
   "outputs": [],
   "source": [
    "a, b, c, d = 3/2, -1, -1/2, 1/2\n",
    "T = np.array([\n",
    "        [a, b],\n",
    "        [c, d]\n",
    "    ], dtype=np.float_)\n",
    "spm(T)"
   ]
  },
  {
   "cell_type": "code",
   "execution_count": null,
   "metadata": {},
   "outputs": [],
   "source": [
    "\n",
    "vals, vecs = la.eig(T)\n",
    "print('vals', vals)\n",
    "C = vecs\n",
    "spm(C)\n",
    "\n",
    "D = la.inv(C) @ T @ C\n",
    "spm(D)\n",
    "\n",
    "D_2 = vals * np.eye(2)\n",
    "spm(D_2)\n",
    "\n",
    "A2 = C @ D @ D @ la.inv(C)\n",
    "spm(A2)\n",
    "\n",
    "spm(T @ T)"
   ]
  },
  {
   "cell_type": "markdown",
   "metadata": {},
   "source": [
    "### Eigen stuff - sympy vs. numpy.linalg"
   ]
  },
  {
   "cell_type": "code",
   "execution_count": null,
   "metadata": {},
   "outputs": [],
   "source": [
    "-1 + sp.sqrt(3)\n",
    "-1 + np.sqrt(3)"
   ]
  },
  {
   "cell_type": "code",
   "execution_count": null,
   "metadata": {},
   "outputs": [],
   "source": [
    "a, b, c, d, e, f, g, h, i = 4,-5,6, 7,-8,6, 3/2,-1/2,-2\n",
    "A = np.array([\n",
    "        [a, b, c],\n",
    "        [d, e, f],\n",
    "        [g, h, i]\n",
    "    ], dtype=np.float_)\n",
    "spm(A)"
   ]
  },
  {
   "cell_type": "code",
   "execution_count": null,
   "metadata": {},
   "outputs": [],
   "source": [
    "spm(np.array([4,-5,6, 7,-8,6, 3/2,-1/2,-2], dtype=np.float_).reshape(-1,3))"
   ]
  },
  {
   "cell_type": "code",
   "execution_count": null,
   "metadata": {},
   "outputs": [],
   "source": [
    "# sympy - algebraic('non-normalised') eigenvectors\n",
    "# numpy.linalg - numeric eigenvectors\n",
    "sorted(spm(A).eigenvects(), key=lambda x: -x[0])"
   ]
  },
  {
   "cell_type": "markdown",
   "metadata": {},
   "source": [
    "### Eigen functions"
   ]
  },
  {
   "cell_type": "code",
   "execution_count": null,
   "metadata": {},
   "outputs": [],
   "source": [
    "def eigen(X, descending=True):\n",
    "    \"\"\"Eigen values and -vectors in descending order\"\"\"\n",
    "    from collections import defaultdict\n",
    "    eigen_dict = defaultdict()\n",
    "    for i, v in enumerate(spm(A).eigenvects()):\n",
    "        eigen_dict[spm(X).eigenvects()[i][0]] = spm(X).eigenvects()[i][2][0]\n",
    "    return sorted(eigen_dict.items(), key=lambda x: [1, -1][descending] * x[0])\n",
    "\n",
    "def eigen_sym(X, normalised=False, descending=True):\n",
    "    \"\"\"Eigen values and -vectors in descending order\"\"\"\n",
    "    from collections import defaultdict\n",
    "    eigen_dict = defaultdict()\n",
    "    for i, v in enumerate(spm(X).eigenvects()):\n",
    "        norm = [1, (spm(X).eigenvects()[i][2][0].T @ spm(X).eigenvects()[i][2][0])**.5][normalised]\n",
    "        eigen_dict[spm(X).eigenvects()[i][0]] = spm(X).eigenvects()[i][2][0]/norm\n",
    "    return sorted(eigen_dict.items(), key=lambda x: [1, -1][descending] * x[0])\n",
    "\n",
    "def eigen_la(X, descending=True):\n",
    "    \"\"\"Eigen values and -vectors in descending order\"\"\"\n",
    "    vals, vecs = la.eig(X)\n",
    "    idx = np.argsort([1, -1][descending] * vals)\n",
    "    return [(val.round(), spm(vec)) for val, vec in zip(vals[idx], vecs.T[idx])]"
   ]
  },
  {
   "cell_type": "code",
   "execution_count": null,
   "metadata": {},
   "outputs": [],
   "source": [
    "eigen_sym(A)\n",
    "eigen_sym(A, False)\n",
    "eigen_sym(A, True)"
   ]
  },
  {
   "cell_type": "code",
   "execution_count": null,
   "metadata": {},
   "outputs": [],
   "source": [
    "eigen_la(A, True)"
   ]
  },
  {
   "cell_type": "markdown",
   "metadata": {},
   "source": [
    "### Angle (in radius) between vectors x and z"
   ]
  },
  {
   "cell_type": "code",
   "execution_count": null,
   "metadata": {},
   "outputs": [],
   "source": [
    "def v_len(x):\n",
    "    return (x.T @ x)**.5\n",
    "\n",
    "def radius(x, y):\n",
    "    x_, y_ = v_len(x), v_len(y)\n",
    "    if x_ == y_: return 0\n",
    "    return np.arccos(x.T @ y / (x_ * y_))"
   ]
  },
  {
   "cell_type": "code",
   "execution_count": null,
   "metadata": {},
   "outputs": [],
   "source": [
    "x = np.array([1,0,6])\n",
    "y = np.array([-1,0,8])\n",
    "z = x - y\n",
    "\n",
    "radius(x, y)"
   ]
  },
  {
   "cell_type": "code",
   "execution_count": null,
   "metadata": {},
   "outputs": [],
   "source": []
  }
 ],
 "metadata": {
  "language_info": {
   "name": "python",
   "pygments_lexer": "ipython3"
  }
 },
 "nbformat": 4,
 "nbformat_minor": 2
}
