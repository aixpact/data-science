{
 "cells": [
  {
   "cell_type": "markdown",
   "metadata": {},
   "source": [
    "## Distances and Angles between Images"
   ]
  },
  {
   "cell_type": "markdown",
   "metadata": {},
   "source": [
    "__Distance__ and __angle__ are useful beyond their usual interpretation. They are useful for describing __similarity__ between objects."
   ]
  },
  {
   "cell_type": "code",
   "execution_count": null,
   "metadata": {},
   "outputs": [],
   "source": [
    "import matplotlib as mpl\n",
    "import matplotlib.pyplot as plt\n",
    "import numpy as np\n",
    "import scipy"
   ]
  },
  {
   "cell_type": "code",
   "execution_count": null,
   "metadata": {},
   "outputs": [],
   "source": [
    "%matplotlib inline \n",
    "#ipympl\n",
    "%config InlineBackend.figure_format = 'svg'"
   ]
  },
  {
   "cell_type": "code",
   "execution_count": null,
   "metadata": {},
   "outputs": [],
   "source": [
    "%%javascript\n",
    "// Some javascript to provide better layout for plots we have later.\n",
    "IPython.OutputArea.prototype._should_scroll = function(lines) {\n",
    "    return false;\n",
    "};"
   ]
  },
  {
   "cell_type": "markdown",
   "metadata": {},
   "source": [
    "\n",
    "Recall that the distance defined by the dot product is \n",
    "$$ d(\\boldsymbol{x},\\boldsymbol{y}) = \\lVert \\boldsymbol{x} - \\boldsymbol{y} \\rVert, $$\n",
    "and the angle defined by the dot product is \n",
    "$$ \\boldsymbol{x}^T \\boldsymbol{y} = \\lVert \\boldsymbol{x} \\rVert \\lVert \\boldsymbol{y} \\rVert cos \\theta$$"
   ]
  },
  {
   "cell_type": "code",
   "execution_count": null,
   "metadata": {},
   "outputs": [],
   "source": [
    "def distance(x, y):\n",
    "    \"\"\"Compute distance between two vectors x, y using the dot product\"\"\"\n",
    "    x = np.array(x, dtype=np.float).ravel() # ravel() \"flattens\" the ndarray\n",
    "    y = np.array(y, dtype=np.float).ravel()\n",
    "    distance = np.sqrt((x-y).T@(x-y))\n",
    "    return distance\n",
    "\n",
    "def angle(x, y):\n",
    "    \"\"\"Compute the angle between two vectors x, y using the dot product\"\"\"\n",
    "    angle = np.arccos(x.T@y / (np.sqrt(x.T@x) * np.sqrt(x.T@x)))\n",
    "    if np.isnan(angle): return 0\n",
    "    return angle\n",
    "\n",
    "def pairwise_distance_matrix(X, Y):\n",
    "    \"\"\"Compute the pairwise distance between rows of X and rows of Y\n",
    "\n",
    "    Arguments\n",
    "    ----------\n",
    "    X: ndarray of size (N, D)\n",
    "    Y: ndarray of size (M, D)\n",
    "    \n",
    "    Returns\n",
    "    --------\n",
    "    D: matrix of shape (N, M), each entry D[i,j] is the distance between\n",
    "    X[i,:] and Y[j,:] using the dot product.\n",
    "    \"\"\"\n",
    "    N, D = X.shape\n",
    "    M, _ = Y.shape\n",
    "    distance_matrix = np.zeros((N, M), dtype=np.float) \n",
    "    for i in range(N):\n",
    "        for j in range(M):\n",
    "            distance_matrix[i, j] = distance(X[i,:], Y[j,:])\n",
    "    return distance_matrix"
   ]
  },
  {
   "cell_type": "markdown",
   "metadata": {},
   "source": [
    "For `pairwise_distance_matrix`, you may be tempting to iterate through\n",
    "rows of X and Y and fill in the distance matrix, but that is slow! Can you\n",
    "think of some way to vectorize your computation (i.e. make it faster by using numpy/scipy operations only)"
   ]
  },
  {
   "cell_type": "code",
   "execution_count": null,
   "metadata": {},
   "outputs": [],
   "source": [
    "def plot_vector(v, w):\n",
    "    \"\"\"Plot two vectors `v` and `w` of dimension 2\"\"\"\n",
    "    fig = plt.figure(figsize=(4,4))\n",
    "    ax = fig.gca()\n",
    "    plt.xlim([-2, 2])\n",
    "    plt.ylim([-2, 2])\n",
    "    plt.grid()\n",
    "    ax.arrow(0, 0, v[0], v[1], head_width=0.05, head_length=0.1, \n",
    "             length_includes_head=True, linewidth=2, color='r');\n",
    "    ax.arrow(0, 0, w[0], w[1], head_width=0.05, head_length=0.1, \n",
    "             length_includes_head=True, linewidth=2, color='r');"
   ]
  },
  {
   "cell_type": "code",
   "execution_count": null,
   "metadata": {},
   "outputs": [],
   "source": [
    "# Some sanity checks, you may want to have more interesting test cases to test your implementation\n",
    "a = np.array([1,0])\n",
    "b = np.array([0,1])\n",
    "np.testing.assert_almost_equal(distance(a, b), np.sqrt(2))\n",
    "assert((angle(a,b) / (np.pi * 2) * 360.) == 90)\n",
    "print('correct')"
   ]
  },
  {
   "cell_type": "code",
   "execution_count": null,
   "metadata": {},
   "outputs": [],
   "source": [
    "plot_vector(b, a)"
   ]
  },
  {
   "cell_type": "code",
   "execution_count": null,
   "metadata": {},
   "outputs": [],
   "source": [
    "import sklearn\n",
    "from sklearn.datasets import fetch_mldata\n",
    "from ipywidgets import interact\n",
    "MNIST = fetch_mldata('MNIST original', data_home='../../_data/MNIST')"
   ]
  },
  {
   "cell_type": "code",
   "execution_count": null,
   "metadata": {},
   "outputs": [],
   "source": [
    "plt.imshow(MNIST.data[MNIST.target==0].reshape(-1, 28, 28)[0], cmap='gray');"
   ]
  },
  {
   "cell_type": "markdown",
   "metadata": {},
   "source": [
    "But we have the following questions:\n",
    "\n",
    "1. What does it mean for two digits in the MNIST dataset to be _different_ by our distance function? \n",
    "2. Furthermore, how are different classes of digits different for MNIST digits? Let's find out!"
   ]
  },
  {
   "cell_type": "markdown",
   "metadata": {},
   "source": [
    "### Pairwise distance between digits"
   ]
  },
  {
   "cell_type": "code",
   "execution_count": null,
   "metadata": {},
   "outputs": [],
   "source": [
    "def pairwise_map(data, fn, N=0):\n",
    "    \"\"\"Execute any function on each data pair and return as 2d-array\"\"\"\n",
    "    if N == 0: N = len(data)\n",
    "    Z = np.zeros(N*N).reshape(-1, N)\n",
    "    for (i,j), v in np.ndenumerate(Z):\n",
    "        Z[i,j] = fn(data[i], data[j])\n",
    "    return Z"
   ]
  },
  {
   "cell_type": "code",
   "execution_count": null,
   "metadata": {},
   "outputs": [],
   "source": [
    "Z = pairwise_map(MNIST.data, distance, 500)\n",
    "Z.round()"
   ]
  },
  {
   "cell_type": "code",
   "execution_count": null,
   "metadata": {},
   "outputs": [],
   "source": [
    "from sklearn.metrics.pairwise import pairwise_distances\n",
    "\n",
    "pairwise_distances(MNIST.data[:500]).round()"
   ]
  },
  {
   "cell_type": "code",
   "execution_count": null,
   "metadata": {},
   "outputs": [],
   "source": [
    "def find_similar(x):\n",
    "    min_dist, min_index = np.inf, x\n",
    "    for i in range(1, len(MNIST.data)):\n",
    "        dist = distance(MNIST.data[x], MNIST.data[i])\n",
    "        if min_dist > dist:\n",
    "            min_dist, min_index = dist, i\n",
    "    return min_dist, min_index\n",
    "find_similar(0)"
   ]
  },
  {
   "cell_type": "code",
   "execution_count": null,
   "metadata": {},
   "outputs": [],
   "source": [
    "# Most similar image\n",
    "img_1 = 0\n",
    "np.argsort([distance(MNIST.data[img_1], img_2) for img_2 in MNIST.data])[1]"
   ]
  },
  {
   "cell_type": "markdown",
   "metadata": {},
   "source": [
    "### Sort similar digits pairwise"
   ]
  },
  {
   "cell_type": "code",
   "execution_count": null,
   "metadata": {},
   "outputs": [],
   "source": [
    "np.argsort(pairwise_distances(MNIST.data[:500]))"
   ]
  },
  {
   "cell_type": "markdown",
   "metadata": {},
   "source": [
    "### Find distance between 2 images"
   ]
  },
  {
   "cell_type": "code",
   "execution_count": null,
   "metadata": {},
   "outputs": [],
   "source": [
    "@interact(first=(0, 499), second=(0, 499), continuous_update=False)\n",
    "def show_img(first, second):\n",
    "    plt.figure(figsize=(12, 5))\n",
    "    f = MNIST.data[first].reshape(28, 28)\n",
    "    s = MNIST.data[second].reshape(28, 28)\n",
    "    \n",
    "    ax2 = plt.subplot2grid((2, 2), (0, 1), rowspan=2)\n",
    "    ax0 = plt.subplot2grid((2, 2), (0, 0))\n",
    "    ax1 = plt.subplot2grid((2, 2), (1, 0))\n",
    "    \n",
    "    plt.imshow(np.hstack([f,s]), cmap='gray')\n",
    "    ax0.imshow(f, cmap='gray')\n",
    "    ax1.imshow(s, cmap='gray')\n",
    "    ax2.hist(np.array(distances), bins=50)\n",
    "    d = distance(f, s)\n",
    "    ax2.axvline(x=d, ymin=0, ymax=40000, color='C4', linewidth=4)\n",
    "    ax2.set(xlabel='distance', ylabel='number of images')\n",
    "    ax2.text(1200, 19500, \"Distance is {:.2f}\".format(d), size=12)\n",
    "    plt.show()"
   ]
  },
  {
   "cell_type": "markdown",
   "metadata": {},
   "source": [
    "### Label means"
   ]
  },
  {
   "cell_type": "code",
   "execution_count": null,
   "metadata": {},
   "outputs": [],
   "source": [
    "means = {}\n",
    "for n in np.unique(MNIST.target).astype(np.int):\n",
    "    means[n] = np.mean(MNIST.data[MNIST.target==n], axis=0)\n",
    "means[0].shape"
   ]
  },
  {
   "cell_type": "markdown",
   "metadata": {},
   "source": [
    "### Pairwise metrics"
   ]
  },
  {
   "cell_type": "code",
   "execution_count": null,
   "metadata": {},
   "outputs": [],
   "source": [
    "MD = pairwise_map(means, distance).round()\n",
    "AG = pairwise_map(means, angle).round(2)"
   ]
  },
  {
   "cell_type": "markdown",
   "metadata": {},
   "source": [
    "For each pair of classes, we compute the pairwise distance and \n",
    "store them into MD (mean distances). We store the angles between the mean digits in AG"
   ]
  },
  {
   "cell_type": "markdown",
   "metadata": {},
   "source": [
    "### Visualise pairwise metrics"
   ]
  },
  {
   "cell_type": "code",
   "execution_count": null,
   "metadata": {},
   "outputs": [],
   "source": [
    "def heatmap(X, title=''):\n",
    "    N = X.shape[0]\n",
    "    fig, ax = plt.subplots()\n",
    "    grid = ax.imshow(X, interpolation='nearest')\n",
    "    ax.set(title='Differences between classes of digits\\nMetric = {}'.format(title),\n",
    "           xticks=range(N), \n",
    "           xlabel='class of digits',\n",
    "           ylabel='class of digits',\n",
    "           yticks=range(N))\n",
    "    fig.colorbar(grid)"
   ]
  },
  {
   "cell_type": "code",
   "execution_count": null,
   "metadata": {},
   "outputs": [],
   "source": [
    "heatmap(MD, 'Distance')\n",
    "heatmap(AG, 'Angle')"
   ]
  },
  {
   "cell_type": "code",
   "execution_count": null,
   "metadata": {},
   "outputs": [],
   "source": []
  }
 ],
 "metadata": {
  "language_info": {
   "name": "python",
   "pygments_lexer": "ipython3"
  }
 },
 "nbformat": 4,
 "nbformat_minor": 2
}
