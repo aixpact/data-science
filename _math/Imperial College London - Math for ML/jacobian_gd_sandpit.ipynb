{
 "cells": [
  {
   "cell_type": "markdown",
   "metadata": {},
   "source": [
    "# The Sandpit\n",
    "\n",
    "The supervisor of a building site has dropped their mobile phone into a pit with an uneven floor, and it has rolled to the lowest point.\n",
    "To make matters worse, the pit has subsequently been filled with sand such that the phone is covered and cannot be seen.\n",
    "To find where in the pit their phone is, the supervisor has crafted a *‘dip-stick’* with a head designed to measure the slope of the floor if it is poked straight down through the sand."
   ]
  },
  {
   "cell_type": "markdown",
   "metadata": {},
   "source": [
    "## Jacobian\n",
    "\n",
    "Try and find the supervisor's phone by clicking on any point in the sandpit, thereby measuring the negative of the Jacobian at that point $-\\mathbf{J} = -\\nabla f(\\mathbf{x})$  \n",
    "Try to do this with as few dips as possible!"
   ]
  },
  {
   "cell_type": "code",
   "execution_count": null,
   "metadata": {},
   "outputs": [],
   "source": [
    "# Click into this cell and press [Shift-Enter] to start.\n",
    "%run \"./sandpit-exercises.ipynb\"\n",
    "sandpit_intro()"
   ]
  },
  {
   "cell_type": "markdown",
   "metadata": {},
   "source": [
    "## Depth Only\n",
    "Try and find the supervisor's phone only measure the depth on each dip, without information about the Jacobian."
   ]
  },
  {
   "cell_type": "code",
   "execution_count": null,
   "metadata": {},
   "outputs": [],
   "source": [
    "# Click into this cell and press [Shift-Enter] to continue.\n",
    "%run \"./sandpit-exercises.ipynb\"\n",
    "sandpit_depth_only()"
   ]
  },
  {
   "cell_type": "markdown",
   "metadata": {},
   "source": [
    "## Random Sandpits\n",
    "\n",
    "You can run this example as many times as you like for a randomly generated sandpit."
   ]
  },
  {
   "cell_type": "code",
   "execution_count": null,
   "metadata": {},
   "outputs": [],
   "source": [
    "# Click into this cell and press [Shift-Enter] to continue.\n",
    "%run \"./sandpit-exercises.ipynb\"\n",
    "sandpit_random()"
   ]
  },
  {
   "cell_type": "markdown",
   "metadata": {},
   "source": [
    "## Multiple Minima\n",
    "In this sandpit, there are many local minima that the supervisor's phone could have fallen into.\n",
    "The phone is in the deepest one - Try and find it!\n",
    "\n",
    "(You may get lucky and find the basin of the deepest minimum quickly, if you seem stuck, click somewhere else at random!)"
   ]
  },
  {
   "cell_type": "code",
   "execution_count": null,
   "metadata": {},
   "outputs": [],
   "source": [
    "# Click into this cell and press [Shift-Enter] to start.\n",
    "%run \"./sandpit-exercises.ipynb\"\n",
    "sandpit_multiple_minima()"
   ]
  },
  {
   "cell_type": "markdown",
   "metadata": {},
   "source": [
    "## Noisy Functions\n",
    "\n",
    "Before the sand was loaded into this next pit, the pit floor was covered with rocks.\n",
    "This means when the supervisor tries to measure the slope, the surface they measure is rough and can change quickly.\n",
    "\n",
    "Try to find the phone in this situation. You may notice that it is frustratingly harder to do so, as the roughness may generate more local minima."
   ]
  },
  {
   "cell_type": "code",
   "execution_count": null,
   "metadata": {},
   "outputs": [],
   "source": [
    "# Click into this cell and press [Shift-Enter] to continue.\n",
    "%run \"./sandpit-exercises.ipynb\"\n",
    "sandpit_rocks()"
   ]
  },
  {
   "cell_type": "markdown",
   "metadata": {},
   "source": [
    "## Narrow Wells\n",
    "\n",
    "In this pit, there is a deep but narrow well that the phone may have fallen into.\n",
    "See if you can find the phone in this case."
   ]
  },
  {
   "cell_type": "code",
   "execution_count": null,
   "metadata": {},
   "outputs": [],
   "source": [
    "# Click into this cell and press [Shift-Enter] to continue.\n",
    "%run \"./sandpit-exercises.ipynb\"\n",
    "sandpit_well()"
   ]
  },
  {
   "cell_type": "code",
   "execution_count": null,
   "metadata": {},
   "outputs": [],
   "source": []
  }
 ],
 "metadata": {
  "language_info": {
   "name": "python",
   "pygments_lexer": "ipython3"
  }
 },
 "nbformat": 4,
 "nbformat_minor": 2
}
