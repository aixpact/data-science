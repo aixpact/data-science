{
 "cells": [
  {
   "cell_type": "markdown",
   "metadata": {},
   "source": [
    "# Orthogonal Projections"
   ]
  },
  {
   "cell_type": "markdown",
   "metadata": {},
   "source": [
    "## Learning Objectives\n",
    "\n",
    "In this week, we will write functions which perform orthogonal projections.\n",
    "\n",
    "By the end of this week, you should be able to\n",
    "\n",
    "1. Write code that projects data onto lower-dimensional subspaces.\n",
    "2. Understand the real world applications of projections.\n",
    "\n",
    "We highlight some tips and tricks which would be useful when you implement numerical \n",
    "algorithms that you have never encountered before. \n",
    "You are invited to think about these concepts when you \n",
    "write your program. \n",
    "\n",
    "The important thing is to learn to map from mathematical equations to code. It is not always\n",
    "easy to do so, but you will get better at it with more practice.\n",
    "\n",
    "We will apply this to project high-dimensional face images onto lower dimensional basis which we call \"eigenfaces\". We will also revisit the problem of linear regression, but from the perspective of solving normal equations,\n",
    "the concept which you apply to derive the formula for orthogonal projections. We will apply this to predict housing \n",
    "prices for the Boston housing dataset, which is a classic example in machine learning."
   ]
  },
  {
   "cell_type": "code",
   "execution_count": null,
   "metadata": {},
   "outputs": [],
   "source": [
    "%matplotlib inline\n",
    "\n",
    "import numpy as np\n",
    "import matplotlib\n",
    "import matplotlib.pyplot as plt\n",
    "import numpy.testing as np_test\n",
    "\n",
    "plt.style.use('fivethirtyeight')"
   ]
  },
  {
   "cell_type": "code",
   "execution_count": null,
   "metadata": {},
   "outputs": [],
   "source": [
    "from sklearn.datasets import fetch_olivetti_faces, fetch_lfw_people\n",
    "from ipywidgets import interact"
   ]
  },
  {
   "cell_type": "markdown",
   "metadata": {},
   "source": [
    "### Data"
   ]
  },
  {
   "cell_type": "code",
   "execution_count": null,
   "metadata": {},
   "outputs": [],
   "source": [
    "dataset = fetch_olivetti_faces()\n",
    "faces = dataset.data"
   ]
  },
  {
   "cell_type": "code",
   "execution_count": null,
   "metadata": {},
   "outputs": [],
   "source": [
    "image_shape = (64, 64)"
   ]
  },
  {
   "cell_type": "markdown",
   "metadata": {},
   "source": [
    "### Advice for testing numerical algorithms\n",
    "\n",
    "Testing machine learning algorithms (or numerical algorithms in general)\n",
    "is sometimes really hard as it depends on the dataset\n",
    "to produce an answer, and you will never be able to test your algorithm on all the datasets\n",
    "we have in the world. Nevertheless, we have some tips for you to help you identify bugs in\n",
    "your implementations.\n",
    "\n",
    "#### 1. Test on small dataset\n",
    "Test your algorithms on small dataset: datasets of size 1 or 2 sometimes will suffice. This\n",
    "is useful because you can (if necessary) compute the answers by hand and compare them with\n",
    "the answers produced by the computer program you wrote. In fact, these small datasets can even have special numbers,\n",
    "which will allow you to compute the answers by hand easily.\n",
    "\n",
    "#### 2. Find invariants\n",
    "Invariants refer to properties of your algorithm and functions that are maintained regardless\n",
    "of the input. We will highlight this point later in this notebook where you will see functions,\n",
    "which will check invariants for some of the answers you produce.\n",
    "\n",
    "Invariants you may want to look for:\n",
    "1. Does your algorithm always produce a positive/negative answer, or a positive definite matrix?\n",
    "2. If the algorithm is iterative, do the intermediate results increase/decrease monotonically?\n",
    "3. Does your solution relate with your input in some interesting way, e.g. orthogonality? \n",
    "\n",
    "When you have a set of invariants, you can generate random inputs and make \n",
    "assertions about these invariants. This is sometimes known as [fuzzing](https://en.wikipedia.org/wiki/Fuzzing), which has proven to be a very effective technique for identifying bugs in programs.\n",
    "\n",
    "Finding invariants is hard, and sometimes there simply isn't any invariant. However, DO take advantage of them if you can find them. They are the most powerful checks when you have them."
   ]
  },
  {
   "cell_type": "markdown",
   "metadata": {},
   "source": [
    "## 1. Orthogonal Projections"
   ]
  },
  {
   "cell_type": "markdown",
   "metadata": {},
   "source": [
    "Recall that for projection of a vector $x$ onto a 1-dimensional subspace $U$ with basis vector $\\boldsymbol b$ we have\n",
    "\n",
    "$${\\pi_U}(\\boldsymbol x) = \\frac{\\boldsymbol b\\boldsymbol b^T}{{\\lVert \\boldsymbol b \\rVert}^2}\\boldsymbol x $$\n",
    "\n",
    "And for the general projection onto an M-dimensional subspace $U$ with basis vectors $\\boldsymbol b_1,\\dotsc, \\boldsymbol b_M$ we have\n",
    "\n",
    "$${\\pi_U}(\\boldsymbol x) = \\boldsymbol B(\\boldsymbol B^T\\boldsymbol B)^{-1}\\boldsymbol B^T\\boldsymbol x $$\n",
    "\n",
    "where \n",
    "\n",
    "$$\\boldsymbol B = (\\boldsymbol b_1|...|\\boldsymbol b_M)$$\n",
    "\n",
    "\n",
    "Your task is to implement orthogonal projections. We can split this into two steps\n",
    "1. Find the projection matrix $\\boldsymbol P$ that projects any $\\boldsymbol x$ onto $U$.\n",
    "2. The projected vector $\\pi_U(\\boldsymbol x)$ of $\\boldsymbol x$ can then be written as $\\pi_U(\\boldsymbol x) = \\boldsymbol P\\boldsymbol x$."
   ]
  },
  {
   "cell_type": "markdown",
   "metadata": {},
   "source": [
    "Note that for orthogonal projections, we have the following invariants:"
   ]
  },
  {
   "cell_type": "code",
   "execution_count": null,
   "metadata": {},
   "outputs": [],
   "source": [
    "def test_property_projection_matrix(P):\n",
    "    \"\"\"Test if the projection matrix satisfies certain properties.\n",
    "    In particular, we should have P @ P = P, and P = P^T\n",
    "    \"\"\"\n",
    "    np_test.assert_almost_equal(P, P @ P)\n",
    "    np_test.assert_almost_equal(P, P.T)\n",
    "\n",
    "def test_property_projection(x, p):\n",
    "    \"\"\"Test orthogonality of x and its projection p.\"\"\"\n",
    "    np_test.assert_almost_equal(np.dot(p-x, p), 0)"
   ]
  },
  {
   "cell_type": "code",
   "execution_count": null,
   "metadata": {},
   "outputs": [],
   "source": [
    "def projection_matrix_1d(b):\n",
    "    \"\"\"Compute the projection matrix onto the space spanned by `b`\n",
    "    Args:\n",
    "        b: ndarray of dimension (D,), the basis for the subspace\n",
    "    \n",
    "    Returns:\n",
    "        P: the projection matrix\n",
    "    \"\"\"\n",
    "    D, = b.shape\n",
    "    b = b.reshape(-1, 1)\n",
    "    P = (b @ b.T) / (b.T @ b)\n",
    "    return P\n",
    "\n",
    "def project_1d(x, b):\n",
    "    \"\"\"Compute the projection matrix onto the space spanned by `b`\n",
    "    Args:\n",
    "        x: the vector to be projected\n",
    "        b: ndarray of dimension (D,), the basis for the subspace\n",
    "    \n",
    "    Returns:\n",
    "        y: projection of x in space spanned by b\n",
    "    \"\"\"\n",
    "    p = projection_matrix_1d(b) @ x\n",
    "    return p\n",
    "\n",
    "def projection_matrix_general(B):\n",
    "    \"\"\"Compute the projection matrix onto the space spanned by `B`\n",
    "    Args:\n",
    "        B: ndarray of dimension (D, M), the basis for the subspace\n",
    "    \n",
    "    Returns:\n",
    "        P: the projection matrix\n",
    "    \"\"\"\n",
    "    import numpy.linalg as la\n",
    "    P = B @ la.inv(B.T @ B) @ B.T\n",
    "    return P\n",
    "\n",
    "def project_general(x, B):\n",
    "    \"\"\"Compute the projection matrix onto the space spanned by `B`\n",
    "    Args:\n",
    "        B: ndarray of dimension (D, E), the basis for the subspace\n",
    "    \n",
    "    Returns:\n",
    "        y: projection of x in space spanned by b\n",
    "    \"\"\"\n",
    "    p = projection_matrix_general(B) @ x\n",
    "    return p\n",
    "\n",
    "\n",
    "def project_reverse(x, B):\n",
    "    \"\"\"Compute the projection matrix onto the space spanned by `B`\n",
    "    Args:\n",
    "        B: ndarray of dimension (D, E), the basis for the subspace\n",
    "    \n",
    "    Returns:\n",
    "        y: projection of x in space spanned by b\n",
    "    \"\"\"\n",
    "    import numpy.linalg as la\n",
    "    p = la.inv(projection_matrix_general(B)).T @ x\n",
    "    return p"
   ]
  },
  {
   "cell_type": "markdown",
   "metadata": {},
   "source": [
    "We have included some unittest for you to test your implementation."
   ]
  },
  {
   "cell_type": "code",
   "execution_count": null,
   "metadata": {},
   "outputs": [],
   "source": [
    "# Orthogonal projection in 2d\n",
    "# define basis vector for subspace\n",
    "b = np.array([2,1]).reshape(-1,1)\n",
    "\n",
    "# point to be projected later\n",
    "x = np.array([1,2]).reshape(-1, 1)"
   ]
  },
  {
   "cell_type": "code",
   "execution_count": null,
   "metadata": {},
   "outputs": [],
   "source": [
    "# Test 1D\n",
    "np_test.assert_almost_equal(projection_matrix_1d(np.array([1, 2, 2])), \n",
    "                            np.array([[1,  2,  2],\n",
    "                                      [2,  4,  4],\n",
    "                                      [2,  4,  4]]) / 9)\n",
    "\n",
    "np_test.assert_almost_equal(project_1d(np.ones(3),\n",
    "                                       np.array([1, 2, 2])),\n",
    "                            np.array([5, 10, 10]) / 9)\n",
    "\n",
    "B = np.array([[1, 0],\n",
    "              [1, 1],\n",
    "              [1, 2]])\n",
    "\n",
    "# Test General\n",
    "np_test.assert_almost_equal(projection_matrix_general(B), \n",
    "                            np.array([[5,  2, -1],\n",
    "                                      [2,  2,  2],\n",
    "                                      [-1, 2,  5]]) / 6)\n",
    "\n",
    "np_test.assert_almost_equal(project_general(np.array([6, 0, 0]), B), \n",
    "                            np.array([5, 2, -1]))\n",
    "print('correct')"
   ]
  },
  {
   "cell_type": "code",
   "execution_count": null,
   "metadata": {},
   "outputs": [],
   "source": [
    "# Write your own test cases here, use random inputs, utilize the invariants we have!\n",
    "X = np.array([[1,  2,  2],\n",
    "    [2,  4,  4],\n",
    "    [2,  4,  4]])\n",
    "x = np.array([1,  0,  0])\n",
    "y = np.array([0,  0,  2])\n",
    "\n",
    "# Test if the projection matrix satisfies certain properties; P @ P = P, and P = P^T\n",
    "# test_property_projection_matrix(X)\n",
    "\n",
    "# Test orthogonality of x and its projection p\n",
    "# test_property_projection(x, y)\n",
    "# np.dot(y-x, y)\n"
   ]
  },
  {
   "cell_type": "markdown",
   "metadata": {},
   "source": [
    "## 2. Eigenfaces  (optional)\n",
    "\n",
    "Next, we will take a look at what happens if we project some dataset consisting of human faces onto some basis we call\n",
    "the \"eigenfaces\"."
   ]
  },
  {
   "cell_type": "code",
   "execution_count": null,
   "metadata": {},
   "outputs": [],
   "source": [
    "# dataset = fetch_olivetti_faces()\n",
    "# faces = dataset.data\n",
    "# faces.shape"
   ]
  },
  {
   "cell_type": "code",
   "execution_count": null,
   "metadata": {},
   "outputs": [],
   "source": [
    "mean = faces.mean(axis=0)\n",
    "std = faces.std(axis=0)\n",
    "faces_normalized = (faces - mean) / std"
   ]
  },
  {
   "cell_type": "markdown",
   "metadata": {},
   "source": [
    "The data for the basis has been saved in a file named `eigenfaces.py`, first we load it into the variable B."
   ]
  },
  {
   "cell_type": "markdown",
   "metadata": {},
   "source": [
    "### PCA\n",
    "\n",
    "Create 'eigenfaces' by reducing the number of dimensions by the PCA algorithm.\n",
    "Select number of components (dimensions) and save eigen faces."
   ]
  },
  {
   "cell_type": "code",
   "execution_count": null,
   "metadata": {},
   "outputs": [],
   "source": [
    "from sklearn.decomposition import PCA"
   ]
  },
  {
   "cell_type": "code",
   "execution_count": null,
   "metadata": {},
   "outputs": [],
   "source": [
    "n_components = 50\n",
    "pca = PCA(n_components=n_components, svd_solver='randomized', whiten=True).fit(faces)\n",
    "\n",
    "eigenfaces = pca.components_.reshape((-1, image_shape[0], image_shape[1]))\n",
    "\n",
    "# Sanity check\n",
    "assert eigenfaces.shape[0] == n_components"
   ]
  },
  {
   "cell_type": "code",
   "execution_count": null,
   "metadata": {},
   "outputs": [],
   "source": [
    "np.save('../../_data/eigenfaces.npy', eigenfaces)\n",
    "eigenfaces.shape"
   ]
  },
  {
   "cell_type": "code",
   "execution_count": null,
   "metadata": {},
   "outputs": [],
   "source": [
    "B = np.load('../../_data/eigenfaces.npy')\n",
    "print(\"the eigenfaces have shape {}\".format(B.shape))"
   ]
  },
  {
   "cell_type": "markdown",
   "metadata": {},
   "source": [
    "#### Along the first dimension(component) of Basis B, each instance is a `64x64` image, an \"eigenface\"\n",
    "Let's visualize a few of them."
   ]
  },
  {
   "cell_type": "code",
   "execution_count": null,
   "metadata": {},
   "outputs": [],
   "source": [
    "def show_image(image):\n",
    "    \"\"\"Helper method to show a greyscale image.\"\"\"\n",
    "    plt.imshow(image, cmap=plt.cm.gray)\n",
    "    plt.grid(b=None)\n",
    "    plt.axis('off')\n",
    "    plt.show()"
   ]
  },
  {
   "cell_type": "code",
   "execution_count": null,
   "metadata": {},
   "outputs": [],
   "source": [
    "def projection_and_reconstruction(data, image_shape, k):\n",
    "    \"\"\"Return the project-and-reconstruct operations as a single matrix\"\"\"\n",
    "    n_vector = image_shape[0] * image_shape[1]\n",
    "    sigma = np.cov(data, rowvar=0, bias=1)\n",
    "    eigenvalues, eigenvectors = np.linalg.eigh(sigma)\n",
    "    U = eigenvectors[:, (n_vector-k):n_vector]\n",
    "    return U @ U.T"
   ]
  },
  {
   "cell_type": "code",
   "execution_count": null,
   "metadata": {},
   "outputs": [],
   "source": [
    "def show_face(x, image_shape, ax, k):\n",
    "    \"\"\"\"\"\"\n",
    "    # Now display\n",
    "    ax.axis('off')\n",
    "    ax.imshow(x.reshape(image_shape), cmap=plt.cm.gray)\n",
    "    ax.set_title('Projection dim.: {}'.format(k))\n",
    "    return"
   ]
  },
  {
   "cell_type": "code",
   "execution_count": null,
   "metadata": {},
   "outputs": [],
   "source": [
    "def show_effect_of_PCA(data, x, image_shape, k_list):\n",
    "    \"\"\"\"\"\"\n",
    "    fig, axes = plt.subplots(1, len(k_list), figsize=(18, 6))\n",
    "    \n",
    "    for k, ax in zip(k_list, axes):\n",
    "        P = projection_and_reconstruction(data, image_shape, k)\n",
    "        show_face(P @ x, image_shape, ax, k)"
   ]
  },
  {
   "cell_type": "code",
   "execution_count": null,
   "metadata": {},
   "outputs": [],
   "source": [
    "i = 0\n",
    "show_effect_of_PCA(faces, faces[i], image_shape, [4096, 128, 64, 32, 16, 8, 4])"
   ]
  },
  {
   "cell_type": "code",
   "execution_count": null,
   "metadata": {},
   "outputs": [],
   "source": []
  },
  {
   "cell_type": "code",
   "execution_count": null,
   "metadata": {},
   "outputs": [],
   "source": [
    "# Visualise component n\n",
    "n = 2\n",
    "fig, (ax1, ax2) = plt.subplots(1,2, figsize=(15,8))\n",
    "ax1.grid(b=None)\n",
    "ax1.imshow(eigenfaces[n], cmap='gray');\n",
    "ax2.grid(b=None)\n",
    "ax2.imshow(eigenfaces.mean(axis=0), cmap='gray');"
   ]
  },
  {
   "cell_type": "code",
   "execution_count": null,
   "metadata": {},
   "outputs": [],
   "source": [
    "plt.figure(figsize=(20,10))\n",
    "plt.grid(b=None)\n",
    "plt.imshow(np.hstack(B[:8]), cmap='gray');"
   ]
  },
  {
   "cell_type": "markdown",
   "metadata": {},
   "source": [
    "Take a look at what happens if we project our faces onto the basis spanned by these \"eigenfaces\". This requires\n",
    "us to reshape B into the same shape as the matrix representing the basis as we have done earlier. Then we can \n",
    "reuse the functions we implemented earlier to compute the projection matrix and the projection. Complete the code below to visualize the reconstructed faces that lie on the subspace spanned by the \"eigenfaces\"."
   ]
  },
  {
   "cell_type": "code",
   "execution_count": null,
   "metadata": {},
   "outputs": [],
   "source": [
    "@interact(face=(0, 49), base=(0, 10), components=(1, 100))\n",
    "def show_eigenface_reconstruction(face, base, components):\n",
    "    pca = PCA(n_components=components, svd_solver='randomized', whiten=True).fit(faces)\n",
    "    eigenface_basis = pca.components_.reshape((-1, image_shape[0], image_shape[1]))\n",
    "    original_face = faces_normalized[face].reshape(64, 64)\n",
    "    # project original_face onto the vector space spanned by B_basis,\n",
    "    # you should take advantage of the functions you have implemented above\n",
    "    # to perform the projection. First, reshape B such that it represents the basis\n",
    "    # for the eigenfaces. Then perform orthogonal projection which would give you\n",
    "    # `face_reconstruction`.\n",
    "    B_basis = eigenface_basis[base]\n",
    "    print(B_basis.shape)\n",
    "    face_reconstruction = project_general(original_face, B_basis)\n",
    "    face_reverse = project_reverse(original_face, B_basis)\n",
    "    plt.figure(figsize=(18,6))\n",
    "    plt.imshow(np.hstack([original_face, B_basis, face_reconstruction, face_reverse]), cmap='gray')\n",
    "    plt.grid(b=None)\n",
    "    plt.show()"
   ]
  },
  {
   "cell_type": "code",
   "execution_count": null,
   "metadata": {},
   "outputs": [],
   "source": [
    "@interact(i=(0, 49))\n",
    "def show_eigenface_reconstruction(i):\n",
    "    original_face = faces_normalized[i].reshape(64, 64)\n",
    "    # project original_face onto the vector space spanned by B_basis,\n",
    "    # you should take advantage of the functions you have implemented above\n",
    "    # to perform the projection. First, reshape B such that it represents the basis\n",
    "    # for the eigenfaces. Then perform orthogonal projection which would give you\n",
    "    # `face_reconstruction`.\n",
    "    B_basis = B.reshape(-1,64,64).T#[:, :10]\n",
    "    face_reconstruction = project_general(original_face, B_basis)\n",
    "    plt.figure()\n",
    "    plt.imshow(np.hstack([original_face, face_reconstruction]), cmap='gray')\n",
    "    plt.grid(b=None)\n",
    "    plt.show()"
   ]
  },
  {
   "cell_type": "markdown",
   "metadata": {},
   "source": [
    "__Question__:\n",
    "\n",
    "What would happen to the reconstruction as we increase the dimension of our basis? \n",
    "\n",
    "Modify the code above to visualize it."
   ]
  },
  {
   "cell_type": "markdown",
   "metadata": {},
   "source": [
    "## 3. Least square for predicting Boston housing prices (optional)"
   ]
  },
  {
   "cell_type": "markdown",
   "metadata": {},
   "source": [
    "Consider the case where we have a linear model for predicting housing prices. We are predicting the housing prices based on features in the \n",
    "housing dataset. If we collect the features in a vector $\\boldsymbol{x}$, and the price of the houses as $y$. Assuming that we have \n",
    "a prediction model in the way such that $\\hat{y}_i =  f(\\boldsymbol {x}_i) = \\boldsymbol \\theta^T\\boldsymbol{x}_i$.\n",
    "\n",
    "If we collect the dataset of $n$ datapoints $\\boldsymbol x_i$ in a data matrix $\\boldsymbol X$, we can write down our model like this:\n",
    "\n",
    "$$\n",
    "\\begin{bmatrix} \n",
    "\\boldsymbol {x}_1^T \\\\\n",
    "\\vdots \\\\ \n",
    "\\boldsymbol {x}_n^T \n",
    "\\end{bmatrix} \\boldsymbol {\\theta} = \\begin{bmatrix} \n",
    "y_1 \\\\\n",
    "\\vdots \\\\ \n",
    "y_n \n",
    "\\end{bmatrix}.\n",
    "$$\n",
    "\n",
    "That is,\n",
    "\n",
    "$$\n",
    "\\boldsymbol X\\boldsymbol{\\theta} = \\boldsymbol {y}.\n",
    "$$\n",
    "where $\\boldsymbol y$ collects all house prices $y_1,\\dotsc, y_n$ of the training set.\n",
    "\n",
    "Our goal is to find the best $\\boldsymbol \\theta$ that minimizes the following (least squares) objective:\n",
    "\n",
    "$$\n",
    "\\begin{eqnarray} \n",
    "&\\sum^n_{i=1}{\\lVert \\boldsymbol \\theta^T\\boldsymbol {x}_i - y_i \\rVert^2} \\\\\n",
    "&= (\\boldsymbol X\\boldsymbol {\\theta} - \\boldsymbol y)^T(\\boldsymbol X\\boldsymbol {\\theta} - \\boldsymbol y).\n",
    "\\end{eqnarray}\n",
    "$$\n",
    "Note that we aim to minimize the squared error between the prediction $\\boldsymbol \\theta^T\\boldsymbol {x}_i$  of the model and the observed data point $y_i$ in the training set. \n",
    "\n",
    "To find the optimal (maximum likelihood) parameters $\\boldsymbol \\theta^*$, we set the gradient of the least-squares objective to $\\boldsymbol 0$:\n",
    "$$\n",
    "\\begin{eqnarray} \n",
    "\\nabla_{\\boldsymbol\\theta}(\\boldsymbol X{\\boldsymbol \\theta} - \\boldsymbol y)^T(\\boldsymbol X{\\boldsymbol \\theta} - \\boldsymbol y) &=& \\boldsymbol 0 \\\\\n",
    "\\iff \\nabla_{\\boldsymbol\\theta}(\\boldsymbol {\\theta}^T\\boldsymbol X^T - \\boldsymbol y^T)(\\boldsymbol X\\boldsymbol {\\theta} - \\boldsymbol y) &=& \\boldsymbol 0 \\\\\n",
    "\\iff \\nabla_{\\boldsymbol\\theta}(\\boldsymbol {\\theta}^T\\boldsymbol X^T\\boldsymbol X\\boldsymbol {\\theta} - \\boldsymbol y^T\\boldsymbol X\\boldsymbol \\theta - \\boldsymbol \\theta^T\\boldsymbol X^T\\boldsymbol y + \\boldsymbol y^T\\boldsymbol y ) &=& \\boldsymbol 0 \\\\\n",
    "\\iff 2\\boldsymbol X^T\\boldsymbol X\\boldsymbol \\theta - 2\\boldsymbol X^T\\boldsymbol y &=& \\boldsymbol 0 \\\\\n",
    "\\iff \\boldsymbol X^T\\boldsymbol X\\boldsymbol \\theta        &=& \\boldsymbol X^T\\boldsymbol y.\n",
    "\\end{eqnarray}\n",
    "$$\n",
    "\n",
    "The solution,\\boldsymbol  which gives zero gradient solves the __normal equation__\n",
    "\n",
    "$$\\boldsymbol X^T\\boldsymbol X\\boldsymbol \\theta = \\boldsymbol X^T\\boldsymbol y.$$\n",
    "\n",
    "If you recall from the lecture on projection onto n-dimensional subspace, this is exactly the same as the normal equation we have for projection (take a look at the notes [here](https://www.coursera.org/teach/mathematics-machine-learning-pca/content/edit/supplement/fQq8T/content) if you don't remember them).\n",
    "\n",
    "This means our optimal parameter vector, which minimizes our objective, is given by\n",
    "$$\\boldsymbol \\theta^* = (\\boldsymbol X^T\\boldsymbol X)^{-1}\\boldsymbol X^T\\boldsymbol y.$$ "
   ]
  },
  {
   "cell_type": "markdown",
   "metadata": {},
   "source": [
    "Let's put things into perspective and try to find the best parameter $\\theta^*$ \n",
    "of the line $y = \\theta x$, where $x,\\theta\\in\\mathbb{R}$ for a given a training set $\\boldsymbol X\\in\\mathbb{R}^n$ and $\\boldsymbol y\\in\\mathbb{R}^n$.\n",
    "\n",
    "Note that in our example, the features $x_i$ are only scalar, such that the parameter $\\theta$ is also only a scalar. The derivation above holds for general parameter vectors (not only for scalars).\n",
    "\n",
    "Note: This is exactly the same problem as linear regression which was discussed in [Mathematics for Machine Learning: Multivariate Calculus](https://www.coursera.org/teach/multivariate-calculus-machine-learning/content/edit/lecture/74ryq/video-subtitles). However, rather than finding the optimimal $\\theta^*$ with gradient descent, we can solve this using the normal equation."
   ]
  },
  {
   "cell_type": "code",
   "execution_count": null,
   "metadata": {},
   "outputs": [],
   "source": [
    "x = np.linspace(0, 10, num=50)\n",
    "\n",
    "random = np.random.RandomState(42)  # we use the same random seed so we get deterministic output\n",
    "theta = random.randn()              # we use a random theta, our goal is to perform linear regression which finds theta_hat that minimizes the objective\n",
    "y = theta * x + random.rand(len(x)) # our theta is corrupted by some noise, so that we do not get (x,y) on a line\n",
    "\n",
    "plt.scatter(x, y);\n",
    "plt.xlabel('x');\n",
    "plt.ylabel('y');"
   ]
  },
  {
   "cell_type": "code",
   "execution_count": null,
   "metadata": {},
   "outputs": [],
   "source": [
    "X = x.reshape(-1,1)\n",
    "Y = y.reshape(-1,1)\n",
    "\n",
    "theta_hat = np.linalg.solve(X.T @ X, \n",
    "                            X.T @ Y)"
   ]
  },
  {
   "cell_type": "markdown",
   "metadata": {},
   "source": [
    "We can show how our $\\hat{\\theta}$ fits the line."
   ]
  },
  {
   "cell_type": "code",
   "execution_count": null,
   "metadata": {},
   "outputs": [],
   "source": [
    "fig, ax = plt.subplots()\n",
    "_ = ax.scatter(x, y);\n",
    "xx = [0, 10]\n",
    "yy = [0, 10 * theta_hat[0,0]]\n",
    "_ = ax.plot(xx, yy, 'red', alpha=.5);\n",
    "_ = ax.set(xlabel='x', ylabel='y');\n",
    "print(\"theta = %f\" % theta)\n",
    "print(\"theta_hat = %f\" % theta_hat)"
   ]
  },
  {
   "cell_type": "markdown",
   "metadata": {},
   "source": [
    "What would happen to $\\lVert {\\theta^*} - \\theta \\rVert$ if we increased the number of datapoints?\n",
    "\n",
    "Make your hypothesis, and write a small program to confirm it!"
   ]
  },
  {
   "cell_type": "code",
   "execution_count": null,
   "metadata": {},
   "outputs": [],
   "source": [
    "N = np.arange(10, 10000, step=10)\n",
    "# Your code here which calculates θ* for different sample size.\n",
    "random = np.random.RandomState(42)  \n",
    "\n",
    "for n in N: \n",
    "    x = np.linspace(0, 10, num=n)\n",
    "    theta = random.randn()    \n",
    "    random = np.random.RandomState(42) \n",
    "    y = theta * x + random.randn(len(x)) # our theta is corrupted by some noise, so that we do not get (x,y) on a line\n",
    "\n",
    "    # Predict Y\n",
    "    X, Y = x.reshape(-1,1), y.reshape(-1,1)\n",
    "    theta_hat = np.linalg.solve(X.T @ X, X.T @ Y)[0][0]\n",
    "#     print(\"sample size = {}, theta/theta_hat = {:.3f}\".format(n, theta/theta_hat))"
   ]
  },
  {
   "cell_type": "markdown",
   "metadata": {},
   "source": [
    "We see how we can find the best $\\theta$. In fact, we can extend our methodology to higher dimensional dataset. Let's now try applying the same methodology to the boston housing prices dataset."
   ]
  },
  {
   "cell_type": "code",
   "execution_count": null,
   "metadata": {},
   "outputs": [],
   "source": [
    "from sklearn.datasets import load_boston\n",
    "\n",
    "boston = load_boston()\n",
    "boston_X, boston_y = boston.data, boston.target\n",
    "print(\"The housing dataset has size {}\".format(boston_X.shape))\n",
    "print(\"The prices has size {}\".format(boston_y.shape))\n",
    "\n",
    "X, Y = boston_X.reshape(-1,13), boston_y.reshape(-1,1)\n",
    "boston_theta_hat = np.linalg.solve(X.T @ X, X.T @ Y)  # np.zeros(3) ## EDIT THIS to predict boston_theta_hat\n",
    "MSE = np.mean((X @ boston_theta_hat) - boston.target.reshape(-1, 1))\n",
    "MSE"
   ]
  },
  {
   "cell_type": "code",
   "execution_count": null,
   "metadata": {},
   "outputs": [],
   "source": []
  }
 ],
 "metadata": {
  "language_info": {
   "name": "python",
   "pygments_lexer": "ipython3"
  }
 },
 "nbformat": 4,
 "nbformat_minor": 2
}
