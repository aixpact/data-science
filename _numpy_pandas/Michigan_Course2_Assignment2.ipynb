{
 "cells": [
  {
   "cell_type": "code",
   "execution_count": null,
   "metadata": {},
   "outputs": [],
   "source": [
    "%matplotlib inline\n",
    "\n",
    "import matplotlib.pyplot as plt\n",
    "import mplleaflet\n",
    "import pandas as pd"
   ]
  },
  {
   "cell_type": "code",
   "execution_count": null,
   "metadata": {},
   "outputs": [],
   "source": [
    "def leaflet_plot_stations(binsize, file):\n",
    "\n",
    "    station_locations_by_hash = pd.read_csv(file) # data/C2A2_data/BinSize_d\n",
    "    print(station_locations_by_hash)\n",
    "#     station_locations_by_hash = df[df['hash'] == hashid]\n",
    "\n",
    "    lons = station_locations_by_hash['LONGITUDE'].tolist()\n",
    "    lats = station_locations_by_hash['LATITUDE'].tolist()\n",
    "\n",
    "    plt.figure(figsize=(8,8))\n",
    "\n",
    "    plt.scatter(lons, lats, c='r', alpha=0.7, s=200)\n",
    "\n",
    "    return mplleaflet.display()"
   ]
  },
  {
   "cell_type": "code",
   "execution_count": null,
   "metadata": {},
   "outputs": [],
   "source": [
    "!find .. | grep -i fb441e62df2d58994928907a91895ec62c2c42e6cd075c2700843b89"
   ]
  },
  {
   "cell_type": "code",
   "execution_count": null,
   "metadata": {},
   "outputs": [],
   "source": [
    "file = '../_data/fb441e62df2d58994928907a91895ec62c2c42e6cd075c2700843b89.csv'"
   ]
  },
  {
   "cell_type": "code",
   "execution_count": null,
   "metadata": {},
   "outputs": [],
   "source": [
    "# leaflet_plot_stations(400, file)"
   ]
  },
  {
   "cell_type": "markdown",
   "metadata": {},
   "source": [
    "### Import data"
   ]
  },
  {
   "cell_type": "code",
   "execution_count": null,
   "metadata": {},
   "outputs": [],
   "source": [
    "df_GHCN = pd.read_csv(file)\n",
    "df_GHCN.sample(5)"
   ]
  },
  {
   "cell_type": "markdown",
   "metadata": {},
   "source": [
    "### Convert long DF to wide DF; TMIN and TMAX to columns"
   ]
  },
  {
   "cell_type": "code",
   "execution_count": null,
   "metadata": {},
   "outputs": [],
   "source": [
    "df = df_GHCN.groupby(['Element', 'ID', 'Date']).agg({'Data_Value':min, 'Data_Value':max})\n",
    "df.unstack(level=0).reset_index()"
   ]
  },
  {
   "cell_type": "markdown",
   "metadata": {},
   "source": [
    "#### Create separate dataframes for each Element"
   ]
  },
  {
   "cell_type": "code",
   "execution_count": null,
   "metadata": {},
   "outputs": [],
   "source": [
    "df_GHCN_max = df_GHCN[df_GHCN.loc[:, 'Element'] == 'TMAX']\n",
    "df_GHCN_min = df_GHCN[df_GHCN.loc[:, 'Element'] == 'TMIN']"
   ]
  },
  {
   "cell_type": "markdown",
   "metadata": {},
   "source": [
    "#### Merge separate dataframes"
   ]
  },
  {
   "cell_type": "code",
   "execution_count": null,
   "metadata": {},
   "outputs": [],
   "source": [
    "df_GHCN = pd.merge(df_GHCN_min, df_GHCN_max, how='outer', left_on=['ID','Date'], right_on=['ID','Date'])\n",
    "df_GHCN.columns = ['ID', 'Date', 'x', 'TMIN', 'y', 'TMAX']\n",
    "df_GHCN.drop(['x', 'y'], axis=1, inplace=True)\n",
    "df_GHCN.sample(10)"
   ]
  },
  {
   "cell_type": "code",
   "execution_count": null,
   "metadata": {},
   "outputs": [],
   "source": [
    "# Convert dates\n",
    "# observation_dates = np.arange('2017-01-01', '2017-01-09', dtype='datetime64[D]')\n",
    "df_GHCN.loc[:, 'Date'] = list(map(pd.to_datetime, df_GHCN.loc[:, 'Date'])) \n",
    "df_GHCN.loc[:, 'Day of Year'] = df_GHCN.loc[:, 'Date'].dt.dayofyear\n",
    "df_GHCN.loc[:, 'Day'] = df_GHCN.loc[:, 'Date'].dt.day\n",
    "df_GHCN.loc[:, 'Month'] = df_GHCN.loc[:, 'Date'].dt.month\n",
    "df_GHCN.loc[:, 'Year'] = df_GHCN.loc[:, 'Date'].dt.year\n",
    "# df_GHCN.dtypes"
   ]
  },
  {
   "cell_type": "code",
   "execution_count": null,
   "metadata": {},
   "outputs": [],
   "source": [
    "# Mask leap day\n",
    "mask_leap = (df_GHCN.loc[:, 'Month'] == 2) & (df_GHCN.loc[:, 'Day'] == 29)\n",
    "df_GHCN = df_GHCN[~mask_leap]"
   ]
  },
  {
   "cell_type": "code",
   "execution_count": null,
   "metadata": {},
   "outputs": [],
   "source": [
    "# Split df\n",
    "df_2005 = df_GHCN[df_GHCN.loc[:, 'Year'] < 2015]\n",
    "df_2015 = df_GHCN[df_GHCN.loc[:, 'Year'] == 2015]"
   ]
  },
  {
   "cell_type": "code",
   "execution_count": null,
   "metadata": {},
   "outputs": [],
   "source": [
    "df_2015.groupby('Day of Year').agg({'TMIN':min, 'TMAX':max})"
   ]
  },
  {
   "cell_type": "code",
   "execution_count": null,
   "metadata": {},
   "outputs": [],
   "source": [
    "# Daily records\n",
    "daily_records = df_2005.groupby(['Day of Year']).agg({'TMIN':min, 'TMAX':max})\n",
    "daily_records;"
   ]
  },
  {
   "cell_type": "code",
   "execution_count": null,
   "metadata": {},
   "outputs": [],
   "source": [
    "df_2015.loc[:, 'TMIN'];"
   ]
  },
  {
   "cell_type": "code",
   "execution_count": null,
   "metadata": {},
   "outputs": [],
   "source": [
    "\n",
    "\n",
    "min_record_2015_mask = df_2015.loc[:, 'TMIN'] < daily_records.loc[:, 'TMIN']\n",
    "print(min_record_2015_mask)"
   ]
  },
  {
   "cell_type": "code",
   "execution_count": null,
   "metadata": {},
   "outputs": [],
   "source": [
    "# Merge\n",
    "df_2005 = pd.merge(df_2005, daily_records, how='left', left_on='Day of Year', right_index=True)\n",
    "df_2005.columns = ['ID', 'Date', 'TMIN', 'TMAX', 'Day of Year', 'Day', 'Month', 'Year', 'Record Min', 'Record Max']\n",
    "df_2005.head()"
   ]
  },
  {
   "cell_type": "code",
   "execution_count": null,
   "metadata": {},
   "outputs": [],
   "source": [
    "\n",
    "\n",
    "\n",
    "\n",
    "\n",
    "\n",
    "\n",
    "\n",
    "\n",
    "\n",
    "# df_2015_ = pd.merge(df_2015, daily_min, how='left', left_on='Day of Year', right_index=True)\n",
    "# df_2015_ = pd.merge(df_2015_, daily_max, how='left', left_on='Day of Year', right_index=True)\n",
    "# df_2015_.columns  = ['ID', 'Date', 'TMIN', 'TMAX', 'Day of Year', 'Day', 'Month', 'Year',\n",
    "#        'Record Min', 'Record Max']\n",
    "# df_2015_.head()\n",
    "# df_2005.loc[:, 'Record Min'] = df_2005.groupby('Day of Year').agg({'TMIN':min})  #['TMIN'].transform('min')  #\n",
    "# df_2005.loc[:, 'Record Max'] = df_2005.groupby('Day of Year')['TMAX'].transform('max')\n",
    "# df_2005.head(-1)\n",
    "\n",
    "# # Is record\n",
    "# df_2005.loc[:, 'Is Min Record'] = df_2005.loc[:, 'TMIN'] == df_2005.loc[:, 'Record Min'] #df_GHCN.groupby('Day of Year')['TMIN'].transform('min')\n",
    "# df_2005.loc[:, 'Is Max Record'] = df_2005.loc[:, 'TMAX'] == df_2005.loc[:, 'Record Max'] #df_GHCN.groupby('Day of Year')['TMAX'].transform('max')\n",
    "\n",
    "\n",
    "# # Sanity check leap filter\n",
    "# # print(df_GHCN[mask_leap])\n",
    "# df_2005.head(-1)"
   ]
  },
  {
   "cell_type": "code",
   "execution_count": null,
   "metadata": {},
   "outputs": [],
   "source": [
    "plt.figure(figsize=(20, 6))"
   ]
  },
  {
   "cell_type": "code",
   "execution_count": null,
   "metadata": {},
   "outputs": [],
   "source": [
    "#\n",
    "df_2005_2014 = df_GHCN[(df_GHCN['Year'] > 2004) & (df_GHCN['Year'] < 2015)]\n",
    "df_2005_2014.head(-1)\n",
    "\n",
    "df_2015 = df_GHCN[df_GHCN['Year'] == 2015]\n",
    "df_2015.head(-1)\n",
    "\n",
    "#\n",
    "df_min = df_2005_2014.groupby(['Month', 'Day']).agg({'TMIN':min, 'TMAX':max})\n",
    "df_min.head(-1)\n",
    "\n",
    "#\n",
    "df_2015_min = df_2015.groupby(['Month', 'Day']).agg({'TMIN':min, 'TMAX':max})\n",
    "# assert df_2015[df_GHCN['TMIN'] < df_GHCN['Day Min']] == df_2015_min             \n",
    "df_2015_min.head(-1)\n",
    "\n",
    "#\n",
    "mask = (df_GHCN['Date'].dt.month == 12) & (df_GHCN['Date'].dt.day == 30)\n",
    "print(df_GHCN[mask])\n",
    "\n",
    "# #\n",
    "# plt.plot(df_min.index, df_min['TMIN'], '-')\n",
    "# plt.plot(df_min.index, df_min['TMAX'], '-') \n",
    "# plt.xticks = '{}-{}'.format(df_min['Day'], df_min['Month'])\n",
    "# # print(xlabel)\n",
    "\n",
    "# # fill the area between the linear data and exponential data\n",
    "# plt.gca().fill_between(range(len(df_min.index)), \n",
    "#                        df_min['TMIN'], df_min['TMAX'], \n",
    "#                        facecolor='gray', \n",
    "#                        alpha=0.25)\n",
    "# # plt.scatter(df_min.index, df_min['TMIN'], '-')\n",
    "\n",
    "# plt.show()\n"
   ]
  },
  {
   "cell_type": "code",
   "execution_count": null,
   "metadata": {},
   "outputs": [],
   "source": [
    "df_2015_min = df_GHCN[(df_GHCN['Year'] == 2015) & (df_GHCN['TMIN'] < df_GHCN['Day Min'])]\n",
    "df_2015_min.head(-1)"
   ]
  },
  {
   "cell_type": "code",
   "execution_count": null,
   "metadata": {},
   "outputs": [],
   "source": [
    "#\n",
    "df_2005_2014 = df_GHCN[(df_GHCN['Year'] > 2004) & (df_GHCN['Year'] < 2015)]\n",
    "df_2005_2014.head(-1)\n",
    "\n",
    "df_2015 = df_GHCN[df_GHCN['Year'] == 2015]\n",
    "df_2015.head(-1)\n",
    "\n",
    "#\n",
    "df_min = df_2005_2014.groupby(['Month', 'Day']).agg({'TMIN':min, 'TMAX':max})\n",
    "df_min.head(-1)\n",
    "\n",
    "#\n",
    "df_2015_min = df_2015.groupby(['Month', 'Day']).agg({'TMIN':min, 'TMAX':max})\n",
    "# assert df_2015[df_GHCN['TMIN'] < df_GHCN['Day Min']] == df_2015_min             \n",
    "df_2015_min.head(-1)\n",
    "\n",
    "#\n",
    "mask = (df_GHCN['Date'].dt.month == 12) & (df_GHCN['Date'].dt.day == 30)\n",
    "print(df_GHCN[mask])\n",
    "\n",
    "# #\n",
    "# plt.plot(df_min.index, df_min['TMIN'], '-')\n",
    "# plt.plot(df_min.index, df_min['TMAX'], '-') \n",
    "# plt.xticks = '{}-{}'.format(df_min['Day'], df_min['Month'])\n",
    "# # print(xlabel)\n",
    "\n",
    "# # fill the area between the linear data and exponential data\n",
    "# plt.gca().fill_between(range(len(df_min.index)), \n",
    "#                        df_min['TMIN'], df_min['TMAX'], \n",
    "#                        facecolor='gray', \n",
    "#                        alpha=0.25)\n",
    "# # plt.scatter(df_min.index, df_min['TMIN'], '-')\n",
    "\n",
    "# plt.show()\n"
   ]
  },
  {
   "cell_type": "code",
   "execution_count": null,
   "metadata": {},
   "outputs": [],
   "source": [
    "%matplotlib inline"
   ]
  },
  {
   "cell_type": "code",
   "execution_count": null,
   "metadata": {},
   "outputs": [],
   "source": [
    "import matplotlib.pyplot as plt\n",
    "import mplleaflet\n",
    "import pandas as pd\n",
    "\n",
    "plt.figure()\n",
    "plt.xlabel(\"X\")\n",
    "plt.ylabel(\"Y\")\n",
    "plt.boxplot([1, 1, 2, 3, 4])\n",
    "plt.xticks([1,2,3,4], [\"a\", \"b\", \"c\", \"d\"])\n",
    "plt.show()"
   ]
  },
  {
   "cell_type": "code",
   "execution_count": null,
   "metadata": {},
   "outputs": [],
   "source": [
    "import matplotlib.pyplot as plt\n",
    "import matplotlib.dates as mdates\n",
    "from matplotlib.dates import DateFormatter\n",
    "import mplleaflet\n",
    "import calendar\n",
    "import datetime\n",
    "import numpy as np\n",
    "import pandas as pd\n",
    "\n",
    "# restore plot defaults\n",
    "plt.rcdefaults()\n",
    "\n",
    "# Import data\n",
    "df_GHCN = pd.read_csv('fb441e62df2d58994928907a91895ec62c2c42e6cd075c2700843b89.csv')\n",
    "\n",
    "# Convert long DF to wide DF; TMIN and TMAX to columns\n",
    "df_GHCN_max = df_GHCN[df_GHCN.loc[:, 'Element'] == 'TMAX']\n",
    "df_GHCN_min = df_GHCN[df_GHCN.loc[:, 'Element'] == 'TMIN']\n",
    "# df_GHCN_max.head(50)\n",
    "\n",
    "df_GHCN = pd.merge(df_GHCN_min, df_GHCN_max, how='outer', left_on=['ID','Date'], right_on=['ID','Date'])\n",
    "df_GHCN.columns = ['ID', 'Date', 'x', 'TMIN', 'y', 'TMAX']\n",
    "df_GHCN.drop(['x', 'y'], axis=1, inplace=True)\n",
    "# df_GHCN.head(10)\n",
    "\n",
    "# Convert dates\n",
    "# observation_dates = np.arange('2017-01-01', '2017-01-09', dtype='datetime64[D]')\n",
    "df_GHCN.loc[:, 'Date'] = list(map(pd.to_datetime, df_GHCN.loc[:, 'Date']))\n",
    "df_GHCN.loc[:, 'Day Month'] = df_GHCN.loc[:, 'Date'].dt.strftime('%d/%b')\n",
    "df_GHCN.loc[:, 'Day of Year'] = df_GHCN.loc[:, 'Date'].dt.dayofyear\n",
    "df_GHCN.loc[:, 'Day'] = df_GHCN.loc[:, 'Date'].dt.day\n",
    "df_GHCN.loc[:, 'Month'] = df_GHCN.loc[:, 'Date'].dt.month\n",
    "df_GHCN.loc[:, 'Year'] = df_GHCN.loc[:, 'Date'].dt.year\n",
    "# df_GHCN.dtypes\n",
    "\n",
    "#\n",
    "df_GHCN.sort_values(['Date', 'ID'], inplace=True)\n",
    "\n",
    "# Mask leap day\n",
    "mask_leap = (df_GHCN.loc[:, 'Month'] == 2) & (df_GHCN.loc[:, 'Day'] == 29)\n",
    "df_GHCN = df_GHCN[~mask_leap]\n",
    "\n",
    "# Split df\n",
    "df_2005 = df_GHCN[df_GHCN.loc[:, 'Year'] < 2015]\n",
    "df_2015 = df_GHCN[df_GHCN.loc[:, 'Year'] == 2015]\n",
    "\n",
    "# Daily records\n",
    "daily_records_2005 = df_2005.groupby(['Day Month']).agg({'TMIN':min, 'TMAX':max})\n",
    "daily_records_2015 = df_2015.groupby(['Day Month']).agg({'TMIN':min, 'TMAX':max})\n",
    "lower = daily_records_2015.loc[:, 'TMIN'] < daily_records_2005.loc[:, 'TMIN']\n",
    "higher = daily_records_2015.loc[:, 'TMAX'] > daily_records_2005.loc[:, 'TMAX']\n",
    "\n",
    "# Merge\n",
    "df_2015 = pd.merge(df_2015, daily_records_2005, how='left', left_on=['Day Month'], right_index=True)\n",
    "df_2015.columns = ['ID', 'Date', 'TMIN', 'TMAX', 'Day Month', 'Day of Year', 'Day', 'Month', 'Year', 'Low', 'High']\n",
    "df_2015.head(-1)\n",
    "\n",
    "#\n",
    "plt.figure(figsize=(20, 6))\n",
    "# fig, ax = plt.subplots()\n",
    "ax = plt.gca()\n",
    "fig = plt.gcf()\n",
    "## Rotate date labels automatically\n",
    "fig.autofmt_xdate()\n",
    "\n",
    "df_plot = df_2015.groupby('Day of Year').agg({'TMIN':min, 'TMAX':max, 'Low':min, 'High':max})\n",
    "df_scatter_min = df_plot[df_plot.loc[:, 'TMIN'] < df_plot.loc[:, 'Low']]\n",
    "df_scatter_max = df_plot[df_plot.loc[:, 'TMAX'] > df_plot.loc[:, 'High']]\n",
    "\n",
    "plt.plot(df_plot.index.values, df_plot.loc[:, 'Low'], '-')\n",
    "plt.plot(df_plot.index.values, df_plot.loc[:, 'High'], '-')\n",
    "\n",
    "#\n",
    "plt.xlabel('Day of year')\n",
    "plt.ylabel('Temperature in tens grades of Celcius')\n",
    "plt.title('Daily Temperature Extremes \\n2015 vs 2005-2014')\n",
    "\n",
    "#\n",
    "# fill the area between the linear data and exponential data\n",
    "plt.gca().fill_between(range(len(df_plot.index)),\n",
    "                       df_plot.loc[:, 'Low'], df_plot.loc[:, 'High'],\n",
    "                       facecolor='gray',\n",
    "                       alpha=0.25)\n",
    "plt.scatter(df_scatter_min.index, df_scatter_min.loc[:, 'TMIN'], c='red')\n",
    "plt.scatter(df_scatter_max.index, df_scatter_max.loc[:, 'TMAX'], c='red')\n",
    "\n",
    "#\n",
    "\n",
    "myFmt = DateFormatter(\"%d/%b\")\n",
    "ax.xaxis_date()\n",
    "ax.xaxis.set_major_formatter(myFmt)\n",
    "ax.xaxis.set_major_locator(mdates.MonthLocator())\n",
    "fig.autofmt_xdate()\n",
    "plt.xticks(np.arange(12), rotation=17)\n",
    "# plt.xticks([])\n",
    "# plt.yticks([])\n",
    "plt.setp(ax.get_xticklabels(), visible=True)\n",
    "plt.show()"
   ]
  },
  {
   "cell_type": "code",
   "execution_count": null,
   "metadata": {},
   "outputs": [],
   "source": [
    "import matplotlib.dates as mdates\n",
    "\n",
    "N = 20\n",
    "numpy.random.seed(N)\n",
    "\n",
    "df = pandas.DataFrame(\n",
    "    data=numpy.random.randn(N), \n",
    "    index=pandas.date_range('1/1/2014', periods=N, freq='m'),\n",
    "    columns=['A']\n",
    ")\n",
    "\n",
    "fig, (ax1, ax2) = plt.subplots(1,2, figsize=(15, 10))\n",
    "\n",
    "ax1.bar(df.index, df['A'], width=25, align='center')\n",
    "ax2.barh(df.index, df['A'], height=25, align='center')\n",
    "\n",
    "# Spines\n",
    "for ax in [ax1, ax2]:\n",
    "    for pos in 'left top right bottom'.split():\n",
    "        ax.spines[pos].set_visible(False)\n",
    "\n",
    "# \n",
    "ax1.set_yticks([])\n",
    "ax2.set_xticks([])\n",
    "    \n",
    "# Text\n",
    "for i, date, A in zip(range(df.shape[0]), df.index, df.A):\n",
    "    ax1.text(mdates.date2num(date)-6, A+0.2, round(A*10,0), color='k', size=10, fontweight='bold', rotation=90)\n",
    "    ax1.tick_params(axis='x', labelrotation=90)\n",
    "\n",
    "\n",
    "# Text\n",
    "for i, date, A in zip(range(df.shape[0]), df.index, df.A):\n",
    "    ax2.text(A+0.05, mdates.date2num(date)-4, round(A*10,0), color='k', size=10, fontweight='bold')\n",
    "    \n",
    "\n",
    "ax1.xaxis.set_major_formatter(mdates.DateFormatter('%b-%Y'));\n",
    "ax1.spines.clear\n",
    "\n",
    "# ax1.set_xticklabels(mdates.date2num(df.index), rotation=45)\n",
    "ax2.yaxis.set_major_formatter(mdates.DateFormatter('%b-%Y'));\n",
    "\n",
    "\n",
    "# fig.autofmt_xdate();\n",
    "\n",
    "#     ax1.tick_params(axis='y',          # changes apply to the y-axis\n",
    "#                     which='both',      # both major and minor ticks are affected\n",
    "#                     bottom=False,      # ticks along the bottom edge are off\n",
    "#                     top=False,         # ticks along the top edge are off\n",
    "#                     labelbottom=False) # labels along the bottom edge are off"
   ]
  },
  {
   "cell_type": "code",
   "execution_count": null,
   "metadata": {},
   "outputs": [],
   "source": [
    "# I found a workaround, by applying this at the end:\n",
    "# In this case, df is the DataFrame I'm plotting, and d.index is the DatetimeIndex.\n",
    "plt.gca().xaxis.set_major_formatter(plt.FixedFormatter(df.index.to_series().dt.strftime(\"%b %Y\")))"
   ]
  },
  {
   "cell_type": "code",
   "execution_count": null,
   "metadata": {},
   "outputs": [],
   "source": [
    "# Just FYI, if you have stored the axis for the plot already (as in #1918 (comment)), you can also do\n",
    "ax.xaxis.set_major_formatter(plt.FixedFormatter(df.index.to_series().dt.strftime(\"%d %b %Y\")))"
   ]
  },
  {
   "cell_type": "code",
   "execution_count": null,
   "metadata": {},
   "outputs": [],
   "source": [
    "plt.tick_params(\n",
    "    axis='x',          # changes apply to the x-axis\n",
    "    which='both',      # both major and minor ticks are affected\n",
    "    bottom=False,      # ticks along the bottom edge are off\n",
    "    top=False,         # ticks along the top edge are off\n",
    "    labelbottom=False) # labels along the bottom edge are off"
   ]
  }
 ],
 "metadata": {
  "language_info": {
   "name": "python",
   "pygments_lexer": "ipython3"
  }
 },
 "nbformat": 4,
 "nbformat_minor": 2
}
