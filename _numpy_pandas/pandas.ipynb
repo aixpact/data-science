{
 "cells": [
  {
   "cell_type": "markdown",
   "metadata": {},
   "source": [
    "<h1>Pandas</h1>"
   ]
  },
  {
   "cell_type": "markdown",
   "metadata": {},
   "source": [
    "<h2>Important data update</h2>\n",
    "Because of changes to both google as well as yahoo API, pandas datareader has become unreliable. It mostly works with python 3.6, yahoo, and the latest version of pandas datareader, but not always. Google API no longer works. \n",
    "\n",
    "If you can't get data from yahoo, please use the two files ibm.pickle and regression_data.pickle included here."
   ]
  },
  {
   "cell_type": "code",
   "execution_count": null,
   "metadata": {},
   "outputs": [],
   "source": [
    "#installing pandas libraries\n",
    "!pip install  --upgrade pandas-datareader==0.5.0\n",
    "!pip install --upgrade html5lib==1.0b8\n",
    "\n",
    "#There is a bug in the latest version of html5lib so install an earlier version\n",
    "#Restart kernel after installing html5lib"
   ]
  },
  {
   "cell_type": "markdown",
   "metadata": {},
   "source": [
    "<h2>Imports</h2>"
   ]
  },
  {
   "cell_type": "code",
   "execution_count": null,
   "metadata": {},
   "outputs": [],
   "source": [
    "import pandas as pd #pandas library\n",
    "from pandas_datareader import data #data readers (google, html, etc.)\n",
    "#The following line ensures that graphs are rendered in the notebook\n",
    "%matplotlib inline \n",
    "import numpy as np\n",
    "import matplotlib.pyplot as plt #Plotting library\n",
    "import datetime as dt #datetime for timeseries support"
   ]
  },
  {
   "cell_type": "markdown",
   "metadata": {},
   "source": [
    "<h2>The structure of a dataframe</h2>"
   ]
  },
  {
   "cell_type": "code",
   "execution_count": null,
   "metadata": {},
   "outputs": [],
   "source": [
    "pd.DataFrame([[1,2,3],[1,2,3]],columns=['A','B','C'])"
   ]
  },
  {
   "cell_type": "markdown",
   "metadata": {},
   "source": [
    "<h3>Accessing columns and rows</h3>"
   ]
  },
  {
   "cell_type": "code",
   "execution_count": null,
   "metadata": {},
   "outputs": [],
   "source": [
    "df = pd.DataFrame([['r1','00','01','02'],['r2','10','11','12'],['r3','20','21','22']],columns=['row_label','A','B','C'])\n",
    "print(id(df))\n",
    "df.set_index('row_label',inplace=True)\n",
    "print(id(df))\n",
    "df"
   ]
  },
  {
   "cell_type": "markdown",
   "metadata": {},
   "source": [
    "<h3>Getting column data</h3>"
   ]
  },
  {
   "cell_type": "code",
   "execution_count": null,
   "metadata": {},
   "outputs": [],
   "source": [
    "df['B']"
   ]
  },
  {
   "cell_type": "markdown",
   "metadata": {},
   "source": [
    "<h3>Getting row data</h3>"
   ]
  },
  {
   "cell_type": "code",
   "execution_count": null,
   "metadata": {},
   "outputs": [],
   "source": [
    "df.loc['r1']"
   ]
  },
  {
   "cell_type": "markdown",
   "metadata": {},
   "source": [
    "<h3>Getting a row by row number</h3>"
   ]
  },
  {
   "cell_type": "code",
   "execution_count": null,
   "metadata": {},
   "outputs": [],
   "source": [
    "df.iloc[0]"
   ]
  },
  {
   "cell_type": "markdown",
   "metadata": {},
   "source": [
    "<h3>Getting multiple columns<h3>"
   ]
  },
  {
   "cell_type": "code",
   "execution_count": null,
   "metadata": {},
   "outputs": [],
   "source": [
    "df[['B','A']] #Note that the column identifiers are in a list"
   ]
  },
  {
   "cell_type": "markdown",
   "metadata": {},
   "source": [
    "<h3>Getting a specific cell</h3>"
   ]
  },
  {
   "cell_type": "code",
   "execution_count": null,
   "metadata": {},
   "outputs": [],
   "source": [
    "df.loc['r2','B']"
   ]
  },
  {
   "cell_type": "code",
   "execution_count": null,
   "metadata": {},
   "outputs": [],
   "source": [
    "df.loc['r2']['A']"
   ]
  },
  {
   "cell_type": "markdown",
   "metadata": {},
   "source": [
    "<h3>Slicing</h3>"
   ]
  },
  {
   "cell_type": "code",
   "execution_count": null,
   "metadata": {},
   "outputs": [],
   "source": [
    "df.loc['r1':'r2']"
   ]
  },
  {
   "cell_type": "code",
   "execution_count": null,
   "metadata": {},
   "outputs": [],
   "source": [
    "df.loc['r1':'r2','B':'C']"
   ]
  },
  {
   "cell_type": "markdown",
   "metadata": {},
   "source": [
    "<h2>Pandas datareader</h2>\n",
    "<li>Access data from html tables on any web page</li>\n",
    "<li>Get data from google finance</li>\n",
    "<li>Get data from the federal reserve</li>"
   ]
  },
  {
   "cell_type": "markdown",
   "metadata": {},
   "source": [
    "<h3>HTML Tables</h3>\n",
    "<li>Pandas datareader can read a table in an html page into a dataframe\n",
    "<li>the read_html function returns a list of all dataframes with one dataframe for each html table on the page"
   ]
  },
  {
   "cell_type": "markdown",
   "metadata": {},
   "source": [
    "<h4>Example: Read the tables on the google finance page</h4>"
   ]
  },
  {
   "cell_type": "code",
   "execution_count": null,
   "metadata": {},
   "outputs": [],
   "source": [
    "df_list = pd.read_html('http://www.bloomberg.com/markets/currencies/major')\n",
    "print(len(df_list))"
   ]
  },
  {
   "cell_type": "markdown",
   "metadata": {},
   "source": [
    "<h4>The page contains only one table so the read_html function returns a list of one element</h4>"
   ]
  },
  {
   "cell_type": "code",
   "execution_count": null,
   "metadata": {},
   "outputs": [],
   "source": [
    "df = df_list[0]\n",
    "print(df)"
   ]
  },
  {
   "cell_type": "markdown",
   "metadata": {},
   "source": [
    "<h4>Note that the read_html function has automatically detected the header columns</h4>\n",
    "<h4>If an index is necessary, we need to explicitly specify it</h4>"
   ]
  },
  {
   "cell_type": "code",
   "execution_count": null,
   "metadata": {},
   "outputs": [],
   "source": [
    "df.set_index('Currency',inplace=True)\n",
    "print(df)"
   ]
  },
  {
   "cell_type": "markdown",
   "metadata": {},
   "source": [
    "<h4>Now we can use .loc to extract specific currency rates</h4>"
   ]
  },
  {
   "cell_type": "code",
   "execution_count": null,
   "metadata": {},
   "outputs": [],
   "source": [
    "df.loc['EUR-CHF','Value']"
   ]
  },
  {
   "cell_type": "markdown",
   "metadata": {},
   "source": [
    "<h3>Working with views and copies</h3>"
   ]
  },
  {
   "cell_type": "markdown",
   "metadata": {},
   "source": [
    "<h4>Chained indexing creates a copy and changes to the copy won't be reflected in the original dataframe</h4>"
   ]
  },
  {
   "cell_type": "code",
   "execution_count": null,
   "metadata": {},
   "outputs": [],
   "source": [
    "eur_usd = df.loc['EUR-USD']['Change'] #This is chained indexing\n",
    "df.loc['EUR-USD']['Change'] = 1.0 #Here we are changing a value in a copy of the dataframe\n",
    "print(eur_usd)\n",
    "print(df.loc['EUR-USD']['Change']) #Neither eur_usd, nor the dataframe are changed"
   ]
  },
  {
   "cell_type": "code",
   "execution_count": null,
   "metadata": {},
   "outputs": [],
   "source": [
    "eur_usd = df.loc['EUR-USD','Change'] #eur_usd points to the value inside the dataframe\n",
    "df.loc['EUR-USD','Change'] = 1.0 #Change the value in the view \n",
    "print(eur_usd) #eur_usd is changed (because it points to the view)\n",
    "print(df.loc['EUR-USD']['Change']) #The dataframe has been correctly updated"
   ]
  },
  {
   "cell_type": "markdown",
   "metadata": {},
   "source": [
    "<h2>Getting historical stock prices from Yahoo financs</h2>\n",
    "Usage: DataReader(ticker,source,startdate,enddate)<br>\n",
    "\n"
   ]
  },
  {
   "cell_type": "code",
   "execution_count": null,
   "metadata": {},
   "outputs": [],
   "source": [
    "from pandas_datareader import data\n",
    "import datetime as dt\n",
    "start=dt.datetime(2017, 1, 1)\n",
    "end=dt.datetime.today()\n",
    "\n",
    "\n",
    "print(start,end)\n",
    "\n",
    "\n",
    "df = data.DataReader('IBM', 'yahoo', start, end)\n"
   ]
  },
  {
   "cell_type": "code",
   "execution_count": null,
   "metadata": {},
   "outputs": [],
   "source": [
    "df.to_pickle(\"ibm.pickle\")"
   ]
  },
  {
   "cell_type": "code",
   "execution_count": null,
   "metadata": {},
   "outputs": [],
   "source": [
    "#If you're having issues with yahoo, uncomment the following line and run this cell\n",
    "#Make sure you've downloaded ibm.pickle\n",
    "\n",
    "#df = pandas.read_pickle(\"ibm.pickle\")"
   ]
  },
  {
   "cell_type": "code",
   "execution_count": null,
   "metadata": {},
   "outputs": [],
   "source": [
    "df"
   ]
  },
  {
   "cell_type": "markdown",
   "metadata": {},
   "source": [
    "<h2>Datareader documentation</h2>\n",
    "http://pandas-datareader.readthedocs.io/en/latest/</h2>"
   ]
  },
  {
   "cell_type": "markdown",
   "metadata": {},
   "source": [
    "<h3>Working with a timeseries data frame</h3>\n",
    "<li>The data is organized by time with the index serving as the timeline\n"
   ]
  },
  {
   "cell_type": "markdown",
   "metadata": {},
   "source": [
    "<h4>Creating new columns</h4>\n",
    "<li>Add a column to a dataframe\n",
    "<li>Base the elements of the column on some combination of data in the existing columns\n",
    "<h4>Example: Number of Days that the stock closed higher than it opened\n",
    "<li>We'll create a new column with the header \"UP\"\n",
    "<li>And use np.where to decide what to put in the column"
   ]
  },
  {
   "cell_type": "code",
   "execution_count": null,
   "metadata": {},
   "outputs": [],
   "source": [
    "df['UP']=np.where(df['Close']>df['Open'],1,0)\n",
    "df"
   ]
  },
  {
   "cell_type": "markdown",
   "metadata": {},
   "source": [
    "<h3>Get summary statistics</h3>\n",
    "<li>The \"describe\" function returns a dataframe containing summary stats for all numerical columns\n",
    "<li>Columns containing non-numerical data are ignored"
   ]
  },
  {
   "cell_type": "code",
   "execution_count": null,
   "metadata": {},
   "outputs": [],
   "source": [
    "df.describe()"
   ]
  },
  {
   "cell_type": "markdown",
   "metadata": {},
   "source": [
    "<h4>Calculate the percentage of days that the stock has closed higher than its open</h4>"
   ]
  },
  {
   "cell_type": "code",
   "execution_count": null,
   "metadata": {},
   "outputs": [],
   "source": [
    "df['UP'].sum()/df['UP'].count()"
   ]
  },
  {
   "cell_type": "markdown",
   "metadata": {},
   "source": [
    "<h4>Calculate percent changes</h4>\n",
    "<li>The function pct_change computes a percent change between successive rows (times in  timeseries data)\n",
    "<li>Defaults to a single time delta\n",
    "<li>With an argument, the time delta can be changed"
   ]
  },
  {
   "cell_type": "code",
   "execution_count": null,
   "metadata": {},
   "outputs": [],
   "source": [
    "df['Close'].pct_change() #One timeperiod percent change"
   ]
  },
  {
   "cell_type": "code",
   "execution_count": null,
   "metadata": {},
   "outputs": [],
   "source": [
    "n=13\n",
    "df['Close'].pct_change(n) #n timeperiods percent change"
   ]
  },
  {
   "cell_type": "markdown",
   "metadata": {},
   "source": [
    "<h3>NaN support</h3>\n",
    "Pandas functions can ignore NaNs"
   ]
  },
  {
   "cell_type": "code",
   "execution_count": null,
   "metadata": {},
   "outputs": [],
   "source": [
    "n=13\n",
    "df['Close'].pct_change(n).mean()"
   ]
  },
  {
   "cell_type": "markdown",
   "metadata": {},
   "source": [
    "<h3>Rolling windows</h3>\n",
    "<li>\"rolling\" function extracts rolling windows\n",
    "<li>For example, the 21 period rolling window of the 13 period percent change "
   ]
  },
  {
   "cell_type": "code",
   "execution_count": null,
   "metadata": {},
   "outputs": [],
   "source": [
    "df['Close'].pct_change(n).rolling(21)"
   ]
  },
  {
   "cell_type": "markdown",
   "metadata": {},
   "source": [
    "<h4>Calculate something on the rolling windows</h4>"
   ]
  },
  {
   "cell_type": "markdown",
   "metadata": {},
   "source": [
    "<h4>Example: mean (the 21 day moving average of the 13 day percent change)"
   ]
  },
  {
   "cell_type": "code",
   "execution_count": null,
   "metadata": {},
   "outputs": [],
   "source": [
    "n=13\n",
    "df['Close'].pct_change(n).rolling(21).mean()"
   ]
  },
  {
   "cell_type": "markdown",
   "metadata": {},
   "source": [
    "<h4>Calculate several moving averages and graph them</h4>"
   ]
  },
  {
   "cell_type": "code",
   "execution_count": null,
   "metadata": {},
   "outputs": [],
   "source": [
    "ma_8 = df['Close'].pct_change(n).rolling(window=8).mean()\n",
    "ma_13= df['Close'].pct_change(n).rolling(window=13).mean()\n",
    "ma_21= df['Close'].pct_change(n).rolling(window=21).mean()\n",
    "ma_34= df['Close'].pct_change(n).rolling(window=34).mean()\n",
    "ma_55= df['Close'].pct_change(n).rolling(window=55).mean()"
   ]
  },
  {
   "cell_type": "code",
   "execution_count": null,
   "metadata": {},
   "outputs": [],
   "source": [
    "ma_8.plot()\n",
    "ma_34.plot()"
   ]
  },
  {
   "cell_type": "markdown",
   "metadata": {},
   "source": [
    "<h2>Linear regression with pandas</h2>\n",
    "<h4>Example: TAN is the ticker for a solar ETF. FSLR, RGSE, and SPWR are tickers of companies that build or lease solar panels. Each has a different business model. We'll use pandas to study the risk reward tradeoff between the 4 investments and also see how correlated they are</h4>"
   ]
  },
  {
   "cell_type": "code",
   "execution_count": null,
   "metadata": {},
   "outputs": [],
   "source": [
    "import datetime\n",
    "import pandas_datareader as data\n",
    "start = datetime.datetime(2015,7,1)\n",
    "end = datetime.datetime(2016,6,1)\n",
    "solar_df = data.DataReader(['FSLR', 'TAN','RGSE','SPWR'],'yahoo', start=start,end=end)['Close']"
   ]
  },
  {
   "cell_type": "code",
   "execution_count": null,
   "metadata": {},
   "outputs": [],
   "source": [
    "#If you're having issues with yahoo, uncomment the following line and run this cell\n",
    "#Make sure you've downloaded regression_data.pickle\n",
    "#solar_df = pandas.read_pickle(\"regression_data.pickle\")\n"
   ]
  },
  {
   "cell_type": "code",
   "execution_count": null,
   "metadata": {},
   "outputs": [],
   "source": []
  },
  {
   "cell_type": "markdown",
   "metadata": {},
   "source": [
    "<h4>Let's calculate returns (the 1 day percent change)</h4>"
   ]
  },
  {
   "cell_type": "code",
   "execution_count": null,
   "metadata": {},
   "outputs": [],
   "source": [
    "rets = solar_df.pct_change()\n",
    "print(rets)"
   ]
  },
  {
   "cell_type": "markdown",
   "metadata": {},
   "source": [
    "<h4>Let's visualize the relationship between each stock and the ETF</h4>"
   ]
  },
  {
   "cell_type": "code",
   "execution_count": null,
   "metadata": {},
   "outputs": [],
   "source": [
    "import matplotlib.pyplot as plt\n",
    "plt.scatter(rets.FSLR,rets.TAN)"
   ]
  },
  {
   "cell_type": "code",
   "execution_count": null,
   "metadata": {},
   "outputs": [],
   "source": [
    "plt.scatter(rets.RGSE,rets.TAN)"
   ]
  },
  {
   "cell_type": "code",
   "execution_count": null,
   "metadata": {},
   "outputs": [],
   "source": [
    "plt.scatter(rets.SPWR,rets.TAN)"
   ]
  },
  {
   "cell_type": "markdown",
   "metadata": {},
   "source": [
    "<h4>The correlation matrix</h4>"
   ]
  },
  {
   "cell_type": "code",
   "execution_count": null,
   "metadata": {},
   "outputs": [],
   "source": [
    "solar_corr = rets.corr()\n",
    "print(solar_corr)"
   ]
  },
  {
   "cell_type": "markdown",
   "metadata": {},
   "source": [
    "<h3>Basic risk analysis</h3>\n",
    "<h4>We'll plot the mean and std or returns for each ticker to get a sense of the risk return profile</h4>"
   ]
  },
  {
   "cell_type": "code",
   "execution_count": null,
   "metadata": {},
   "outputs": [],
   "source": [
    "plt.scatter(rets.mean(), rets.std())\n",
    "plt.xlabel('Expected returns')\n",
    "plt.ylabel('Standard deviations')\n",
    "for label, x, y in zip(rets.columns, rets.mean(), rets.std()):\n",
    "    plt.annotate(\n",
    "        label, \n",
    "        xy = (x, y), xytext = (20, -20),\n",
    "        textcoords = 'offset points', ha = 'right', va = 'bottom',\n",
    "        bbox = dict(boxstyle = 'round,pad=0.5', fc = 'yellow', alpha = 0.5),\n",
    "        arrowprops = dict(arrowstyle = '->', connectionstyle = 'arc3,rad=0'))\n",
    "plt.show()\n"
   ]
  },
  {
   "cell_type": "markdown",
   "metadata": {},
   "source": [
    "<h2>Regressions</h2>\n",
    "http://statsmodels.sourceforge.net/"
   ]
  },
  {
   "cell_type": "markdown",
   "metadata": {},
   "source": [
    "<h3>Steps for regression</h3>\n",
    "<li>Construct y (dependent variable series)\n",
    "<li>Construct matrix (dataframe) of X (independent variable series)\n",
    "<li>Add intercept\n",
    "<li>Model the regression\n",
    "<li>Get the results\n",
    "<h3>The statsmodels library contains various regression packages. We'll use the OLS (Ordinary Least Squares) model"
   ]
  },
  {
   "cell_type": "code",
   "execution_count": null,
   "metadata": {},
   "outputs": [],
   "source": [
    "import numpy as np\n",
    "import statsmodels.api as sm\n",
    "X=solar_df[['FSLR','RGSE','SPWR']]\n",
    "X = sm.add_constant(X)\n",
    "y=solar_df['TAN']\n",
    "model = sm.OLS(y,X,missing='drop')\n",
    "result = model.fit()\n",
    "print(result.summary())"
   ]
  },
  {
   "cell_type": "markdown",
   "metadata": {},
   "source": [
    "<h4>Finally plot the fitted line with the actual y values"
   ]
  },
  {
   "cell_type": "code",
   "execution_count": null,
   "metadata": {},
   "outputs": [],
   "source": [
    "fig, ax = plt.subplots(figsize=(8,6))\n",
    "ax.plot(y)\n",
    "ax.plot(result.fittedvalues)"
   ]
  },
  {
   "cell_type": "code",
   "execution_count": null,
   "metadata": {},
   "outputs": [],
   "source": []
  }
 ],
 "metadata": {
  "language_info": {
   "name": "python",
   "pygments_lexer": "ipython3"
  }
 },
 "nbformat": 4,
 "nbformat_minor": 2
}
