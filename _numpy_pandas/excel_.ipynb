{
 "cells": [
  {
   "cell_type": "markdown",
   "metadata": {},
   "source": [
    "# Title"
   ]
  },
  {
   "cell_type": "markdown",
   "metadata": {},
   "source": [
    "---\n",
    "\n",
    "You are currently looking at **version 1.0** of this notebook.\n",
    "Project/objective: \n",
    "Date: 24-may-2018\n",
    "Author: Frank Ebbers\n",
    "Contributors: \n",
    "License: MIT https://opensource.org/licenses/MIT\n",
    "\n",
    "---"
   ]
  },
  {
   "cell_type": "markdown",
   "metadata": {},
   "source": [
    "### Import the generic libraries used in this notebook"
   ]
  },
  {
   "cell_type": "code",
   "execution_count": null,
   "metadata": {},
   "outputs": [],
   "source": [
    "import numpy as np\n",
    "import pandas as pd\n",
    "\n",
    "%matplotlib inline\n",
    "# import matplotlib\n",
    "import matplotlib.pyplot as plt"
   ]
  },
  {
   "cell_type": "markdown",
   "metadata": {},
   "source": [
    "---\n",
    "## Excel tools\n",
    "---"
   ]
  },
  {
   "cell_type": "markdown",
   "metadata": {},
   "source": [
    "### Pandas"
   ]
  },
  {
   "cell_type": "markdown",
   "metadata": {},
   "source": [
    "#### Read sheets"
   ]
  },
  {
   "cell_type": "code",
   "execution_count": null,
   "metadata": {},
   "outputs": [],
   "source": [
    "# Read multiple sheets from the same file\n",
    "xlsx = pd.ExcelFile('../_data/excel_test.xlsx')\n",
    "df = pd.read_excel(xlsx, 'sheet_name')\n",
    "df"
   ]
  },
  {
   "cell_type": "markdown",
   "metadata": {},
   "source": [
    "#### Open and save sheets"
   ]
  },
  {
   "cell_type": "code",
   "execution_count": null,
   "metadata": {},
   "outputs": [],
   "source": [
    "writer = pd.ExcelWriter('../_data/excel_test.xlsx')\n",
    "df = pd.DataFrame(np.ones(10).reshape(-1, 5))\n",
    "\n",
    "# index startrow/startcol N means value is inserted at N+1\n",
    "df.to_excel(writer, 'sheet_name', startrow=5, startcol=5, header=False, index=False)\n",
    "writer.save()"
   ]
  },
  {
   "cell_type": "code",
   "execution_count": null,
   "metadata": {},
   "outputs": [],
   "source": [
    "pd.read_excel('data/excel_test.xlsx')"
   ]
  },
  {
   "cell_type": "markdown",
   "metadata": {},
   "source": [
    "### Openpyxl"
   ]
  },
  {
   "cell_type": "code",
   "execution_count": null,
   "metadata": {},
   "outputs": [],
   "source": [
    "import openpyxl\n",
    "\n",
    "# Create and change excelsheet\n",
    "new_wb = openpyxl.Workbook()\n",
    "new_wb.create_sheet('my_sheet')\n",
    "new_sheet = new_wb['my_sheet']\n",
    "new_sheet.cell(row=5, column=5).value = 'first value'\n",
    "new_wb.save('my_xls_file.xlsx')\n",
    "\n",
    "# Open and change excelsheet\n",
    "wb = openpyxl.load_workbook('my_xls_file.xlsx')\n",
    "wb_sheet = wb['my_sheet']\n",
    "wb_sheet.cell(row=10, column=10).value = 'second value'\n",
    "wb.save('my_xls_file.xlsx')"
   ]
  },
  {
   "cell_type": "markdown",
   "metadata": {},
   "source": [
    "### XLWT, XLRD"
   ]
  },
  {
   "cell_type": "code",
   "execution_count": null,
   "metadata": {},
   "outputs": [],
   "source": [
    "import xlwt\n",
    "import xlrd\n",
    "from xlutils.copy import copy\n",
    "\n",
    "# Create and change excelsheet\n",
    "book= xlwt.Workbook()\n",
    "sheet = book.add_sheet('Sheet_1')\n",
    "sheet.write(0, 0, 'sample value')\n",
    "book.save('my_sample.xls')\n",
    "\n",
    "# Open and change excelsheet\n",
    "rb = xlrd.open_workbook('my_sample.xls')\n",
    "wb = copy(rb)  # working copy so you can overwrite\n",
    "sheet = wb.get_sheet(0)\n",
    "sheet.write(5, 5, 'sample 2')\n",
    "sheet.write_merge(3, 4, 3, 4, 'sample 3', xlwt.easyxf('align: horse center, vert center'))\n",
    "wb.save('my_sample.xls')"
   ]
  },
  {
   "cell_type": "code",
   "execution_count": null,
   "metadata": {},
   "outputs": [],
   "source": [
    "# sheet.write_merge(r1, r2, c1, c2, <text>)\n",
    "# For styling add\n",
    "# xlwt.easyxf('align: horz center, vert center')\n",
    "# add the above after <text> as 6th argument to write_merge\n",
    "sheet.write_merge(0, 1, 0, 1, 'sample 1', xlwt.easyxf('align: horz center, vert center'))"
   ]
  },
  {
   "cell_type": "code",
   "execution_count": null,
   "metadata": {},
   "outputs": [],
   "source": [
    "# prints 1st row, 1st column directly\n",
    "print sheet['A1']\n",
    "\n",
    "# get a range of cells\n",
    "cells = sheet['A1:C1']\n",
    "\n",
    "sheet.cell(row=5, column=1).value = 'Appended Data'\n",
    "\n",
    "# Remove sheet\n",
    "book.remove_sheet('sheetname')\n",
    "\n",
    "# Set alignment of text inside cell and text wrapping\n",
    "sheet.cell(row=1, column=1).alignment = openpyxl.styles.Alignment(horizontal='center', vertical='center', wrap_text=True)\n",
    "\n",
    "# Make font bold or italic\n",
    "sheet.cell(row=1, column=1).font = openpyxl.styles.Font(bold=True, italic=True)\n",
    "\n",
    "# Merging first 3 columns of 1st row\n",
    "sheet.merge_cells('A1:C1')\n",
    "\n",
    "# Merging first 3 columns of 1st 3 rows\n",
    "r1 = 1\n",
    "r2 = 3\n",
    "c1 = 1\n",
    "c2 = 3\n",
    "sheet.merge_cells(start_row=r1, start_column=c1, end_row=r2, end_column=c2)\n",
    "\n",
    "# No of written Rows in sheet\n",
    "r = sheet.max_row\n",
    "\n",
    "# No of written Columns in sheet\n",
    "c = sheet.max_column\n",
    "\n",
    "# Reading each cell in excel\n",
    "for i in xrange(1, r+1):\n",
    "    for j in xrange(1, c+1):\n",
    "        print sheet.cell(row=i, column=j).value"
   ]
  },
  {
   "cell_type": "code",
   "execution_count": null,
   "metadata": {},
   "outputs": [],
   "source": [
    "df = pd.read_excel('my_xls_file.xlsx', sheet_name='my_sheet')\n",
    "df"
   ]
  },
  {
   "cell_type": "code",
   "execution_count": null,
   "metadata": {},
   "outputs": [],
   "source": []
  }
 ],
 "metadata": {
  "language_info": {
   "name": "python",
   "pygments_lexer": "ipython3"
  }
 },
 "nbformat": 4,
 "nbformat_minor": 2
}
