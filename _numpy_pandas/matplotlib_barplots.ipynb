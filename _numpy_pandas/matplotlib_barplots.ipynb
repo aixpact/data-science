{
 "cells": [
  {
   "cell_type": "markdown",
   "metadata": {},
   "source": [
    "# Barplots"
   ]
  },
  {
   "cell_type": "code",
   "execution_count": null,
   "metadata": {},
   "outputs": [],
   "source": [
    "%matplotlib inline\n",
    "\n",
    "import numpy as np\n",
    "import pandas as pd\n",
    "import matplotlib.pyplot as plt\n",
    "\n",
    "import matplotlib.dates as mdates"
   ]
  },
  {
   "cell_type": "markdown",
   "metadata": {},
   "source": [
    "### Constants"
   ]
  },
  {
   "cell_type": "code",
   "execution_count": null,
   "metadata": {},
   "outputs": [],
   "source": [
    "N = 20\n",
    "np.random.seed(N)"
   ]
  },
  {
   "cell_type": "markdown",
   "metadata": {},
   "source": [
    "### Data"
   ]
  },
  {
   "cell_type": "code",
   "execution_count": null,
   "metadata": {},
   "outputs": [],
   "source": [
    "df = pd.DataFrame(\n",
    "    data=np.random.randn(N), \n",
    "    index=pd.date_range('1/1/2014', periods=N, freq='m'),\n",
    "    columns=['A'])"
   ]
  },
  {
   "cell_type": "markdown",
   "metadata": {},
   "source": [
    "### Barplot"
   ]
  },
  {
   "cell_type": "code",
   "execution_count": null,
   "metadata": {},
   "outputs": [],
   "source": [
    "fig, (ax1, ax2) = plt.subplots(1,2, figsize=(15, 10))\n",
    "\n",
    "# Barplots\n",
    "ax1.bar(df.index, df['A'], width=25, align='center')\n",
    "ax2.barh(df.index, df['A'], height=25, align='center')\n",
    "\n",
    "# Date formatting\n",
    "ax1.xaxis.set_major_formatter(mdates.DateFormatter('%b-%Y'));\n",
    "ax2.yaxis.set_major_formatter(mdates.DateFormatter('%b-%Y'));\n",
    "\n",
    "# Spines\n",
    "for ax in [ax1, ax2]:\n",
    "    for pos in 'left top right bottom'.split():\n",
    "        ax.spines[pos].set_visible(False)\n",
    "    \n",
    "# Text subplot 1\n",
    "for i, date, A in zip(range(df.shape[0]), df.index, df.A):\n",
    "    ax1.text(mdates.date2num(date)-6, A+0.2, round(A*10,0), color='k', size=10, fontweight='bold', rotation=90)\n",
    "    ax1.tick_params(axis='x', labelrotation=90)\n",
    "\n",
    "# Text subplot 2\n",
    "for i, date, A in zip(range(df.shape[0]), df.index, df.A):\n",
    "    ax2.text(A+0.05, mdates.date2num(date)-4, round(A*10,0), color='k', size=10, fontweight='bold')\n",
    "    \n",
    "# Tick labels\n",
    "ax1.set_yticks([])\n",
    "ax2.set_xticks([]);"
   ]
  },
  {
   "cell_type": "code",
   "execution_count": null,
   "metadata": {},
   "outputs": [],
   "source": [
    "# fig.autofmt_xdate();\n",
    "\n",
    "#     ax1.tick_params(axis='y',          # changes apply to the y-axis\n",
    "#                     which='both',      # both major and minor ticks are affected\n",
    "#                     bottom=False,      # ticks along the bottom edge are off\n",
    "#                     top=False,         # ticks along the top edge are off\n",
    "#                     labelbottom=False) # labels along the bottom edge are off"
   ]
  }
 ],
 "metadata": {
  "language_info": {
   "name": "python",
   "pygments_lexer": "ipython3"
  }
 },
 "nbformat": 4,
 "nbformat_minor": 2
}
