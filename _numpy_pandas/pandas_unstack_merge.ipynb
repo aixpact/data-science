{
 "cells": [
  {
   "cell_type": "markdown",
   "metadata": {},
   "source": [
    "# Pandas unstack and merge"
   ]
  },
  {
   "cell_type": "code",
   "execution_count": null,
   "metadata": {},
   "outputs": [],
   "source": [
    "%matplotlib inline\n",
    "import numpy as np\n",
    "import pandas as pd\n",
    "\n",
    "import matplotlib.pyplot as plt\n",
    "import mplleaflet\n"
   ]
  },
  {
   "cell_type": "code",
   "execution_count": null,
   "metadata": {},
   "outputs": [],
   "source": [
    "!find .. | grep -i fb441e62df2d58994928907a91895ec62c2c42e6cd075c2700843b89"
   ]
  },
  {
   "cell_type": "code",
   "execution_count": null,
   "metadata": {},
   "outputs": [],
   "source": [
    "file = '../_data/fb441e62df2d58994928907a91895ec62c2c42e6cd075c2700843b89.csv'"
   ]
  },
  {
   "cell_type": "markdown",
   "metadata": {},
   "source": [
    "### Import data"
   ]
  },
  {
   "cell_type": "code",
   "execution_count": null,
   "metadata": {},
   "outputs": [],
   "source": [
    "df_GHCN = pd.read_csv(file)\n",
    "df_GHCN.sample(5)"
   ]
  },
  {
   "cell_type": "markdown",
   "metadata": {},
   "source": [
    "### Convert long DF to wide DF; TMIN and TMAX to columns"
   ]
  },
  {
   "cell_type": "code",
   "execution_count": null,
   "metadata": {},
   "outputs": [],
   "source": [
    "df = df_GHCN.groupby(['Element', 'ID', 'Date']).agg({'Data_Value':max, 'Data_Value':min})\n",
    "df_unstack = df.unstack(level=0).reset_index()\n",
    "df_unstack.info()"
   ]
  },
  {
   "cell_type": "code",
   "execution_count": null,
   "metadata": {},
   "outputs": [],
   "source": [
    "df_unstack.columns = 'ID Date TMAX TMIN'.split(' ')"
   ]
  },
  {
   "cell_type": "code",
   "execution_count": null,
   "metadata": {},
   "outputs": [],
   "source": [
    "df_unstack.info()\n",
    "df_unstack.sample(5)"
   ]
  },
  {
   "cell_type": "markdown",
   "metadata": {},
   "source": [
    "### Method 2"
   ]
  },
  {
   "cell_type": "markdown",
   "metadata": {},
   "source": [
    "#### Create separate dataframes for each Element"
   ]
  },
  {
   "cell_type": "code",
   "execution_count": null,
   "metadata": {},
   "outputs": [],
   "source": [
    "df_max = df_GHCN[df_GHCN.loc[:, 'Element'] == 'TMAX']\n",
    "df_min = df_GHCN[df_GHCN.loc[:, 'Element'] == 'TMIN']"
   ]
  },
  {
   "cell_type": "markdown",
   "metadata": {},
   "source": [
    "#### Merge separate dataframes"
   ]
  },
  {
   "cell_type": "code",
   "execution_count": null,
   "metadata": {},
   "outputs": [],
   "source": [
    "df_merge = pd.merge(df_min, df_max, how='outer', left_on=['ID','Date'], right_on=['ID','Date'])\n",
    "df_merge.columns = ['ID', 'Date', 'x', 'TMIN', 'y', 'TMAX']\n",
    "df_merge.drop(['x', 'y'], axis=1, inplace=True)\n",
    "df_merge.sample(10)"
   ]
  },
  {
   "cell_type": "markdown",
   "metadata": {},
   "source": [
    "### Check similarity"
   ]
  },
  {
   "cell_type": "code",
   "execution_count": null,
   "metadata": {},
   "outputs": [],
   "source": [
    "df_unstack.shape == df_merge.shape\n",
    "df_unstack.columns in df_merge.columns.values\n",
    "np.mean(sum(df_unstack['ID'] == 'USW00014833') == sum(df_merge['ID'] == 'USW00014833'))"
   ]
  },
  {
   "cell_type": "code",
   "execution_count": null,
   "metadata": {},
   "outputs": [],
   "source": [
    "df_GHCN = df_unstack"
   ]
  },
  {
   "cell_type": "markdown",
   "metadata": {},
   "source": [
    "### Convert to datetime"
   ]
  },
  {
   "cell_type": "code",
   "execution_count": null,
   "metadata": {},
   "outputs": [],
   "source": [
    "df_GHCN.loc[:, 'Date'] = pd.to_datetime(df_GHCN.loc[:, 'Date'])"
   ]
  },
  {
   "cell_type": "code",
   "execution_count": null,
   "metadata": {},
   "outputs": [],
   "source": [
    "df_GHCN['Day_of_year'] = df_GHCN.loc[:, 'Date'].dt.dayofyear"
   ]
  },
  {
   "cell_type": "markdown",
   "metadata": {},
   "source": [
    "### Remove leap days"
   ]
  },
  {
   "cell_type": "code",
   "execution_count": null,
   "metadata": {},
   "outputs": [],
   "source": [
    "leap = (df_GHCN.loc[:, 'Date'].dt.day == 29) & (df_GHCN.loc[:, 'Date'].dt.month == 2)\n",
    "df_GHCN = df_GHCN[~leap]"
   ]
  },
  {
   "cell_type": "markdown",
   "metadata": {},
   "source": [
    "### Split years"
   ]
  },
  {
   "cell_type": "code",
   "execution_count": null,
   "metadata": {},
   "outputs": [],
   "source": [
    "df_2005 = df_GHCN[df_GHCN.loc[:, 'Date'].dt.year < 2015]\n",
    "df_2015 = df_GHCN[df_GHCN.loc[:, 'Date'].dt.year == 2015]"
   ]
  },
  {
   "cell_type": "code",
   "execution_count": null,
   "metadata": {},
   "outputs": [],
   "source": [
    "df_2005.head(5)"
   ]
  },
  {
   "cell_type": "markdown",
   "metadata": {},
   "source": [
    "### Daily records (< 2015)"
   ]
  },
  {
   "cell_type": "code",
   "execution_count": null,
   "metadata": {},
   "outputs": [],
   "source": [
    "daily_records = df_2005.groupby(['Day_of_year']).agg({'TMIN':min, 'TMAX':max})\n",
    "daily_records.head(5)"
   ]
  },
  {
   "cell_type": "markdown",
   "metadata": {},
   "source": [
    "### Merge daily records with 2015"
   ]
  },
  {
   "cell_type": "code",
   "execution_count": null,
   "metadata": {},
   "outputs": [],
   "source": [
    "df_2005 = pd.merge(df_2015, daily_records, how='left', left_on='Day_of_year', right_index=True)\n",
    "df_2005.columns = ['ID', 'Date', 'TMAX', 'TMIN', 'Day_of_year','Record Min', 'Record Max']\n",
    "df_2005.head()"
   ]
  },
  {
   "cell_type": "code",
   "execution_count": null,
   "metadata": {},
   "outputs": [],
   "source": []
  }
 ],
 "metadata": {
  "language_info": {
   "name": "python",
   "pygments_lexer": "ipython3"
  }
 },
 "nbformat": 4,
 "nbformat_minor": 2
}
