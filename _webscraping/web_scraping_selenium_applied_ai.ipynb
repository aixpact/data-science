{
 "cells": [
  {
   "cell_type": "markdown",
   "metadata": {},
   "source": [
    "# Webscraping - appliedai.com"
   ]
  },
  {
   "cell_type": "code",
   "execution_count": null,
   "metadata": {},
   "outputs": [],
   "source": [
    "import numpy as np\n",
    "import pandas as pd\n",
    "import requests\n",
    "from bs4 import BeautifulSoup\n",
    "import json\n",
    "import os\n",
    "import time\n",
    "import re\n",
    "\n",
    "%matplotlib inline\n",
    "import ipywidgets as widgets\n",
    "from IPython.display import display, HTML\n",
    "from ipywidgets import interactive"
   ]
  },
  {
   "cell_type": "code",
   "execution_count": null,
   "metadata": {},
   "outputs": [],
   "source": [
    "# https://duo.com/decipher/driving-headless-chrome-with-python\n",
    "# Install Chrome Canary\n",
    "# Download latest Chromedriver (to Downloads)\n",
    "# !mkdir ../driver_headless"
   ]
  },
  {
   "cell_type": "code",
   "execution_count": null,
   "metadata": {},
   "outputs": [],
   "source": [
    "# !cp ~/Downloads/chromedriver ~/frank/lauthom_intel_design_studio/_driver_headless/"
   ]
  },
  {
   "cell_type": "code",
   "execution_count": null,
   "metadata": {},
   "outputs": [],
   "source": [
    "!pwd\n",
    "!find .. | grep headless"
   ]
  },
  {
   "cell_type": "markdown",
   "metadata": {},
   "source": [
    "## Headless Selenium"
   ]
  },
  {
   "cell_type": "code",
   "execution_count": null,
   "metadata": {},
   "outputs": [],
   "source": [
    "import selenium\n",
    "from selenium import webdriver\n",
    "from selenium.webdriver.chrome.options import Options  \n",
    "from selenium.webdriver.common.keys import Keys\n",
    "from selenium.webdriver.common.by import By \n",
    "from selenium.webdriver.support.ui import Select\n",
    "# from selenium.webdriver.support.ui import WebDriverWait \n",
    "# from selenium.webdriver.support import expected_conditions as EC \n",
    "# from selenium.common.exceptions import TimeoutException"
   ]
  },
  {
   "cell_type": "code",
   "execution_count": null,
   "metadata": {},
   "outputs": [],
   "source": [
    "chrome_options = Options()  \n",
    "chrome_options.add_argument(\"--headless\")\n",
    "chrome_options.add_argument(\"--incognito\")\n",
    "chrome_options.binary_location = '/Applications/Google Chrome Canary.app/Contents/MacOS/Google Chrome Canary'"
   ]
  },
  {
   "cell_type": "code",
   "execution_count": null,
   "metadata": {},
   "outputs": [],
   "source": [
    "url = 'https://appliedai.com/use-cases'\n",
    "keyword = '/1'\n",
    "url += keyword"
   ]
  },
  {
   "cell_type": "code",
   "execution_count": null,
   "metadata": {},
   "outputs": [],
   "source": [
    "driver_path = '../_driver_headless/chromedriver'\n",
    "driver = webdriver.Chrome(executable_path=os.path.abspath(driver_path), chrome_options=chrome_options)  \n",
    "driver.get(url)"
   ]
  },
  {
   "cell_type": "code",
   "execution_count": null,
   "metadata": {},
   "outputs": [],
   "source": [
    "print(driver.name, driver.title, driver.current_url, driver.get_cookies)"
   ]
  },
  {
   "cell_type": "markdown",
   "metadata": {},
   "source": [
    "## Scrape with Xpath\n",
    " - NOTE: to go to the start again, rerun **`driver.get(url)`**"
   ]
  },
  {
   "cell_type": "code",
   "execution_count": null,
   "metadata": {},
   "outputs": [],
   "source": [
    "# rerun driver\n",
    "xpath = '//*[@id=\"__next\"]/div/section/div[1]/div/div[3]/div[2]/div/div/div/table/*'\n",
    "SCROLL_PAUSE_TIME = 5\n",
    "text = []\n",
    "print('loading use cases: ')\n",
    "for i in range(1, 15):\n",
    "    try:\n",
    "        for tag in driver.find_elements_by_xpath(xpath):\n",
    "#             print(tag.text)\n",
    "            text.append('{}\\n'.format(tag.text))\n",
    "        # Goto next page / find child-name-tag and then parent-tag = '..'\n",
    "        child = driver.find_element_by_xpath('//*[@class=\"right chevron icon\"]')\n",
    "        child.find_element_by_xpath('..').click()  # click parent-tag\n",
    "#         print(driver.current_url)\n",
    "        time.sleep(SCROLL_PAUSE_TIME)\n",
    "    except:\n",
    "        continue\n",
    "    finally:\n",
    "        print('{}{}'.format('\\b'*len(str(len(text))), len(text)), end='')"
   ]
  },
  {
   "cell_type": "code",
   "execution_count": null,
   "metadata": {},
   "outputs": [],
   "source": [
    "text #[0].split('\\n')"
   ]
  },
  {
   "cell_type": "markdown",
   "metadata": {},
   "source": [
    "## Convert to DataFrame\n",
    " - sanity check for columns and content"
   ]
  },
  {
   "cell_type": "code",
   "execution_count": null,
   "metadata": {},
   "outputs": [],
   "source": [
    "df = pd.DataFrame([x.split('\\n') for x in text])\n",
    "df.info()\n",
    "df"
   ]
  },
  {
   "cell_type": "code",
   "execution_count": null,
   "metadata": {},
   "outputs": [],
   "source": [
    "df.columns = 'use_case function description bizz_metrics 4 5 6 7 8 9 10'.split(' ')\n",
    "df = df.fillna('')\n",
    "df.replace(r'Use Case ', r'', regex=True, inplace=True)\n",
    "df.replace(r'Function ', r'', regex=True, inplace=True)\n",
    "df.replace(r'Description ', r'', regex=True, inplace=True)\n",
    "df.replace(r'References.*', r'', regex=True, inplace=True)\n",
    "df.replace(r'See Details.*', r'', regex=True, inplace=True)\n",
    "df['business_metrics'] = df['4'] + ', ' + df['5'] + ', ' + df['6'] + ', ' + df['7'] + ', ' + df['8'] + ', ' + df['9'] + ', ' + df['10']\n",
    "df.replace(r', ,', r'', regex=True, inplace=True)\n",
    "df.replace(r' ,', r'', regex=True, inplace=True)\n",
    "del df['bizz_metrics']\n",
    "del [df['4'], df['5'], df['6'], df['7'], df['8'], df['9'], df['10']]"
   ]
  },
  {
   "cell_type": "code",
   "execution_count": null,
   "metadata": {},
   "outputs": [],
   "source": [
    "writer = pd.ExcelWriter('../_data/applied_AI.xlsx')\n",
    "\n",
    "# index startrow/startcol N means value is inserted at N+1\n",
    "df.to_excel(writer, 'AI')\n",
    "writer.save()"
   ]
  },
  {
   "cell_type": "code",
   "execution_count": null,
   "metadata": {},
   "outputs": [],
   "source": [
    "pd.read_excel('../_data/applied_AI.xlsx')"
   ]
  },
  {
   "cell_type": "code",
   "execution_count": null,
   "metadata": {},
   "outputs": [],
   "source": [
    "# https://pandas-docs.github.io/pandas-docs-travis/options.html\n",
    "pd.set_option('display.max_colwidth', 1000)\n",
    "pd.reset_option('colheader_justify')\n",
    "pd.set_option('colheader_justify', 'left')\n",
    "\n",
    "items = ['All'] + sorted(df['use_case'].unique().tolist())\n",
    "w = widgets.Select(options=items)\n",
    "\n",
    "def view(x=''):\n",
    "    if x=='All': return display(HTML(df.to_html())) # display(df)\n",
    "    return display(HTML(df.loc[df['use_case']==x, ['description']].to_html()))\n",
    " \n",
    "interactive(view, x=widgets.Select(options=items))"
   ]
  },
  {
   "cell_type": "code",
   "execution_count": null,
   "metadata": {},
   "outputs": [],
   "source": [
    "# display(HTML(df.to_html()))\n",
    "# display(df)"
   ]
  },
  {
   "cell_type": "code",
   "execution_count": null,
   "metadata": {},
   "outputs": [],
   "source": []
  },
  {
   "cell_type": "code",
   "execution_count": null,
   "metadata": {},
   "outputs": [],
   "source": []
  }
 ],
 "metadata": {
  "language_info": {
   "name": "python",
   "pygments_lexer": "ipython3"
  }
 },
 "nbformat": 4,
 "nbformat_minor": 2
}
