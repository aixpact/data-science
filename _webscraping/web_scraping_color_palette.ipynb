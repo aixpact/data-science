{
 "cells": [
  {
   "cell_type": "markdown",
   "metadata": {},
   "source": [
    "# Webscraping Color Palette"
   ]
  },
  {
   "cell_type": "markdown",
   "metadata": {},
   "source": [
    "## Scraping rules\n",
    "- You should check a site's terms and conditions before you scrape them. It's their data and they likely have some rules to govern it.\n",
    "- Be nice - A computer will send web requests much quicker than a user can. Make sure you space out your requests a bit so that you don't hammer the site's server.\n",
    "- Scrapers break - Sites change their layout all the time. If that happens, be prepared to rewrite your code.\n",
    "- Web pages are inconsistent - There's sometimes some manual clean up that has to happen even after you've gotten your data."
   ]
  },
  {
   "cell_type": "markdown",
   "metadata": {},
   "source": [
    "<h3>Import necessary modules</h3>"
   ]
  },
  {
   "cell_type": "code",
   "execution_count": null,
   "metadata": {},
   "outputs": [],
   "source": [
    "import numpy as np\n",
    "import pandas as pd\n",
    "import os\n",
    "import requests\n",
    "# from bs4 import BeautifulSoup"
   ]
  },
  {
   "cell_type": "code",
   "execution_count": null,
   "metadata": {},
   "outputs": [],
   "source": [
    "import selenium\n",
    "from selenium import webdriver\n",
    "from selenium.webdriver.chrome.options import Options  \n",
    "from selenium.webdriver.common.keys import Keys\n",
    "from selenium.webdriver.common.by import By \n",
    "# from selenium.webdriver.support.ui import WebDriverWait \n",
    "# from selenium.webdriver.support import expected_conditions as EC \n",
    "from selenium.common.exceptions import TimeoutException"
   ]
  },
  {
   "cell_type": "markdown",
   "metadata": {},
   "source": [
    "### Selenium headless driver options"
   ]
  },
  {
   "cell_type": "code",
   "execution_count": null,
   "metadata": {},
   "outputs": [],
   "source": [
    "chrome_options = Options()  \n",
    "chrome_options.add_argument(\"--headless\")\n",
    "chrome_options.add_argument(\"--incognito\")\n",
    "chrome_options.binary_location = '/Applications/Google Chrome Canary.app/Contents/MacOS/Google Chrome Canary'\n",
    "driver_dir = '../_driver_headless/chromedriver'"
   ]
  },
  {
   "cell_type": "markdown",
   "metadata": {},
   "source": [
    "### Selenium browser (not headless) options"
   ]
  },
  {
   "cell_type": "code",
   "execution_count": null,
   "metadata": {},
   "outputs": [],
   "source": [
    "browser_options = Options()  \n",
    "browser_options.add_argument(\"--incognito\")\n",
    "browser_options.binary_location = '/Applications/Google Chrome Canary.app/Contents/MacOS/Google Chrome Canary'"
   ]
  },
  {
   "cell_type": "markdown",
   "metadata": {},
   "source": [
    "### Start chrome browser instance"
   ]
  },
  {
   "cell_type": "code",
   "execution_count": null,
   "metadata": {},
   "outputs": [],
   "source": [
    "browser = webdriver.Chrome(executable_path=os.path.abspath(driver_dir), chrome_options=browser_options)  "
   ]
  },
  {
   "cell_type": "markdown",
   "metadata": {},
   "source": [
    "### Scrape with browser"
   ]
  },
  {
   "cell_type": "code",
   "execution_count": null,
   "metadata": {},
   "outputs": [],
   "source": [
    "url = 'http://www.color-hex.com/color-palette'\n",
    "browser.get(url)\n",
    "browser.current_url"
   ]
  },
  {
   "cell_type": "code",
   "execution_count": null,
   "metadata": {},
   "outputs": [],
   "source": []
  },
  {
   "cell_type": "markdown",
   "metadata": {},
   "source": [
    "### Test X-path"
   ]
  },
  {
   "cell_type": "code",
   "execution_count": null,
   "metadata": {},
   "outputs": [],
   "source": [
    "url = 'http://www.color-hex.com/color-palette/'\n",
    "keyword = 61326\n",
    "url += str(keyword)\n",
    "browser.get(url)"
   ]
  },
  {
   "cell_type": "code",
   "execution_count": null,
   "metadata": {},
   "outputs": [],
   "source": [
    "[tag.text for tag in browser.find_elements_by_xpath('//td/a')]"
   ]
  },
  {
   "cell_type": "code",
   "execution_count": null,
   "metadata": {},
   "outputs": [],
   "source": [
    "[tag.text for tag in browser.find_elements_by_xpath('//em')]"
   ]
  },
  {
   "cell_type": "code",
   "execution_count": null,
   "metadata": {},
   "outputs": [],
   "source": [
    "url = 'http://www.color-hex.com/color-palette/{}'.format(150)\n",
    "browser.get(url)"
   ]
  },
  {
   "cell_type": "markdown",
   "metadata": {},
   "source": [
    "### Test GET status code"
   ]
  },
  {
   "cell_type": "raw",
   "metadata": {},
   "source": [
    "for i in range(150, 170):\n",
    "    try:\n",
    "        url = 'http://www.color-hex.com/color-palette/{}'.format(i)\n",
    "        r = requests.get(url)\n",
    "        print('{},'.format(r.status_code), end='')  \n",
    "    except:\n",
    "        print('ok; {},'.format(r.status_code), end='')  \n",
    "        continue"
   ]
  },
  {
   "cell_type": "markdown",
   "metadata": {},
   "source": [
    "### Scrape all palettes: #0 to #100000 and write to store "
   ]
  },
  {
   "cell_type": "markdown",
   "metadata": {},
   "source": [
    "### Restart browser"
   ]
  },
  {
   "cell_type": "code",
   "execution_count": null,
   "metadata": {},
   "outputs": [],
   "source": [
    "browser = webdriver.Chrome(executable_path=os.path.abspath(driver_dir), chrome_options=browser_options)  "
   ]
  },
  {
   "cell_type": "code",
   "execution_count": null,
   "metadata": {},
   "outputs": [],
   "source": [
    "palettes = []\n",
    "url = 'http://www.color-hex.com/color-palette/'\n",
    "browser.set_page_load_timeout(10)\n",
    "\n",
    "for i in range(60000, 70000):\n",
    "    try:\n",
    "        url = 'http://www.color-hex.com/color-palette/{}'.format(i)\n",
    "        browser.get(url)\n",
    "        print('.', end='', flush=True)\n",
    "        pal_name = browser.find_elements_by_xpath('//em')\n",
    "        if pal_name:\n",
    "            name = [tag.text for tag in pal_name]\n",
    "            hexs = [tag.text for tag in browser.find_elements_by_xpath('//td/a')]\n",
    "            item = (i, ''.join(name), url, hexs)\n",
    "            print(item)\n",
    "            palettes.append(item)\n",
    "    except TimeoutException as ex:\n",
    "        print(ex)\n",
    "        continue\n",
    "        \n",
    "    # store results in batches during scraping and append dataframe\n",
    "    if  i % 20 == 0:\n",
    "        print('.', end='', flush=True)\n",
    "        %store palettes\n",
    "        df_palettes = pd.DataFrame(palettes, columns=['number', 'name', 'url', 'hexs'])\n",
    "        df_palettes['hexs'] = df_palettes['hexs'].astype(list)\n",
    "        df_palettes.to_csv('../_data/col_hex_palettes.csv', mode='a', index=False)\n",
    "        palettes = []\n",
    "        "
   ]
  },
  {
   "cell_type": "code",
   "execution_count": null,
   "metadata": {},
   "outputs": [],
   "source": [
    "for i in :\n",
    "    df_palettes['hexs'] = df_palettes['hexs'].astype(list)\n",
    "    df_palettes.loc[i, 'hexs']\n",
    "    pal = sns.color_palette(df_palettes.loc[i, 'hexs'])\n",
    "    sns.palplot(sns.color_palette(pal))"
   ]
  },
  {
   "cell_type": "markdown",
   "metadata": {},
   "source": [
    "### Refresh palettes"
   ]
  },
  {
   "cell_type": "code",
   "execution_count": null,
   "metadata": {},
   "outputs": [],
   "source": [
    "%store -r\n",
    "palettes"
   ]
  },
  {
   "cell_type": "code",
   "execution_count": null,
   "metadata": {},
   "outputs": [],
   "source": [
    "import pandas as pd\n",
    "df_palettes = pd.DataFrame(palettes)\n",
    "df_palettes"
   ]
  },
  {
   "cell_type": "code",
   "execution_count": null,
   "metadata": {},
   "outputs": [],
   "source": [
    "# Append to csv file\n",
    "df_palettes.to_csv('../_data/color_hex_palettes.csv', mode='a', index=False)"
   ]
  },
  {
   "cell_type": "code",
   "execution_count": null,
   "metadata": {},
   "outputs": [],
   "source": [
    "# df = pd.read_csv('../_data/color_hex_palettes.csv')\n",
    "# df.columns\n",
    "# df = df[['0', '1', '2', '3']]\n",
    "# df.to_csv('../_data/color_hex_palettes.csv', index=False)"
   ]
  },
  {
   "cell_type": "code",
   "execution_count": null,
   "metadata": {},
   "outputs": [],
   "source": [
    "df_palettes = pd.read_csv('../_data/color_hex_palettes.csv')"
   ]
  },
  {
   "cell_type": "code",
   "execution_count": null,
   "metadata": {},
   "outputs": [],
   "source": [
    "import seaborn as sns\n",
    "import re\n",
    "\n",
    "for pal in df_palettes.loc[:5, '3']:\n",
    "    pall = re.sub('[\\[\\]]', '', pal)\n",
    "    pall = list(pall.split(','))\n",
    "    print(pall, type(pall))\n",
    "    pal = sns.color_palette(pal)\n",
    "    sns.palplot(sns.color_palette(pal))"
   ]
  },
  {
   "cell_type": "code",
   "execution_count": null,
   "metadata": {},
   "outputs": [],
   "source": []
  }
 ],
 "metadata": {
  "language_info": {
   "name": "python",
   "pygments_lexer": "ipython3"
  }
 },
 "nbformat": 4,
 "nbformat_minor": 2
}
