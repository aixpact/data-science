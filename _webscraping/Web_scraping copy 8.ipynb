{
 "cells": [
  {
   "cell_type": "markdown",
   "metadata": {},
   "source": [
    "# Webscraping"
   ]
  },
  {
   "cell_type": "markdown",
   "metadata": {},
   "source": [
    "### Caveat\n",
    "Web sites often change structure and content, your code might need to adopt the changes overtime.\n",
    "Check html source regularely."
   ]
  },
  {
   "cell_type": "markdown",
   "metadata": {},
   "source": [
    "<h3>Import necessary modules</h3>"
   ]
  },
  {
   "cell_type": "code",
   "execution_count": null,
   "metadata": {},
   "outputs": [],
   "source": [
    "import requests\n",
    "from bs4 import BeautifulSoup"
   ]
  },
  {
   "cell_type": "markdown",
   "metadata": {},
   "source": [
    "<h3>The http request response cycle</h3>"
   ]
  },
  {
   "cell_type": "code",
   "execution_count": null,
   "metadata": {},
   "outputs": [],
   "source": [
    "url = \"http://www.epicurious.com/search/Tofu Chili\"\n",
    "response = requests.get(url)\n",
    "if response.status_code == 200:\n",
    "    print(\"Success\")\n",
    "else:\n",
    "    print(\"Failure\")"
   ]
  },
  {
   "cell_type": "code",
   "execution_count": null,
   "metadata": {},
   "outputs": [],
   "source": [
    "keywords = input(\"Please enter the things you want to see in a recipe\")\n",
    "url = \"http://www.epicurious.com/search/\" + keywords\n",
    "response = requests.get(url)\n",
    "if response.status_code == 200:\n",
    "    print(\"Success\")\n",
    "else:\n",
    "    print(\"Failure\")"
   ]
  },
  {
   "cell_type": "markdown",
   "metadata": {},
   "source": [
    "<h3>Set up the BeautifulSoup object</h3>"
   ]
  },
  {
   "cell_type": "code",
   "execution_count": null,
   "metadata": {},
   "outputs": [],
   "source": [
    "results_page = BeautifulSoup(response.content,'lxml')\n",
    "print(results_page.prettify())"
   ]
  },
  {
   "cell_type": "markdown",
   "metadata": {},
   "source": [
    "<h3>BS4 functions</h3>"
   ]
  },
  {
   "cell_type": "markdown",
   "metadata": {},
   "source": [
    "<h4>find_all finds all instances of a specified tag</h4>\n",
    "<h4>returns a result_set (a list)</h4>"
   ]
  },
  {
   "cell_type": "code",
   "execution_count": null,
   "metadata": {},
   "outputs": [],
   "source": [
    "all_a_tags = results_page.find_all('a')\n",
    "print(type(all_a_tags))"
   ]
  },
  {
   "cell_type": "code",
   "execution_count": null,
   "metadata": {},
   "outputs": [],
   "source": []
  },
  {
   "cell_type": "markdown",
   "metadata": {},
   "source": [
    "<h4>find finds the first instance of a specified tag</h4>\n",
    "<h4>returns a bs4 element</h4>\n"
   ]
  },
  {
   "cell_type": "code",
   "execution_count": null,
   "metadata": {},
   "outputs": [],
   "source": [
    "div_tag = results_page.find('div')\n",
    "pr"
   ]
  },
  {
   "cell_type": "code",
   "execution_count": null,
   "metadata": {},
   "outputs": [],
   "source": [
    "type(div_tag)\n"
   ]
  },
  {
   "cell_type": "markdown",
   "metadata": {},
   "source": [
    "<h4>bs4 functions can be recursively applied on elements</h4>"
   ]
  },
  {
   "cell_type": "code",
   "execution_count": null,
   "metadata": {},
   "outputs": [],
   "source": [
    "div_tag.find('a')"
   ]
  },
  {
   "cell_type": "markdown",
   "metadata": {},
   "source": [
    "<h4>Both find as well as find_all can be qualified by css selectors</h4>\n",
    "<li>using selector=value\n",
    "<li>using a dictionary"
   ]
  },
  {
   "cell_type": "code",
   "execution_count": null,
   "metadata": {},
   "outputs": [],
   "source": [
    "#When using this method and looking for 'class' use 'class_' (because class is a reserved word in python)\n",
    "#Note that we get a list back because find_all returns a list\n",
    "results_page.find_all('article',class_=\"recipe-content-card\")"
   ]
  },
  {
   "cell_type": "code",
   "execution_count": null,
   "metadata": {},
   "outputs": [],
   "source": [
    "#Since we're using a string as the key, the fact that class is a reserved word is not a problem\n",
    "#We get an element back because find returns an element\n",
    "results_page.find('article',{'class':'recipe-content-card'})"
   ]
  },
  {
   "cell_type": "markdown",
   "metadata": {},
   "source": [
    "<h4>get_text() returns the marked up text (the content) enclosed in a tag.</h4>\n",
    "<li>returns a string"
   ]
  },
  {
   "cell_type": "code",
   "execution_count": null,
   "metadata": {},
   "outputs": [],
   "source": [
    "results_page.find('article',{'class':'recipe-content-card'}).get_text()"
   ]
  },
  {
   "cell_type": "markdown",
   "metadata": {},
   "source": [
    "<h4>get returns the value of a tag attribute</h4>\n",
    "<li>returns a string"
   ]
  },
  {
   "cell_type": "code",
   "execution_count": null,
   "metadata": {},
   "outputs": [],
   "source": [
    "recipe_tag = results_page.find('article',{'class':'recipe-content-card'})\n",
    "recipe_link = recipe_tag.find('a')\n",
    "print(\"a tag:\",recipe_link)\n",
    "link_url = recipe_link.get('href')\n",
    "print(\"link url:\",link_url)\n",
    "print(type(link_url))"
   ]
  },
  {
   "cell_type": "markdown",
   "metadata": {},
   "source": [
    "<h1>A function that returns a list containing recipe names, recipe descriptions (if any) and recipe urls</h1>"
   ]
  },
  {
   "cell_type": "code",
   "execution_count": null,
   "metadata": {},
   "outputs": [],
   "source": [
    "def get_recipes(keywords):\n",
    "    recipe_list = list()\n",
    "    import requests\n",
    "    from bs4 import BeautifulSoup\n",
    "    url = \"http://www.epicurious.com/search/\" + keywords\n",
    "    response = requests.get(url)\n",
    "    if not response.status_code == 200:\n",
    "        return None\n",
    "    try:\n",
    "        results_page = BeautifulSoup(response.content,'lxml')\n",
    "        recipes = results_page.find_all('article',class_=\"recipe-content-card\")\n",
    "        for recipe in recipes:\n",
    "            recipe_link = \"http://www.epicurious.com\" + recipe.find('a').get('href')\n",
    "            recipe_name = recipe.find('a').get_text()\n",
    "            try:\n",
    "                recipe_description = recipe.find('p',class_='dek').get_text()\n",
    "            except:\n",
    "                recipe_description = ''\n",
    "            recipe_list.append((recipe_name,recipe_link,recipe_description))\n",
    "        return recipe_list\n",
    "    except:\n",
    "        return None"
   ]
  },
  {
   "cell_type": "code",
   "execution_count": null,
   "metadata": {},
   "outputs": [],
   "source": [
    "get_recipes(\"Tofu chili\")"
   ]
  },
  {
   "cell_type": "code",
   "execution_count": null,
   "metadata": {},
   "outputs": [],
   "source": [
    "get_recipes('Nothing')"
   ]
  },
  {
   "cell_type": "markdown",
   "metadata": {},
   "source": [
    "<h2>Let's write a function that</h2>\n",
    "<h3>given a recipe link</h3>\n",
    "<h3>returns a dictionary containing the ingredients and preparation instructions</h3>"
   ]
  },
  {
   "cell_type": "code",
   "execution_count": null,
   "metadata": {},
   "outputs": [],
   "source": [
    "recipe_link = \"http://www.epicurious.com\" + '/recipes/food/views/spicy-lemongrass-tofu-233844'"
   ]
  },
  {
   "cell_type": "code",
   "execution_count": null,
   "metadata": {},
   "outputs": [],
   "source": [
    "def get_recipe_info(recipe_link):\n",
    "    recipe_dict = dict()\n",
    "    import requests\n",
    "    from bs4 import BeautifulSoup\n",
    "    try:\n",
    "        response = requests.get(recipe_link)\n",
    "        if not response.status_code == 200:\n",
    "            return recipe_dict\n",
    "        result_page = BeautifulSoup(response.content,'lxml')\n",
    "        ingredient_list = list()\n",
    "        prep_steps_list = list()\n",
    "        for ingredient in result_page.find_all('li',class_='ingredient'):\n",
    "            ingredient_list.append(ingredient.get_text())\n",
    "        for prep_step in result_page.find_all('li',class_='preparation-step'):\n",
    "            prep_steps_list.append(prep_step.get_text().strip())\n",
    "        recipe_dict['ingredients'] = ingredient_list\n",
    "        recipe_dict['preparation'] = prep_steps_list\n",
    "        return recipe_dict\n",
    "    except:\n",
    "        return recipe_dict\n",
    "        "
   ]
  },
  {
   "cell_type": "code",
   "execution_count": null,
   "metadata": {},
   "outputs": [],
   "source": [
    "get_recipe_info(recipe_link)"
   ]
  },
  {
   "cell_type": "markdown",
   "metadata": {},
   "source": [
    "<h2>Construct a list of dictionaries for all recipes</h2>"
   ]
  },
  {
   "cell_type": "code",
   "execution_count": null,
   "metadata": {},
   "outputs": [],
   "source": [
    "def get_all_recipes(keywords):\n",
    "    results = list()\n",
    "    all_recipes = get_recipes(keywords)\n",
    "    for recipe in all_recipes:\n",
    "        recipe_dict = get_recipe_info(recipe[1])\n",
    "        recipe_dict['name'] = recipe[0]\n",
    "        recipe_dict['description'] = recipe[2]\n",
    "        results.append(recipe_dict)\n",
    "    return(results)"
   ]
  },
  {
   "cell_type": "code",
   "execution_count": null,
   "metadata": {},
   "outputs": [],
   "source": [
    "get_all_recipes(\"Tofu chili\")"
   ]
  },
  {
   "cell_type": "markdown",
   "metadata": {},
   "source": [
    "<h1>Logging in to a web server</h1>"
   ]
  },
  {
   "cell_type": "markdown",
   "metadata": {},
   "source": [
    "<h2>Get username and password</h2>\n",
    "<li>Best to store in a file for reuse\n",
    "<li>You will need to set up your own login and password and place them in a file called wikidata.txt\n",
    "<li>Line one of the file should contain your username\n",
    "<li>Line two your password"
   ]
  },
  {
   "cell_type": "code",
   "execution_count": null,
   "metadata": {},
   "outputs": [],
   "source": [
    "with open('wikidata.txt') as f:\n",
    "    contents = f.read().split('\\n')\n",
    "    username = contents[0]\n",
    "    password = contents[1]\n"
   ]
  },
  {
   "cell_type": "markdown",
   "metadata": {},
   "source": [
    "<h3>Construct an object that contains the data to be sent to the login page</h3>"
   ]
  },
  {
   "cell_type": "code",
   "execution_count": null,
   "metadata": {},
   "outputs": [],
   "source": [
    "\n",
    "payload = {\n",
    "    'wpName': username,\n",
    "    'wpPassword': password,\n",
    "    'wploginattempt': 'Log in',\n",
    "    'wpEditToken': \"+\\\\\",\n",
    "    'title': \"Special:UserLogin\",\n",
    "    'authAction': \"login\",\n",
    "    'force': \"\",\n",
    "    'wpForceHttps': \"1\",\n",
    "    'wpFromhttp': \"1\",\n",
    "    #'wpLoginToken': ‘', #We need to read this from the page\n",
    "    }"
   ]
  },
  {
   "cell_type": "markdown",
   "metadata": {},
   "source": [
    "<h3>get the value of the login token</h3>"
   ]
  },
  {
   "cell_type": "code",
   "execution_count": null,
   "metadata": {},
   "outputs": [],
   "source": [
    "def get_login_token(response):\n",
    "    soup = BeautifulSoup(response.text, 'lxml')\n",
    "    token = soup.find('input',{'name':\"wpLoginToken\"}).get('value')\n",
    "    return token\n"
   ]
  },
  {
   "cell_type": "markdown",
   "metadata": {},
   "source": [
    "<h3>Setup a session, login, and get data</h3>"
   ]
  },
  {
   "cell_type": "code",
   "execution_count": null,
   "metadata": {},
   "outputs": [],
   "source": [
    "with requests.session() as s:\n",
    "    response = s.get('https://en.wikipedia.org/w/index.php?title=Special:UserLogin&returnto=Main+Page')\n",
    "    payload['wpLoginToken'] = get_login_token(response)\n",
    "    #Send the login request\n",
    "    response_post = s.post('https://en.wikipedia.org/w/index.php?title=Special:UserLogin&action=submitlogin&type=login',\n",
    "                           data=payload)\n",
    "    #Get another page and check if we’re still logged in\n",
    "    response = s.get('https://en.wikipedia.org/wiki/Special:Watchlist')\n",
    "    data = BeautifulSoup(response.content,'lxml')\n",
    "    print(data.find('div',class_='mw-changeslist').get_text())"
   ]
  },
  {
   "cell_type": "code",
   "execution_count": null,
   "metadata": {},
   "outputs": [],
   "source": []
  }
 ],
 "metadata": {
  "language_info": {
   "name": "python",
   "pygments_lexer": "ipython3"
  }
 },
 "nbformat": 4,
 "nbformat_minor": 2
}
