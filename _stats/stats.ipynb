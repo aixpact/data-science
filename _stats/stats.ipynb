{
 "cells": [
  {
   "cell_type": "code",
   "execution_count": null,
   "metadata": {},
   "outputs": [],
   "source": [
    "stats"
   ]
  },
  {
   "cell_type": "code",
   "execution_count": null,
   "metadata": {},
   "outputs": [],
   "source": [
    "import scipy.stats as ss\n",
    "\n",
    "n = 100 \n",
    "beta_0 = 5 \n",
    "beta_1 = 2 \n",
    "np.random.seed(1) \n",
    "x = 10 * ss.uniform.rvs(size=n) \n",
    "y = beta_0 + beta_1 * x + ss.norm.rvs(loc=0, scale = 1, size = n) \n",
    "print(np.mean(x))\n",
    "print(np.mean(y))\n",
    "\n",
    "def compute_rss(y_estimate, y): \n",
    "    return sum(np.power(y-y_estimate, 2)) \n",
    "\n",
    "\n",
    "def estimate_y(x, b_0, b_1): \n",
    "    return b_0 + b_1 * x \n",
    "\n",
    "rss = compute_rss(estimate_y(x, beta_0, beta_1), y) \n",
    "print(rss)"
   ]
  }
 ],
 "metadata": {
  "language_info": {
   "name": "python",
   "pygments_lexer": "ipython3"
  }
 },
 "nbformat": 4,
 "nbformat_minor": 2
}
